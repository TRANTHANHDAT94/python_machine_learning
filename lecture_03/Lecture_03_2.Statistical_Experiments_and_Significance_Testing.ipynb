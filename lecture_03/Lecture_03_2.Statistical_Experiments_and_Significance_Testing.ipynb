{
 "cells": [
  {
   "cell_type": "markdown",
   "metadata": {},
   "source": [
    "# Statistical Experiments and Significance Testing\n",
    "![](https://affiliatemarketingvietnam.com/wp-content/uploads/2019/08/ab-testing.png)"
   ]
  },
  {
   "cell_type": "markdown",
   "metadata": {},
   "source": [
    "# A/B Testing\n",
    "* An **A/B test** is an experiment with **two groups** to establish which of two treatments, products, procedures, or the like is **superior**. Often one of the two treatments is the standard existing treatment, or no treatment. If a standard (or no) treatment is used, it is called the **control**. A typical hypothesis is that treatment is better than control.\n",
    "![](images/psds_03in01.png)\n",
    "* A/B tests are common in web design and marketing, since results are so readily measured. Some examples of A/B testing include:\n",
    "    * Testing two soil treatments to determine which produces better seed germination\n",
    "    * Testing two therapies to determine which suppresses cancer more effectively\n",
    "    * Testing two prices to determine which yields more net profit\n",
    "    * Testing two web headlines to determine which produces more clicks (Figure 3-2)\n",
    "    * Testing two web ads to determine which generates more conversions\n",
    "* You also need to pay attention to the test statistic or metric you use to compare group A to group B. Perhaps the most common metric in data science is a binary variable: click or no-click, buy or don’t buy, fraud or no fraud, and so on. The metric can also be a continuous variable (purchase amount, profit, etc.), or a count (e.g., days in hospital, pages visited) you are interested not in conversion, but in revenue per page view."
   ]
  },
  {
   "cell_type": "markdown",
   "metadata": {},
   "source": [
    "# Hypothesis Tests / Significance Tests\n",
    "* Purpose: help you learn whether random chance might be responsible for an observed effect.\n",
    "* Null hypothesis: The hypothesis that chance is to blame.\n",
    "* Alternative hypothesis: Counterpoint to the null (what you hope to prove).\n",
    "* One-way test: Hypothesis test that counts chance results only in one direction.\n",
    "* Two-way test: Hypothesis test that counts chance results in two directions.\n",
    "![](https://statisticsguruonline.com/wp-content/uploads/2019/01/hypothesis-testing-steps.png)"
   ]
  },
  {
   "cell_type": "markdown",
   "metadata": {},
   "source": [
    "# Hypothesis Tests / Significance Tests\n",
    "* In a properly designed A/B test, you collect data on treatments A and B in such a way that any observed difference between A and B must be due to either:\n",
    "    * Random chance in assignment of subjects\n",
    "    * A true difference between A and B\n",
    "* A statistical hypothesis test is further analysis of an A/B test, or any randomized experiment, to assess whether random chance is a reasonable explanation for the observed difference between groups A and B.\n",
    "![](images/psds_03in01.png)"
   ]
  },
  {
   "cell_type": "markdown",
   "metadata": {},
   "source": [
    "# Hypothesis Tests / Significance Tests\n",
    "## Null Hypothesis vs Alternative Hypothesis\n",
    "![](https://365datascience.com/wp-content/uploads/2018/11/image11-1.jpg)"
   ]
  },
  {
   "cell_type": "markdown",
   "metadata": {},
   "source": [
    "# Hypothesis Tests / Significance Tests\n",
    "## Null Hypothesis vs Alternative Hypothesis\n",
    "* Hypothesis tests by their nature involve not just a null hypothesis, but also an offsetting alternative hypothesis. Here are some examples:\n",
    "    * Null = “no difference between the means of group A and group B,”, alternative = “A is different from B” (could be bigger or smaller)\n",
    "    * Null = “A ≤ B,”, alternative = “A > B”\n",
    "    * Null = “B is not X% greater than A,”, alternative = “B is X% greater than A”\n",
    "* Taken together, the null and alternative hypotheses must account for all possibilities. The nature of the null hypothesis determines the structure of the hypothesis test.\n",
    "\n",
    "## One-Way, Two-Way Hypothesis Test\n",
    "![](https://saylordotorg.github.io/text_introductory-statistics/section_12/ecf5f771ca148089665859c88d8679df.jpg)"
   ]
  },
  {
   "cell_type": "markdown",
   "metadata": {},
   "source": [
    "# Resampling\n",
    "* **Resampling** in statistics means to repeatedly sample values from observed data, with a general goal of assessing random variability in a statistic. It can also be used to assess and improve the accuracy of some machine-learning models (e.g., the predictions from decision tree models built on multiple bootstrapped data sets can be averaged in a process known as bagging: “Bagging and the Random Forest”).\n",
    "* There are two main types of resampling procedures: The bootstrap and permutation tests. \n",
    "    * The bootstrap is used to assess the reliability of an estimate. \n",
    "    * Permutation tests are used to test hypotheses, typically involving two or more groups.\n",
    "\n",
    "![](https://miro.medium.com/max/864/1*MvvgAbmv2x1gJ3177mg9Cw.png)"
   ]
  },
  {
   "cell_type": "markdown",
   "metadata": {},
   "source": [
    "# Resampling\n",
    "## Permutation Test - “one size fits all” approach to inference\n",
    "* In a **permutation** procedure, two or more samples are involved, typically the groups in an A/B or other hypothesis test. \n",
    "* **Permute** means to change the order of a set of values. \n",
    "* The first step in a permutation test of a hypothesis is to combine the results from groups A and B (and, if used, C, D, …) together. \n",
    "* This is the logical embodiment of the null hypothesis that the treatments to which the groups were exposed do not differ. \n",
    "* We then test that hypothesis by randomly drawing groups from this combined set, and seeing how much they differ from one another. The permutation procedure is as follows:\n",
    "    * Combine the results from the different groups in a single data set.\n",
    "    * Shuffle the combined data, then randomly draw (without replacing) a resample of the same size as group A.\n",
    "    * From the remaining data, randomly draw (without replacing) a resample of the same size as group B.\n",
    "    * Do the same for groups C, D, and so on.\n",
    "    * Whatever statistic or estimate was calculated for the original samples (e.g., difference in group proportions), calculate it now for the resamples, and record; this constitutes one permutation iteration.\n",
    "    * Repeat the previous steps R times to yield a permutation distribution of the test statistic.\n",
    "* Now go back to the observed difference between groups and compare it to the set of permuted differences. If the observed difference lies well within the set of permuted differences, then we have not proven anything—the observed difference is within the range of what chance might produce. However, if the observed difference lies outside most of the permutation distribution, then we conclude that chance is not responsible. In technical terms, the difference is **statistically significant**."
   ]
  },
  {
   "cell_type": "code",
   "execution_count": 1,
   "metadata": {},
   "outputs": [],
   "source": [
    "import scipy\n",
    "import pandas as pd\n",
    "import numpy as np\n",
    "import matplotlib.pyplot as plt\n",
    "import seaborn as sns\n",
    "sns.set_style('whitegrid')\n",
    "%matplotlib inline\n",
    "%matplotlib notebook\n",
    "import warnings\n",
    "warnings.filterwarnings('ignore')\n",
    "import random"
   ]
  },
  {
   "cell_type": "code",
   "execution_count": 4,
   "metadata": {},
   "outputs": [
    {
     "name": "stdout",
     "output_type": "stream",
     "text": [
      "Requirement already satisfied: scipy in /opt/anaconda3/envs/anthony/lib/python3.7/site-packages (1.6.2)\n",
      "Requirement already satisfied: numpy<1.23.0,>=1.16.5 in /opt/anaconda3/envs/anthony/lib/python3.7/site-packages (from scipy) (1.19.5)\n"
     ]
    }
   ],
   "source": [
    "!pip install scipy"
   ]
  },
  {
   "cell_type": "code",
   "execution_count": 5,
   "metadata": {},
   "outputs": [
    {
     "data": {
      "text/plain": [
       "['anagrams',\n",
       " 'anscombe',\n",
       " 'attention',\n",
       " 'brain_networks',\n",
       " 'car_crashes',\n",
       " 'diamonds',\n",
       " 'dots',\n",
       " 'exercise',\n",
       " 'flights',\n",
       " 'fmri',\n",
       " 'gammas',\n",
       " 'geyser',\n",
       " 'iris',\n",
       " 'mpg',\n",
       " 'penguins',\n",
       " 'planets',\n",
       " 'tips',\n",
       " 'titanic']"
      ]
     },
     "execution_count": 5,
     "metadata": {},
     "output_type": "execute_result"
    }
   ],
   "source": [
    "sns.get_dataset_names()"
   ]
  },
  {
   "cell_type": "code",
   "execution_count": 6,
   "metadata": {},
   "outputs": [
    {
     "data": {
      "text/html": [
       "<div>\n",
       "<style scoped>\n",
       "    .dataframe tbody tr th:only-of-type {\n",
       "        vertical-align: middle;\n",
       "    }\n",
       "\n",
       "    .dataframe tbody tr th {\n",
       "        vertical-align: top;\n",
       "    }\n",
       "\n",
       "    .dataframe thead th {\n",
       "        text-align: right;\n",
       "    }\n",
       "</style>\n",
       "<table border=\"1\" class=\"dataframe\">\n",
       "  <thead>\n",
       "    <tr style=\"text-align: right;\">\n",
       "      <th></th>\n",
       "      <th>sepal_length</th>\n",
       "      <th>sepal_width</th>\n",
       "      <th>petal_length</th>\n",
       "      <th>petal_width</th>\n",
       "    </tr>\n",
       "    <tr>\n",
       "      <th>species</th>\n",
       "      <th></th>\n",
       "      <th></th>\n",
       "      <th></th>\n",
       "      <th></th>\n",
       "    </tr>\n",
       "  </thead>\n",
       "  <tbody>\n",
       "    <tr>\n",
       "      <th>setosa</th>\n",
       "      <td>5.1</td>\n",
       "      <td>3.5</td>\n",
       "      <td>1.4</td>\n",
       "      <td>0.2</td>\n",
       "    </tr>\n",
       "    <tr>\n",
       "      <th>setosa</th>\n",
       "      <td>4.9</td>\n",
       "      <td>3.0</td>\n",
       "      <td>1.4</td>\n",
       "      <td>0.2</td>\n",
       "    </tr>\n",
       "    <tr>\n",
       "      <th>setosa</th>\n",
       "      <td>4.7</td>\n",
       "      <td>3.2</td>\n",
       "      <td>1.3</td>\n",
       "      <td>0.2</td>\n",
       "    </tr>\n",
       "    <tr>\n",
       "      <th>setosa</th>\n",
       "      <td>4.6</td>\n",
       "      <td>3.1</td>\n",
       "      <td>1.5</td>\n",
       "      <td>0.2</td>\n",
       "    </tr>\n",
       "    <tr>\n",
       "      <th>setosa</th>\n",
       "      <td>5.0</td>\n",
       "      <td>3.6</td>\n",
       "      <td>1.4</td>\n",
       "      <td>0.2</td>\n",
       "    </tr>\n",
       "    <tr>\n",
       "      <th>...</th>\n",
       "      <td>...</td>\n",
       "      <td>...</td>\n",
       "      <td>...</td>\n",
       "      <td>...</td>\n",
       "    </tr>\n",
       "    <tr>\n",
       "      <th>virginica</th>\n",
       "      <td>6.7</td>\n",
       "      <td>3.0</td>\n",
       "      <td>5.2</td>\n",
       "      <td>2.3</td>\n",
       "    </tr>\n",
       "    <tr>\n",
       "      <th>virginica</th>\n",
       "      <td>6.3</td>\n",
       "      <td>2.5</td>\n",
       "      <td>5.0</td>\n",
       "      <td>1.9</td>\n",
       "    </tr>\n",
       "    <tr>\n",
       "      <th>virginica</th>\n",
       "      <td>6.5</td>\n",
       "      <td>3.0</td>\n",
       "      <td>5.2</td>\n",
       "      <td>2.0</td>\n",
       "    </tr>\n",
       "    <tr>\n",
       "      <th>virginica</th>\n",
       "      <td>6.2</td>\n",
       "      <td>3.4</td>\n",
       "      <td>5.4</td>\n",
       "      <td>2.3</td>\n",
       "    </tr>\n",
       "    <tr>\n",
       "      <th>virginica</th>\n",
       "      <td>5.9</td>\n",
       "      <td>3.0</td>\n",
       "      <td>5.1</td>\n",
       "      <td>1.8</td>\n",
       "    </tr>\n",
       "  </tbody>\n",
       "</table>\n",
       "<p>150 rows × 4 columns</p>\n",
       "</div>"
      ],
      "text/plain": [
       "           sepal_length  sepal_width  petal_length  petal_width\n",
       "species                                                        \n",
       "setosa              5.1          3.5           1.4          0.2\n",
       "setosa              4.9          3.0           1.4          0.2\n",
       "setosa              4.7          3.2           1.3          0.2\n",
       "setosa              4.6          3.1           1.5          0.2\n",
       "setosa              5.0          3.6           1.4          0.2\n",
       "...                 ...          ...           ...          ...\n",
       "virginica           6.7          3.0           5.2          2.3\n",
       "virginica           6.3          2.5           5.0          1.9\n",
       "virginica           6.5          3.0           5.2          2.0\n",
       "virginica           6.2          3.4           5.4          2.3\n",
       "virginica           5.9          3.0           5.1          1.8\n",
       "\n",
       "[150 rows x 4 columns]"
      ]
     },
     "execution_count": 6,
     "metadata": {},
     "output_type": "execute_result"
    }
   ],
   "source": [
    "index_name = 'species'\n",
    "index_val1 = 'setosa'\n",
    "index_val2 = 'versicolor'\n",
    "index_val3 = 'virginica'\n",
    "data_name = 'petal_width'\n",
    "iris = sns.load_dataset('iris').set_index(index_name)\n",
    "iris"
   ]
  },
  {
   "cell_type": "code",
   "execution_count": 7,
   "metadata": {},
   "outputs": [
    {
     "data": {
      "text/plain": [
       "{'setosa', 'versicolor', 'virginica'}"
      ]
     },
     "execution_count": 7,
     "metadata": {},
     "output_type": "execute_result"
    }
   ],
   "source": [
    "set(iris.index)"
   ]
  },
  {
   "cell_type": "code",
   "execution_count": 8,
   "metadata": {},
   "outputs": [
    {
     "data": {
      "text/plain": [
       "species\n",
       "setosa        0.2\n",
       "setosa        0.2\n",
       "setosa        0.2\n",
       "setosa        0.2\n",
       "setosa        0.2\n",
       "             ... \n",
       "versicolor    1.2\n",
       "versicolor    1.3\n",
       "versicolor    1.3\n",
       "versicolor    1.1\n",
       "versicolor    1.3\n",
       "Name: petal_width, Length: 100, dtype: float64"
      ]
     },
     "execution_count": 8,
     "metadata": {},
     "output_type": "execute_result"
    }
   ],
   "source": [
    "iris.loc[[index_val1,index_val2]][data_name]"
   ]
  },
  {
   "cell_type": "code",
   "execution_count": 9,
   "metadata": {},
   "outputs": [],
   "source": [
    "def perm_fun(x, nA, nB):\n",
    "    n = nA + nB\n",
    "    idx_B = set(random.sample(range(n), nB))\n",
    "    idx_A = set(range(n)) - idx_B\n",
    "    return x.loc[idx_B].mean() - x.loc[idx_A].mean()\n",
    "\n",
    "def get_val(df,index_val1,index_val2,data_name):\n",
    "    return perm_fun(df.loc[[index_val1,index_val2]][data_name].reset_index(drop=True), \n",
    "                                                 len(df.loc[[index_val1]][data_name]), \n",
    "                                                 len(df.loc[[index_val2]][data_name]))"
   ]
  },
  {
   "cell_type": "code",
   "execution_count": 10,
   "metadata": {},
   "outputs": [
    {
     "name": "stdout",
     "output_type": "stream",
     "text": [
      "-1.0799999999999998 -0.10399999999999987\n"
     ]
    }
   ],
   "source": [
    "mean_dif = iris.loc[[index_val1]][data_name].mean() - iris.loc[[index_val2]][data_name].mean()\n",
    "print(mean_dif, get_val(iris,index_val1,index_val2,data_name))"
   ]
  },
  {
   "cell_type": "code",
   "execution_count": 12,
   "metadata": {},
   "outputs": [
    {
     "data": {
      "text/plain": [
       "Text(0, 0.5, 'Frequency')"
      ]
     },
     "execution_count": 12,
     "metadata": {},
     "output_type": "execute_result"
    },
    {
     "data": {
      "image/png": "[encoded data removed]",
      "text/plain": [
       "<Figure size 936x360 with 1 Axes>"
      ]
     },
     "metadata": {
      "needs_background": "light"
     },
     "output_type": "display_data"
    }
   ],
   "source": [
    "%matplotlib inline\n",
    "perm_diffs = [get_val(iris,index_val1,index_val2,data_name) for _ in range(10000)]\n",
    "fig, ax = plt.subplots(figsize=(13, 5))\n",
    "ax.hist(perm_diffs, bins=31, rwidth=0.9)\n",
    "ax.axvline(x = mean_dif, color='black', lw=2)\n",
    "ax.set_xlabel('Differences')\n",
    "ax.set_ylabel('Frequency')"
   ]
  },
  {
   "cell_type": "code",
   "execution_count": 14,
   "metadata": {},
   "outputs": [
    {
     "data": {
      "text/plain": [
       "Ttest_1sampResult(statistic=961.2678382734317, pvalue=0.0)"
      ]
     },
     "execution_count": 14,
     "metadata": {},
     "output_type": "execute_result"
    }
   ],
   "source": [
    "scipy.stats.ttest_1samp(perm_diffs, mean_dif)"
   ]
  },
  {
   "cell_type": "markdown",
   "metadata": {},
   "source": [
    "# Statistical Significance and P-Values\n",
    "* **Statistical significance** is how statisticians measure whether an experiment (or even a study of existing data) yields a result more extreme than what chance might produce. If the result is beyond the realm of chance variation, it is said to be **statistically significant**.\n",
    "* **P-value**: Given a chance model that embodies the null hypothesis, the p-value is the probability of obtaining results as unusual or extreme as the observed results.\n",
    "* **Alpha**: The probability threshold of “unusualness” that chance results must surpass, for actual outcomes to be deemed statistically significant.\n",
    "* **Type 1 error**: Mistakenly concluding an effect is real (when it is due to chance).\n",
    "* **Type 2 error**: Mistakenly concluding an effect is due to chance (when it is real).\n",
    "\n",
    "![](https://www.investopedia.com/thmb/wHZyUmX-70t-09r-pmGLSqEUbXk=/1216x912/smart/filters:no_upscale()/p-val-0495f383de964788b560dd11c833a152.png)"
   ]
  },
  {
   "cell_type": "markdown",
   "metadata": {},
   "source": [
    "# t-test\n",
    "![](https://luanvan2s.com/files/assets/t_test_la_gi_luanvan2s.jpg)"
   ]
  },
  {
   "cell_type": "code",
   "execution_count": 15,
   "metadata": {},
   "outputs": [
    {
     "name": "stdout",
     "output_type": "stream",
     "text": [
      "0.2459999999999999 1.3259999999999998\n"
     ]
    }
   ],
   "source": [
    "print(iris.loc[[index_val1]][data_name].mean(),iris.loc[[index_val2]][data_name].mean())"
   ]
  },
  {
   "cell_type": "code",
   "execution_count": 16,
   "metadata": {},
   "outputs": [
    {
     "data": {
      "image/png": "[encoded data removed]",
      "text/plain": [
       "<Figure size 936x360 with 1 Axes>"
      ]
     },
     "metadata": {
      "needs_background": "light"
     },
     "output_type": "display_data"
    }
   ],
   "source": [
    "fig, ax = plt.subplots(figsize=(13, 5))\n",
    "iris.loc[[index_val1,index_val2]][data_name].groupby(index_name).plot.kde()\n",
    "plt.legend();"
   ]
  },
  {
   "cell_type": "code",
   "execution_count": 17,
   "metadata": {},
   "outputs": [
    {
     "data": {
      "text/plain": [
       "0.0"
      ]
     },
     "execution_count": 17,
     "metadata": {},
     "output_type": "execute_result"
    }
   ],
   "source": [
    "p_value = np.mean([diff < mean_dif for diff in perm_diffs])\n",
    "p_value"
   ]
  },
  {
   "cell_type": "code",
   "execution_count": 18,
   "metadata": {},
   "outputs": [
    {
     "name": "stdout",
     "output_type": "stream",
     "text": [
      "p-value for t-test: 0.0000\n"
     ]
    }
   ],
   "source": [
    "res = scipy.stats.ttest_ind(iris.loc[[index_val1]][data_name],\n",
    "                      iris.loc[[index_val2]][data_name],\n",
    "                      equal_var=False)\n",
    "print(f'p-value for t-test: {res.pvalue / 2:.4f}')"
   ]
  },
  {
   "cell_type": "code",
   "execution_count": 19,
   "metadata": {},
   "outputs": [
    {
     "name": "stdout",
     "output_type": "stream",
     "text": [
      "p-value for t-test: 0.0000\n"
     ]
    }
   ],
   "source": [
    "res = scipy.stats.ttest_ind(iris.loc[[index_val1]][data_name],\n",
    "                      iris.loc[[index_val2]][data_name],\n",
    "                      equal_var=True)\n",
    "print(f'p-value for t-test: {res.pvalue / 2:.4f}')"
   ]
  },
  {
   "cell_type": "code",
   "execution_count": 20,
   "metadata": {},
   "outputs": [
    {
     "data": {
      "text/plain": [
       "Ttest_1sampResult(statistic=961.2678382734317, pvalue=0.0)"
      ]
     },
     "execution_count": 20,
     "metadata": {},
     "output_type": "execute_result"
    }
   ],
   "source": [
    "scipy.stats.ttest_1samp(perm_diffs, mean_dif)  "
   ]
  },
  {
   "cell_type": "markdown",
   "metadata": {},
   "source": [
    "# ANOVA\n",
    "![](https://www.questionpro.com/blog/wp-content/uploads/2016/03/rsz_anova.jpg)"
   ]
  },
  {
   "cell_type": "code",
   "execution_count": 21,
   "metadata": {},
   "outputs": [
    {
     "data": {
      "image/png": "[encoded data removed]",
      "text/plain": [
       "<Figure size 936x360 with 1 Axes>"
      ]
     },
     "metadata": {
      "needs_background": "light"
     },
     "output_type": "display_data"
    }
   ],
   "source": [
    "fig, ax = plt.subplots(figsize=(13, 5))\n",
    "iris.loc[[index_val1,index_val2,index_val3]][data_name].groupby(index_name).plot.kde()\n",
    "plt.legend();"
   ]
  },
  {
   "cell_type": "markdown",
   "metadata": {},
   "source": [
    "# ANOVA - Permutation Approach\n",
    "* Resampling procedure (specified here for the A-B-C-D test of 4 groups):\n",
    "    * Combine all the data together in a single box\n",
    "    * Shuffle and draw out four resamples of five values each\n",
    "    * Record the mean of each of the four groups\n",
    "    * Record the variance among the four group means\n",
    "    * Repeat steps 2–4 many times (say 1,000)\n",
    "* What proportion of the time did the resampled variance exceed the observed variance? This is the p-value.\n",
    "![](https://www.datanovia.com/en/wp-content/uploads/dn-tutorials/r-statistics-2-comparing-groups-means/images/one-way-anova-basics.png)"
   ]
  },
  {
   "cell_type": "code",
   "execution_count": 22,
   "metadata": {},
   "outputs": [
    {
     "name": "stdout",
     "output_type": "stream",
     "text": [
      "Observed means: [0.246 1.326 2.026]\n",
      "Variance: 0.8041333333333331\n",
      "Pr(Prob) 0.0\n"
     ]
    }
   ],
   "source": [
    "observed_variance = iris[data_name].groupby(index_name).mean().var()\n",
    "print('Observed means:', iris[data_name].groupby(index_name).mean().values.ravel())\n",
    "print('Variance:', observed_variance)\n",
    "\n",
    "def perm_test(df):\n",
    "    df = df.copy()\n",
    "    df.index = np.random.permutation(df.index.values)\n",
    "    return df.groupby(level=0).mean().var()\n",
    "\n",
    "perm_variance = [perm_test(iris[data_name]) for _ in range(3000)]\n",
    "print('Pr(Prob)', np.mean([var > observed_variance for var in perm_variance]))"
   ]
  },
  {
   "cell_type": "code",
   "execution_count": 23,
   "metadata": {},
   "outputs": [
    {
     "data": {
      "text/plain": [
       "Text(0, 0.5, 'Frequency')"
      ]
     },
     "execution_count": 23,
     "metadata": {},
     "output_type": "execute_result"
    },
    {
     "data": {
      "image/png": "[encoded data removed]",
      "text/plain": [
       "<Figure size 936x360 with 1 Axes>"
      ]
     },
     "metadata": {
      "needs_background": "light"
     },
     "output_type": "display_data"
    }
   ],
   "source": [
    "fig, ax = plt.subplots(figsize=(13, 5))\n",
    "ax.hist(perm_variance, bins=11, rwidth=0.9)\n",
    "ax.axvline(x = observed_variance, color='black', lw=2)\n",
    "ax.set_xlabel('Variances')\n",
    "ax.set_ylabel('Frequency')"
   ]
  },
  {
   "cell_type": "code",
   "execution_count": 24,
   "metadata": {},
   "outputs": [
    {
     "data": {
      "text/plain": [
       "F_onewayResult(statistic=960.007146801809, pvalue=4.169445839443116e-85)"
      ]
     },
     "execution_count": 24,
     "metadata": {},
     "output_type": "execute_result"
    }
   ],
   "source": [
    "scipy.stats.f_oneway(iris.loc[index_val1][data_name],\n",
    "                    iris.loc[index_val2][data_name],\n",
    "                    iris.loc[index_val3][data_name])"
   ]
  },
  {
   "cell_type": "markdown",
   "metadata": {},
   "source": [
    "# Linear Regression\n",
    "![](https://www.jmp.com/en_us/statistics-knowledge-portal/what-is-multiple-regression/fitting-multiple-regression-model/_jcr_content/par/styledcontainer_2069/par/lightbox_4130/lightboxImage.img.png/1548702778023.png)"
   ]
  },
  {
   "cell_type": "code",
   "execution_count": 27,
   "metadata": {},
   "outputs": [
    {
     "name": "stdout",
     "output_type": "stream",
     "text": [
      "Collecting statsmodels\n",
      "  Using cached statsmodels-0.12.2-cp37-cp37m-macosx_10_15_x86_64.whl (9.5 MB)\n",
      "Collecting patsy>=0.5\n",
      "  Using cached patsy-0.5.1-py2.py3-none-any.whl (231 kB)\n",
      "Requirement already satisfied: numpy>=1.15 in /opt/anaconda3/envs/anthony/lib/python3.7/site-packages (from statsmodels) (1.19.5)\n",
      "Requirement already satisfied: scipy>=1.1 in /opt/anaconda3/envs/anthony/lib/python3.7/site-packages (from statsmodels) (1.6.2)\n",
      "Requirement already satisfied: pandas>=0.21 in /opt/anaconda3/envs/anthony/lib/python3.7/site-packages (from statsmodels) (1.3.1)\n",
      "Requirement already satisfied: python-dateutil>=2.7.3 in /opt/anaconda3/envs/anthony/lib/python3.7/site-packages (from pandas>=0.21->statsmodels) (2.8.2)\n",
      "Requirement already satisfied: pytz>=2017.3 in /opt/anaconda3/envs/anthony/lib/python3.7/site-packages (from pandas>=0.21->statsmodels) (2021.1)\n",
      "Requirement already satisfied: six in /opt/anaconda3/envs/anthony/lib/python3.7/site-packages (from patsy>=0.5->statsmodels) (1.15.0)\n",
      "Installing collected packages: patsy, statsmodels\n",
      "Successfully installed patsy-0.5.1 statsmodels-0.12.2\n"
     ]
    }
   ],
   "source": [
    "#!pip3 install statsmodels"
   ]
  },
  {
   "cell_type": "code",
   "execution_count": 28,
   "metadata": {},
   "outputs": [],
   "source": [
    "from statsmodels.formula.api import ols"
   ]
  },
  {
   "cell_type": "code",
   "execution_count": 29,
   "metadata": {},
   "outputs": [
    {
     "data": {
      "text/plain": [
       "<AxesSubplot:xlabel='x', ylabel='y'>"
      ]
     },
     "execution_count": 29,
     "metadata": {},
     "output_type": "execute_result"
    },
    {
     "data": {
      "image/png": "[encoded data removed]",
      "text/plain": [
       "<Figure size 432x288 with 1 Axes>"
      ]
     },
     "metadata": {
      "needs_background": "light"
     },
     "output_type": "display_data"
    }
   ],
   "source": [
    "x = np.linspace(-5, 5, 1000)\n",
    "np.random.seed(1)\n",
    "# normal distributed noise\n",
    "y = -5 + 3*x + 4 * np.random.normal(size=x.shape)\n",
    "# Create a data frame containing all the relevant variables\n",
    "data = pd.DataFrame({'x': x, 'y': y})\n",
    "# scatter plot of the data\n",
    "data.plot.scatter(x='x', y='y')"
   ]
  },
  {
   "cell_type": "code",
   "execution_count": 30,
   "metadata": {},
   "outputs": [
    {
     "name": "stdout",
     "output_type": "stream",
     "text": [
      "                            OLS Regression Results                            \n",
      "==============================================================================\n",
      "Dep. Variable:                      y   R-squared:                       0.828\n",
      "Model:                            OLS   Adj. R-squared:                  0.828\n",
      "Method:                 Least Squares   F-statistic:                     4794.\n",
      "Date:                Sun, 22 Aug 2021   Prob (F-statistic):               0.00\n",
      "Time:                        09:16:52   Log-Likelihood:                -2785.9\n",
      "No. Observations:                1000   AIC:                             5576.\n",
      "Df Residuals:                     998   BIC:                             5586.\n",
      "Df Model:                           1                                         \n",
      "Covariance Type:            nonrobust                                         \n",
      "==============================================================================\n",
      "                 coef    std err          t      P>|t|      [0.025      0.975]\n",
      "------------------------------------------------------------------------------\n",
      "Intercept     -4.8448      0.124    -39.010      0.000      -5.088      -4.601\n",
      "x              2.9756      0.043     69.235      0.000       2.891       3.060\n",
      "==============================================================================\n",
      "Omnibus:                        2.936   Durbin-Watson:                   2.057\n",
      "Prob(Omnibus):                  0.230   Jarque-Bera (JB):                2.981\n",
      "Skew:                          -0.069   Prob(JB):                        0.225\n",
      "Kurtosis:                       3.229   Cond. No.                         2.89\n",
      "==============================================================================\n",
      "\n",
      "Notes:\n",
      "[1] Standard Errors assume that the covariance matrix of the errors is correctly specified.\n"
     ]
    }
   ],
   "source": [
    "model = ols(\"y ~ x\", data).fit()\n",
    "print(model.summary())"
   ]
  },
  {
   "cell_type": "code",
   "execution_count": 31,
   "metadata": {},
   "outputs": [
    {
     "name": "stdout",
     "output_type": "stream",
     "text": [
      "                            OLS Regression Results                            \n",
      "==============================================================================\n",
      "Dep. Variable:            sepal_width   R-squared:                       0.213\n",
      "Model:                            OLS   Adj. R-squared:                  0.202\n",
      "Method:                 Least Squares   F-statistic:                     19.90\n",
      "Date:                Sun, 22 Aug 2021   Prob (F-statistic):           2.24e-08\n",
      "Time:                        09:16:53   Log-Likelihood:                -69.802\n",
      "No. Observations:                 150   AIC:                             145.6\n",
      "Df Residuals:                     147   BIC:                             154.6\n",
      "Df Model:                           2                                         \n",
      "Covariance Type:            nonrobust                                         \n",
      "================================================================================\n",
      "                   coef    std err          t      P>|t|      [0.025      0.975]\n",
      "--------------------------------------------------------------------------------\n",
      "Intercept        3.5870      0.094     38.272      0.000       3.402       3.772\n",
      "petal_length    -0.2571      0.067     -3.843      0.000      -0.389      -0.125\n",
      "petal_width      0.3640      0.155      2.349      0.020       0.058       0.670\n",
      "==============================================================================\n",
      "Omnibus:                        3.676   Durbin-Watson:                   1.655\n",
      "Prob(Omnibus):                  0.159   Jarque-Bera (JB):                4.220\n",
      "Skew:                           0.085   Prob(JB):                        0.121\n",
      "Kurtosis:                       3.804   Cond. No.                         25.3\n",
      "==============================================================================\n",
      "\n",
      "Notes:\n",
      "[1] Standard Errors assume that the covariance matrix of the errors is correctly specified.\n"
     ]
    }
   ],
   "source": [
    "model = ols('sepal_width ~ petal_length + petal_width', iris).fit()\n",
    "print(model.summary())"
   ]
  },
  {
   "cell_type": "code",
   "execution_count": 32,
   "metadata": {},
   "outputs": [
    {
     "name": "stdout",
     "output_type": "stream",
     "text": [
      "                            OLS Regression Results                            \n",
      "==============================================================================\n",
      "Dep. Variable:            petal_width   R-squared:                       0.927\n",
      "Model:                            OLS   Adj. R-squared:                  0.927\n",
      "Method:                 Least Squares   F-statistic:                     1882.\n",
      "Date:                Sun, 22 Aug 2021   Prob (F-statistic):           4.68e-86\n",
      "Time:                        09:16:54   Log-Likelihood:                 24.796\n",
      "No. Observations:                 150   AIC:                            -45.59\n",
      "Df Residuals:                     148   BIC:                            -39.57\n",
      "Df Model:                           1                                         \n",
      "Covariance Type:            nonrobust                                         \n",
      "================================================================================\n",
      "                   coef    std err          t      P>|t|      [0.025      0.975]\n",
      "--------------------------------------------------------------------------------\n",
      "Intercept       -0.3631      0.040     -9.131      0.000      -0.442      -0.285\n",
      "petal_length     0.4158      0.010     43.387      0.000       0.397       0.435\n",
      "==============================================================================\n",
      "Omnibus:                        5.765   Durbin-Watson:                   1.455\n",
      "Prob(Omnibus):                  0.056   Jarque-Bera (JB):                5.555\n",
      "Skew:                           0.359   Prob(JB):                       0.0622\n",
      "Kurtosis:                       3.611   Cond. No.                         10.3\n",
      "==============================================================================\n",
      "\n",
      "Notes:\n",
      "[1] Standard Errors assume that the covariance matrix of the errors is correctly specified.\n"
     ]
    }
   ],
   "source": [
    "model = ols('petal_width ~ petal_length', iris).fit()\n",
    "print(model.summary())"
   ]
  },
  {
   "cell_type": "code",
   "execution_count": 33,
   "metadata": {},
   "outputs": [
    {
     "data": {
      "text/plain": [
       "<AxesSubplot:xlabel='petal_length', ylabel='petal_width'>"
      ]
     },
     "execution_count": 33,
     "metadata": {},
     "output_type": "execute_result"
    },
    {
     "data": {
      "image/png": "[encoded data removed]",
      "text/plain": [
       "<Figure size 432x288 with 1 Axes>"
      ]
     },
     "metadata": {
      "needs_background": "light"
     },
     "output_type": "display_data"
    }
   ],
   "source": [
    "iris.plot.scatter(x='petal_length', y='petal_width')"
   ]
  }
 ],
 "metadata": {
  "kernelspec": {
   "display_name": "Python 3",
   "language": "python",
   "name": "python3"
  },
  "language_info": {
   "codemirror_mode": {
    "name": "ipython",
    "version": 3
   },
   "file_extension": ".py",
   "mimetype": "text/x-python",
   "name": "python",
   "nbconvert_exporter": "python",
   "pygments_lexer": "ipython3",
   "version": "3.7.0"
  }
 },
 "nbformat": 4,
 "nbformat_minor": 4
}
