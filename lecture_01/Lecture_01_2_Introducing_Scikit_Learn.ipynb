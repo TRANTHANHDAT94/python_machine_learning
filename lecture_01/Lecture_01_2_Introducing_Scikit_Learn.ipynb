{
 "cells": [
  {
   "cell_type": "markdown",
   "metadata": {
    "id": "HZq1UimsQobJ"
   },
   "source": [
    "# Introducing Scikit-Learn\n",
    "![](https://scikit-learn.org/stable/_static/ml_map.png)"
   ]
  },
  {
   "cell_type": "markdown",
   "metadata": {
    "id": "Y2_tKOGsQobQ"
   },
   "source": [
    "![](https://static.wixstatic.com/media/7c7bd7_6633580062624b5bbf192eb2df22a428~mv2.png/v1/fit/w_566,h_202,al_c,q_80/file.png)\n",
    "One of the best known Python machine learning libraries is [Scikit-Learn](http://scikit-learn.org):\n",
    "* Clean, uniform, and streamlined API\n",
    "* Useful and complete online documentation.\n",
    "> Once you understand the basic use and syntax of Scikit-Learn for one type of model, switching to a new model or algorithm is very straightforward.\n",
    "* This section provides an overview of the Scikit-Learn API."
   ]
  },
  {
   "cell_type": "markdown",
   "metadata": {
    "id": "L9VzrQCgQobS"
   },
   "source": [
    "## Data Representation in Scikit-Learn\n",
    "### Data as table\n",
    "![](https://web.stanford.edu/class/cs101/table.png)\n",
    "\n",
    "For example, consider the [Iris dataset](https://en.wikipedia.org/wiki/Iris_flower_data_set), famously analyzed by Ronald Fisher in 1936.\n",
    "\n",
    "Here each row of the data refers to a single observed flower, and the number of rows is the total number of flowers in the dataset.\n",
    "\n",
    "In general, we will refer to the rows of the matrix as ***samples***, and the number of rows as **``n_samples``**.\n",
    "Likewise, each column of the data refers to a particular quantitative piece of information that describes each sample.\n",
    "\n",
    "In general, we will refer to the columns of the matrix as ***features***, and the number of columns as **``n_features``**.\n",
    "\n",
    "We can download this dataset in the form of a Pandas ``DataFrame`` using the [seaborn](http://seaborn.pydata.org/) library:"
   ]
  },
  {
   "cell_type": "code",
   "execution_count": 18,
   "metadata": {},
   "outputs": [
    {
     "data": {
      "text/html": [
       "<div>\n",
       "<style scoped>\n",
       "    .dataframe tbody tr th:only-of-type {\n",
       "        vertical-align: middle;\n",
       "    }\n",
       "\n",
       "    .dataframe tbody tr th {\n",
       "        vertical-align: top;\n",
       "    }\n",
       "\n",
       "    .dataframe thead th {\n",
       "        text-align: right;\n",
       "    }\n",
       "</style>\n",
       "<table border=\"1\" class=\"dataframe\">\n",
       "  <thead>\n",
       "    <tr style=\"text-align: right;\">\n",
       "      <th></th>\n",
       "      <th>sepal_length</th>\n",
       "      <th>sepal_width</th>\n",
       "      <th>petal_length</th>\n",
       "      <th>petal_width</th>\n",
       "      <th>species</th>\n",
       "    </tr>\n",
       "  </thead>\n",
       "  <tbody>\n",
       "    <tr>\n",
       "      <th>0</th>\n",
       "      <td>5.1</td>\n",
       "      <td>3.5</td>\n",
       "      <td>1.4</td>\n",
       "      <td>0.2</td>\n",
       "      <td>setosa</td>\n",
       "    </tr>\n",
       "    <tr>\n",
       "      <th>1</th>\n",
       "      <td>4.9</td>\n",
       "      <td>3.0</td>\n",
       "      <td>1.4</td>\n",
       "      <td>0.2</td>\n",
       "      <td>setosa</td>\n",
       "    </tr>\n",
       "    <tr>\n",
       "      <th>2</th>\n",
       "      <td>4.7</td>\n",
       "      <td>3.2</td>\n",
       "      <td>1.3</td>\n",
       "      <td>0.2</td>\n",
       "      <td>setosa</td>\n",
       "    </tr>\n",
       "    <tr>\n",
       "      <th>3</th>\n",
       "      <td>4.6</td>\n",
       "      <td>3.1</td>\n",
       "      <td>1.5</td>\n",
       "      <td>0.2</td>\n",
       "      <td>setosa</td>\n",
       "    </tr>\n",
       "    <tr>\n",
       "      <th>4</th>\n",
       "      <td>5.0</td>\n",
       "      <td>3.6</td>\n",
       "      <td>1.4</td>\n",
       "      <td>0.2</td>\n",
       "      <td>setosa</td>\n",
       "    </tr>\n",
       "  </tbody>\n",
       "</table>\n",
       "</div>"
      ],
      "text/plain": [
       "   sepal_length  sepal_width  petal_length  petal_width species\n",
       "0           5.1          3.5           1.4          0.2  setosa\n",
       "1           4.9          3.0           1.4          0.2  setosa\n",
       "2           4.7          3.2           1.3          0.2  setosa\n",
       "3           4.6          3.1           1.5          0.2  setosa\n",
       "4           5.0          3.6           1.4          0.2  setosa"
      ]
     },
     "execution_count": 18,
     "metadata": {},
     "output_type": "execute_result"
    }
   ],
   "source": [
    "import pandas as pd \n",
    "import numpy as np \n",
    "from matplotlib import pyplot as plt\n",
    "import seaborn as sns\n",
    "import sklearn\n",
    "import tensorflow\n",
    "sns.set_style(\"whitegrid\")\n",
    "sns.set()\n",
    "%matplotlib notebook\n",
    "import warnings\n",
    "warnings.filterwarnings('ignore')\n",
    "iris = sns.load_dataset('iris')\n",
    "iris.head()"
   ]
  },
  {
   "cell_type": "code",
   "execution_count": null,
   "metadata": {},
   "outputs": [],
   "source": []
  },
  {
   "cell_type": "markdown",
   "metadata": {
    "id": "2TiiySfwQoba"
   },
   "source": [
    "### Features matrix\n",
    "* By convention, this features matrix is often stored in a variable named ```X```.\n",
    "* The **features matrix** is assumed to be two-dimensional, with shape **```[n_samples, n_features]```**\n",
    "* The **features matrix** is most often contained in a **NumPy ```array```** or a **Pandas ```DataFrame```**\n",
    "* Some Scikit-Learn models also accept **SciPy sparse matrices**.\n",
    "\n",
    "### Target array\n",
    "* By convention we will usually call ```y```.\n",
    "* Usually one dimensional, with length ```n_samples```, and is generally contained in a **NumPy array** or **Pandas ```Series```**.\n",
    "* The target array may have continuous numerical values, or discrete classes/labels.\n",
    "\n",
    "![](https://jakevdp.github.io/PythonDataScienceHandbook/figures/05.02-samples-features.png)"
   ]
  },
  {
   "cell_type": "code",
   "execution_count": 24,
   "metadata": {
    "id": "n7_gxHGLQobc",
    "outputId": "362370ae-1e70-4537-97b5-1c77a5374f9d"
   },
   "outputs": [
    {
     "data": {
      "image/png": "[encoded data removed]",
      "text/plain": [
       "<Figure size 518.85x432 with 20 Axes>"
      ]
     },
     "metadata": {
      "needs_background": "light"
     },
     "output_type": "display_data"
    }
   ],
   "source": [
    "%matplotlib inline\n",
    "sns.pairplot(data=iris, hue='species', size=1.5);"
   ]
  },
  {
   "cell_type": "markdown",
   "metadata": {
    "id": "1OdIlb20Qobd"
   },
   "source": [
    "For use in Scikit-Learn, we will extract the features matrix and target array from the ``DataFrame``, which we can do using some of the Pandas ``DataFrame`` operations."
   ]
  },
  {
   "cell_type": "code",
   "execution_count": 29,
   "metadata": {
    "id": "5umd0k3eQobe",
    "outputId": "7d5a044c-eff8-4c63-b395-5f7d4c541c36"
   },
   "outputs": [],
   "source": [
    "X_iris = iris.drop('species', axis=1)\n",
    "X_iris.shape\n",
    "X, y= iris.drop(columns=['species']), iris['species']"
   ]
  },
  {
   "cell_type": "code",
   "execution_count": 30,
   "metadata": {
    "id": "TtBsqVFSQobh",
    "outputId": "0e00a7ba-d78d-4460-b2b8-656d4affb41c"
   },
   "outputs": [
    {
     "data": {
      "text/plain": [
       "(150,)"
      ]
     },
     "execution_count": 30,
     "metadata": {},
     "output_type": "execute_result"
    }
   ],
   "source": [
    "y_iris = iris['species']\n",
    "y_iris.shape"
   ]
  },
  {
   "cell_type": "markdown",
   "metadata": {
    "id": "SybkRi9CQobl"
   },
   "source": [
    "To summarize, the expected layout of features and target values is visualized in the following diagram:\n",
    "![](https://raw.githubusercontent.com/jakevdp/PythonDataScienceHandbook/8a34a4f653bdbdc01415a94dc20d4e9b97438965/notebooks/figures/05.02-samples-features.png)"
   ]
  },
  {
   "cell_type": "markdown",
   "metadata": {
    "id": "yCe-JUg2Qobn"
   },
   "source": [
    "## Scikit-Learn's Estimator API"
   ]
  },
  {
   "cell_type": "markdown",
   "metadata": {
    "id": "2Te91B0LQobo"
   },
   "source": [
    "The **Scikit-Learn API** is designed with the following guiding principles:\n",
    "\n",
    "- ***Consistency***: All objects share a common interface drawn from a limited set of methods, with consistent documentation.\n",
    "\n",
    "- ***Inspection***: All specified parameter values are exposed as public attributes.\n",
    "\n",
    "- ***Limited object hierarchy***: Only algorithms are represented by Python classes; datasets are represented\n",
    "  in standard formats (NumPy arrays, Pandas ``DataFrame``s, SciPy sparse matrices) and parameter\n",
    "  names use standard Python strings.\n",
    "\n",
    "- ***Composition***: Many machine learning tasks can be expressed as sequences of more fundamental algorithms,\n",
    "  and Scikit-Learn makes use of this wherever possible.\n",
    "\n",
    "- ***Sensible defaults***: When models require user-specified parameters, the library defines an appropriate default value.\n",
    "\n",
    "> **In practice, these principles make Scikit-Learn very easy to use, once the basic principles are understood.\n",
    "Every machine learning algorithm in Scikit-Learn is implemented via the Estimator API, which provides a consistent interface for a wide range of machine learning applications.**"
   ]
  },
  {
   "cell_type": "markdown",
   "metadata": {
    "id": "3O-BtugwQobo"
   },
   "source": [
    "### Basics of the API\n",
    "\n",
    "Most commonly, the steps in using the Scikit-Learn estimator API are as follows:\n",
    "\n",
    "1. Choose a class of model by importing the appropriate estimator class from Scikit-Learn.\n",
    "2. Choose model hyperparameters by instantiating this class with desired values.\n",
    "3. Arrange data into a features matrix and target vector following the discussion above.\n",
    "4. Fit the model to your data by calling the ``fit()`` method of the model instance.\n",
    "5. Apply the Model to new data:\n",
    "   - For supervised learning, often we predict labels for unknown data using the ``predict()`` method.\n",
    "   - For unsupervised learning, we often transform or infer properties of the data using the ``transform()`` or ``predict()`` method.\n",
    "   \n",
    "![](https://slideplayer.com/slide/15760442/88/images/7/Basic+API+estimator.fit%28X%2C+%5By%5D%29+estimator.predict+estimator.transform.jpg)"
   ]
  },
  {
   "cell_type": "markdown",
   "metadata": {
    "id": "c1ZZ0nB8Qobq"
   },
   "source": [
    "### Supervised learning example: Simple linear regression"
   ]
  },
  {
   "cell_type": "code",
   "execution_count": 31,
   "metadata": {
    "id": "ecp1cgj_Qobq",
    "outputId": "783c9913-ee5b-49fe-ae5d-a4a7b86ccdda"
   },
   "outputs": [
    {
     "data": {
      "image/png": "[encoded data removed]",
      "text/plain": [
       "<Figure size 576x576 with 1 Axes>"
      ]
     },
     "metadata": {
      "needs_background": "light"
     },
     "output_type": "display_data"
    }
   ],
   "source": [
    "rng = np.random.RandomState(42)\n",
    "x = 10 * rng.rand(50)\n",
    "y = 2 * x - 1 + rng.randn(50)\n",
    "fig, axes = plt.subplots(1, 1, figsize=(8, 8))\n",
    "plt.scatter(x, y);"
   ]
  },
  {
   "cell_type": "markdown",
   "metadata": {
    "id": "91NsOZoPQobr"
   },
   "source": [
    "#### 1. Choose a class of model"
   ]
  },
  {
   "cell_type": "code",
   "execution_count": 33,
   "metadata": {
    "id": "m4jjf9gvQobr"
   },
   "outputs": [],
   "source": [
    "from sklearn.linear_model import LinearRegression"
   ]
  },
  {
   "cell_type": "markdown",
   "metadata": {
    "id": "RLGb1j2wQobs"
   },
   "source": [
    "#### 2. Choose model hyperparameters\n",
    "\n",
    "* IMPORTANT: ***a class of model is not the same as an instance of a model***.\n",
    "* Depending on the model class we are working with, we might need to answer one or more questions like the following:\n",
    "    - Would we like to fit for the offset (i.e., *y*-intercept)?\n",
    "    - Would we like the model to be normalized?\n",
    "    - Would we like to preprocess our features to add model flexibility?\n",
    "    - What degree of regularization would we like to use in our model?\n",
    "    - How many model components would we like to use?\n",
    "* These important choices must be made ***once the model class is selected***.\n",
    "* These choices are often represented as ***hyperparameters***, or parameters that must be set before the model is fit to data.\n",
    "* In Scikit-Learn, hyperparameters are chosen by passing values at model instantiation.\n",
    "* For our linear regression example, we can instantiate the ```LinearRegression``` class and specify that we would like to fit the intercept using the ```fit_intercept``` hyperparameter:"
   ]
  },
  {
   "cell_type": "code",
   "execution_count": 37,
   "metadata": {
    "id": "2I4JSpwSQobt",
    "outputId": "ec4d7bb7-dac5-44a6-df9e-8af1271a5b0a"
   },
   "outputs": [
    {
     "data": {
      "text/plain": [
       "LinearRegression()"
      ]
     },
     "execution_count": 37,
     "metadata": {},
     "output_type": "execute_result"
    }
   ],
   "source": [
    "model = LinearRegression(fit_intercept=True)#Define themodel\n",
    "model"
   ]
  },
  {
   "cell_type": "markdown",
   "metadata": {
    "id": "kUmG4MKUQobt"
   },
   "source": [
    "Keep in mind that when the model is instantiated, the only action is the storing of these hyperparameter values.\n",
    "In particular, we have not yet applied the model to any data: the Scikit-Learn API makes very clear the distinction between ***choice of model*** and ***application of model to data***."
   ]
  },
  {
   "cell_type": "code",
   "execution_count": 41,
   "metadata": {},
   "outputs": [
    {
     "data": {
      "text/plain": [
       "numpy.ndarray"
      ]
     },
     "execution_count": 41,
     "metadata": {},
     "output_type": "execute_result"
    }
   ],
   "source": [
    "x.shape\n",
    "type(x)"
   ]
  },
  {
   "cell_type": "markdown",
   "metadata": {
    "id": "7aeOKjMDQobu"
   },
   "source": [
    "#### 3. Arrange data into a features matrix and target vector\n",
    "* **Scikit-Learn data representation**:\n",
    "    - a two-dimensional features matrix\n",
    "    - a one-dimensional target array\n",
    "* Here our target variable ```y``` is already in the correct form (a length-```n_samples``` array), but we need to massage the data ```x``` to make it a matrix of size ```[n_samples, n_features]```.\n",
    "* In this case, this amounts to a simple **reshaping** of the one-dimensional array:"
   ]
  },
  {
   "cell_type": "code",
   "execution_count": null,
   "metadata": {
    "id": "QERAH2ufQobu",
    "outputId": "4a343d34-769a-41c3-ce90-22f64f007b1c"
   },
   "outputs": [],
   "source": [
    "X = x[:, np.newaxis]\n",
    "X.shape\n",
    "type(X)"
   ]
  },
  {
   "cell_type": "markdown",
   "metadata": {
    "id": "E6h1zYYbQobv"
   },
   "source": [
    "#### 4. Fit the model to your data\n",
    "This can be done with the ``fit()`` method of the model:"
   ]
  },
  {
   "cell_type": "code",
   "execution_count": null,
   "metadata": {
    "id": "aqONautnQobv",
    "outputId": "158195e1-c7c7-45ef-9b5a-0596d9cb3cc0"
   },
   "outputs": [],
   "source": [
    "model.fit(X, y)"
   ]
  },
  {
   "cell_type": "markdown",
   "metadata": {
    "id": "VAA3ufFRQobx"
   },
   "source": [
    "* This ``fit()`` command causes a number of model-dependent internal computations to take place\n",
    "* The results of these computations are stored in model-specific attributes that the user can explore.\n",
    "* In Scikit-Learn, by convention all model parameters that were learned during the ``fit()`` process have **trailing underscores**; for example in this linear model, we have the following:"
   ]
  },
  {
   "cell_type": "code",
   "execution_count": 49,
   "metadata": {
    "id": "aVEFkxjWQobx",
    "outputId": "55cbb3bf-3ac0-4e39-b338-10634a617c1e"
   },
   "outputs": [
    {
     "data": {
      "text/plain": [
       "array([1.9776566])"
      ]
     },
     "execution_count": 49,
     "metadata": {},
     "output_type": "execute_result"
    }
   ],
   "source": [
    "#the slope: close to 2\n",
    "model.coef_"
   ]
  },
  {
   "cell_type": "code",
   "execution_count": 50,
   "metadata": {
    "id": "wNpJWyxnQobx",
    "outputId": "756bf914-f11e-4886-f0ab-220e0af67ade"
   },
   "outputs": [
    {
     "data": {
      "text/plain": [
       "-0.9033107255311164"
      ]
     },
     "execution_count": 50,
     "metadata": {},
     "output_type": "execute_result"
    }
   ],
   "source": [
    "#the intercept: close to -1\n",
    "model.intercept_"
   ]
  },
  {
   "cell_type": "markdown",
   "metadata": {
    "id": "vmO2uIOFQoby"
   },
   "source": [
    "#### 5. Predict labels for unknown data\n",
    "In Scikit-Learn, this can be done using the ``predict()`` method."
   ]
  },
  {
   "cell_type": "code",
   "execution_count": null,
   "metadata": {
    "id": "w7MIXTeKQobz"
   },
   "outputs": [],
   "source": [
    "xfit = np.linspace(-1, 11)"
   ]
  },
  {
   "cell_type": "markdown",
   "metadata": {
    "id": "3qsUa1JgQobz"
   },
   "source": [
    "As before, we need to coerce these *x* values into a ``[n_samples, n_features]`` features matrix, after which we can feed it to the model:"
   ]
  },
  {
   "cell_type": "code",
   "execution_count": null,
   "metadata": {
    "id": "PiqIPN-oQobz"
   },
   "outputs": [],
   "source": [
    "Xfit = xfit[:, np.newaxis]\n",
    "yfit = model.predict(Xfit)"
   ]
  },
  {
   "cell_type": "markdown",
   "metadata": {
    "id": "gKlqawJSQob0"
   },
   "source": [
    "Finally, let's visualize the results by plotting first the raw data, and then this model fit:"
   ]
  },
  {
   "cell_type": "code",
   "execution_count": null,
   "metadata": {
    "id": "fD-K-S80Qob0",
    "outputId": "194f8e19-f928-4bf9-c2b4-0a4e44957d0b"
   },
   "outputs": [],
   "source": [
    "fig, axes = plt.subplots(1, 1, figsize=(8, 8))\n",
    "plt.scatter(x, y)\n",
    "plt.plot(xfit, yfit);"
   ]
  },
  {
   "cell_type": "markdown",
   "metadata": {
    "id": "WqHkOaWAQob1"
   },
   "source": [
    "Typically the efficacy of the model is evaluated by comparing its results to some known baseline, as we will see in the next example"
   ]
  },
  {
   "cell_type": "markdown",
   "metadata": {
    "id": "eFr-2x4VQob1"
   },
   "source": [
    "### Supervised learning example: Iris classification\n",
    "* Given a model trained on a portion of the Iris data, how well can we predict the remaining labels?\n",
    "* For this task, we will use an extremely simple generative model known as **Gaussian Naive Bayes**, which proceeds by assuming each class is drawn from an axis-aligned **Gaussian/Normal distribution** (will discuss **Naive Bayes Classification** for more details later).\n",
    "* Because it is so fast and has no hyperparameters to choose, **Gaussian Naive Bayes** is often a good model to use as a **baseline** classification, before exploring whether improvements can be found through more sophisticated models.\n",
    "\n",
    "![](https://www.researchgate.net/profile/Yune_Lee/publication/255695722/figure/fig8/AS:341300424527882@1458383770548/Illustration-of-how-a-Gaussian-Naive-Bayes-GNB-classifier-works-For-each-data-point.png)\n",
    "\n",
    "* We would like to evaluate the model on data it has not seen before, and so we will split the data into a ***training set*** and a ***testing set***.\n",
    "\n",
    "![](https://miro.medium.com/max/1466/1*aNPC1ifHN2WydKHyEZYENg.png)"
   ]
  },
  {
   "cell_type": "code",
   "execution_count": null,
   "metadata": {
    "id": "f4oeSqmKQob2"
   },
   "outputs": [],
   "source": [
    "from sklearn.model_selection import train_test_split\n",
    "Xtrain, Xtest, ytrain, ytest = train_test_split(X_iris, y_iris,\n",
    "                                                random_state=1)"
   ]
  },
  {
   "cell_type": "code",
   "execution_count": null,
   "metadata": {
    "id": "PKLxnweyQob2"
   },
   "outputs": [],
   "source": [
    "from sklearn.naive_bayes import GaussianNB # 1. choose model class\n",
    "model = GaussianNB()                       # 2. instantiate model\n",
    "model.fit(Xtrain, ytrain)                  # 3. fit model to data\n",
    "y_model = model.predict(Xtest)             # 4. predict on new data"
   ]
  },
  {
   "cell_type": "markdown",
   "metadata": {
    "id": "A14OANGnQob3"
   },
   "source": [
    "Finally, we can use the ``accuracy_score`` utility to see the fraction of predicted labels that match their true value:"
   ]
  },
  {
   "cell_type": "code",
   "execution_count": null,
   "metadata": {
    "id": "VwQYLBRSQob3",
    "outputId": "801e0f74-87b9-486f-92ba-52142d351414"
   },
   "outputs": [],
   "source": [
    "from sklearn.metrics import accuracy_score\n",
    "accuracy_score(ytest, y_model)"
   ]
  },
  {
   "cell_type": "markdown",
   "metadata": {
    "id": "YmZjTPChQob3"
   },
   "source": [
    "With an accuracy topping 97%, we see that even this very naive classification algorithm is effective for this particular dataset!"
   ]
  },
  {
   "cell_type": "markdown",
   "metadata": {
    "id": "IORkX18UQob4"
   },
   "source": [
    "### Unsupervised learning example: Iris dimensionality reduction\n",
    "* Reduce the dimensionality of the Iris data so as to more easily visualize it.\n",
    "    - Recall that the Iris data is four dimensional: there are four features recorded for each sample.\n",
    "* **Dimensionality reduction**: whether there is a suitable **lower-dimensional representation** that retains the essential features of the data.\n",
    "* Often **dimensionality reduction** is used as an aid to visualizing data: \n",
    "    - After all, it is much easier to plot data in two dimensions than in four dimensions or higher!\n",
    "* Here we will use **Principal Component Analysis (PCA)**, a fast **linear dimensionality reduction technique**.\n",
    "* We will ask the model to return two components—that is, a two-dimensional representation of the data.\n",
    "\n",
    "![](https://lh6.googleusercontent.com/proxy/3PZWdYFTdEK49Wpf0Za7zNMTz56gCt-FYhhrcD7hTdgHz_QbPL1zJdp5wV2hKyFsagsA8Z3ukBpjmUFKAj01g3PnKmVCEzWEuoKIy6DtttdBd2aopy49_t2VXJrW4V576bOfs5roVD8XNtlcz37WqWShKfmYcJRDct_NhzzpO6PI6S6MMyaOMT8Q-GshW91WqAW88i0I-QWole1Nfq-ND6Cu4w3_pwGRX8KYHjNQhl0E8ekb2hxXi3qpICJAZapmEhju)"
   ]
  },
  {
   "cell_type": "code",
   "execution_count": null,
   "metadata": {
    "id": "5KQmgBoNQob4",
    "outputId": "6cf00b80-c985-4439-c516-a727995c7c39",
    "scrolled": true
   },
   "outputs": [],
   "source": [
    "from sklearn.decomposition import PCA  # 1. Choose the model class\n",
    "model = PCA(n_components=2)            # 2. Instantiate the model with hyperparameters\n",
    "model.fit(X_iris)                      # 3. Fit to data. Notice y is not specified!\n",
    "X_2D = model.transform(X_iris)         # 4. Transform the data to two dimensions\n",
    "X_2D"
   ]
  },
  {
   "cell_type": "markdown",
   "metadata": {
    "id": "9601ZgZmQob5"
   },
   "source": [
    "Now let's plot the results. A quick way to do this is to insert the results into the original Iris ``DataFrame``, and use Seaborn's ``lmplot`` to show the results.\n",
    "We see that in the two-dimensional representation, the species are fairly well separated, even though the PCA algorithm had no knowledge of the species labels! This indicates to us that a relatively straightforward classification will probably be effective on the dataset, as we saw before."
   ]
  },
  {
   "cell_type": "code",
   "execution_count": null,
   "metadata": {
    "id": "dWyBAXK7Qob5",
    "outputId": "5a04c500-3d3f-4494-d1f0-ebab54f7493e"
   },
   "outputs": [
    {
     "data": {
      "application/javascript": [
       "/* Put everything inside the global mpl namespace */\n",
       "window.mpl = {};\n",
       "\n",
       "\n",
       "mpl.get_websocket_type = function() {\n",
       "    if (typeof(WebSocket) !== 'undefined') {\n",
       "        return WebSocket;\n",
       "    } else if (typeof(MozWebSocket) !== 'undefined') {\n",
       "        return MozWebSocket;\n",
       "    } else {\n",
       "        alert('Your browser does not have WebSocket support. ' +\n",
       "              'Please try Chrome, Safari or Firefox ≥ 6. ' +\n",
       "              'Firefox 4 and 5 are also supported but you ' +\n",
       "              'have to enable WebSockets in about:config.');\n",
       "    };\n",
       "}\n",
       "\n",
       "mpl.figure = function(figure_id, websocket, ondownload, parent_element) {\n",
       "    this.id = figure_id;\n",
       "\n",
       "    this.ws = websocket;\n",
       "\n",
       "    this.supports_binary = (this.ws.binaryType != undefined);\n",
       "\n",
       "    if (!this.supports_binary) {\n",
       "        var warnings = document.getElementById(\"mpl-warnings\");\n",
       "        if (warnings) {\n",
       "            warnings.style.display = 'block';\n",
       "            warnings.textContent = (\n",
       "                \"This browser does not support binary websocket messages. \" +\n",
       "                    \"Performance may be slow.\");\n",
       "        }\n",
       "    }\n",
       "\n",
       "    this.imageObj = new Image();\n",
       "\n",
       "    this.context = undefined;\n",
       "    this.message = undefined;\n",
       "    this.canvas = undefined;\n",
       "    this.rubberband_canvas = undefined;\n",
       "    this.rubberband_context = undefined;\n",
       "    this.format_dropdown = undefined;\n",
       "\n",
       "    this.image_mode = 'full';\n",
       "\n",
       "    this.root = $('<div/>');\n",
       "    this._root_extra_style(this.root)\n",
       "    this.root.attr('style', 'display: inline-block');\n",
       "\n",
       "    $(parent_element).append(this.root);\n",
       "\n",
       "    this._init_header(this);\n",
       "    this._init_canvas(this);\n",
       "    this._init_toolbar(this);\n",
       "\n",
       "    var fig = this;\n",
       "\n",
       "    this.waiting = false;\n",
       "\n",
       "    this.ws.onopen =  function () {\n",
       "            fig.send_message(\"supports_binary\", {value: fig.supports_binary});\n",
       "            fig.send_message(\"send_image_mode\", {});\n",
       "            if (mpl.ratio != 1) {\n",
       "                fig.send_message(\"set_dpi_ratio\", {'dpi_ratio': mpl.ratio});\n",
       "            }\n",
       "            fig.send_message(\"refresh\", {});\n",
       "        }\n",
       "\n",
       "    this.imageObj.onload = function() {\n",
       "            if (fig.image_mode == 'full') {\n",
       "                // Full images could contain transparency (where diff images\n",
       "                // almost always do), so we need to clear the canvas so that\n",
       "                // there is no ghosting.\n",
       "                fig.context.clearRect(0, 0, fig.canvas.width, fig.canvas.height);\n",
       "            }\n",
       "            fig.context.drawImage(fig.imageObj, 0, 0);\n",
       "        };\n",
       "\n",
       "    this.imageObj.onunload = function() {\n",
       "        fig.ws.close();\n",
       "    }\n",
       "\n",
       "    this.ws.onmessage = this._make_on_message_function(this);\n",
       "\n",
       "    this.ondownload = ondownload;\n",
       "}\n",
       "\n",
       "mpl.figure.prototype._init_header = function() {\n",
       "    var titlebar = $(\n",
       "        '<div class=\"ui-dialog-titlebar ui-widget-header ui-corner-all ' +\n",
       "        'ui-helper-clearfix\"/>');\n",
       "    var titletext = $(\n",
       "        '<div class=\"ui-dialog-title\" style=\"width: 100%; ' +\n",
       "        'text-align: center; padding: 3px;\"/>');\n",
       "    titlebar.append(titletext)\n",
       "    this.root.append(titlebar);\n",
       "    this.header = titletext[0];\n",
       "}\n",
       "\n",
       "\n",
       "\n",
       "mpl.figure.prototype._canvas_extra_style = function(canvas_div) {\n",
       "\n",
       "}\n",
       "\n",
       "\n",
       "mpl.figure.prototype._root_extra_style = function(canvas_div) {\n",
       "\n",
       "}\n",
       "\n",
       "mpl.figure.prototype._init_canvas = function() {\n",
       "    var fig = this;\n",
       "\n",
       "    var canvas_div = $('<div/>');\n",
       "\n",
       "    canvas_div.attr('style', 'position: relative; clear: both; outline: 0');\n",
       "\n",
       "    function canvas_keyboard_event(event) {\n",
       "        return fig.key_event(event, event['data']);\n",
       "    }\n",
       "\n",
       "    canvas_div.keydown('key_press', canvas_keyboard_event);\n",
       "    canvas_div.keyup('key_release', canvas_keyboard_event);\n",
       "    this.canvas_div = canvas_div\n",
       "    this._canvas_extra_style(canvas_div)\n",
       "    this.root.append(canvas_div);\n",
       "\n",
       "    var canvas = $('<canvas/>');\n",
       "    canvas.addClass('mpl-canvas');\n",
       "    canvas.attr('style', \"left: 0; top: 0; z-index: 0; outline: 0\")\n",
       "\n",
       "    this.canvas = canvas[0];\n",
       "    this.context = canvas[0].getContext(\"2d\");\n",
       "\n",
       "    var backingStore = this.context.backingStorePixelRatio ||\n",
       "\tthis.context.webkitBackingStorePixelRatio ||\n",
       "\tthis.context.mozBackingStorePixelRatio ||\n",
       "\tthis.context.msBackingStorePixelRatio ||\n",
       "\tthis.context.oBackingStorePixelRatio ||\n",
       "\tthis.context.backingStorePixelRatio || 1;\n",
       "\n",
       "    mpl.ratio = (window.devicePixelRatio || 1) / backingStore;\n",
       "\n",
       "    var rubberband = $('<canvas/>');\n",
       "    rubberband.attr('style', \"position: absolute; left: 0; top: 0; z-index: 1;\")\n",
       "\n",
       "    var pass_mouse_events = true;\n",
       "\n",
       "    canvas_div.resizable({\n",
       "        start: function(event, ui) {\n",
       "            pass_mouse_events = false;\n",
       "        },\n",
       "        resize: function(event, ui) {\n",
       "            fig.request_resize(ui.size.width, ui.size.height);\n",
       "        },\n",
       "        stop: function(event, ui) {\n",
       "            pass_mouse_events = true;\n",
       "            fig.request_resize(ui.size.width, ui.size.height);\n",
       "        },\n",
       "    });\n",
       "\n",
       "    function mouse_event_fn(event) {\n",
       "        if (pass_mouse_events)\n",
       "            return fig.mouse_event(event, event['data']);\n",
       "    }\n",
       "\n",
       "    rubberband.mousedown('button_press', mouse_event_fn);\n",
       "    rubberband.mouseup('button_release', mouse_event_fn);\n",
       "    // Throttle sequential mouse events to 1 every 20ms.\n",
       "    rubberband.mousemove('motion_notify', mouse_event_fn);\n",
       "\n",
       "    rubberband.mouseenter('figure_enter', mouse_event_fn);\n",
       "    rubberband.mouseleave('figure_leave', mouse_event_fn);\n",
       "\n",
       "    canvas_div.on(\"wheel\", function (event) {\n",
       "        event = event.originalEvent;\n",
       "        event['data'] = 'scroll'\n",
       "        if (event.deltaY < 0) {\n",
       "            event.step = 1;\n",
       "        } else {\n",
       "            event.step = -1;\n",
       "        }\n",
       "        mouse_event_fn(event);\n",
       "    });\n",
       "\n",
       "    canvas_div.append(canvas);\n",
       "    canvas_div.append(rubberband);\n",
       "\n",
       "    this.rubberband = rubberband;\n",
       "    this.rubberband_canvas = rubberband[0];\n",
       "    this.rubberband_context = rubberband[0].getContext(\"2d\");\n",
       "    this.rubberband_context.strokeStyle = \"#000000\";\n",
       "\n",
       "    this._resize_canvas = function(width, height) {\n",
       "        // Keep the size of the canvas, canvas container, and rubber band\n",
       "        // canvas in synch.\n",
       "        canvas_div.css('width', width)\n",
       "        canvas_div.css('height', height)\n",
       "\n",
       "        canvas.attr('width', width * mpl.ratio);\n",
       "        canvas.attr('height', height * mpl.ratio);\n",
       "        canvas.attr('style', 'width: ' + width + 'px; height: ' + height + 'px;');\n",
       "\n",
       "        rubberband.attr('width', width);\n",
       "        rubberband.attr('height', height);\n",
       "    }\n",
       "\n",
       "    // Set the figure to an initial 600x600px, this will subsequently be updated\n",
       "    // upon first draw.\n",
       "    this._resize_canvas(600, 600);\n",
       "\n",
       "    // Disable right mouse context menu.\n",
       "    $(this.rubberband_canvas).bind(\"contextmenu\",function(e){\n",
       "        return false;\n",
       "    });\n",
       "\n",
       "    function set_focus () {\n",
       "        canvas.focus();\n",
       "        canvas_div.focus();\n",
       "    }\n",
       "\n",
       "    window.setTimeout(set_focus, 100);\n",
       "}\n",
       "\n",
       "mpl.figure.prototype._init_toolbar = function() {\n",
       "    var fig = this;\n",
       "\n",
       "    var nav_element = $('<div/>');\n",
       "    nav_element.attr('style', 'width: 100%');\n",
       "    this.root.append(nav_element);\n",
       "\n",
       "    // Define a callback function for later on.\n",
       "    function toolbar_event(event) {\n",
       "        return fig.toolbar_button_onclick(event['data']);\n",
       "    }\n",
       "    function toolbar_mouse_event(event) {\n",
       "        return fig.toolbar_button_onmouseover(event['data']);\n",
       "    }\n",
       "\n",
       "    for(var toolbar_ind in mpl.toolbar_items) {\n",
       "        var name = mpl.toolbar_items[toolbar_ind][0];\n",
       "        var tooltip = mpl.toolbar_items[toolbar_ind][1];\n",
       "        var image = mpl.toolbar_items[toolbar_ind][2];\n",
       "        var method_name = mpl.toolbar_items[toolbar_ind][3];\n",
       "\n",
       "        if (!name) {\n",
       "            // put a spacer in here.\n",
       "            continue;\n",
       "        }\n",
       "        var button = $('<button/>');\n",
       "        button.addClass('ui-button ui-widget ui-state-default ui-corner-all ' +\n",
       "                        'ui-button-icon-only');\n",
       "        button.attr('role', 'button');\n",
       "        button.attr('aria-disabled', 'false');\n",
       "        button.click(method_name, toolbar_event);\n",
       "        button.mouseover(tooltip, toolbar_mouse_event);\n",
       "\n",
       "        var icon_img = $('<span/>');\n",
       "        icon_img.addClass('ui-button-icon-primary ui-icon');\n",
       "        icon_img.addClass(image);\n",
       "        icon_img.addClass('ui-corner-all');\n",
       "\n",
       "        var tooltip_span = $('<span/>');\n",
       "        tooltip_span.addClass('ui-button-text');\n",
       "        tooltip_span.html(tooltip);\n",
       "\n",
       "        button.append(icon_img);\n",
       "        button.append(tooltip_span);\n",
       "\n",
       "        nav_element.append(button);\n",
       "    }\n",
       "\n",
       "    var fmt_picker_span = $('<span/>');\n",
       "\n",
       "    var fmt_picker = $('<select/>');\n",
       "    fmt_picker.addClass('mpl-toolbar-option ui-widget ui-widget-content');\n",
       "    fmt_picker_span.append(fmt_picker);\n",
       "    nav_element.append(fmt_picker_span);\n",
       "    this.format_dropdown = fmt_picker[0];\n",
       "\n",
       "    for (var ind in mpl.extensions) {\n",
       "        var fmt = mpl.extensions[ind];\n",
       "        var option = $(\n",
       "            '<option/>', {selected: fmt === mpl.default_extension}).html(fmt);\n",
       "        fmt_picker.append(option);\n",
       "    }\n",
       "\n",
       "    // Add hover states to the ui-buttons\n",
       "    $( \".ui-button\" ).hover(\n",
       "        function() { $(this).addClass(\"ui-state-hover\");},\n",
       "        function() { $(this).removeClass(\"ui-state-hover\");}\n",
       "    );\n",
       "\n",
       "    var status_bar = $('<span class=\"mpl-message\"/>');\n",
       "    nav_element.append(status_bar);\n",
       "    this.message = status_bar[0];\n",
       "}\n",
       "\n",
       "mpl.figure.prototype.request_resize = function(x_pixels, y_pixels) {\n",
       "    // Request matplotlib to resize the figure. Matplotlib will then trigger a resize in the client,\n",
       "    // which will in turn request a refresh of the image.\n",
       "    this.send_message('resize', {'width': x_pixels, 'height': y_pixels});\n",
       "}\n",
       "\n",
       "mpl.figure.prototype.send_message = function(type, properties) {\n",
       "    properties['type'] = type;\n",
       "    properties['figure_id'] = this.id;\n",
       "    this.ws.send(JSON.stringify(properties));\n",
       "}\n",
       "\n",
       "mpl.figure.prototype.send_draw_message = function() {\n",
       "    if (!this.waiting) {\n",
       "        this.waiting = true;\n",
       "        this.ws.send(JSON.stringify({type: \"draw\", figure_id: this.id}));\n",
       "    }\n",
       "}\n",
       "\n",
       "\n",
       "mpl.figure.prototype.handle_save = function(fig, msg) {\n",
       "    var format_dropdown = fig.format_dropdown;\n",
       "    var format = format_dropdown.options[format_dropdown.selectedIndex].value;\n",
       "    fig.ondownload(fig, format);\n",
       "}\n",
       "\n",
       "\n",
       "mpl.figure.prototype.handle_resize = function(fig, msg) {\n",
       "    var size = msg['size'];\n",
       "    if (size[0] != fig.canvas.width || size[1] != fig.canvas.height) {\n",
       "        fig._resize_canvas(size[0], size[1]);\n",
       "        fig.send_message(\"refresh\", {});\n",
       "    };\n",
       "}\n",
       "\n",
       "mpl.figure.prototype.handle_rubberband = function(fig, msg) {\n",
       "    var x0 = msg['x0'] / mpl.ratio;\n",
       "    var y0 = (fig.canvas.height - msg['y0']) / mpl.ratio;\n",
       "    var x1 = msg['x1'] / mpl.ratio;\n",
       "    var y1 = (fig.canvas.height - msg['y1']) / mpl.ratio;\n",
       "    x0 = Math.floor(x0) + 0.5;\n",
       "    y0 = Math.floor(y0) + 0.5;\n",
       "    x1 = Math.floor(x1) + 0.5;\n",
       "    y1 = Math.floor(y1) + 0.5;\n",
       "    var min_x = Math.min(x0, x1);\n",
       "    var min_y = Math.min(y0, y1);\n",
       "    var width = Math.abs(x1 - x0);\n",
       "    var height = Math.abs(y1 - y0);\n",
       "\n",
       "    fig.rubberband_context.clearRect(\n",
       "        0, 0, fig.canvas.width / mpl.ratio, fig.canvas.height / mpl.ratio);\n",
       "\n",
       "    fig.rubberband_context.strokeRect(min_x, min_y, width, height);\n",
       "}\n",
       "\n",
       "mpl.figure.prototype.handle_figure_label = function(fig, msg) {\n",
       "    // Updates the figure title.\n",
       "    fig.header.textContent = msg['label'];\n",
       "}\n",
       "\n",
       "mpl.figure.prototype.handle_cursor = function(fig, msg) {\n",
       "    var cursor = msg['cursor'];\n",
       "    switch(cursor)\n",
       "    {\n",
       "    case 0:\n",
       "        cursor = 'pointer';\n",
       "        break;\n",
       "    case 1:\n",
       "        cursor = 'default';\n",
       "        break;\n",
       "    case 2:\n",
       "        cursor = 'crosshair';\n",
       "        break;\n",
       "    case 3:\n",
       "        cursor = 'move';\n",
       "        break;\n",
       "    }\n",
       "    fig.rubberband_canvas.style.cursor = cursor;\n",
       "}\n",
       "\n",
       "mpl.figure.prototype.handle_message = function(fig, msg) {\n",
       "    fig.message.textContent = msg['message'];\n",
       "}\n",
       "\n",
       "mpl.figure.prototype.handle_draw = function(fig, msg) {\n",
       "    // Request the server to send over a new figure.\n",
       "    fig.send_draw_message();\n",
       "}\n",
       "\n",
       "mpl.figure.prototype.handle_image_mode = function(fig, msg) {\n",
       "    fig.image_mode = msg['mode'];\n",
       "}\n",
       "\n",
       "mpl.figure.prototype.updated_canvas_event = function() {\n",
       "    // Called whenever the canvas gets updated.\n",
       "    this.send_message(\"ack\", {});\n",
       "}\n",
       "\n",
       "// A function to construct a web socket function for onmessage handling.\n",
       "// Called in the figure constructor.\n",
       "mpl.figure.prototype._make_on_message_function = function(fig) {\n",
       "    return function socket_on_message(evt) {\n",
       "        if (evt.data instanceof Blob) {\n",
       "            /* FIXME: We get \"Resource interpreted as Image but\n",
       "             * transferred with MIME type text/plain:\" errors on\n",
       "             * Chrome.  But how to set the MIME type?  It doesn't seem\n",
       "             * to be part of the websocket stream */\n",
       "            evt.data.type = \"image/png\";\n",
       "\n",
       "            /* Free the memory for the previous frames */\n",
       "            if (fig.imageObj.src) {\n",
       "                (window.URL || window.webkitURL).revokeObjectURL(\n",
       "                    fig.imageObj.src);\n",
       "            }\n",
       "\n",
       "            fig.imageObj.src = (window.URL || window.webkitURL).createObjectURL(\n",
       "                evt.data);\n",
       "            fig.updated_canvas_event();\n",
       "            fig.waiting = false;\n",
       "            return;\n",
       "        }\n",
       "        else if (typeof evt.data === 'string' && evt.data.slice(0, 21) == \"data:image/png;base64\") {\n",
       "            fig.imageObj.src = evt.data;\n",
       "            fig.updated_canvas_event();\n",
       "            fig.waiting = false;\n",
       "            return;\n",
       "        }\n",
       "\n",
       "        var msg = JSON.parse(evt.data);\n",
       "        var msg_type = msg['type'];\n",
       "\n",
       "        // Call the  \"handle_{type}\" callback, which takes\n",
       "        // the figure and JSON message as its only arguments.\n",
       "        try {\n",
       "            var callback = fig[\"handle_\" + msg_type];\n",
       "        } catch (e) {\n",
       "            console.log(\"No handler for the '\" + msg_type + \"' message type: \", msg);\n",
       "            return;\n",
       "        }\n",
       "\n",
       "        if (callback) {\n",
       "            try {\n",
       "                // console.log(\"Handling '\" + msg_type + \"' message: \", msg);\n",
       "                callback(fig, msg);\n",
       "            } catch (e) {\n",
       "                console.log(\"Exception inside the 'handler_\" + msg_type + \"' callback:\", e, e.stack, msg);\n",
       "            }\n",
       "        }\n",
       "    };\n",
       "}\n",
       "\n",
       "// from http://stackoverflow.com/questions/1114465/getting-mouse-location-in-canvas\n",
       "mpl.findpos = function(e) {\n",
       "    //this section is from http://www.quirksmode.org/js/events_properties.html\n",
       "    var targ;\n",
       "    if (!e)\n",
       "        e = window.event;\n",
       "    if (e.target)\n",
       "        targ = e.target;\n",
       "    else if (e.srcElement)\n",
       "        targ = e.srcElement;\n",
       "    if (targ.nodeType == 3) // defeat Safari bug\n",
       "        targ = targ.parentNode;\n",
       "\n",
       "    // jQuery normalizes the pageX and pageY\n",
       "    // pageX,Y are the mouse positions relative to the document\n",
       "    // offset() returns the position of the element relative to the document\n",
       "    var x = e.pageX - $(targ).offset().left;\n",
       "    var y = e.pageY - $(targ).offset().top;\n",
       "\n",
       "    return {\"x\": x, \"y\": y};\n",
       "};\n",
       "\n",
       "/*\n",
       " * return a copy of an object with only non-object keys\n",
       " * we need this to avoid circular references\n",
       " * http://stackoverflow.com/a/24161582/3208463\n",
       " */\n",
       "function simpleKeys (original) {\n",
       "  return Object.keys(original).reduce(function (obj, key) {\n",
       "    if (typeof original[key] !== 'object')\n",
       "        obj[key] = original[key]\n",
       "    return obj;\n",
       "  }, {});\n",
       "}\n",
       "\n",
       "mpl.figure.prototype.mouse_event = function(event, name) {\n",
       "    var canvas_pos = mpl.findpos(event)\n",
       "\n",
       "    if (name === 'button_press')\n",
       "    {\n",
       "        this.canvas.focus();\n",
       "        this.canvas_div.focus();\n",
       "    }\n",
       "\n",
       "    var x = canvas_pos.x * mpl.ratio;\n",
       "    var y = canvas_pos.y * mpl.ratio;\n",
       "\n",
       "    this.send_message(name, {x: x, y: y, button: event.button,\n",
       "                             step: event.step,\n",
       "                             guiEvent: simpleKeys(event)});\n",
       "\n",
       "    /* This prevents the web browser from automatically changing to\n",
       "     * the text insertion cursor when the button is pressed.  We want\n",
       "     * to control all of the cursor setting manually through the\n",
       "     * 'cursor' event from matplotlib */\n",
       "    event.preventDefault();\n",
       "    return false;\n",
       "}\n",
       "\n",
       "mpl.figure.prototype._key_event_extra = function(event, name) {\n",
       "    // Handle any extra behaviour associated with a key event\n",
       "}\n",
       "\n",
       "mpl.figure.prototype.key_event = function(event, name) {\n",
       "\n",
       "    // Prevent repeat events\n",
       "    if (name == 'key_press')\n",
       "    {\n",
       "        if (event.which === this._key)\n",
       "            return;\n",
       "        else\n",
       "            this._key = event.which;\n",
       "    }\n",
       "    if (name == 'key_release')\n",
       "        this._key = null;\n",
       "\n",
       "    var value = '';\n",
       "    if (event.ctrlKey && event.which != 17)\n",
       "        value += \"ctrl+\";\n",
       "    if (event.altKey && event.which != 18)\n",
       "        value += \"alt+\";\n",
       "    if (event.shiftKey && event.which != 16)\n",
       "        value += \"shift+\";\n",
       "\n",
       "    value += 'k';\n",
       "    value += event.which.toString();\n",
       "\n",
       "    this._key_event_extra(event, name);\n",
       "\n",
       "    this.send_message(name, {key: value,\n",
       "                             guiEvent: simpleKeys(event)});\n",
       "    return false;\n",
       "}\n",
       "\n",
       "mpl.figure.prototype.toolbar_button_onclick = function(name) {\n",
       "    if (name == 'download') {\n",
       "        this.handle_save(this, null);\n",
       "    } else {\n",
       "        this.send_message(\"toolbar_button\", {name: name});\n",
       "    }\n",
       "};\n",
       "\n",
       "mpl.figure.prototype.toolbar_button_onmouseover = function(tooltip) {\n",
       "    this.message.textContent = tooltip;\n",
       "};\n",
       "mpl.toolbar_items = [[\"Home\", \"Reset original view\", \"fa fa-home icon-home\", \"home\"], [\"Back\", \"Back to previous view\", \"fa fa-arrow-left icon-arrow-left\", \"back\"], [\"Forward\", \"Forward to next view\", \"fa fa-arrow-right icon-arrow-right\", \"forward\"], [\"\", \"\", \"\", \"\"], [\"Pan\", \"Pan axes with left mouse, zoom with right\", \"fa fa-arrows icon-move\", \"pan\"], [\"Zoom\", \"Zoom to rectangle\", \"fa fa-square-o icon-check-empty\", \"zoom\"], [\"\", \"\", \"\", \"\"], [\"Download\", \"Download plot\", \"fa fa-floppy-o icon-save\", \"download\"]];\n",
       "\n",
       "mpl.extensions = [\"eps\", \"jpeg\", \"pdf\", \"png\", \"ps\", \"raw\", \"svg\", \"tif\"];\n",
       "\n",
       "mpl.default_extension = \"png\";var comm_websocket_adapter = function(comm) {\n",
       "    // Create a \"websocket\"-like object which calls the given IPython comm\n",
       "    // object with the appropriate methods. Currently this is a non binary\n",
       "    // socket, so there is still some room for performance tuning.\n",
       "    var ws = {};\n",
       "\n",
       "    ws.close = function() {\n",
       "        comm.close()\n",
       "    };\n",
       "    ws.send = function(m) {\n",
       "        //console.log('sending', m);\n",
       "        comm.send(m);\n",
       "    };\n",
       "    // Register the callback with on_msg.\n",
       "    comm.on_msg(function(msg) {\n",
       "        //console.log('receiving', msg['content']['data'], msg);\n",
       "        // Pass the mpl event to the overridden (by mpl) onmessage function.\n",
       "        ws.onmessage(msg['content']['data'])\n",
       "    });\n",
       "    return ws;\n",
       "}\n",
       "\n",
       "mpl.mpl_figure_comm = function(comm, msg) {\n",
       "    // This is the function which gets called when the mpl process\n",
       "    // starts-up an IPython Comm through the \"matplotlib\" channel.\n",
       "\n",
       "    var id = msg.content.data.id;\n",
       "    // Get hold of the div created by the display call when the Comm\n",
       "    // socket was opened in Python.\n",
       "    var element = $(\"#\" + id);\n",
       "    var ws_proxy = comm_websocket_adapter(comm)\n",
       "\n",
       "    function ondownload(figure, format) {\n",
       "        window.open(figure.imageObj.src);\n",
       "    }\n",
       "\n",
       "    var fig = new mpl.figure(id, ws_proxy,\n",
       "                           ondownload,\n",
       "                           element.get(0));\n",
       "\n",
       "    // Call onopen now - mpl needs it, as it is assuming we've passed it a real\n",
       "    // web socket which is closed, not our websocket->open comm proxy.\n",
       "    ws_proxy.onopen();\n",
       "\n",
       "    fig.parent_element = element.get(0);\n",
       "    fig.cell_info = mpl.find_output_cell(\"<div id='\" + id + \"'></div>\");\n",
       "    if (!fig.cell_info) {\n",
       "        console.error(\"Failed to find cell for figure\", id, fig);\n",
       "        return;\n",
       "    }\n",
       "\n",
       "    var output_index = fig.cell_info[2]\n",
       "    var cell = fig.cell_info[0];\n",
       "\n",
       "};\n",
       "\n",
       "mpl.figure.prototype.handle_close = function(fig, msg) {\n",
       "    var width = fig.canvas.width/mpl.ratio\n",
       "    fig.root.unbind('remove')\n",
       "\n",
       "    // Update the output cell to use the data from the current canvas.\n",
       "    fig.push_to_output();\n",
       "    var dataURL = fig.canvas.toDataURL();\n",
       "    // Re-enable the keyboard manager in IPython - without this line, in FF,\n",
       "    // the notebook keyboard shortcuts fail.\n",
       "    IPython.keyboard_manager.enable()\n",
       "    $(fig.parent_element).html('<img src=\"' + dataURL + '\" width=\"' + width + '\">');\n",
       "    fig.close_ws(fig, msg);\n",
       "}\n",
       "\n",
       "mpl.figure.prototype.close_ws = function(fig, msg){\n",
       "    fig.send_message('closing', msg);\n",
       "    // fig.ws.close()\n",
       "}\n",
       "\n",
       "mpl.figure.prototype.push_to_output = function(remove_interactive) {\n",
       "    // Turn the data on the canvas into data in the output cell.\n",
       "    var width = this.canvas.width/mpl.ratio\n",
       "    var dataURL = this.canvas.toDataURL();\n",
       "    this.cell_info[1]['text/html'] = '<img src=\"' + dataURL + '\" width=\"' + width + '\">';\n",
       "}\n",
       "\n",
       "mpl.figure.prototype.updated_canvas_event = function() {\n",
       "    // Tell IPython that the notebook contents must change.\n",
       "    IPython.notebook.set_dirty(true);\n",
       "    this.send_message(\"ack\", {});\n",
       "    var fig = this;\n",
       "    // Wait a second, then push the new image to the DOM so\n",
       "    // that it is saved nicely (might be nice to debounce this).\n",
       "    setTimeout(function () { fig.push_to_output() }, 1000);\n",
       "}\n",
       "\n",
       "mpl.figure.prototype._init_toolbar = function() {\n",
       "    var fig = this;\n",
       "\n",
       "    var nav_element = $('<div/>');\n",
       "    nav_element.attr('style', 'width: 100%');\n",
       "    this.root.append(nav_element);\n",
       "\n",
       "    // Define a callback function for later on.\n",
       "    function toolbar_event(event) {\n",
       "        return fig.toolbar_button_onclick(event['data']);\n",
       "    }\n",
       "    function toolbar_mouse_event(event) {\n",
       "        return fig.toolbar_button_onmouseover(event['data']);\n",
       "    }\n",
       "\n",
       "    for(var toolbar_ind in mpl.toolbar_items){\n",
       "        var name = mpl.toolbar_items[toolbar_ind][0];\n",
       "        var tooltip = mpl.toolbar_items[toolbar_ind][1];\n",
       "        var image = mpl.toolbar_items[toolbar_ind][2];\n",
       "        var method_name = mpl.toolbar_items[toolbar_ind][3];\n",
       "\n",
       "        if (!name) { continue; };\n",
       "\n",
       "        var button = $('<button class=\"btn btn-default\" href=\"#\" title=\"' + name + '\"><i class=\"fa ' + image + ' fa-lg\"></i></button>');\n",
       "        button.click(method_name, toolbar_event);\n",
       "        button.mouseover(tooltip, toolbar_mouse_event);\n",
       "        nav_element.append(button);\n",
       "    }\n",
       "\n",
       "    // Add the status bar.\n",
       "    var status_bar = $('<span class=\"mpl-message\" style=\"text-align:right; float: right;\"/>');\n",
       "    nav_element.append(status_bar);\n",
       "    this.message = status_bar[0];\n",
       "\n",
       "    // Add the close button to the window.\n",
       "    var buttongrp = $('<div class=\"btn-group inline pull-right\"></div>');\n",
       "    var button = $('<button class=\"btn btn-mini btn-primary\" href=\"#\" title=\"Stop Interaction\"><i class=\"fa fa-power-off icon-remove icon-large\"></i></button>');\n",
       "    button.click(function (evt) { fig.handle_close(fig, {}); } );\n",
       "    button.mouseover('Stop Interaction', toolbar_mouse_event);\n",
       "    buttongrp.append(button);\n",
       "    var titlebar = this.root.find($('.ui-dialog-titlebar'));\n",
       "    titlebar.prepend(buttongrp);\n",
       "}\n",
       "\n",
       "mpl.figure.prototype._root_extra_style = function(el){\n",
       "    var fig = this\n",
       "    el.on(\"remove\", function(){\n",
       "\tfig.close_ws(fig, {});\n",
       "    });\n",
       "}\n",
       "\n",
       "mpl.figure.prototype._canvas_extra_style = function(el){\n",
       "    // this is important to make the div 'focusable\n",
       "    el.attr('tabindex', 0)\n",
       "    // reach out to IPython and tell the keyboard manager to turn it's self\n",
       "    // off when our div gets focus\n",
       "\n",
       "    // location in version 3\n",
       "    if (IPython.notebook.keyboard_manager) {\n",
       "        IPython.notebook.keyboard_manager.register_events(el);\n",
       "    }\n",
       "    else {\n",
       "        // location in version 2\n",
       "        IPython.keyboard_manager.register_events(el);\n",
       "    }\n",
       "\n",
       "}\n",
       "\n",
       "mpl.figure.prototype._key_event_extra = function(event, name) {\n",
       "    var manager = IPython.notebook.keyboard_manager;\n",
       "    if (!manager)\n",
       "        manager = IPython.keyboard_manager;\n",
       "\n",
       "    // Check for shift+enter\n",
       "    if (event.shiftKey && event.which == 13) {\n",
       "        this.canvas_div.blur();\n",
       "        // select the cell after this one\n",
       "        var index = IPython.notebook.find_cell_index(this.cell_info[0]);\n",
       "        IPython.notebook.select(index + 1);\n",
       "    }\n",
       "}\n",
       "\n",
       "mpl.figure.prototype.handle_save = function(fig, msg) {\n",
       "    fig.ondownload(fig, null);\n",
       "}\n",
       "\n",
       "\n",
       "mpl.find_output_cell = function(html_output) {\n",
       "    // Return the cell and output element which can be found *uniquely* in the notebook.\n",
       "    // Note - this is a bit hacky, but it is done because the \"notebook_saving.Notebook\"\n",
       "    // IPython event is triggered only after the cells have been serialised, which for\n",
       "    // our purposes (turning an active figure into a static one), is too late.\n",
       "    var cells = IPython.notebook.get_cells();\n",
       "    var ncells = cells.length;\n",
       "    for (var i=0; i<ncells; i++) {\n",
       "        var cell = cells[i];\n",
       "        if (cell.cell_type === 'code'){\n",
       "            for (var j=0; j<cell.output_area.outputs.length; j++) {\n",
       "                var data = cell.output_area.outputs[j];\n",
       "                if (data.data) {\n",
       "                    // IPython >= 3 moved mimebundle to data attribute of output\n",
       "                    data = data.data;\n",
       "                }\n",
       "                if (data['text/html'] == html_output) {\n",
       "                    return [cell, data, j];\n",
       "                }\n",
       "            }\n",
       "        }\n",
       "    }\n",
       "}\n",
       "\n",
       "// Register the function which deals with the matplotlib target/channel.\n",
       "// The kernel may be null if the page has been refreshed.\n",
       "if (IPython.notebook.kernel != null) {\n",
       "    IPython.notebook.kernel.comm_manager.register_target('matplotlib', mpl.mpl_figure_comm);\n",
       "}\n"
      ],
      "text/plain": [
       "<IPython.core.display.Javascript object>"
      ]
     },
     "metadata": {
      "tags": []
     },
     "output_type": "display_data"
    },
    {
     "data": {
      "text/html": [
       "<img src=\"data:image/png;base64,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\" width=\"453\">"
      ],
      "text/plain": [
       "<IPython.core.display.HTML object>"
      ]
     },
     "metadata": {
      "tags": []
     },
     "output_type": "display_data"
    }
   ],
   "source": [
    "iris['PCA1'] = X_2D[:, 0]\n",
    "iris['PCA2'] = X_2D[:, 1]\n",
    "sns.lmplot(\"PCA1\", \"PCA2\", hue='species', data=iris, fit_reg=False);"
   ]
  },
  {
   "cell_type": "markdown",
   "metadata": {
    "id": "qtUDUZ7gQob6"
   },
   "source": [
    "### Unsupervised learning: Iris clustering\n",
    "* **Clustering**: find distinct groups of data without reference to any labels.\n",
    "* Here we will use a powerful clustering method called a **Gaussian Mixture Model (GMM)**.\n",
    "* A **GMM** attempts to model the data as a collection of **Gaussian blobs**.\n",
    "\n",
    "![](https://miro.medium.com/max/1506/1*lTv7e4Cdlp738X_WFZyZHA.png)"
   ]
  },
  {
   "cell_type": "code",
   "execution_count": null,
   "metadata": {
    "id": "_I73q7eUQob7",
    "outputId": "e4fe2a4b-2f71-401b-9aa1-cc5c991103e1"
   },
   "outputs": [
    {
     "data": {
      "text/plain": [
       "array([0, 0, 0, 0, 0, 0, 0, 0, 0, 0, 0, 0, 0, 0, 0, 0, 0, 0, 0, 0, 0, 0,\n",
       "       0, 0, 0, 0, 0, 0, 0, 0, 0, 0, 0, 0, 0, 0, 0, 0, 0, 0, 0, 0, 0, 0,\n",
       "       0, 0, 0, 0, 0, 0, 1, 1, 1, 1, 1, 1, 1, 1, 1, 1, 1, 1, 1, 1, 1, 1,\n",
       "       1, 1, 2, 1, 2, 1, 2, 1, 1, 1, 1, 2, 1, 1, 1, 1, 1, 2, 1, 1, 1, 1,\n",
       "       1, 1, 1, 1, 1, 1, 1, 1, 1, 1, 1, 1, 2, 2, 2, 2, 2, 2, 2, 2, 2, 2,\n",
       "       2, 2, 2, 2, 2, 2, 2, 2, 2, 2, 2, 2, 2, 2, 2, 2, 2, 2, 2, 2, 2, 2,\n",
       "       2, 2, 2, 2, 2, 2, 2, 2, 2, 2, 2, 2, 2, 2, 2, 2, 2, 2])"
      ]
     },
     "execution_count": 77,
     "metadata": {
      "tags": []
     },
     "output_type": "execute_result"
    }
   ],
   "source": [
    "from sklearn.mixture import GaussianMixture # 1. Choose the model class\n",
    "model = GaussianMixture(n_components=3,\n",
    "            covariance_type='full')         # 2. Instantiate the model with hyperparameters\n",
    "model.fit(X_iris)                           # 3. Fit to data. Notice y is not specified!\n",
    "y_gmm = model.predict(X_iris)               # 4. Determine cluster labels\n",
    "y_gmm"
   ]
  },
  {
   "cell_type": "markdown",
   "metadata": {
    "id": "F7VnmkdhQob7"
   },
   "source": [
    "As before, we will add the cluster label to the Iris ``DataFrame`` and use Seaborn to plot the results:"
   ]
  },
  {
   "cell_type": "code",
   "execution_count": null,
   "metadata": {
    "id": "qMOL1f11Qob8",
    "outputId": "4d73ab67-2c10-492c-b0e0-b05501840c81"
   },
   "outputs": [
    {
     "data": {
      "application/javascript": [
       "/* Put everything inside the global mpl namespace */\n",
       "window.mpl = {};\n",
       "\n",
       "\n",
       "mpl.get_websocket_type = function() {\n",
       "    if (typeof(WebSocket) !== 'undefined') {\n",
       "        return WebSocket;\n",
       "    } else if (typeof(MozWebSocket) !== 'undefined') {\n",
       "        return MozWebSocket;\n",
       "    } else {\n",
       "        alert('Your browser does not have WebSocket support. ' +\n",
       "              'Please try Chrome, Safari or Firefox ≥ 6. ' +\n",
       "              'Firefox 4 and 5 are also supported but you ' +\n",
       "              'have to enable WebSockets in about:config.');\n",
       "    };\n",
       "}\n",
       "\n",
       "mpl.figure = function(figure_id, websocket, ondownload, parent_element) {\n",
       "    this.id = figure_id;\n",
       "\n",
       "    this.ws = websocket;\n",
       "\n",
       "    this.supports_binary = (this.ws.binaryType != undefined);\n",
       "\n",
       "    if (!this.supports_binary) {\n",
       "        var warnings = document.getElementById(\"mpl-warnings\");\n",
       "        if (warnings) {\n",
       "            warnings.style.display = 'block';\n",
       "            warnings.textContent = (\n",
       "                \"This browser does not support binary websocket messages. \" +\n",
       "                    \"Performance may be slow.\");\n",
       "        }\n",
       "    }\n",
       "\n",
       "    this.imageObj = new Image();\n",
       "\n",
       "    this.context = undefined;\n",
       "    this.message = undefined;\n",
       "    this.canvas = undefined;\n",
       "    this.rubberband_canvas = undefined;\n",
       "    this.rubberband_context = undefined;\n",
       "    this.format_dropdown = undefined;\n",
       "\n",
       "    this.image_mode = 'full';\n",
       "\n",
       "    this.root = $('<div/>');\n",
       "    this._root_extra_style(this.root)\n",
       "    this.root.attr('style', 'display: inline-block');\n",
       "\n",
       "    $(parent_element).append(this.root);\n",
       "\n",
       "    this._init_header(this);\n",
       "    this._init_canvas(this);\n",
       "    this._init_toolbar(this);\n",
       "\n",
       "    var fig = this;\n",
       "\n",
       "    this.waiting = false;\n",
       "\n",
       "    this.ws.onopen =  function () {\n",
       "            fig.send_message(\"supports_binary\", {value: fig.supports_binary});\n",
       "            fig.send_message(\"send_image_mode\", {});\n",
       "            if (mpl.ratio != 1) {\n",
       "                fig.send_message(\"set_dpi_ratio\", {'dpi_ratio': mpl.ratio});\n",
       "            }\n",
       "            fig.send_message(\"refresh\", {});\n",
       "        }\n",
       "\n",
       "    this.imageObj.onload = function() {\n",
       "            if (fig.image_mode == 'full') {\n",
       "                // Full images could contain transparency (where diff images\n",
       "                // almost always do), so we need to clear the canvas so that\n",
       "                // there is no ghosting.\n",
       "                fig.context.clearRect(0, 0, fig.canvas.width, fig.canvas.height);\n",
       "            }\n",
       "            fig.context.drawImage(fig.imageObj, 0, 0);\n",
       "        };\n",
       "\n",
       "    this.imageObj.onunload = function() {\n",
       "        fig.ws.close();\n",
       "    }\n",
       "\n",
       "    this.ws.onmessage = this._make_on_message_function(this);\n",
       "\n",
       "    this.ondownload = ondownload;\n",
       "}\n",
       "\n",
       "mpl.figure.prototype._init_header = function() {\n",
       "    var titlebar = $(\n",
       "        '<div class=\"ui-dialog-titlebar ui-widget-header ui-corner-all ' +\n",
       "        'ui-helper-clearfix\"/>');\n",
       "    var titletext = $(\n",
       "        '<div class=\"ui-dialog-title\" style=\"width: 100%; ' +\n",
       "        'text-align: center; padding: 3px;\"/>');\n",
       "    titlebar.append(titletext)\n",
       "    this.root.append(titlebar);\n",
       "    this.header = titletext[0];\n",
       "}\n",
       "\n",
       "\n",
       "\n",
       "mpl.figure.prototype._canvas_extra_style = function(canvas_div) {\n",
       "\n",
       "}\n",
       "\n",
       "\n",
       "mpl.figure.prototype._root_extra_style = function(canvas_div) {\n",
       "\n",
       "}\n",
       "\n",
       "mpl.figure.prototype._init_canvas = function() {\n",
       "    var fig = this;\n",
       "\n",
       "    var canvas_div = $('<div/>');\n",
       "\n",
       "    canvas_div.attr('style', 'position: relative; clear: both; outline: 0');\n",
       "\n",
       "    function canvas_keyboard_event(event) {\n",
       "        return fig.key_event(event, event['data']);\n",
       "    }\n",
       "\n",
       "    canvas_div.keydown('key_press', canvas_keyboard_event);\n",
       "    canvas_div.keyup('key_release', canvas_keyboard_event);\n",
       "    this.canvas_div = canvas_div\n",
       "    this._canvas_extra_style(canvas_div)\n",
       "    this.root.append(canvas_div);\n",
       "\n",
       "    var canvas = $('<canvas/>');\n",
       "    canvas.addClass('mpl-canvas');\n",
       "    canvas.attr('style', \"left: 0; top: 0; z-index: 0; outline: 0\")\n",
       "\n",
       "    this.canvas = canvas[0];\n",
       "    this.context = canvas[0].getContext(\"2d\");\n",
       "\n",
       "    var backingStore = this.context.backingStorePixelRatio ||\n",
       "\tthis.context.webkitBackingStorePixelRatio ||\n",
       "\tthis.context.mozBackingStorePixelRatio ||\n",
       "\tthis.context.msBackingStorePixelRatio ||\n",
       "\tthis.context.oBackingStorePixelRatio ||\n",
       "\tthis.context.backingStorePixelRatio || 1;\n",
       "\n",
       "    mpl.ratio = (window.devicePixelRatio || 1) / backingStore;\n",
       "\n",
       "    var rubberband = $('<canvas/>');\n",
       "    rubberband.attr('style', \"position: absolute; left: 0; top: 0; z-index: 1;\")\n",
       "\n",
       "    var pass_mouse_events = true;\n",
       "\n",
       "    canvas_div.resizable({\n",
       "        start: function(event, ui) {\n",
       "            pass_mouse_events = false;\n",
       "        },\n",
       "        resize: function(event, ui) {\n",
       "            fig.request_resize(ui.size.width, ui.size.height);\n",
       "        },\n",
       "        stop: function(event, ui) {\n",
       "            pass_mouse_events = true;\n",
       "            fig.request_resize(ui.size.width, ui.size.height);\n",
       "        },\n",
       "    });\n",
       "\n",
       "    function mouse_event_fn(event) {\n",
       "        if (pass_mouse_events)\n",
       "            return fig.mouse_event(event, event['data']);\n",
       "    }\n",
       "\n",
       "    rubberband.mousedown('button_press', mouse_event_fn);\n",
       "    rubberband.mouseup('button_release', mouse_event_fn);\n",
       "    // Throttle sequential mouse events to 1 every 20ms.\n",
       "    rubberband.mousemove('motion_notify', mouse_event_fn);\n",
       "\n",
       "    rubberband.mouseenter('figure_enter', mouse_event_fn);\n",
       "    rubberband.mouseleave('figure_leave', mouse_event_fn);\n",
       "\n",
       "    canvas_div.on(\"wheel\", function (event) {\n",
       "        event = event.originalEvent;\n",
       "        event['data'] = 'scroll'\n",
       "        if (event.deltaY < 0) {\n",
       "            event.step = 1;\n",
       "        } else {\n",
       "            event.step = -1;\n",
       "        }\n",
       "        mouse_event_fn(event);\n",
       "    });\n",
       "\n",
       "    canvas_div.append(canvas);\n",
       "    canvas_div.append(rubberband);\n",
       "\n",
       "    this.rubberband = rubberband;\n",
       "    this.rubberband_canvas = rubberband[0];\n",
       "    this.rubberband_context = rubberband[0].getContext(\"2d\");\n",
       "    this.rubberband_context.strokeStyle = \"#000000\";\n",
       "\n",
       "    this._resize_canvas = function(width, height) {\n",
       "        // Keep the size of the canvas, canvas container, and rubber band\n",
       "        // canvas in synch.\n",
       "        canvas_div.css('width', width)\n",
       "        canvas_div.css('height', height)\n",
       "\n",
       "        canvas.attr('width', width * mpl.ratio);\n",
       "        canvas.attr('height', height * mpl.ratio);\n",
       "        canvas.attr('style', 'width: ' + width + 'px; height: ' + height + 'px;');\n",
       "\n",
       "        rubberband.attr('width', width);\n",
       "        rubberband.attr('height', height);\n",
       "    }\n",
       "\n",
       "    // Set the figure to an initial 600x600px, this will subsequently be updated\n",
       "    // upon first draw.\n",
       "    this._resize_canvas(600, 600);\n",
       "\n",
       "    // Disable right mouse context menu.\n",
       "    $(this.rubberband_canvas).bind(\"contextmenu\",function(e){\n",
       "        return false;\n",
       "    });\n",
       "\n",
       "    function set_focus () {\n",
       "        canvas.focus();\n",
       "        canvas_div.focus();\n",
       "    }\n",
       "\n",
       "    window.setTimeout(set_focus, 100);\n",
       "}\n",
       "\n",
       "mpl.figure.prototype._init_toolbar = function() {\n",
       "    var fig = this;\n",
       "\n",
       "    var nav_element = $('<div/>');\n",
       "    nav_element.attr('style', 'width: 100%');\n",
       "    this.root.append(nav_element);\n",
       "\n",
       "    // Define a callback function for later on.\n",
       "    function toolbar_event(event) {\n",
       "        return fig.toolbar_button_onclick(event['data']);\n",
       "    }\n",
       "    function toolbar_mouse_event(event) {\n",
       "        return fig.toolbar_button_onmouseover(event['data']);\n",
       "    }\n",
       "\n",
       "    for(var toolbar_ind in mpl.toolbar_items) {\n",
       "        var name = mpl.toolbar_items[toolbar_ind][0];\n",
       "        var tooltip = mpl.toolbar_items[toolbar_ind][1];\n",
       "        var image = mpl.toolbar_items[toolbar_ind][2];\n",
       "        var method_name = mpl.toolbar_items[toolbar_ind][3];\n",
       "\n",
       "        if (!name) {\n",
       "            // put a spacer in here.\n",
       "            continue;\n",
       "        }\n",
       "        var button = $('<button/>');\n",
       "        button.addClass('ui-button ui-widget ui-state-default ui-corner-all ' +\n",
       "                        'ui-button-icon-only');\n",
       "        button.attr('role', 'button');\n",
       "        button.attr('aria-disabled', 'false');\n",
       "        button.click(method_name, toolbar_event);\n",
       "        button.mouseover(tooltip, toolbar_mouse_event);\n",
       "\n",
       "        var icon_img = $('<span/>');\n",
       "        icon_img.addClass('ui-button-icon-primary ui-icon');\n",
       "        icon_img.addClass(image);\n",
       "        icon_img.addClass('ui-corner-all');\n",
       "\n",
       "        var tooltip_span = $('<span/>');\n",
       "        tooltip_span.addClass('ui-button-text');\n",
       "        tooltip_span.html(tooltip);\n",
       "\n",
       "        button.append(icon_img);\n",
       "        button.append(tooltip_span);\n",
       "\n",
       "        nav_element.append(button);\n",
       "    }\n",
       "\n",
       "    var fmt_picker_span = $('<span/>');\n",
       "\n",
       "    var fmt_picker = $('<select/>');\n",
       "    fmt_picker.addClass('mpl-toolbar-option ui-widget ui-widget-content');\n",
       "    fmt_picker_span.append(fmt_picker);\n",
       "    nav_element.append(fmt_picker_span);\n",
       "    this.format_dropdown = fmt_picker[0];\n",
       "\n",
       "    for (var ind in mpl.extensions) {\n",
       "        var fmt = mpl.extensions[ind];\n",
       "        var option = $(\n",
       "            '<option/>', {selected: fmt === mpl.default_extension}).html(fmt);\n",
       "        fmt_picker.append(option);\n",
       "    }\n",
       "\n",
       "    // Add hover states to the ui-buttons\n",
       "    $( \".ui-button\" ).hover(\n",
       "        function() { $(this).addClass(\"ui-state-hover\");},\n",
       "        function() { $(this).removeClass(\"ui-state-hover\");}\n",
       "    );\n",
       "\n",
       "    var status_bar = $('<span class=\"mpl-message\"/>');\n",
       "    nav_element.append(status_bar);\n",
       "    this.message = status_bar[0];\n",
       "}\n",
       "\n",
       "mpl.figure.prototype.request_resize = function(x_pixels, y_pixels) {\n",
       "    // Request matplotlib to resize the figure. Matplotlib will then trigger a resize in the client,\n",
       "    // which will in turn request a refresh of the image.\n",
       "    this.send_message('resize', {'width': x_pixels, 'height': y_pixels});\n",
       "}\n",
       "\n",
       "mpl.figure.prototype.send_message = function(type, properties) {\n",
       "    properties['type'] = type;\n",
       "    properties['figure_id'] = this.id;\n",
       "    this.ws.send(JSON.stringify(properties));\n",
       "}\n",
       "\n",
       "mpl.figure.prototype.send_draw_message = function() {\n",
       "    if (!this.waiting) {\n",
       "        this.waiting = true;\n",
       "        this.ws.send(JSON.stringify({type: \"draw\", figure_id: this.id}));\n",
       "    }\n",
       "}\n",
       "\n",
       "\n",
       "mpl.figure.prototype.handle_save = function(fig, msg) {\n",
       "    var format_dropdown = fig.format_dropdown;\n",
       "    var format = format_dropdown.options[format_dropdown.selectedIndex].value;\n",
       "    fig.ondownload(fig, format);\n",
       "}\n",
       "\n",
       "\n",
       "mpl.figure.prototype.handle_resize = function(fig, msg) {\n",
       "    var size = msg['size'];\n",
       "    if (size[0] != fig.canvas.width || size[1] != fig.canvas.height) {\n",
       "        fig._resize_canvas(size[0], size[1]);\n",
       "        fig.send_message(\"refresh\", {});\n",
       "    };\n",
       "}\n",
       "\n",
       "mpl.figure.prototype.handle_rubberband = function(fig, msg) {\n",
       "    var x0 = msg['x0'] / mpl.ratio;\n",
       "    var y0 = (fig.canvas.height - msg['y0']) / mpl.ratio;\n",
       "    var x1 = msg['x1'] / mpl.ratio;\n",
       "    var y1 = (fig.canvas.height - msg['y1']) / mpl.ratio;\n",
       "    x0 = Math.floor(x0) + 0.5;\n",
       "    y0 = Math.floor(y0) + 0.5;\n",
       "    x1 = Math.floor(x1) + 0.5;\n",
       "    y1 = Math.floor(y1) + 0.5;\n",
       "    var min_x = Math.min(x0, x1);\n",
       "    var min_y = Math.min(y0, y1);\n",
       "    var width = Math.abs(x1 - x0);\n",
       "    var height = Math.abs(y1 - y0);\n",
       "\n",
       "    fig.rubberband_context.clearRect(\n",
       "        0, 0, fig.canvas.width / mpl.ratio, fig.canvas.height / mpl.ratio);\n",
       "\n",
       "    fig.rubberband_context.strokeRect(min_x, min_y, width, height);\n",
       "}\n",
       "\n",
       "mpl.figure.prototype.handle_figure_label = function(fig, msg) {\n",
       "    // Updates the figure title.\n",
       "    fig.header.textContent = msg['label'];\n",
       "}\n",
       "\n",
       "mpl.figure.prototype.handle_cursor = function(fig, msg) {\n",
       "    var cursor = msg['cursor'];\n",
       "    switch(cursor)\n",
       "    {\n",
       "    case 0:\n",
       "        cursor = 'pointer';\n",
       "        break;\n",
       "    case 1:\n",
       "        cursor = 'default';\n",
       "        break;\n",
       "    case 2:\n",
       "        cursor = 'crosshair';\n",
       "        break;\n",
       "    case 3:\n",
       "        cursor = 'move';\n",
       "        break;\n",
       "    }\n",
       "    fig.rubberband_canvas.style.cursor = cursor;\n",
       "}\n",
       "\n",
       "mpl.figure.prototype.handle_message = function(fig, msg) {\n",
       "    fig.message.textContent = msg['message'];\n",
       "}\n",
       "\n",
       "mpl.figure.prototype.handle_draw = function(fig, msg) {\n",
       "    // Request the server to send over a new figure.\n",
       "    fig.send_draw_message();\n",
       "}\n",
       "\n",
       "mpl.figure.prototype.handle_image_mode = function(fig, msg) {\n",
       "    fig.image_mode = msg['mode'];\n",
       "}\n",
       "\n",
       "mpl.figure.prototype.updated_canvas_event = function() {\n",
       "    // Called whenever the canvas gets updated.\n",
       "    this.send_message(\"ack\", {});\n",
       "}\n",
       "\n",
       "// A function to construct a web socket function for onmessage handling.\n",
       "// Called in the figure constructor.\n",
       "mpl.figure.prototype._make_on_message_function = function(fig) {\n",
       "    return function socket_on_message(evt) {\n",
       "        if (evt.data instanceof Blob) {\n",
       "            /* FIXME: We get \"Resource interpreted as Image but\n",
       "             * transferred with MIME type text/plain:\" errors on\n",
       "             * Chrome.  But how to set the MIME type?  It doesn't seem\n",
       "             * to be part of the websocket stream */\n",
       "            evt.data.type = \"image/png\";\n",
       "\n",
       "            /* Free the memory for the previous frames */\n",
       "            if (fig.imageObj.src) {\n",
       "                (window.URL || window.webkitURL).revokeObjectURL(\n",
       "                    fig.imageObj.src);\n",
       "            }\n",
       "\n",
       "            fig.imageObj.src = (window.URL || window.webkitURL).createObjectURL(\n",
       "                evt.data);\n",
       "            fig.updated_canvas_event();\n",
       "            fig.waiting = false;\n",
       "            return;\n",
       "        }\n",
       "        else if (typeof evt.data === 'string' && evt.data.slice(0, 21) == \"data:image/png;base64\") {\n",
       "            fig.imageObj.src = evt.data;\n",
       "            fig.updated_canvas_event();\n",
       "            fig.waiting = false;\n",
       "            return;\n",
       "        }\n",
       "\n",
       "        var msg = JSON.parse(evt.data);\n",
       "        var msg_type = msg['type'];\n",
       "\n",
       "        // Call the  \"handle_{type}\" callback, which takes\n",
       "        // the figure and JSON message as its only arguments.\n",
       "        try {\n",
       "            var callback = fig[\"handle_\" + msg_type];\n",
       "        } catch (e) {\n",
       "            console.log(\"No handler for the '\" + msg_type + \"' message type: \", msg);\n",
       "            return;\n",
       "        }\n",
       "\n",
       "        if (callback) {\n",
       "            try {\n",
       "                // console.log(\"Handling '\" + msg_type + \"' message: \", msg);\n",
       "                callback(fig, msg);\n",
       "            } catch (e) {\n",
       "                console.log(\"Exception inside the 'handler_\" + msg_type + \"' callback:\", e, e.stack, msg);\n",
       "            }\n",
       "        }\n",
       "    };\n",
       "}\n",
       "\n",
       "// from http://stackoverflow.com/questions/1114465/getting-mouse-location-in-canvas\n",
       "mpl.findpos = function(e) {\n",
       "    //this section is from http://www.quirksmode.org/js/events_properties.html\n",
       "    var targ;\n",
       "    if (!e)\n",
       "        e = window.event;\n",
       "    if (e.target)\n",
       "        targ = e.target;\n",
       "    else if (e.srcElement)\n",
       "        targ = e.srcElement;\n",
       "    if (targ.nodeType == 3) // defeat Safari bug\n",
       "        targ = targ.parentNode;\n",
       "\n",
       "    // jQuery normalizes the pageX and pageY\n",
       "    // pageX,Y are the mouse positions relative to the document\n",
       "    // offset() returns the position of the element relative to the document\n",
       "    var x = e.pageX - $(targ).offset().left;\n",
       "    var y = e.pageY - $(targ).offset().top;\n",
       "\n",
       "    return {\"x\": x, \"y\": y};\n",
       "};\n",
       "\n",
       "/*\n",
       " * return a copy of an object with only non-object keys\n",
       " * we need this to avoid circular references\n",
       " * http://stackoverflow.com/a/24161582/3208463\n",
       " */\n",
       "function simpleKeys (original) {\n",
       "  return Object.keys(original).reduce(function (obj, key) {\n",
       "    if (typeof original[key] !== 'object')\n",
       "        obj[key] = original[key]\n",
       "    return obj;\n",
       "  }, {});\n",
       "}\n",
       "\n",
       "mpl.figure.prototype.mouse_event = function(event, name) {\n",
       "    var canvas_pos = mpl.findpos(event)\n",
       "\n",
       "    if (name === 'button_press')\n",
       "    {\n",
       "        this.canvas.focus();\n",
       "        this.canvas_div.focus();\n",
       "    }\n",
       "\n",
       "    var x = canvas_pos.x * mpl.ratio;\n",
       "    var y = canvas_pos.y * mpl.ratio;\n",
       "\n",
       "    this.send_message(name, {x: x, y: y, button: event.button,\n",
       "                             step: event.step,\n",
       "                             guiEvent: simpleKeys(event)});\n",
       "\n",
       "    /* This prevents the web browser from automatically changing to\n",
       "     * the text insertion cursor when the button is pressed.  We want\n",
       "     * to control all of the cursor setting manually through the\n",
       "     * 'cursor' event from matplotlib */\n",
       "    event.preventDefault();\n",
       "    return false;\n",
       "}\n",
       "\n",
       "mpl.figure.prototype._key_event_extra = function(event, name) {\n",
       "    // Handle any extra behaviour associated with a key event\n",
       "}\n",
       "\n",
       "mpl.figure.prototype.key_event = function(event, name) {\n",
       "\n",
       "    // Prevent repeat events\n",
       "    if (name == 'key_press')\n",
       "    {\n",
       "        if (event.which === this._key)\n",
       "            return;\n",
       "        else\n",
       "            this._key = event.which;\n",
       "    }\n",
       "    if (name == 'key_release')\n",
       "        this._key = null;\n",
       "\n",
       "    var value = '';\n",
       "    if (event.ctrlKey && event.which != 17)\n",
       "        value += \"ctrl+\";\n",
       "    if (event.altKey && event.which != 18)\n",
       "        value += \"alt+\";\n",
       "    if (event.shiftKey && event.which != 16)\n",
       "        value += \"shift+\";\n",
       "\n",
       "    value += 'k';\n",
       "    value += event.which.toString();\n",
       "\n",
       "    this._key_event_extra(event, name);\n",
       "\n",
       "    this.send_message(name, {key: value,\n",
       "                             guiEvent: simpleKeys(event)});\n",
       "    return false;\n",
       "}\n",
       "\n",
       "mpl.figure.prototype.toolbar_button_onclick = function(name) {\n",
       "    if (name == 'download') {\n",
       "        this.handle_save(this, null);\n",
       "    } else {\n",
       "        this.send_message(\"toolbar_button\", {name: name});\n",
       "    }\n",
       "};\n",
       "\n",
       "mpl.figure.prototype.toolbar_button_onmouseover = function(tooltip) {\n",
       "    this.message.textContent = tooltip;\n",
       "};\n",
       "mpl.toolbar_items = [[\"Home\", \"Reset original view\", \"fa fa-home icon-home\", \"home\"], [\"Back\", \"Back to previous view\", \"fa fa-arrow-left icon-arrow-left\", \"back\"], [\"Forward\", \"Forward to next view\", \"fa fa-arrow-right icon-arrow-right\", \"forward\"], [\"\", \"\", \"\", \"\"], [\"Pan\", \"Pan axes with left mouse, zoom with right\", \"fa fa-arrows icon-move\", \"pan\"], [\"Zoom\", \"Zoom to rectangle\", \"fa fa-square-o icon-check-empty\", \"zoom\"], [\"\", \"\", \"\", \"\"], [\"Download\", \"Download plot\", \"fa fa-floppy-o icon-save\", \"download\"]];\n",
       "\n",
       "mpl.extensions = [\"eps\", \"jpeg\", \"pdf\", \"png\", \"ps\", \"raw\", \"svg\", \"tif\"];\n",
       "\n",
       "mpl.default_extension = \"png\";var comm_websocket_adapter = function(comm) {\n",
       "    // Create a \"websocket\"-like object which calls the given IPython comm\n",
       "    // object with the appropriate methods. Currently this is a non binary\n",
       "    // socket, so there is still some room for performance tuning.\n",
       "    var ws = {};\n",
       "\n",
       "    ws.close = function() {\n",
       "        comm.close()\n",
       "    };\n",
       "    ws.send = function(m) {\n",
       "        //console.log('sending', m);\n",
       "        comm.send(m);\n",
       "    };\n",
       "    // Register the callback with on_msg.\n",
       "    comm.on_msg(function(msg) {\n",
       "        //console.log('receiving', msg['content']['data'], msg);\n",
       "        // Pass the mpl event to the overridden (by mpl) onmessage function.\n",
       "        ws.onmessage(msg['content']['data'])\n",
       "    });\n",
       "    return ws;\n",
       "}\n",
       "\n",
       "mpl.mpl_figure_comm = function(comm, msg) {\n",
       "    // This is the function which gets called when the mpl process\n",
       "    // starts-up an IPython Comm through the \"matplotlib\" channel.\n",
       "\n",
       "    var id = msg.content.data.id;\n",
       "    // Get hold of the div created by the display call when the Comm\n",
       "    // socket was opened in Python.\n",
       "    var element = $(\"#\" + id);\n",
       "    var ws_proxy = comm_websocket_adapter(comm)\n",
       "\n",
       "    function ondownload(figure, format) {\n",
       "        window.open(figure.imageObj.src);\n",
       "    }\n",
       "\n",
       "    var fig = new mpl.figure(id, ws_proxy,\n",
       "                           ondownload,\n",
       "                           element.get(0));\n",
       "\n",
       "    // Call onopen now - mpl needs it, as it is assuming we've passed it a real\n",
       "    // web socket which is closed, not our websocket->open comm proxy.\n",
       "    ws_proxy.onopen();\n",
       "\n",
       "    fig.parent_element = element.get(0);\n",
       "    fig.cell_info = mpl.find_output_cell(\"<div id='\" + id + \"'></div>\");\n",
       "    if (!fig.cell_info) {\n",
       "        console.error(\"Failed to find cell for figure\", id, fig);\n",
       "        return;\n",
       "    }\n",
       "\n",
       "    var output_index = fig.cell_info[2]\n",
       "    var cell = fig.cell_info[0];\n",
       "\n",
       "};\n",
       "\n",
       "mpl.figure.prototype.handle_close = function(fig, msg) {\n",
       "    var width = fig.canvas.width/mpl.ratio\n",
       "    fig.root.unbind('remove')\n",
       "\n",
       "    // Update the output cell to use the data from the current canvas.\n",
       "    fig.push_to_output();\n",
       "    var dataURL = fig.canvas.toDataURL();\n",
       "    // Re-enable the keyboard manager in IPython - without this line, in FF,\n",
       "    // the notebook keyboard shortcuts fail.\n",
       "    IPython.keyboard_manager.enable()\n",
       "    $(fig.parent_element).html('<img src=\"' + dataURL + '\" width=\"' + width + '\">');\n",
       "    fig.close_ws(fig, msg);\n",
       "}\n",
       "\n",
       "mpl.figure.prototype.close_ws = function(fig, msg){\n",
       "    fig.send_message('closing', msg);\n",
       "    // fig.ws.close()\n",
       "}\n",
       "\n",
       "mpl.figure.prototype.push_to_output = function(remove_interactive) {\n",
       "    // Turn the data on the canvas into data in the output cell.\n",
       "    var width = this.canvas.width/mpl.ratio\n",
       "    var dataURL = this.canvas.toDataURL();\n",
       "    this.cell_info[1]['text/html'] = '<img src=\"' + dataURL + '\" width=\"' + width + '\">';\n",
       "}\n",
       "\n",
       "mpl.figure.prototype.updated_canvas_event = function() {\n",
       "    // Tell IPython that the notebook contents must change.\n",
       "    IPython.notebook.set_dirty(true);\n",
       "    this.send_message(\"ack\", {});\n",
       "    var fig = this;\n",
       "    // Wait a second, then push the new image to the DOM so\n",
       "    // that it is saved nicely (might be nice to debounce this).\n",
       "    setTimeout(function () { fig.push_to_output() }, 1000);\n",
       "}\n",
       "\n",
       "mpl.figure.prototype._init_toolbar = function() {\n",
       "    var fig = this;\n",
       "\n",
       "    var nav_element = $('<div/>');\n",
       "    nav_element.attr('style', 'width: 100%');\n",
       "    this.root.append(nav_element);\n",
       "\n",
       "    // Define a callback function for later on.\n",
       "    function toolbar_event(event) {\n",
       "        return fig.toolbar_button_onclick(event['data']);\n",
       "    }\n",
       "    function toolbar_mouse_event(event) {\n",
       "        return fig.toolbar_button_onmouseover(event['data']);\n",
       "    }\n",
       "\n",
       "    for(var toolbar_ind in mpl.toolbar_items){\n",
       "        var name = mpl.toolbar_items[toolbar_ind][0];\n",
       "        var tooltip = mpl.toolbar_items[toolbar_ind][1];\n",
       "        var image = mpl.toolbar_items[toolbar_ind][2];\n",
       "        var method_name = mpl.toolbar_items[toolbar_ind][3];\n",
       "\n",
       "        if (!name) { continue; };\n",
       "\n",
       "        var button = $('<button class=\"btn btn-default\" href=\"#\" title=\"' + name + '\"><i class=\"fa ' + image + ' fa-lg\"></i></button>');\n",
       "        button.click(method_name, toolbar_event);\n",
       "        button.mouseover(tooltip, toolbar_mouse_event);\n",
       "        nav_element.append(button);\n",
       "    }\n",
       "\n",
       "    // Add the status bar.\n",
       "    var status_bar = $('<span class=\"mpl-message\" style=\"text-align:right; float: right;\"/>');\n",
       "    nav_element.append(status_bar);\n",
       "    this.message = status_bar[0];\n",
       "\n",
       "    // Add the close button to the window.\n",
       "    var buttongrp = $('<div class=\"btn-group inline pull-right\"></div>');\n",
       "    var button = $('<button class=\"btn btn-mini btn-primary\" href=\"#\" title=\"Stop Interaction\"><i class=\"fa fa-power-off icon-remove icon-large\"></i></button>');\n",
       "    button.click(function (evt) { fig.handle_close(fig, {}); } );\n",
       "    button.mouseover('Stop Interaction', toolbar_mouse_event);\n",
       "    buttongrp.append(button);\n",
       "    var titlebar = this.root.find($('.ui-dialog-titlebar'));\n",
       "    titlebar.prepend(buttongrp);\n",
       "}\n",
       "\n",
       "mpl.figure.prototype._root_extra_style = function(el){\n",
       "    var fig = this\n",
       "    el.on(\"remove\", function(){\n",
       "\tfig.close_ws(fig, {});\n",
       "    });\n",
       "}\n",
       "\n",
       "mpl.figure.prototype._canvas_extra_style = function(el){\n",
       "    // this is important to make the div 'focusable\n",
       "    el.attr('tabindex', 0)\n",
       "    // reach out to IPython and tell the keyboard manager to turn it's self\n",
       "    // off when our div gets focus\n",
       "\n",
       "    // location in version 3\n",
       "    if (IPython.notebook.keyboard_manager) {\n",
       "        IPython.notebook.keyboard_manager.register_events(el);\n",
       "    }\n",
       "    else {\n",
       "        // location in version 2\n",
       "        IPython.keyboard_manager.register_events(el);\n",
       "    }\n",
       "\n",
       "}\n",
       "\n",
       "mpl.figure.prototype._key_event_extra = function(event, name) {\n",
       "    var manager = IPython.notebook.keyboard_manager;\n",
       "    if (!manager)\n",
       "        manager = IPython.keyboard_manager;\n",
       "\n",
       "    // Check for shift+enter\n",
       "    if (event.shiftKey && event.which == 13) {\n",
       "        this.canvas_div.blur();\n",
       "        // select the cell after this one\n",
       "        var index = IPython.notebook.find_cell_index(this.cell_info[0]);\n",
       "        IPython.notebook.select(index + 1);\n",
       "    }\n",
       "}\n",
       "\n",
       "mpl.figure.prototype.handle_save = function(fig, msg) {\n",
       "    fig.ondownload(fig, null);\n",
       "}\n",
       "\n",
       "\n",
       "mpl.find_output_cell = function(html_output) {\n",
       "    // Return the cell and output element which can be found *uniquely* in the notebook.\n",
       "    // Note - this is a bit hacky, but it is done because the \"notebook_saving.Notebook\"\n",
       "    // IPython event is triggered only after the cells have been serialised, which for\n",
       "    // our purposes (turning an active figure into a static one), is too late.\n",
       "    var cells = IPython.notebook.get_cells();\n",
       "    var ncells = cells.length;\n",
       "    for (var i=0; i<ncells; i++) {\n",
       "        var cell = cells[i];\n",
       "        if (cell.cell_type === 'code'){\n",
       "            for (var j=0; j<cell.output_area.outputs.length; j++) {\n",
       "                var data = cell.output_area.outputs[j];\n",
       "                if (data.data) {\n",
       "                    // IPython >= 3 moved mimebundle to data attribute of output\n",
       "                    data = data.data;\n",
       "                }\n",
       "                if (data['text/html'] == html_output) {\n",
       "                    return [cell, data, j];\n",
       "                }\n",
       "            }\n",
       "        }\n",
       "    }\n",
       "}\n",
       "\n",
       "// Register the function which deals with the matplotlib target/channel.\n",
       "// The kernel may be null if the page has been refreshed.\n",
       "if (IPython.notebook.kernel != null) {\n",
       "    IPython.notebook.kernel.comm_manager.register_target('matplotlib', mpl.mpl_figure_comm);\n",
       "}\n"
      ],
      "text/plain": [
       "<IPython.core.display.Javascript object>"
      ]
     },
     "metadata": {
      "tags": []
     },
     "output_type": "display_data"
    },
    {
     "data": {
      "text/html": [
       "<img src=\"data:image/png;base64,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\" width=\"957\">"
      ],
      "text/plain": [
       "<IPython.core.display.HTML object>"
      ]
     },
     "metadata": {
      "tags": []
     },
     "output_type": "display_data"
    }
   ],
   "source": [
    "iris['cluster'] = y_gmm\n",
    "sns.lmplot(\"PCA1\", \"PCA2\", data=iris, hue='species',\n",
    "           col='cluster', col_wrap=3, fit_reg=False, size = 4, aspect=1);"
   ]
  },
  {
   "cell_type": "markdown",
   "metadata": {
    "id": "FVDoBBXMQob9"
   },
   "source": [
    "* How well the GMM algorithm has recovered the underlying label: \n",
    "    - the ***setosa*** species is separated perfectly within cluster 0\n",
    "    - there remains a small amount of mixing between ***versicolor*** and ***virginica***.\n",
    "* This means that even without an expert to tell us the species labels of the individual flowers, the measurements of these flowers are distinct enough that we could *automatically* identify the presence of these different groups of species with a simple clustering algorithm!"
   ]
  },
  {
   "cell_type": "markdown",
   "metadata": {
    "id": "DtVbepIWQob9"
   },
   "source": [
    "## Application: Exploring Hand-written Digits"
   ]
  },
  {
   "cell_type": "markdown",
   "metadata": {
    "id": "Uv8RqGLLQob-"
   },
   "source": [
    "### Loading and visualizing the digits data"
   ]
  },
  {
   "cell_type": "code",
   "execution_count": 59,
   "metadata": {
    "id": "V48vVQ8mQob-",
    "outputId": "df76fb87-3b15-4265-864e-2d95116185ca"
   },
   "outputs": [
    {
     "data": {
      "text/plain": [
       "(1797, 8, 8)"
      ]
     },
     "execution_count": 59,
     "metadata": {},
     "output_type": "execute_result"
    }
   ],
   "source": [
    "from sklearn.datasets import load_digits\n",
    "digits = load_digits()\n",
    "digits.images.shape"
   ]
  },
  {
   "cell_type": "markdown",
   "metadata": {
    "id": "epy9GkB7Qob_"
   },
   "source": [
    "The images data is a three-dimensional array: 1,797 samples each consisting of an 8 × 8 grid of pixels.\n",
    "Let's visualize the first hundred of these:"
   ]
  },
  {
   "cell_type": "code",
   "execution_count": 61,
   "metadata": {
    "id": "TPSjzqURQob_",
    "outputId": "dd61173a-6311-4175-d93b-1346b0391c47"
   },
   "outputs": [
    {
     "data": {
      "image/png": "[encoded data removed]",
      "text/plain": [
       "<Figure size 576x576 with 100 Axes>"
      ]
     },
     "metadata": {},
     "output_type": "display_data"
    }
   ],
   "source": [
    "fig, axes = plt.subplots(10, 10, figsize=(8, 8),\n",
    "                         subplot_kw={'xticks':[], 'yticks':[]},\n",
    "                         gridspec_kw=dict(hspace=0.1, wspace=0.1))\n",
    "\n",
    "for i, ax in enumerate(axes.flat):\n",
    "    ax.imshow(digits.images[i], cmap='binary', interpolation='nearest')\n",
    "    ax.text(0.05, 0.05, str(digits.target[i]),\n",
    "            transform=ax.transAxes, color='green')"
   ]
  },
  {
   "cell_type": "markdown",
   "metadata": {
    "id": "lNU4kN44QocA"
   },
   "source": [
    "* In order to work with this data within Scikit-Learn, we need a two-dimensional, ``[n_samples, n_features]`` representation.\n",
    "* We can accomplish this by treating each pixel in the image as a feature: that is, by flattening out the pixel arrays so that we have a length-64 array of pixel values representing each digit.\n",
    "* Additionally, we need the target array, which gives the previously determined label for each digit.\n",
    "* These two quantities are built into the digits dataset under the ``data`` and ``target`` attributes, respectively:"
   ]
  },
  {
   "cell_type": "code",
   "execution_count": 62,
   "metadata": {
    "id": "oUyFHye3QocB",
    "outputId": "b85485c5-242c-4f1d-9dc9-9bf2086a9856"
   },
   "outputs": [
    {
     "data": {
      "text/plain": [
       "(1797, 64)"
      ]
     },
     "execution_count": 62,
     "metadata": {},
     "output_type": "execute_result"
    }
   ],
   "source": [
    "X = digits.data\n",
    "X.shape"
   ]
  },
  {
   "cell_type": "code",
   "execution_count": 63,
   "metadata": {
    "id": "nhtDwsybQocB",
    "outputId": "c960b2f9-86d8-4e26-a836-534c24be51ec"
   },
   "outputs": [
    {
     "data": {
      "text/plain": [
       "(1797,)"
      ]
     },
     "execution_count": 63,
     "metadata": {},
     "output_type": "execute_result"
    }
   ],
   "source": [
    "y = digits.target\n",
    "y.shape"
   ]
  },
  {
   "cell_type": "markdown",
   "metadata": {
    "id": "XUSmhKT0QocB"
   },
   "source": [
    "We see here that there are 1,797 samples and 64 features."
   ]
  },
  {
   "cell_type": "markdown",
   "metadata": {
    "id": "ylNZoUWnQocC"
   },
   "source": [
    "### Unsupervised learning: Dimensionality reduction\n",
    "\n",
    "We'd like to visualize our points within the 64-dimensional parameter space, but it's difficult to effectively visualize points in such a high-dimensional space.\n",
    "Instead we'll reduce the dimensions to 2, using an unsupervised method.\n",
    "Here, we'll make use of a manifold learning algorithm called *Isomap*, and transform the data to two dimensions:"
   ]
  },
  {
   "cell_type": "code",
   "execution_count": 64,
   "metadata": {
    "id": "fvzMx1QDQocD",
    "outputId": "0d48607b-f98a-4cd1-c3cc-bf006c456504"
   },
   "outputs": [
    {
     "data": {
      "text/plain": [
       "(1797, 2)"
      ]
     },
     "execution_count": 64,
     "metadata": {},
     "output_type": "execute_result"
    }
   ],
   "source": [
    "from sklearn.manifold import Isomap\n",
    "iso = Isomap(n_components=2)\n",
    "iso.fit(digits.data)\n",
    "data_projected = iso.transform(digits.data)\n",
    "data_projected.shape"
   ]
  },
  {
   "cell_type": "markdown",
   "metadata": {
    "id": "p7nXnMo7QocE"
   },
   "source": [
    "We see that the projected data is now two-dimensional.\n",
    "Let's plot this data to see if we can learn anything from its structure:"
   ]
  },
  {
   "cell_type": "code",
   "execution_count": 65,
   "metadata": {
    "id": "z7CM2juMQocE",
    "outputId": "1af05e38-11dc-4bbd-8c37-1f376a5f3422"
   },
   "outputs": [
    {
     "data": {
      "image/png": "[encoded data removed]",
      "text/plain": [
       "<Figure size 576x576 with 2 Axes>"
      ]
     },
     "metadata": {
      "needs_background": "light"
     },
     "output_type": "display_data"
    }
   ],
   "source": [
    "fig, axes = plt.subplots(1, 1, figsize=(8, 8))\n",
    "plt.scatter(data_projected[:, 0], data_projected[:, 1], c=digits.target,\n",
    "            #edgecolor='none',\n",
    "            alpha=0.3,\n",
    "            cmap=plt.cm.get_cmap('Spectral', 10))\n",
    "plt.colorbar(label='digit label', ticks=range(10))\n",
    "plt.clim(-0.5, 9.5);"
   ]
  },
  {
   "cell_type": "markdown",
   "metadata": {
    "id": "BtRi5ogeQocF"
   },
   "source": [
    "* This plot gives us some good intuition into how well various numbers are separated in the larger 64-dimensional space. \n",
    "* For example, zeros and ones have very little overlap in parameter space.\n",
    "* Intuitively, this makes sense: a zero is empty in the middle of the image, while a one will generally have ink in the middle.\n",
    "* On the other hand, there seems to be a more or less continuous spectrum between ones and fours: we can understand this by realizing that some people draw ones with \"hats\" on them, which cause them to look similar to fours.\n",
    "* Overall, however, the different groups appear to be fairly well separated in the parameter space: this tells us that even a very straightforward supervised classification algorithm should perform suitably on this data."
   ]
  },
  {
   "cell_type": "markdown",
   "metadata": {
    "id": "uobBbbvVQocF"
   },
   "source": [
    "### Classification on digits\n",
    "\n",
    "Let's apply a classification algorithm to the digits.\n",
    "As with the Iris data previously, we will split the data into a training and testing set, and fit a **Gaussian Naive Bayes** model:"
   ]
  },
  {
   "cell_type": "code",
   "execution_count": 67,
   "metadata": {
    "id": "__-zfzd_QocG"
   },
   "outputs": [],
   "source": [
    "Xtrain, Xtest, ytrain, ytest = train_test_split(X, y, random_state=0)\n",
    "#Xtrain,Xtest,ytrain,ytest=train_test_split(X,y,test_size = 0.3,random_state=420)"
   ]
  },
  {
   "cell_type": "code",
   "execution_count": 77,
   "metadata": {
    "id": "se2DjYdOQocG"
   },
   "outputs": [],
   "source": [
    "from sklearn.naive_bayes import GaussianNB\n",
    "model = GaussianNB()\n",
    "model.fit(Xtrain, ytrain)\n",
    "y_pred = model.predict(Xtest)"
   ]
  },
  {
   "cell_type": "markdown",
   "metadata": {
    "id": "NX34qCmnQocG"
   },
   "source": [
    "Now that we have predicted our model, we can gauge its accuracy by comparing the true values of the test set to the predictions:"
   ]
  },
  {
   "cell_type": "code",
   "execution_count": 78,
   "metadata": {
    "id": "eJOdxh7oQocG",
    "outputId": "b91d4d12-cab7-487b-fdf2-d2a5cf607e42"
   },
   "outputs": [
    {
     "data": {
      "text/plain": [
       "0.8333333333333334"
      ]
     },
     "execution_count": 78,
     "metadata": {},
     "output_type": "execute_result"
    }
   ],
   "source": [
    "from sklearn import metrics\n",
    "metrics.accuracy_score(ytest, y_model)"
   ]
  },
  {
   "cell_type": "markdown",
   "metadata": {
    "id": "0TZ8uwjxQocH"
   },
   "source": [
    "* With even this extremely simple model, we find about 80% accuracy for classification of the digits!\n",
    "* However, this single number doesn't tell us ***where*** we've gone wrong—one nice way to do this is to use the ***confusion matrix***, which we can compute with Scikit-Learn and plot with Seaborn:"
   ]
  },
  {
   "cell_type": "code",
   "execution_count": 88,
   "metadata": {
    "id": "LQXihI62QocI",
    "outputId": "1bf00249-2f1c-4b31-a430-93aa0c76149f"
   },
   "outputs": [
    {
     "data": {
      "image/png": "[encoded data removed]",
      "text/plain": [
       "<Figure size 576x576 with 1 Axes>"
      ]
     },
     "metadata": {
      "needs_background": "light"
     },
     "output_type": "display_data"
    }
   ],
   "source": [
    "from sklearn import metrics \n",
    "mat = metrics.confusion_matrix(ytest,y_pred)\n",
    "#however to have better view for confusion matric we will use the heatmap to show it with seaborn\n",
    "fig, axes = plt.subplots(1, 1, figsize=(8, 8))\n",
    "ax = sns.heatmap(mat, square=True, annot=True, cbar=False)\n",
    "plt.xlabel('predicted value')\n",
    "plt.ylabel('true value');\n",
    "plt.show()"
   ]
  },
  {
   "cell_type": "code",
   "execution_count": 89,
   "metadata": {},
   "outputs": [
    {
     "data": {
      "text/plain": [
       "array([[37,  0,  0,  0,  0,  0,  0,  0,  0,  0],\n",
       "       [ 0, 39,  0,  0,  0,  0,  0,  0,  4,  0],\n",
       "       [ 0,  7, 20,  2,  0,  0,  0,  0, 15,  0],\n",
       "       [ 0,  0,  0, 39,  0,  0,  0,  1,  5,  0],\n",
       "       [ 0,  1,  0,  0, 31,  0,  0,  6,  0,  0],\n",
       "       [ 0,  1,  0,  1,  0, 43,  0,  3,  0,  0],\n",
       "       [ 0,  0,  1,  0,  0,  0, 51,  0,  0,  0],\n",
       "       [ 0,  0,  0,  0,  1,  0,  0, 47,  0,  0],\n",
       "       [ 0,  6,  0,  1,  0,  1,  0,  2, 38,  0],\n",
       "       [ 0,  2,  0,  4,  1,  0,  0,  3,  7, 30]])"
      ]
     },
     "execution_count": 89,
     "metadata": {},
     "output_type": "execute_result"
    }
   ],
   "source": [
    "metrics.confusion_matrix(ytest,y_pred)"
   ]
  },
  {
   "cell_type": "markdown",
   "metadata": {
    "id": "SJGfbFugQocI"
   },
   "source": [
    "* This shows us where the mis-labeled points tend to be: for example, a large number of twos here are mis-classified as either ones or eights.\n",
    "* Another way to gain intuition into the characteristics of the model is to plot the inputs again, with their predicted labels.\n",
    "* We'll use green for correct labels, and red for incorrect labels:"
   ]
  },
  {
   "cell_type": "code",
   "execution_count": 90,
   "metadata": {
    "id": "-9XNezOnQocJ",
    "outputId": "4aa5bbaa-2e5f-4db4-8050-b40ba4edba79"
   },
   "outputs": [
    {
     "data": {
      "image/png": "[encoded data removed]",
      "text/plain": [
       "<Figure size 576x576 with 100 Axes>"
      ]
     },
     "metadata": {},
     "output_type": "display_data"
    }
   ],
   "source": [
    "fig, axes = plt.subplots(10, 10, figsize=(8, 8),\n",
    "                         subplot_kw={'xticks':[], 'yticks':[]},\n",
    "                         gridspec_kw=dict(hspace=0.1, wspace=0.1))\n",
    "\n",
    "test_images = Xtest.reshape(-1, 8, 8)\n",
    "\n",
    "for i, ax in enumerate(axes.flat):\n",
    "    ax.imshow(test_images[i], cmap='binary', interpolation='nearest')\n",
    "    ax.text(0.05, 0.05, str(y_model[i]),\n",
    "            transform=ax.transAxes,\n",
    "            color='green' if (ytest[i] == y_model[i]) else 'red')"
   ]
  },
  {
   "cell_type": "markdown",
   "metadata": {
    "id": "gboLCbo7QocJ"
   },
   "source": [
    "Examining this subset of the data, we can gain insight regarding where the algorithm might be not performing optimally.\n",
    "To go beyond our 80% classification rate, we might move to a more sophisticated algorithm such as support vector machines, random forests or another classification approach."
   ]
  },
  {
   "cell_type": "markdown",
   "metadata": {
    "id": "OMUqFPDiQocK"
   },
   "source": [
    "## Summary"
   ]
  },
  {
   "cell_type": "markdown",
   "metadata": {
    "id": "ytTAM0u4QocK"
   },
   "source": [
    "In this section we have covered the essential features of the Scikit-Learn data representation, and the estimator API.\n",
    "Regardless of the type of estimator, the same import/instantiate/fit/predict pattern holds.\n",
    "Armed with this information about the estimator API, you can explore the Scikit-Learn documentation and begin trying out various models on your data.\n",
    "\n",
    "In the next section, we will explore perhaps the most important topic in machine learning: how to select and validate your model."
   ]
  }
 ],
 "metadata": {
  "anaconda-cloud": {},
  "colab": {
   "name": "Lecture_03_2.Introducing-Scikit-Learn.ipynb",
   "provenance": []
  },
  "kernelspec": {
   "display_name": "Python 3",
   "language": "python",
   "name": "python3"
  },
  "language_info": {
   "codemirror_mode": {
    "name": "ipython",
    "version": 3
   },
   "file_extension": ".py",
   "mimetype": "text/x-python",
   "name": "python",
   "nbconvert_exporter": "python",
   "pygments_lexer": "ipython3",
   "version": "3.7.0"
  }
 },
 "nbformat": 4,
 "nbformat_minor": 4
}
