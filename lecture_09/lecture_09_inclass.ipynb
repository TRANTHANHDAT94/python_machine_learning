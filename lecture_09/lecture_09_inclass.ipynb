{
 "cells": [
  {
   "cell_type": "markdown",
   "id": "f5869783-46cd-4ef5-8d80-b1c6eaf559bd",
   "metadata": {},
   "source": [
    "# Lecture 09 - Nature Language Processing (NLP) & Text Mining"
   ]
  },
  {
   "cell_type": "markdown",
   "id": "372869b4-6785-4aaa-8abc-3e29d875fb0c",
   "metadata": {
    "jp-MarkdownHeadingCollapsed": true,
    "tags": []
   },
   "source": [
    "## Definition - Định nghĩa\n",
    "- Sử dung phân tích làm sách sữ liệu kết hợp mô hình machine leaning để khai kthác thông tin trong dữ liệu ngôn ngữ\n",
    "Dữ liệu ngôn ngữ bao gồm \n",
    "- Nói cho nhau nghe\n",
    "- Viết cho nhau đọc\n",
    "\n",
    "\n",
    "- Kỹ thuật xử lý sữ liệu văn bản và khai thác thông tin:Textmining"
   ]
  },
  {
   "cell_type": "markdown",
   "id": "da1ff90f-7126-4e50-8272-e7bb5ebc5092",
   "metadata": {},
   "source": [
    "## Flow - Quy trình\n",
    "1. Preprocessing: Clean and Normallize \n",
    "2. Tokenlizing: Tách từ\n",
    "3. Vectorizing\n",
    "4. Moddeliing\n",
    "5. Interpreting results and application"
   ]
  },
  {
   "cell_type": "markdown",
   "id": "36aab243-6557-4d52-8327-c3b96dbcda2e",
   "metadata": {},
   "source": [
    "## Application - Ứng dụng\n",
    "1. Sentimental Analysis: Phân tích cảm tính Cho mấy sao?? Nhưng khôg biết rõ ràng. Dùng phân tích chứng khoán Twitter and Facebook \n",
    "2. Search suggestion:\n",
    "3. Speech recognition \n",
    "4. etc more and more "
   ]
  },
  {
   "cell_type": "markdown",
   "id": "4de5b914-9acd-4e9f-9072-a6663fea3313",
   "metadata": {},
   "source": [
    "## Tools & Library\n",
    "\n",
    "1. Python Nature Language Toolkit (Python NLTK) # Để xử lý dữ liệu dạng text cho mô hình texmining \n",
    "2. Gensim/Tensorflow etc. # Để xây dựng mô hình text minning"
   ]
  },
  {
   "cell_type": "code",
   "execution_count": null,
   "id": "71ca5f91-634d-4963-b8a8-4241501d1994",
   "metadata": {},
   "outputs": [],
   "source": [
    "import string \n",
    "string.split()\n",
    "string.strim()\n",
    "string.lower()\n",
    "string.upper()"
   ]
  },
  {
   "cell_type": "code",
   "execution_count": null,
   "id": "c21753bb-7fb5-4df5-b912-06b6bcfc1e7f",
   "metadata": {},
   "outputs": [],
   "source": [
    "#cách mạng 1 từ \n",
    "#a an the in out từ đệm "
   ]
  },
  {
   "cell_type": "markdown",
   "id": "ac0437f3-5113-472a-ab06-01f3999c4002",
   "metadata": {},
   "source": [
    "## Example"
   ]
  },
  {
   "cell_type": "markdown",
   "id": "87fe2646-68db-485a-a3d7-9c5c3e3c2bb5",
   "metadata": {},
   "source": [
    "### Token hóa dữ liệu text (Text tokenization)\n",
    "\n",
    "Là quá trình làm sạch và biến đổi dữ liệu text thành dạng sẵn sàng đưa vào mô hình"
   ]
  },
  {
   "cell_type": "markdown",
   "id": "4da8ab72-48f2-4e8d-b889-1f8637c81797",
   "metadata": {},
   "source": [
    "#### Tiền xử lý dữ liệu text (Text preprocessing)"
   ]
  },
  {
   "cell_type": "code",
   "execution_count": 9,
   "id": "80020240-0711-4916-b200-3b76dc1e096f",
   "metadata": {},
   "outputs": [
    {
     "data": {
      "text/plain": [
       "(RangeIndex(start=0, stop=876, step=1),\n",
       " Index(['title', 'snippet', 'content'], dtype='object'))"
      ]
     },
     "execution_count": 9,
     "metadata": {},
     "output_type": "execute_result"
    }
   ],
   "source": [
    "import numpy as np\n",
    "import pandas as pd\n",
    "data = pd.read_json('data.json')\n",
    "data.index, data.columns"
   ]
  },
  {
   "cell_type": "code",
   "execution_count": 11,
   "id": "a6dc2014-8638-4855-bd29-fda371ddc1e9",
   "metadata": {},
   "outputs": [
    {
     "data": {
      "text/html": [
       "<div>\n",
       "<style scoped>\n",
       "    .dataframe tbody tr th:only-of-type {\n",
       "        vertical-align: middle;\n",
       "    }\n",
       "\n",
       "    .dataframe tbody tr th {\n",
       "        vertical-align: top;\n",
       "    }\n",
       "\n",
       "    .dataframe thead th {\n",
       "        text-align: right;\n",
       "    }\n",
       "</style>\n",
       "<table border=\"1\" class=\"dataframe\">\n",
       "  <thead>\n",
       "    <tr style=\"text-align: right;\">\n",
       "      <th></th>\n",
       "      <th>title</th>\n",
       "      <th>snippet</th>\n",
       "      <th>content</th>\n",
       "    </tr>\n",
       "  </thead>\n",
       "  <tbody>\n",
       "    <tr>\n",
       "      <th>0</th>\n",
       "      <td>Thủ tướng: Khác với đa số các nước, dư địa chí...</td>\n",
       "      <td>(Tổ Quốc) - Với bối cảnh hiện nay, Hội đồng Tư...</td>\n",
       "      <td>Sáng ngày 9/7, Hội đồng Tư vấn chính sách tài ...</td>\n",
       "    </tr>\n",
       "    <tr>\n",
       "      <th>1</th>\n",
       "      <td>Thống nhất kịch bản tăng trưởng 3-4%, lạm phát...</td>\n",
       "      <td>Tại cuộc họp Hội đồng Tư vấn chính sách tài ch...</td>\n",
       "      <td>Tham dự cuộc họp có Thống đốc NHNN Lê Minh Hưn...</td>\n",
       "    </tr>\n",
       "    <tr>\n",
       "      <th>2</th>\n",
       "      <td>Đề xuất tăng liều lượng gói kích thích kinh tế...</td>\n",
       "      <td>Chuyên gia đề xuất do dịch bệnh Covid-19 còn k...</td>\n",
       "      <td>Sáng 9/7, Thủ tướng Nguyễn Xuân Phúc chủ trì h...</td>\n",
       "    </tr>\n",
       "    <tr>\n",
       "      <th>3</th>\n",
       "      <td>Thủ tướng: Khác với đa số các nước, dư địa chí...</td>\n",
       "      <td>Với bối cảnh hiện nay, Hội đồng Tư vấn chính s...</td>\n",
       "      <td>Với bối cảnh hiện nay, Hội đồng Tư vấn chính s...</td>\n",
       "    </tr>\n",
       "    <tr>\n",
       "      <th>4</th>\n",
       "      <td>Tác động từ chính sách tín dụng: BĐS có thể đó...</td>\n",
       "      <td>Động thái thắt chặt hay nới lỏng của chính sác...</td>\n",
       "      <td>Lời tòa soạn Thị trường bất động sản ngày càng...</td>\n",
       "    </tr>\n",
       "  </tbody>\n",
       "</table>\n",
       "</div>"
      ],
      "text/plain": [
       "                                               title  \\\n",
       "0  Thủ tướng: Khác với đa số các nước, dư địa chí...   \n",
       "1  Thống nhất kịch bản tăng trưởng 3-4%, lạm phát...   \n",
       "2  Đề xuất tăng liều lượng gói kích thích kinh tế...   \n",
       "3  Thủ tướng: Khác với đa số các nước, dư địa chí...   \n",
       "4  Tác động từ chính sách tín dụng: BĐS có thể đó...   \n",
       "\n",
       "                                             snippet  \\\n",
       "0  (Tổ Quốc) - Với bối cảnh hiện nay, Hội đồng Tư...   \n",
       "1  Tại cuộc họp Hội đồng Tư vấn chính sách tài ch...   \n",
       "2  Chuyên gia đề xuất do dịch bệnh Covid-19 còn k...   \n",
       "3  Với bối cảnh hiện nay, Hội đồng Tư vấn chính s...   \n",
       "4  Động thái thắt chặt hay nới lỏng của chính sác...   \n",
       "\n",
       "                                             content  \n",
       "0  Sáng ngày 9/7, Hội đồng Tư vấn chính sách tài ...  \n",
       "1  Tham dự cuộc họp có Thống đốc NHNN Lê Minh Hưn...  \n",
       "2  Sáng 9/7, Thủ tướng Nguyễn Xuân Phúc chủ trì h...  \n",
       "3  Với bối cảnh hiện nay, Hội đồng Tư vấn chính s...  \n",
       "4  Lời tòa soạn Thị trường bất động sản ngày càng...  "
      ]
     },
     "execution_count": 11,
     "metadata": {},
     "output_type": "execute_result"
    }
   ],
   "source": [
    "data.head()"
   ]
  },
  {
   "cell_type": "code",
   "execution_count": 12,
   "id": "02cb0967-d219-44f7-9793-ba1cf8b0bed4",
   "metadata": {},
   "outputs": [
    {
     "data": {
      "text/plain": [
       "'Thống nhất kịch bản tăng trưởng 3-4%, lạm phát dưới 4%'"
      ]
     },
     "execution_count": 12,
     "metadata": {},
     "output_type": "execute_result"
    }
   ],
   "source": [
    "data.title[1]"
   ]
  },
  {
   "cell_type": "code",
   "execution_count": 18,
   "id": "651749cb-7a5f-4843-b816-67b5a34effde",
   "metadata": {},
   "outputs": [],
   "source": [
    "# TODO: Làm sạch dữ liệu chỉ giữ lại dữ liệu bằng chữ\n",
    "# 1. Nếu là dữ liệu scrapped từ web thì chỉ trích lọc dữ liệu chứ (text only)\n",
    "# 2. Loại bỏ hyperlink (nếu có) #https://baophapluat.com ->baophapluat lẫn\n",
    "# 3. Nếu là dữ liệu web thì cần loại bỏ emoji(example: :smile: :angry:\n",
    "# 4. Loại bỏ tất cả các dấu (.,\\/!@#$%^&*()+_ etc.)\n",
    "# 5. Loại bỏ tất cả các số\n",
    "# 6. Loại bỏ các khoảng trắng và đổi text thành lowercase #normallize  T == t "
   ]
  },
  {
   "cell_type": "code",
   "execution_count": 16,
   "id": "703cf364-898e-4494-8640-a16d3cea1643",
   "metadata": {},
   "outputs": [],
   "source": [
    "#!pip install bs4"
   ]
  },
  {
   "cell_type": "code",
   "execution_count": 19,
   "id": "5959931b-a401-4a4b-9cc9-fd43e996ae8a",
   "metadata": {},
   "outputs": [],
   "source": [
    "# 1. lấy text\n",
    "import bs4 \n",
    "def del_html(text):\n",
    "    soup = bs4.BeautifulSoup(text)\n",
    "    return soup.get_text(' ')"
   ]
  },
  {
   "cell_type": "code",
   "execution_count": 25,
   "id": "62c1e331-1dcf-402b-8af8-b36629a639c7",
   "metadata": {
    "tags": []
   },
   "outputs": [],
   "source": [
    "# 2. Loại bỏ hyperlink\n",
    "import re # regular expression\n",
    "def del_link(text):\n",
    "    link = r'http[\\S]*' #pattern quy tắc * thay cho tất cả những thằng còn lại bất kì\n",
    "    text = re.sub(link, ' ', str(text))\n",
    "    return text"
   ]
  },
  {
   "cell_type": "code",
   "execution_count": 26,
   "id": "e4dee2e0-604d-4c64-ae3e-84cfb8eb648c",
   "metadata": {},
   "outputs": [],
   "source": [
    "#!pip install demoji"
   ]
  },
  {
   "cell_type": "code",
   "execution_count": 32,
   "id": "04be7513-0bb3-4e8f-b7e6-3f517d5a8536",
   "metadata": {},
   "outputs": [],
   "source": [
    "# 3.Loai bỏ tất cả emoji bằng kí tự trống\n",
    "import demoji\n",
    "def del_emoji(text):\n",
    "    return demoji.replace(text, '')\n"
   ]
  },
  {
   "cell_type": "code",
   "execution_count": 31,
   "id": "6b3915e9-e245-453d-9f89-ba460d5dbc95",
   "metadata": {},
   "outputs": [],
   "source": [
    "# 4. Loại bỏ toàn bộ dấu\n",
    "def del_punctuation(doc):\n",
    "    pattern = r'[\\,\\.\\/\\\\\\!\\@\\#\\+\\\"\\'\\;\\)\\(\\“\\”\\\\\\-\\:…&><=\\-\\%\\|\\^\\$\\&\\)\\(\\[\\]\\{\\}\\?\\*\\•]'\n",
    "    record = re.sub(pattern, ' ', doc)\n",
    "    return re.sub(r'\\n', ' ', record)\n"
   ]
  },
  {
   "cell_type": "code",
   "execution_count": 33,
   "id": "aa243430-1dfd-4556-b5a8-5d762c3e4fe1",
   "metadata": {},
   "outputs": [],
   "source": [
    "# 5. d+ thay thế cho các kí tự là chữ số 0,1,2,3,4,...789\n",
    "def del_numbers(text):\n",
    "    return re.sub(r'\\d+', ' ', text)"
   ]
  },
  {
   "cell_type": "code",
   "execution_count": 34,
   "id": "a4f2d156-59e4-4c3c-a266-f768aa33c1a1",
   "metadata": {},
   "outputs": [],
   "source": [
    "# 6. Loại bỏ khoảng trắng bằng (dấu cách , Tab, xuống dòng) ==> từ 1 khoảng trắng đứng cạnh nhau trở lên s+ trừ đấu cách đứng 1 mình\n",
    "def del_space(doc):\n",
    "    space_pattern = r'\\s+'\n",
    "    return re.sub(space_pattern, ' ', doc.lower())"
   ]
  },
  {
   "cell_type": "code",
   "execution_count": 71,
   "id": "8c281743-b3c3-4119-a0da-e99c8cc988fe",
   "metadata": {
    "tags": []
   },
   "outputs": [
    {
     "name": "stdout",
     "output_type": "stream",
     "text": [
      "Thủ tướng: Khác với đa số các nước, dư địa chính sách tài khóa, tiền tệ của Việt Nam còn khá lớn\n",
      "del_html : Thủ tướng: Khác với đa số các nước, dư địa chính sách tài khóa, tiền tệ của Việt Nam còn khá lớn\n",
      "del_link : Thủ tướng: Khác với đa số các nước, dư địa chính sách tài khóa, tiền tệ của Việt Nam còn khá lớn\n",
      "del_emoji : Thủ tướng: Khác với đa số các nước, dư địa chính sách tài khóa, tiền tệ của Việt Nam còn khá lớn\n",
      "del_punctuation : Thủ tướng  Khác với đa số các nước  dư địa chính sách tài khóa  tiền tệ của Việt Nam còn khá lớn\n",
      "del_numbers : Thủ tướng  Khác với đa số các nước  dư địa chính sách tài khóa  tiền tệ của Việt Nam còn khá lớn\n",
      "del_space : thủ tướng khác với đa số các nước dư địa chính sách tài khóa tiền tệ của việt nam còn khá lớn\n"
     ]
    }
   ],
   "source": [
    "text = data.iloc[0,0]\n",
    "print(text)\n",
    "for func in [del_html, del_link, del_emoji, del_punctuation, \n",
    "             del_numbers, del_space]:\n",
    "    text = func(text)\n",
    "    print(func.__name__, ':', text)"
   ]
  },
  {
   "cell_type": "markdown",
   "id": "d16c807e-c950-44b4-923a-3da9c08f74e8",
   "metadata": {},
   "source": [
    "#### Chia từ (Word tokenizing) - Tiếng Anh vs Tiếng Việt"
   ]
  },
  {
   "cell_type": "code",
   "execution_count": 44,
   "id": "c985a9ba-9a19-4e02-9b09-e99c24578207",
   "metadata": {},
   "outputs": [
    {
     "data": {
      "text/plain": [
       "['thủ',\n",
       " 'tướng',\n",
       " 'khác',\n",
       " 'với',\n",
       " 'đa',\n",
       " 'số',\n",
       " 'các',\n",
       " 'nước',\n",
       " 'dư',\n",
       " 'địa',\n",
       " 'chính',\n",
       " 'sách',\n",
       " 'tài',\n",
       " 'khóa',\n",
       " 'tiền',\n",
       " 'tệ',\n",
       " 'của',\n",
       " 'việt',\n",
       " 'nam',\n",
       " 'còn',\n",
       " 'khá',\n",
       " 'lớn']"
      ]
     },
     "execution_count": 44,
     "metadata": {},
     "output_type": "execute_result"
    }
   ],
   "source": [
    "# Tiếng Anh\n",
    "text.split()"
   ]
  },
  {
   "cell_type": "code",
   "execution_count": 46,
   "id": "3377d6c5-7b47-4a12-9dd4-9b5385f07928",
   "metadata": {},
   "outputs": [
    {
     "name": "stdout",
     "output_type": "stream",
     "text": [
      "Requirement already satisfied: nltk in /opt/anaconda3/envs/anthony/lib/python3.7/site-packages (3.6.2)\n",
      "Requirement already satisfied: regex in /opt/anaconda3/envs/anthony/lib/python3.7/site-packages (from nltk) (2021.8.21)\n",
      "Requirement already satisfied: tqdm in /opt/anaconda3/envs/anthony/lib/python3.7/site-packages (from nltk) (4.62.1)\n",
      "Requirement already satisfied: click in /opt/anaconda3/envs/anthony/lib/python3.7/site-packages (from nltk) (8.0.1)\n",
      "Requirement already satisfied: joblib in /opt/anaconda3/envs/anthony/lib/python3.7/site-packages (from nltk) (1.0.1)\n",
      "Requirement already satisfied: importlib-metadata in /opt/anaconda3/envs/anthony/lib/python3.7/site-packages (from click->nltk) (3.10.0)\n",
      "Requirement already satisfied: zipp>=0.5 in /opt/anaconda3/envs/anthony/lib/python3.7/site-packages (from importlib-metadata->click->nltk) (3.5.0)\n",
      "Requirement already satisfied: typing-extensions>=3.6.4 in /opt/anaconda3/envs/anthony/lib/python3.7/site-packages (from importlib-metadata->click->nltk) (3.7.4.3)\n"
     ]
    }
   ],
   "source": [
    "!pip install nltk #natural laguage toolkit"
   ]
  },
  {
   "cell_type": "code",
   "execution_count": 48,
   "id": "734b902e-accd-4b91-84ae-86700ca78c0e",
   "metadata": {},
   "outputs": [
    {
     "name": "stdout",
     "output_type": "stream",
     "text": [
      "showing info https://raw.githubusercontent.com/nltk/nltk_data/gh-pages/index.xml\n"
     ]
    },
    {
     "ename": "KeyboardInterrupt",
     "evalue": "",
     "output_type": "error",
     "traceback": [
      "\u001b[0;31m---------------------------------------------------------------------------\u001b[0m",
      "\u001b[0;31mKeyboardInterrupt\u001b[0m                         Traceback (most recent call last)",
      "\u001b[0;32m<ipython-input-48-3b02390c7677>\u001b[0m in \u001b[0;36m<module>\u001b[0;34m\u001b[0m\n\u001b[1;32m      1\u001b[0m \u001b[0;32mimport\u001b[0m \u001b[0mnltk\u001b[0m\u001b[0;34m\u001b[0m\u001b[0m\n\u001b[0;32m----> 2\u001b[0;31m \u001b[0mnltk\u001b[0m\u001b[0;34m.\u001b[0m\u001b[0mdownload\u001b[0m\u001b[0;34m(\u001b[0m\u001b[0;34m)\u001b[0m\u001b[0;34m\u001b[0m\u001b[0m\n\u001b[0m",
      "\u001b[0;32m/opt/anaconda3/envs/anthony/lib/python3.7/site-packages/nltk/downloader.py\u001b[0m in \u001b[0;36mdownload\u001b[0;34m(self, info_or_id, download_dir, quiet, force, prefix, halt_on_error, raise_on_error, print_error_to)\u001b[0m\n\u001b[1;32m    763\u001b[0m             \u001b[0;32mif\u001b[0m \u001b[0mdownload_dir\u001b[0m \u001b[0;32mis\u001b[0m \u001b[0;32mnot\u001b[0m \u001b[0;32mNone\u001b[0m\u001b[0;34m:\u001b[0m\u001b[0;34m\u001b[0m\u001b[0m\n\u001b[1;32m    764\u001b[0m                 \u001b[0mself\u001b[0m\u001b[0;34m.\u001b[0m\u001b[0m_download_dir\u001b[0m \u001b[0;34m=\u001b[0m \u001b[0mdownload_dir\u001b[0m\u001b[0;34m\u001b[0m\u001b[0m\n\u001b[0;32m--> 765\u001b[0;31m             \u001b[0mself\u001b[0m\u001b[0;34m.\u001b[0m\u001b[0m_interactive_download\u001b[0m\u001b[0;34m(\u001b[0m\u001b[0;34m)\u001b[0m\u001b[0;34m\u001b[0m\u001b[0m\n\u001b[0m\u001b[1;32m    766\u001b[0m             \u001b[0;32mreturn\u001b[0m \u001b[0;32mTrue\u001b[0m\u001b[0;34m\u001b[0m\u001b[0m\n\u001b[1;32m    767\u001b[0m \u001b[0;34m\u001b[0m\u001b[0m\n",
      "\u001b[0;32m/opt/anaconda3/envs/anthony/lib/python3.7/site-packages/nltk/downloader.py\u001b[0m in \u001b[0;36m_interactive_download\u001b[0;34m(self)\u001b[0m\n\u001b[1;32m   1113\u001b[0m         \u001b[0;32mif\u001b[0m \u001b[0mTKINTER\u001b[0m\u001b[0;34m:\u001b[0m\u001b[0;34m\u001b[0m\u001b[0m\n\u001b[1;32m   1114\u001b[0m             \u001b[0;32mtry\u001b[0m\u001b[0;34m:\u001b[0m\u001b[0;34m\u001b[0m\u001b[0m\n\u001b[0;32m-> 1115\u001b[0;31m                 \u001b[0mDownloaderGUI\u001b[0m\u001b[0;34m(\u001b[0m\u001b[0mself\u001b[0m\u001b[0;34m)\u001b[0m\u001b[0;34m.\u001b[0m\u001b[0mmainloop\u001b[0m\u001b[0;34m(\u001b[0m\u001b[0;34m)\u001b[0m\u001b[0;34m\u001b[0m\u001b[0m\n\u001b[0m\u001b[1;32m   1116\u001b[0m             \u001b[0;32mexcept\u001b[0m \u001b[0mTclError\u001b[0m\u001b[0;34m:\u001b[0m\u001b[0;34m\u001b[0m\u001b[0m\n\u001b[1;32m   1117\u001b[0m                 \u001b[0mDownloaderShell\u001b[0m\u001b[0;34m(\u001b[0m\u001b[0mself\u001b[0m\u001b[0;34m)\u001b[0m\u001b[0;34m.\u001b[0m\u001b[0mrun\u001b[0m\u001b[0;34m(\u001b[0m\u001b[0;34m)\u001b[0m\u001b[0;34m\u001b[0m\u001b[0m\n",
      "\u001b[0;32m/opt/anaconda3/envs/anthony/lib/python3.7/site-packages/nltk/downloader.py\u001b[0m in \u001b[0;36mmainloop\u001b[0;34m(self, *args, **kwargs)\u001b[0m\n\u001b[1;32m   1932\u001b[0m \u001b[0;34m\u001b[0m\u001b[0m\n\u001b[1;32m   1933\u001b[0m     \u001b[0;32mdef\u001b[0m \u001b[0mmainloop\u001b[0m\u001b[0;34m(\u001b[0m\u001b[0mself\u001b[0m\u001b[0;34m,\u001b[0m \u001b[0;34m*\u001b[0m\u001b[0margs\u001b[0m\u001b[0;34m,\u001b[0m \u001b[0;34m**\u001b[0m\u001b[0mkwargs\u001b[0m\u001b[0;34m)\u001b[0m\u001b[0;34m:\u001b[0m\u001b[0;34m\u001b[0m\u001b[0m\n\u001b[0;32m-> 1934\u001b[0;31m         \u001b[0mself\u001b[0m\u001b[0;34m.\u001b[0m\u001b[0mtop\u001b[0m\u001b[0;34m.\u001b[0m\u001b[0mmainloop\u001b[0m\u001b[0;34m(\u001b[0m\u001b[0;34m*\u001b[0m\u001b[0margs\u001b[0m\u001b[0;34m,\u001b[0m \u001b[0;34m**\u001b[0m\u001b[0mkwargs\u001b[0m\u001b[0;34m)\u001b[0m\u001b[0;34m\u001b[0m\u001b[0m\n\u001b[0m\u001b[1;32m   1935\u001b[0m \u001b[0;34m\u001b[0m\u001b[0m\n\u001b[1;32m   1936\u001b[0m     \u001b[0;31m# /////////////////////////////////////////////////////////////////\u001b[0m\u001b[0;34m\u001b[0m\u001b[0;34m\u001b[0m\u001b[0m\n",
      "\u001b[0;32m/opt/anaconda3/envs/anthony/lib/python3.7/tkinter/__init__.py\u001b[0m in \u001b[0;36mmainloop\u001b[0;34m(self, n)\u001b[0m\n\u001b[1;32m   1278\u001b[0m     \u001b[0;32mdef\u001b[0m \u001b[0mmainloop\u001b[0m\u001b[0;34m(\u001b[0m\u001b[0mself\u001b[0m\u001b[0;34m,\u001b[0m \u001b[0mn\u001b[0m\u001b[0;34m=\u001b[0m\u001b[0;36m0\u001b[0m\u001b[0;34m)\u001b[0m\u001b[0;34m:\u001b[0m\u001b[0;34m\u001b[0m\u001b[0m\n\u001b[1;32m   1279\u001b[0m         \u001b[0;34m\"\"\"Call the mainloop of Tk.\"\"\"\u001b[0m\u001b[0;34m\u001b[0m\u001b[0m\n\u001b[0;32m-> 1280\u001b[0;31m         \u001b[0mself\u001b[0m\u001b[0;34m.\u001b[0m\u001b[0mtk\u001b[0m\u001b[0;34m.\u001b[0m\u001b[0mmainloop\u001b[0m\u001b[0;34m(\u001b[0m\u001b[0mn\u001b[0m\u001b[0;34m)\u001b[0m\u001b[0;34m\u001b[0m\u001b[0m\n\u001b[0m\u001b[1;32m   1281\u001b[0m     \u001b[0;32mdef\u001b[0m \u001b[0mquit\u001b[0m\u001b[0;34m(\u001b[0m\u001b[0mself\u001b[0m\u001b[0;34m)\u001b[0m\u001b[0;34m:\u001b[0m\u001b[0;34m\u001b[0m\u001b[0m\n\u001b[1;32m   1282\u001b[0m         \u001b[0;34m\"\"\"Quit the Tcl interpreter. All widgets will be destroyed.\"\"\"\u001b[0m\u001b[0;34m\u001b[0m\u001b[0m\n",
      "\u001b[0;31mKeyboardInterrupt\u001b[0m: "
     ]
    }
   ],
   "source": [
    "import nltk\n",
    "nltk.download()"
   ]
  },
  {
   "cell_type": "code",
   "execution_count": 72,
   "id": "e7421b75-c2cf-407c-8506-a1ba5a31d44b",
   "metadata": {
    "tags": []
   },
   "outputs": [
    {
     "data": {
      "text/plain": [
       "['A', 'quick', 'brown', 'fox', 'jump', 'over', 'a', 'lazy', 'dog', '.']"
      ]
     },
     "execution_count": 72,
     "metadata": {},
     "output_type": "execute_result"
    }
   ],
   "source": [
    "import nltk\n",
    "sentence = 'A quick brown fox jump over a lazy dog.'\n",
    "nltk.word_tokenize(sentence) # Tách thành yếu tố nhỏ nhất trong câu"
   ]
  },
  {
   "cell_type": "code",
   "execution_count": 73,
   "id": "08e1184d-1a5f-4ec0-8621-cc3035cd3e59",
   "metadata": {},
   "outputs": [
    {
     "data": {
      "text/plain": [
       "['A quick brown fox jump over a lazy dog.']"
      ]
     },
     "execution_count": 73,
     "metadata": {},
     "output_type": "execute_result"
    }
   ],
   "source": [
    "nltk.sent_tokenize(sentence) #sentences tokenize tách câu"
   ]
  },
  {
   "cell_type": "code",
   "execution_count": 74,
   "id": "b1e32561-efc2-4f71-9643-e2812fc0fcb6",
   "metadata": {},
   "outputs": [
    {
     "data": {
      "text/plain": [
       "[['A', 'quick', 'brown', 'fox', 'jump', 'over', 'a', 'lazy', 'dog', '.'],\n",
       " ['He', 'is', 'the', 'royal', 'king', '.']]"
      ]
     },
     "execution_count": 74,
     "metadata": {},
     "output_type": "execute_result"
    }
   ],
   "source": [
    "sentences = '''A quick brown fox jump over a lazy dog.\n",
    "He is the royal king.\n",
    "'''\n",
    "\n",
    "[nltk.word_tokenize(i) for i in nltk.sent_tokenize(sentences)]"
   ]
  },
  {
   "cell_type": "code",
   "execution_count": 75,
   "id": "b98afc68-e131-4c90-8000-5b1db2680003",
   "metadata": {},
   "outputs": [
    {
     "data": {
      "text/plain": [
       "[['A', 'quick', 'brown', 'fox', 'jump', 'over', 'a', 'lazy', 'dog'],\n",
       " ['He', 'is', 'the', 'royal', 'king'],\n",
       " []]"
      ]
     },
     "execution_count": 75,
     "metadata": {},
     "output_type": "execute_result"
    }
   ],
   "source": [
    "[sent.split() for sent in sentences.split('.')]"
   ]
  },
  {
   "cell_type": "code",
   "execution_count": 76,
   "id": "a27ba149-2dfd-409f-a23f-550018530fbf",
   "metadata": {},
   "outputs": [
    {
     "name": "stdout",
     "output_type": "stream",
     "text": [
      "['thủ', 'tướng', 'khác', 'với', 'đa', 'số', 'các', 'nước', 'dư', 'địa', 'chính', 'sách', 'tài', 'khóa', 'tiền', 'tệ', 'của', 'việt', 'nam', 'còn', 'khá', 'lớn']\n"
     ]
    }
   ],
   "source": [
    "print(nltk.word_tokenize(text))"
   ]
  },
  {
   "cell_type": "code",
   "execution_count": 77,
   "id": "ea9033be-796a-42a6-a4ab-7fd5764c5186",
   "metadata": {},
   "outputs": [],
   "source": [
    "# Tiếng Việt"
   ]
  },
  {
   "cell_type": "code",
   "execution_count": null,
   "id": "f6fbfac9-9bab-4af3-b671-b64aad2476bc",
   "metadata": {},
   "outputs": [
    {
     "name": "stdout",
     "output_type": "stream",
     "text": [
      "Collecting pyvi\n",
      "  Downloading pyvi-0.1.1-py2.py3-none-any.whl (8.5 MB)\n",
      "\u001b[K     |████████████████████████████████| 8.5 MB 1.4 MB/s eta 0:00:01     |██████████▍                     | 2.7 MB 1.6 MB/s eta 0:00:04     |███████████████▌                | 4.1 MB 1.5 MB/s eta 0:00:03     |███████████████████████▏        | 6.1 MB 2.3 MB/s eta 0:00:02\n",
      "\u001b[?25hRequirement already satisfied: scikit-learn in /opt/anaconda3/envs/anthony/lib/python3.7/site-packages (from pyvi) (0.24.2)\n",
      "Collecting sklearn-crfsuite\n",
      "  Downloading sklearn_crfsuite-0.3.6-py2.py3-none-any.whl (12 kB)\n",
      "Requirement already satisfied: threadpoolctl>=2.0.0 in /opt/anaconda3/envs/anthony/lib/python3.7/site-packages (from scikit-learn->pyvi) (2.2.0)\n",
      "Requirement already satisfied: scipy>=0.19.1 in /opt/anaconda3/envs/anthony/lib/python3.7/site-packages (from scikit-learn->pyvi) (1.6.2)\n",
      "Requirement already satisfied: numpy>=1.13.3 in /opt/anaconda3/envs/anthony/lib/python3.7/site-packages (from scikit-learn->pyvi) (1.19.5)\n",
      "Requirement already satisfied: joblib>=0.11 in /opt/anaconda3/envs/anthony/lib/python3.7/site-packages (from scikit-learn->pyvi) (1.0.1)\n",
      "Collecting python-crfsuite>=0.8.3\n",
      "  Downloading python_crfsuite-0.9.7-cp37-cp37m-macosx_10_13_x86_64.whl (186 kB)\n",
      "\u001b[K     |████████████████████████████████| 186 kB 1.6 MB/s eta 0:00:01\n",
      "\u001b[?25hCollecting tabulate\n",
      "  Downloading tabulate-0.8.9-py3-none-any.whl (25 kB)\n",
      "Requirement already satisfied: six in /opt/anaconda3/envs/anthony/lib/python3.7/site-packages (from sklearn-crfsuite->pyvi) (1.15.0)\n",
      "Requirement already satisfied: tqdm>=2.0 in /opt/anaconda3/envs/anthony/lib/python3.7/site-packages (from sklearn-crfsuite->pyvi) (4.62.1)\n",
      "Installing collected packages: tabulate, python-crfsuite, sklearn-crfsuite, pyvi\n",
      "Successfully installed python-crfsuite-0.9.7 pyvi-0.1.1 sklearn-crfsuite-0.3.6 tabulate-0.8.9\n"
     ]
    }
   ],
   "source": [
    "!pip install pyvi"
   ]
  },
  {
   "cell_type": "code",
   "execution_count": 78,
   "id": "fd019cd1-8530-4639-8868-5159e79cd2b5",
   "metadata": {},
   "outputs": [
    {
     "data": {
      "text/plain": [
       "'thủ_tướng khác với đa_số các nước dư địa_chính_sách tài khóa tiền_tệ của việt nam còn khá lớn'"
      ]
     },
     "execution_count": 78,
     "metadata": {},
     "output_type": "execute_result"
    }
   ],
   "source": [
    "from pyvi.ViTokenizer import tokenize\n",
    "\n",
    "tokenize(text)"
   ]
  },
  {
   "cell_type": "code",
   "execution_count": 79,
   "id": "5bd0bb65-92a9-429a-8f4c-8c6c074f8b44",
   "metadata": {},
   "outputs": [
    {
     "name": "stdout",
     "output_type": "stream",
     "text": [
      "['thủ_tướng', 'khác', 'với', 'đa_số', 'các', 'nước', 'dư', 'địa_chính_sách', 'tài', 'khóa', 'tiền_tệ', 'của', 'việt', 'nam', 'còn', 'khá', 'lớn']\n"
     ]
    }
   ],
   "source": [
    "print(tokenize(text).split())"
   ]
  },
  {
   "cell_type": "markdown",
   "id": "eec9ba76-913e-4803-a39b-d6b537ed57bb",
   "metadata": {},
   "source": [
    "#### Put together"
   ]
  },
  {
   "cell_type": "code",
   "execution_count": 80,
   "id": "c038b40f-907a-4cea-bd75-9ff06581b9da",
   "metadata": {},
   "outputs": [],
   "source": [
    "def clean_text(text):\n",
    "    text = del_html(text)\n",
    "    text = del_link(text)\n",
    "    text = del_numbers(text)\n",
    "    text = del_emoji(text)\n",
    "    text = del_punctuation(text)\n",
    "    text = del_space(text)\n",
    "    return tokenize(text)"
   ]
  },
  {
   "cell_type": "code",
   "execution_count": 83,
   "id": "98d08d23-2ebd-44e8-be76-6b7866777708",
   "metadata": {},
   "outputs": [
    {
     "data": {
      "text/plain": [
       "0      Thủ tướng: Khác với đa số các nước, dư địa chí...\n",
       "1      Thống nhất kịch bản tăng trưởng 3-4%, lạm phát...\n",
       "2      Đề xuất tăng liều lượng gói kích thích kinh tế...\n",
       "3      Thủ tướng: Khác với đa số các nước, dư địa chí...\n",
       "4      Tác động từ chính sách tín dụng: BĐS có thể đó...\n",
       "                             ...                        \n",
       "871    Việt Nam thành lập Viện nghiên cứu phát triển ...\n",
       "872    Bất động sản chờ lực bật mới Chịu nhiều khó kh...\n",
       "873    Diễn đàn Bất động sản 2020: Cơ hội mới từ chín...\n",
       "874    Thống đốc Lê Minh Hưng: Tín dụng tăng trở lại,...\n",
       "875    Sẵn sàng đón nhận dòng vốn đầu tư dịch chuyển ...\n",
       "Name: corpus, Length: 876, dtype: object"
      ]
     },
     "execution_count": 83,
     "metadata": {},
     "output_type": "execute_result"
    }
   ],
   "source": [
    "data['corpus'] = data.apply(lambda x: ' '.join(x), axis=1) #gộp dữ liệu text từ 3 cột của dataframe\n",
    "data['corpus'] #in text mining the combination of all text is corpus/corpora"
   ]
  },
  {
   "cell_type": "code",
   "execution_count": 85,
   "id": "664ac7b1-82d1-400c-bb94-0746b098a2ed",
   "metadata": {},
   "outputs": [
    {
     "data": {
      "text/plain": [
       "0      thủ_tướng khác với đa_số các nước dư địa_chính...\n",
       "1      thống_nhất kịch_bản tăng_trưởng lạm_phát dưới ...\n",
       "2      đề_xuất tăng liều_lượng gói kích_thích kinh_tế...\n",
       "3      thủ_tướng khác với đa_số các nước dư địa_chính...\n",
       "4      tác_động từ chính_sách tín_dụng bđs có_thể đón...\n",
       "                             ...                        \n",
       "871    việt nam thành_lập viện nghiên_cứu phát_triển ...\n",
       "872    bất_động_sản chờ lực bật mới chịu nhiều khó_kh...\n",
       "873    diễn_đàn bất_động_sản cơ_hội mới từ chính_sách...\n",
       "874    thống_đốc lê minh hưng tín_dụng tăng trở_lại n...\n",
       "875    sẵn_sàng đón_nhận dòng vốn đầu_tư dịch_chuyển ...\n",
       "Name: corpus, Length: 876, dtype: object"
      ]
     },
     "execution_count": 85,
     "metadata": {},
     "output_type": "execute_result"
    }
   ],
   "source": [
    "data['corpus'] = data['corpus'].apply(clean_text)\n",
    "data['corpus']"
   ]
  },
  {
   "cell_type": "code",
   "execution_count": 87,
   "id": "df990f68-245c-41ed-8530-3c92e0947699",
   "metadata": {},
   "outputs": [
    {
     "data": {
      "text/plain": [
       "'thủ_tướng khác với đa_số các nước dư địa_chính_sách tài khóa tiền_tệ của việt nam còn khá lớn tổ_quốc với bối_cảnh hiện_nay hội_đồng tư_vấn chính_sách tài_chính tiền_tệ quốc_gia thống_nhất kịch_bản tăng_trưởng từ kiểm_soát lạm_phát dưới năm và đầu tăng_trưởng tín_dụng trên chủ_trương tăng thêm bội_chi ngân_sách nợ công khoảng gdp sáng ngày hội_đồng tư_vấn chính_sách tài_chính tiền_tệ quốc_gia đã họp dưới sự chủ_trì của thủ_tướng nguyễn xuân phúc chủ_tịch hội_đồng dư địa_chính_sách tài khóa tiền_'"
      ]
     },
     "execution_count": 87,
     "metadata": {},
     "output_type": "execute_result"
    }
   ],
   "source": [
    "data.loc[0, 'corpus'][:500]"
   ]
  },
  {
   "cell_type": "markdown",
   "id": "aa513f1e-0125-4cdc-a268-883af940025b",
   "metadata": {},
   "source": [
    "### Mã hóa dữ liệu text (Word embedding)"
   ]
  },
  {
   "cell_type": "markdown",
   "id": "a0d782c1-6302-4a8e-b8de-e936565beb95",
   "metadata": {},
   "source": [
    "#### 1. One-hot encoding"
   ]
  },
  {
   "cell_type": "code",
   "execution_count": 90,
   "id": "76b015ad-aa33-49a1-9937-677dffac05fc",
   "metadata": {},
   "outputs": [],
   "source": [
    "# Chuyển thành dạng lowercase (nếu chưa)\n",
    "# tách từ (tokenize), loại bỏ từ trùng lặp (set)\n",
    "# Sắp xếp theo thứ tự a-z\n",
    "# Lấy giá trị vị trí\n",
    "# Chuyển đổi thành vector [0, 1] tương ứng giá trị vị trí\n",
    "#our moddelling just can use the number therefore we have to move it(transform0 to the number dataset"
   ]
  },
  {
   "cell_type": "code",
   "execution_count": 98,
   "id": "8e93876c-d23f-4e3b-b6f0-8e21ee77c6c1",
   "metadata": {},
   "outputs": [
    {
     "name": "stdout",
     "output_type": "stream",
     "text": [
      "[0, 1, 2, 3, 4]\n",
      "['can', 'eat', 'i', 'pizza', 'the']\n"
     ]
    }
   ],
   "source": [
    "sentence = 'Can I eat the pizza'\n",
    "arr = sorted(nltk.word_tokenize(sentence.lower())) #Tácch tokenize and sort từ a->z\n",
    "print(list(range(len(arr))))\n",
    "print(arr)"
   ]
  },
  {
   "cell_type": "raw",
   "id": "97cd81d8-3d7c-4aa6-86b9-45cdfa7eb8e1",
   "metadata": {},
   "source": [
    "[[1. 0. 0. 0. 0.] # can\n",
    " [0. 0. 1. 0. 0.] # i\n",
    " [0. 1. 0. 0. 0.] # eat\n",
    " [0. 0. 0. 0. 1.] # the\n",
    " [0. 0. 0. 1. 0.]] # pizza\n",
    "#Calss: [0, 1, 2, 3, 4] and ['can', 'eat', 'i', 'pizza', 'the']"
   ]
  },
  {
   "cell_type": "code",
   "execution_count": 99,
   "id": "b38888df-bbca-4618-9546-b49bc1be16e5",
   "metadata": {},
   "outputs": [
    {
     "name": "stdout",
     "output_type": "stream",
     "text": [
      "\n",
      "values:  ['can', 'eat', 'i', 'pizza', 'the']\n",
      "\n",
      "integer encoded:  [0, 2, 1, 4, 3]\n",
      "\n",
      "MATRIX:\n",
      "[[1 0 0 0 0]\n",
      " [0 0 1 0 0]\n",
      " [0 1 0 0 0]\n",
      " [0 0 0 0 1]\n",
      " [0 0 0 1 0]]\n"
     ]
    }
   ],
   "source": [
    "docs = \"Can I eat the Pizza\".lower().split()\n",
    "doc1 = set(docs)\n",
    "doc1 = sorted(doc1)\n",
    "print (\"\\nvalues: \", doc1)\n",
    "\n",
    "integer_encoded = []\n",
    "for i in docs:\n",
    "    v = np.where( np.array(doc1) == i)[0][0]\n",
    "    integer_encoded.append(v)\n",
    "print (\"\\ninteger encoded: \",integer_encoded)\n",
    "\n",
    "def get_vec(len_doc,word):\n",
    "    empty_vector = [0] * len_doc\n",
    "    vect = 0\n",
    "    find = np.where( np.array(doc1) == word)[0][0]\n",
    "    empty_vector[find] = 1\n",
    "    return empty_vector\n",
    "\n",
    "def get_matrix(doc1):\n",
    "    mat = []\n",
    "    len_doc = len(doc1)\n",
    "    for i in docs:\n",
    "        vec = get_vec(len_doc,i)\n",
    "        mat.append(vec)\n",
    "        \n",
    "    return np.asarray(mat)\n",
    "\n",
    "print (\"\\nMATRIX:\")\n",
    "print (get_matrix(doc1))"
   ]
  },
  {
   "cell_type": "markdown",
   "id": "3b347065-59af-414d-8fee-f37389be5b5d",
   "metadata": {},
   "source": [
    "### Khai phá dữ liệu text (Text Mining)"
   ]
  },
  {
   "cell_type": "markdown",
   "id": "0b82a86e-d2e8-4c4c-a418-124c90218d1f",
   "metadata": {
    "tags": []
   },
   "source": [
    "#### 2.Khái niệm Bag-of-Words\n",
    "\n",
    "Là kỹ thuật chia văn bản thành các tổ hợp từ khác nhau (bằng phương pháp tokenize). Cách chia phổ biến là mỗi câu thành 1 văn bản (bag) và mỗi văn bản được chia thành từ (word). Dựa vào đó có thể đo lường mức độ xuất hiện của các từ trong văn bản và xây dựng mối liên hệ giữa ngữ cảnh và các từ. \n",
    "\n",
    "Hai yếu tố:\n",
    "1. Từ điển của các từ được sử dụng\n",
    "2. Mức độ xuất hiện của các từ trong từ điển\n",
    "*Mỗi từ hay token được gọi là một `gram`*\n"
   ]
  },
  {
   "cell_type": "code",
   "execution_count": 101,
   "id": "a2f157ea-c709-404b-a67c-fb87442d5f93",
   "metadata": {},
   "outputs": [
    {
     "data": {
      "text/plain": [
       "['It was the best of times',\n",
       " 'It was the worst of times',\n",
       " 'It was the age of wisdom',\n",
       " 'It was the age of foolishness']"
      ]
     },
     "execution_count": 101,
     "metadata": {},
     "output_type": "execute_result"
    }
   ],
   "source": [
    "sentences = [\n",
    "    'It was the best of times',\n",
    "    'It was the worst of times',\n",
    "    'It was the age of wisdom',\n",
    "    'It was the age of foolishness'\n",
    "]\n",
    "sentences"
   ]
  },
  {
   "cell_type": "code",
   "execution_count": 107,
   "id": "a0d8ef21-fcb3-48fa-b7fd-fceacb27a4be",
   "metadata": {},
   "outputs": [],
   "source": [
    "#['It', 'was', 'the', 'best', 'of', 'times', 'worst', 'age', 'wisdom', 'foolishness'] #Vector từ điển"
   ]
  },
  {
   "cell_type": "code",
   "execution_count": 108,
   "id": "4ca23669-38fe-4bd4-88d9-d9b2f05d334b",
   "metadata": {},
   "outputs": [],
   "source": [
    "#It was the best of times :\t [1, 1, 1, 1, 1, 1, 0, 0, 0, 0]\n",
    "#It was the worst of times :\t [1, 1, 1, 0, 1, 1, 1, 0, 0, 0]\n",
    "#It was the age of wisdom :\t [1, 1, 1, 0, 1, 0, 0, 1, 1, 0]\n",
    "#It was the age of foolishness :\t [1, 1, 1, 0, 1, 0, 0, 1, 0, 1]"
   ]
  },
  {
   "cell_type": "code",
   "execution_count": 111,
   "id": "dbea88b0-c557-4e32-92bf-d9ff4d024937",
   "metadata": {},
   "outputs": [
    {
     "name": "stdout",
     "output_type": "stream",
     "text": [
      "['It', 'was', 'the', 'best', 'of', 'times', 'worst', 'age', 'wisdom', 'foolishness']\n"
     ]
    }
   ],
   "source": [
    "dictionary = []                          #Thêm dần vào từ điển\n",
    "for sent in sentences:\n",
    "    words = nltk.word_tokenize(sent)\n",
    "    for w in words:\n",
    "        if w not in dictionary:\n",
    "            dictionary.append(w)\n",
    "print(dictionary)"
   ]
  },
  {
   "cell_type": "code",
   "execution_count": 112,
   "id": "125e3c08-234f-4810-a497-c50e7c531ea9",
   "metadata": {},
   "outputs": [
    {
     "name": "stdout",
     "output_type": "stream",
     "text": [
      "It was the best of times :\t [1, 1, 1, 1, 1, 1, 0, 0, 0, 0]\n",
      "It was the worst of times :\t [1, 1, 1, 0, 1, 1, 1, 0, 0, 0]\n",
      "It was the age of wisdom :\t [1, 1, 1, 0, 1, 0, 0, 1, 1, 0]\n",
      "It was the age of foolishness :\t [1, 1, 1, 0, 1, 0, 0, 1, 0, 1]\n"
     ]
    }
   ],
   "source": [
    "for sent in sentences:\n",
    "    vec = [1 if w in sent else 0 for w in dictionary]\n",
    "    print(sent, ':\\t', vec)"
   ]
  },
  {
   "cell_type": "markdown",
   "id": "3645f46c-63e0-4a38-a1f5-ad8ab78b8aa3",
   "metadata": {},
   "source": [
    "#### 3.TF-IDF (Term frequency-Inverse Document frequency)\n",
    "\n",
    "Ngữ cảnh: I am very angry ->\"very angry\" Tập trung vào cách từ mang nhiều thông tin\n",
    "\n",
    "Đơn vị đo thông tin trong machine learnning: entropy \n",
    "\n",
    "Đo lường tần suất ***hợp lý*** một từ (hay token) xuất hiện trong văn bản. Tần suất này được tính bằng: Mức độ xuất hiện của từ trong văn bản chia cho tỉ lệ văn bản mà từ đó xuất hiện trên tổng tất cả số lượng văn bản.\n",
    "\n",
    "Ví dụ: đối với như `what` hay `the`, các từ này xuất hiện rất nhiều tuy nhiên ko mang nhiều ý nghĩa nên cần có phương pháp loại trừ các từ này ra khỏi mô hình. Vì vậy ngoài tính toán mức độ xuất hiện của các từ trong văn bản, tuy nhiên nếu văn bản nào cũng xuất hiện từ này (hoặc đơn giản là rất nhiều > 90%) thì các từ này sẽ bị loại ra.\n",
    "\n",
    "$$ tf-idf(t, d, D)  = tf(t, d) \\dot idf(t, D)$$\n",
    "\n",
    "> `t`: từ (word hay token)\n",
    " \n",
    "> `d`: văn bản (document)\n",
    " \n",
    "> `D`: tệp các văn bản (documents)\n",
    "\n",
    "trong đó:\n",
    "\n",
    "$$ tf(t, d) = \\log(1 + freq(t, d)) $$\n",
    "$$ idf(t, D) = \\log \\left( \\dfrac{N}{count(d \\in D: t \\in d)} \\right)$$"
   ]
  },
  {
   "cell_type": "code",
   "execution_count": 115,
   "id": "8d500e30-be68-45fe-8fcb-296cc4c460cf",
   "metadata": {},
   "outputs": [
    {
     "name": "stdout",
     "output_type": "stream",
     "text": [
      "Collecting gensim\n",
      "  Downloading gensim-4.0.1-cp37-cp37m-macosx_10_9_x86_64.whl (23.9 MB)\n",
      "\u001b[K     |████████████████████████████████| 23.9 MB 4.2 MB/s eta 0:00:01     |██████████████▊                 | 11.0 MB 3.5 MB/s eta 0:00:04     |███████████████                 | 11.3 MB 3.5 MB/s eta 0:00:04     |██████████████████████████████▏ | 22.6 MB 4.2 MB/s eta 0:00:01     |██████████████████████████████▉ | 23.1 MB 4.2 MB/s eta 0:00:01\n",
      "\u001b[?25hRequirement already satisfied: scipy>=0.18.1 in /opt/anaconda3/envs/anthony/lib/python3.7/site-packages (from gensim) (1.6.2)\n",
      "Collecting smart-open>=1.8.1\n",
      "  Downloading smart_open-5.2.0-py3-none-any.whl (58 kB)\n",
      "\u001b[K     |████████████████████████████████| 58 kB 3.1 MB/s eta 0:00:011\n",
      "\u001b[?25hRequirement already satisfied: numpy>=1.11.3 in /opt/anaconda3/envs/anthony/lib/python3.7/site-packages (from gensim) (1.19.5)\n",
      "Installing collected packages: smart-open, gensim\n",
      "Successfully installed gensim-4.0.1 smart-open-5.2.0\n"
     ]
    }
   ],
   "source": [
    "!pip install gensim"
   ]
  },
  {
   "cell_type": "code",
   "execution_count": null,
   "id": "3ccb54cd-d254-458b-9c7c-27bccb7e24ee",
   "metadata": {},
   "outputs": [],
   "source": [
    "import gensim\n",
    "from gensim import corpora, models\n",
    "from gensim.utils import simple_preprocess\n"
   ]
  },
  {
   "cell_type": "code",
   "execution_count": 118,
   "id": "97fd43b9-a214-460b-96a2-a7e525f0df43",
   "metadata": {},
   "outputs": [
    {
     "name": "stdout",
     "output_type": "stream",
     "text": [
      "[['age', 1], ['foolishness', 1], ['it', 1], ['of', 1], ['the', 1], ['was', 1]]\n",
      "[['age', 1], ['foolishness', 1], ['it', 1], ['of', 1], ['the', 1], ['was', 1]]\n",
      "[['age', 1], ['foolishness', 1], ['it', 1], ['of', 1], ['the', 1], ['was', 1]]\n",
      "[['age', 1], ['foolishness', 1], ['it', 1], ['of', 1], ['the', 1], ['was', 1]]\n",
      "[['age', 0.0], ['foolishness', 0.0], ['it', 0.0], ['of', 0.0], ['the', 0.0], ['was', 0.0]]\n",
      "[['age', 0.0], ['foolishness', 0.0], ['it', 0.0], ['of', 0.0], ['the', 0.0], ['was', 0.0]]\n",
      "[['age', 0.0], ['foolishness', 0.0], ['it', 0.0], ['of', 0.0], ['the', 0.0], ['was', 0.0]]\n",
      "[['age', 0.0], ['foolishness', 0.0], ['it', 0.0], ['of', 0.0], ['the', 0.0], ['was', 0.0]]\n"
     ]
    }
   ],
   "source": [
    "import gensim\n",
    "from gensim import corpora, models\n",
    "from gensim.utils import simple_preprocess\n",
    "\n",
    "tokenized = [simple_preprocess(sent) for doc in sentences]\n",
    "dictionary = corpora.Dictionary()\n",
    "BoW_corpus = [dictionary.doc2bow(doc, allow_update=True) for doc in tokenized]\n",
    "\n",
    "for doc in BoW_corpus:\n",
    "    print([[dictionary[id], freq] for id, freq in doc])\n",
    "\n",
    "tfidf = models.TfidfModel(BoW_corpus, smartirs='ntc')\n",
    "for doc in tfidf[BoW_corpus]:\n",
    "    print([[dictionary[id], np.around(freq)] for id, freq in doc])"
   ]
  },
  {
   "cell_type": "code",
   "execution_count": 126,
   "id": "8b11b6e9-3271-4c0b-b9b8-51709f57ff3b",
   "metadata": {},
   "outputs": [
    {
     "data": {
      "text/plain": [
       "[['it', 'was', 'the', 'best', 'of', 'times'],\n",
       " ['it', 'was', 'the', 'worst', 'of', 'times'],\n",
       " ['it', 'was', 'the', 'age', 'of', 'wisdom'],\n",
       " ['it', 'was', 'the', 'age', 'of', 'foolishness']]"
      ]
     },
     "execution_count": 126,
     "metadata": {},
     "output_type": "execute_result"
    }
   ],
   "source": [
    "tokenized = [simple_preprocess(sent) for sent in sentences]\n",
    "tokenized"
   ]
  },
  {
   "cell_type": "code",
   "execution_count": 127,
   "id": "bb319f69-70ac-4e82-ac01-ded493dc4e53",
   "metadata": {},
   "outputs": [
    {
     "data": {
      "text/plain": [
       "[[(0, 1), (1, 1), (2, 1), (3, 1), (4, 1), (5, 1)],\n",
       " [(1, 1), (2, 1), (3, 1), (4, 1), (5, 1), (6, 1)],\n",
       " [(1, 1), (2, 1), (3, 1), (5, 1), (7, 1), (8, 1)],\n",
       " [(1, 1), (2, 1), (3, 1), (5, 1), (7, 1), (9, 1)]]"
      ]
     },
     "execution_count": 127,
     "metadata": {},
     "output_type": "execute_result"
    }
   ],
   "source": [
    "dictionary = corpora.Dictionary()\n",
    "bow_corpus = [dictionary.doc2bow(doc, allow_update=True) for doc in tokenized]\n",
    "bow_corpus"
   ]
  },
  {
   "cell_type": "code",
   "execution_count": 128,
   "id": "4d37112c-a377-4e54-a479-749d95fb1d22",
   "metadata": {},
   "outputs": [
    {
     "name": "stdout",
     "output_type": "stream",
     "text": [
      "[['best', 1], ['it', 1], ['of', 1], ['the', 1], ['times', 1], ['was', 1]]\n",
      "[['it', 1], ['of', 1], ['the', 1], ['times', 1], ['was', 1], ['worst', 1]]\n",
      "[['it', 1], ['of', 1], ['the', 1], ['was', 1], ['age', 1], ['wisdom', 1]]\n",
      "[['it', 1], ['of', 1], ['the', 1], ['was', 1], ['age', 1], ['foolishness', 1]]\n"
     ]
    }
   ],
   "source": [
    "for doc in bow_corpus:\n",
    "    print([[dictionary[id], freq] for id, freq in doc])"
   ]
  },
  {
   "cell_type": "code",
   "execution_count": 129,
   "id": "c84a2c4c-d198-4445-8b01-9b12c23990f6",
   "metadata": {},
   "outputs": [
    {
     "data": {
      "text/plain": [
       "<gensim.models.tfidfmodel.TfidfModel at 0x135e202e8>"
      ]
     },
     "execution_count": 129,
     "metadata": {},
     "output_type": "execute_result"
    }
   ],
   "source": [
    "tfidf = models.TfidfModel(bow_corpus, smartirs='ntc')\n",
    "tfidf"
   ]
  },
  {
   "cell_type": "code",
   "execution_count": 133,
   "id": "25d55915-d15d-46b4-98a7-878a8d61118a",
   "metadata": {},
   "outputs": [
    {
     "name": "stdout",
     "output_type": "stream",
     "text": [
      "[['biện_pháp', 0.5847668813814079], ['bán_lẻ', 0.040538052942047084], ['bên', 0.040538052942047084], ['bùi', 0.040538052942047084], ['bùng_phát', 0.16646074681637552], ['bảo_vệ', 0.040538052942047084], ['bối_cảnh', 0.5847668813814079], ['bội_chi', 0.33292149363275103], ['ca', 0.29238344069070393], ['chi', 0.29238344069070393]]\n",
      "[['bảo_vệ', 0.059979551638121215], ['bối_cảnh', 0.8652131223031576], ['bội_chi', 0.24629305639485], ['chi', 0.4326065611515788]]\n",
      "[['biện_pháp', 0.5463375509662306], ['bán_lẻ', 0.037873999486732146], ['bên', 0.037873999486732146], ['bùi', 0.037873999486732146], ['bảo_vệ', 0.037873999486732146], ['bối_cảnh', 0.8195063264493457], ['bội_chi', 0.15552138748492372]]\n",
      "[['biện_pháp', 0.4672924791343553], ['bán_lẻ', 0.03239432304001067], ['bên', 0.03239432304001067], ['bùi', 0.03239432304001067], ['bùng_phát', 0.13302028130359417], ['bảo_vệ', 0.03239432304001067], ['bối_cảnh', 0.7009387187015329], ['bội_chi', 0.3990608439107825], ['ca', 0.23364623956717764], ['chi', 0.23364623956717764]]\n",
      "[['bên', 0.1373331919447085], ['bối_cảnh', 0.9905249085158221]]\n",
      "[['biện_pháp', 0.5463375509662306], ['bán_lẻ', 0.037873999486732146], ['bên', 0.037873999486732146], ['bùi', 0.037873999486732146], ['bảo_vệ', 0.037873999486732146], ['bối_cảnh', 0.8195063264493457], ['bội_chi', 0.15552138748492372]]\n",
      "[['bùng_phát', 0.4947592105690923], ['bối_cảnh', 0.8690301050924811]]\n",
      "[['bùng_phát', 0.4947592105690923], ['bối_cảnh', 0.8690301050924811]]\n",
      "[['biện_pháp', 0.5847668813814079], ['bán_lẻ', 0.040538052942047084], ['bên', 0.040538052942047084], ['bùi', 0.040538052942047084], ['bùng_phát', 0.16646074681637552], ['bảo_vệ', 0.040538052942047084], ['bối_cảnh', 0.5847668813814079], ['bội_chi', 0.33292149363275103], ['ca', 0.29238344069070393], ['chi', 0.29238344069070393]]\n",
      "[['biện_pháp', 0.5847668813814079], ['bán_lẻ', 0.040538052942047084], ['bên', 0.040538052942047084], ['bùi', 0.040538052942047084], ['bùng_phát', 0.16646074681637552], ['bảo_vệ', 0.040538052942047084], ['bối_cảnh', 0.5847668813814079], ['bội_chi', 0.33292149363275103], ['ca', 0.29238344069070393], ['chi', 0.29238344069070393]]\n",
      "[['biện_pháp', 0.5847668813814079], ['bán_lẻ', 0.040538052942047084], ['bên', 0.040538052942047084], ['bùi', 0.040538052942047084], ['bùng_phát', 0.16646074681637552], ['bảo_vệ', 0.040538052942047084], ['bối_cảnh', 0.5847668813814079], ['bội_chi', 0.33292149363275103], ['ca', 0.29238344069070393], ['chi', 0.29238344069070393]]\n",
      "[['bảo_vệ', 0.059979551638121215], ['bối_cảnh', 0.8652131223031576], ['bội_chi', 0.24629305639485], ['chi', 0.4326065611515788]]\n",
      "[['biện_pháp', 0.430290805813729], ['bên', 0.1193169587535238], ['bùng_phát', 0.24497464259524546], ['bối_cảnh', 0.860581611627458]]\n",
      "[['biện_pháp', 0.5463375509662306], ['bán_lẻ', 0.037873999486732146], ['bên', 0.037873999486732146], ['bùi', 0.037873999486732146], ['bảo_vệ', 0.037873999486732146], ['bối_cảnh', 0.8195063264493457], ['bội_chi', 0.15552138748492372]]\n",
      "[['biện_pháp', 0.5463375509662306], ['bán_lẻ', 0.037873999486732146], ['bên', 0.037873999486732146], ['bùi', 0.037873999486732146], ['bảo_vệ', 0.037873999486732146], ['bối_cảnh', 0.8195063264493457], ['bội_chi', 0.15552138748492372]]\n",
      "[['biện_pháp', 0.5463375509662306], ['bán_lẻ', 0.037873999486732146], ['bên', 0.037873999486732146], ['bùi', 0.037873999486732146], ['bảo_vệ', 0.037873999486732146], ['bối_cảnh', 0.8195063264493457], ['bội_chi', 0.15552138748492372]]\n",
      "[]\n",
      "[['bán_lẻ', 1.0]]\n",
      "[['bên', 0.09057145304068581], ['bối_cảnh', 0.6532527131051443], ['bội_chi', 0.37191208307291507], ['chi', 0.6532527131051443]]\n",
      "[['bên', 0.09057145304068581], ['bối_cảnh', 0.6532527131051443], ['bội_chi', 0.37191208307291507], ['chi', 0.6532527131051443]]\n",
      "[['bên', 0.09057145304068581], ['bối_cảnh', 0.6532527131051443], ['bội_chi', 0.37191208307291507], ['chi', 0.6532527131051443]]\n",
      "[['bên', 0.09057145304068581], ['bối_cảnh', 0.6532527131051443], ['bội_chi', 0.37191208307291507], ['chi', 0.6532527131051443]]\n",
      "[['bên', 0.09057145304068581], ['bối_cảnh', 0.6532527131051443], ['bội_chi', 0.37191208307291507], ['chi', 0.6532527131051443]]\n",
      "[['bên', 0.09057145304068581], ['bối_cảnh', 0.6532527131051443], ['bội_chi', 0.37191208307291507], ['chi', 0.6532527131051443]]\n",
      "[['bên', 0.13875004006149677], ['bùng_phát', 0.8546205458778673], ['bối_cảnh', 0.5003720105544964]]\n",
      "[['biện_pháp', 0.39610846207769346], ['bên', 0.10983840786992229], ['bùng_phát', 0.4510276660126546], ['bối_cảnh', 0.7922169241553869]]\n",
      "[['biện_pháp', 0.6559486886294515], ['bùng_phát', 0.37344696513776354], ['bối_cảnh', 0.6559486886294515]]\n",
      "[['biện_pháp', 0.5444594357068079], ['bên', 0.15097520829045633], ['bùng_phát', 0.619947039852036], ['bối_cảnh', 0.5444594357068079]]\n",
      "[['biện_pháp', 0.9792074445276754], ['bên', 0.03394101520740775], ['bùng_phát', 0.1393714381696633], ['bảo_vệ', 0.03394101520740775], ['bội_chi', 0.1393714381696633]]\n",
      "[['biện_pháp', 0.9792074445276754], ['bên', 0.03394101520740775], ['bùng_phát', 0.1393714381696633], ['bảo_vệ', 0.03394101520740775], ['bội_chi', 0.1393714381696633]]\n",
      "[['bán_lẻ', 1.0]]\n",
      "[['biện_pháp', 0.6400835526948471], ['bên', 0.017749117997366996], ['bối_cảnh', 0.7681002632338165]]\n",
      "[['biện_pháp', 0.9905249085158221], ['bên', 0.1373331919447085]]\n",
      "[['bên', 0.09057145304068581], ['bối_cảnh', 0.6532527131051443], ['bội_chi', 0.37191208307291507], ['chi', 0.6532527131051443]]\n",
      "[['bên', 0.09057145304068581], ['bối_cảnh', 0.6532527131051443], ['bội_chi', 0.37191208307291507], ['chi', 0.6532527131051443]]\n",
      "[['bối_cảnh', 0.6598803462019109], ['bội_chi', 0.7513706999187858]]\n",
      "[['biện_pháp', 0.6209680481055757], ['bán_lẻ', 0.04304764242112535], ['bên', 0.04304764242112535], ['bùi', 0.04304764242112535], ['bảo_vệ', 0.04304764242112535], ['bối_cảnh', 0.6209680481055757], ['bội_chi', 0.3535316664739132], ['chi', 0.31048402405278785]]\n",
      "[['bối_cảnh', 1.0]]\n",
      "[['bán_lẻ', 0.11877632646090464], ['bùng_phát', 0.48772929560906997], ['bảo_vệ', 0.11877632646090464], ['bối_cảnh', 0.8566822647572353]]\n",
      "[['bối_cảnh', 0.6598803462019109], ['bội_chi', 0.7513706999187858]]\n",
      "[['biện_pháp', 0.7107963885054496], ['bội_chi', 0.6070095696193863], ['chi', 0.3553981942527248]]\n",
      "[['bảo_vệ', 0.08690877546360455], ['bối_cảnh', 0.31341770203654656], ['bội_chi', 0.8921802244208722], ['chi', 0.31341770203654656]]\n",
      "[['bảo_vệ', 0.08690877546360455], ['bối_cảnh', 0.31341770203654656], ['bội_chi', 0.8921802244208722], ['chi', 0.31341770203654656]]\n",
      "[['bán_lẻ', 0.0757036061966099], ['bùi', 0.0757036061966099], ['bảo_vệ', 0.0757036061966099], ['bối_cảnh', 0.5460173650693633], ['bội_chi', 0.6217209712659731], ['chi', 0.5460173650693633]]\n",
      "[]\n",
      "[]\n",
      "[]\n",
      "[['biện_pháp', 0.9905249085158221], ['bên', 0.1373331919447085]]\n",
      "[['biện_pháp', 1.0]]\n",
      "[['biện_pháp', 1.0]]\n",
      "[['biện_pháp', 1.0]]\n",
      "[['biện_pháp', 0.4427963619825234], ['bên', 0.06139233577041658], ['bùng_phát', 0.126047174438235], ['bối_cảnh', 0.8855927239650468]]\n",
      "[['biện_pháp', 0.41042985937909243], ['bảo_vệ', 0.05690482104322393], ['bối_cảnh', 0.41042985937909243], ['bội_chi', 0.7010020206334745], ['chi', 0.41042985937909243]]\n",
      "[['bên', 0.13217928173098858], ['bùng_phát', 0.27138281631393735], ['bối_cảnh', 0.9533519835247607]]\n",
      "[['bên', 0.13217928173098858], ['bùng_phát', 0.27138281631393735], ['bối_cảnh', 0.9533519835247607]]\n",
      "[['biện_pháp', 0.9905249085158221], ['bên', 0.1373331919447085]]\n",
      "[['biện_pháp', 0.9617909045877565], ['bùng_phát', 0.27378505410680315]]\n",
      "[['biện_pháp', 0.6559486886294515], ['bùng_phát', 0.37344696513776354], ['bối_cảnh', 0.6559486886294515]]\n",
      "[['biện_pháp', 1.0]]\n",
      "[['biện_pháp', 0.31093480966135284], ['bên', 0.04311014244103876], ['bùng_phát', 0.1770224760511958], ['bối_cảnh', 0.9328044289840585]]\n",
      "[]\n",
      "[['biện_pháp', 0.24841144332688944], ['bán_lẻ', 0.034441472530752464], ['bùng_phát', 0.5657058317152839], ['bối_cảnh', 0.7452343299806683], ['ca', 0.24841144332688944]]\n",
      "[['biện_pháp', 0.690704791276277], ['bên', 0.09576406697294032], ['bảo_vệ', 0.19152813394588064], ['ca', 0.690704791276277]]\n",
      "[['bùng_phát', 0.18644679631951408], ['bối_cảnh', 0.9824650589930359]]\n",
      "[['biện_pháp', 0.41042985937909243], ['bảo_vệ', 0.05690482104322393], ['bối_cảnh', 0.41042985937909243], ['bội_chi', 0.7010020206334745], ['chi', 0.41042985937909243]]\n",
      "[['biện_pháp', 0.31622776601683794], ['bối_cảnh', 0.9486832980505138]]\n",
      "[['bảo_vệ', 1.0]]\n",
      "[]\n",
      "[['biện_pháp', 0.3617904075685367], ['bùi', 0.05016111261736182], ['bùng_phát', 0.20597576009294924], ['bối_cảnh', 0.7235808151370734], ['bội_chi', 0.4119515201858985], ['chi', 0.3617904075685367]]\n",
      "[]\n",
      "[['bên', 0.09110983161471306], ['bội_chi', 0.7482456364927474], ['chi', 0.6571358048780344]]\n",
      "[['bùng_phát', 1.0]]\n",
      "[['biện_pháp', 0.4364400011070923], ['bên', 0.12102209228478314], ['bùi', 0.18153313842717472], ['bối_cảnh', 0.8728800022141846]]\n",
      "[['biện_pháp', 0.4364400011070923], ['bên', 0.12102209228478314], ['bùi', 0.18153313842717472], ['bối_cảnh', 0.8728800022141846]]\n",
      "[['biện_pháp', 1.0]]\n",
      "[['biện_pháp', 0.31093480966135284], ['bên', 0.04311014244103876], ['bùng_phát', 0.1770224760511958], ['bối_cảnh', 0.9328044289840585]]\n",
      "[]\n",
      "[['bối_cảnh', 0.3713906763541038], ['chi', 0.9284766908852593]]\n",
      "[['biện_pháp', 0.9900223063567948], ['bùng_phát', 0.14091072675979202]]\n",
      "[['biện_pháp', 0.9617909045877565], ['bùng_phát', 0.27378505410680315]]\n",
      "[['bán_lẻ', 1.0]]\n",
      "[['biện_pháp', 0.41042985937909243], ['bảo_vệ', 0.05690482104322393], ['bối_cảnh', 0.41042985937909243], ['bội_chi', 0.7010020206334745], ['chi', 0.41042985937909243]]\n",
      "[['bội_chi', 1.0]]\n",
      "[['bội_chi', 1.0]]\n",
      "[['biện_pháp', 0.9905249085158221], ['bên', 0.1373331919447085]]\n",
      "[['bên', 0.05690482104322393], ['bối_cảnh', 0.41042985937909243], ['bội_chi', 0.7010020206334745], ['ca', 0.41042985937909243], ['chi', 0.41042985937909243]]\n",
      "[['bán_lẻ', 0.696453188427872], ['bối_cảnh', 0.7176022270928727]]\n",
      "[['bán_lẻ', 0.696453188427872], ['bối_cảnh', 0.7176022270928727]]\n",
      "[['bùng_phát', 0.7513706999187858], ['bối_cảnh', 0.6598803462019109]]\n",
      "[['bùng_phát', 0.7513706999187858], ['bối_cảnh', 0.6598803462019109]]\n",
      "[['bên', 0.03427553849888487], ['bùi', 0.03427553849888487], ['bối_cảnh', 0.9888585317264698], ['bội_chi', 0.14074508571525116]]\n",
      "[['biện_pháp', 0.8690301050924811], ['bùng_phát', 0.4947592105690923]]\n",
      "[['bảo_vệ', 0.09057145304068581], ['bối_cảnh', 0.6532527131051443], ['bội_chi', 0.37191208307291507], ['chi', 0.6532527131051443]]\n",
      "[['bán_lẻ', 1.0]]\n",
      "[['bảo_vệ', 0.07614123197619706], ['bối_cảnh', 0.5491737705176853], ['bội_chi', 0.6253150024938824], ['chi', 0.5491737705176853]]\n",
      "[]\n",
      "[['biện_pháp', 0.8690301050924811], ['bùng_phát', 0.4947592105690923]]\n",
      "[['biện_pháp', 0.8690301050924811], ['bùng_phát', 0.4947592105690923]]\n",
      "[['biện_pháp', 0.8690301050924811], ['bùng_phát', 0.4947592105690923]]\n",
      "[]\n",
      "[['biện_pháp', 0.27598821698154946], ['bán_lẻ', 0.03826490626469648], ['bên', 0.03826490626469648], ['bùi', 0.11479471879408945], ['bối_cảnh', 0.8279646509446483], ['bội_chi', 0.47137968486936893]]\n",
      "[]\n",
      "[]\n",
      "[['bảo_vệ', 0.09057145304068581], ['bối_cảnh', 0.6532527131051443], ['bội_chi', 0.37191208307291507], ['chi', 0.6532527131051443]]\n",
      "[['bảo_vệ', 0.09057145304068581], ['bối_cảnh', 0.6532527131051443], ['bội_chi', 0.37191208307291507], ['chi', 0.6532527131051443]]\n",
      "[['bảo_vệ', 0.09057145304068581], ['bối_cảnh', 0.6532527131051443], ['bội_chi', 0.37191208307291507], ['chi', 0.6532527131051443]]\n",
      "[['bối_cảnh', 1.0]]\n",
      "[['biện_pháp', 0.2390652863555632], ['bên', 0.09943697097202528], ['bùng_phát', 0.13610547167311915], ['bối_cảnh', 0.9562611454222528]]\n",
      "[['biện_pháp', 0.2390652863555632], ['bên', 0.09943697097202528], ['bùng_phát', 0.13610547167311915], ['bối_cảnh', 0.9562611454222528]]\n",
      "[['biện_pháp', 0.4326065611515788], ['bán_lẻ', 0.059979551638121215], ['bùng_phát', 0.24629305639485], ['bối_cảnh', 0.8652131223031576]]\n",
      "[['bên', 0.05690482104322393], ['bối_cảnh', 0.41042985937909243], ['bội_chi', 0.7010020206334745], ['ca', 0.41042985937909243], ['chi', 0.41042985937909243]]\n",
      "[]\n",
      "[]\n",
      "[['biện_pháp', 0.5774933496463367], ['bán_lẻ', 0.04003382668720955], ['bên', 0.04003382668720955], ['bùi', 0.04003382668720955], ['bảo_vệ', 0.04003382668720955], ['bối_cảnh', 0.5774933496463367], ['bội_chi', 0.4931707522655669], ['chi', 0.28874667482316835]]\n",
      "[['biện_pháp', 0.8017837257372731], ['bối_cảnh', 0.2672612419124244], ['chi', 0.5345224838248488]]\n",
      "[['bán_lẻ', 0.11877632646090464], ['bên', 0.11877632646090464], ['bùng_phát', 0.48772929560906997], ['bối_cảnh', 0.8566822647572353]]\n",
      "[['biện_pháp', 0.6209680481055757], ['bán_lẻ', 0.04304764242112535], ['bên', 0.04304764242112535], ['bùi', 0.04304764242112535], ['bảo_vệ', 0.04304764242112535], ['bối_cảnh', 0.6209680481055757], ['bội_chi', 0.3535316664739132], ['chi', 0.31048402405278785]]\n",
      "[['bối_cảnh', 0.3713906763541038], ['chi', 0.9284766908852593]]\n",
      "[['biện_pháp', 0.5774933496463367], ['bán_lẻ', 0.04003382668720955], ['bên', 0.04003382668720955], ['bùi', 0.04003382668720955], ['bảo_vệ', 0.04003382668720955], ['bối_cảnh', 0.5774933496463367], ['bội_chi', 0.4931707522655669], ['chi', 0.28874667482316835]]\n",
      "[['ca', 1.0]]\n",
      "[]\n",
      "[['biện_pháp', 0.4364400011070923], ['bên', 0.12102209228478314], ['bùi', 0.18153313842717472], ['bối_cảnh', 0.8728800022141846]]\n",
      "[['biện_pháp', 0.9900223063567948], ['bùng_phát', 0.14091072675979202]]\n",
      "[['bán_lẻ', 0.04549237230604109], ['bên', 0.04549237230604109], ['bối_cảnh', 0.9843504096537231], ['chi', 0.16405840160895385]]\n",
      "[['bùng_phát', 1.0]]\n",
      "[['bên', 0.04535850735418628], ['bùng_phát', 0.1862549002895606], ['bối_cảnh', 0.9814538796748048]]\n",
      "[['bên', 0.05690482104322393], ['bối_cảnh', 0.41042985937909243], ['bội_chi', 0.7010020206334745], ['ca', 0.41042985937909243], ['chi', 0.41042985937909243]]\n",
      "[['bên', 0.05690482104322393], ['bối_cảnh', 0.41042985937909243], ['bội_chi', 0.7010020206334745], ['ca', 0.41042985937909243], ['chi', 0.41042985937909243]]\n",
      "[['bên', 0.05690482104322393], ['bối_cảnh', 0.41042985937909243], ['bội_chi', 0.7010020206334745], ['ca', 0.41042985937909243], ['chi', 0.41042985937909243]]\n",
      "[['bên', 0.05690482104322393], ['bối_cảnh', 0.41042985937909243], ['bội_chi', 0.7010020206334745], ['ca', 0.41042985937909243], ['chi', 0.41042985937909243]]\n",
      "[['bên', 0.05690482104322393], ['bối_cảnh', 0.41042985937909243], ['bội_chi', 0.7010020206334745], ['ca', 0.41042985937909243], ['chi', 0.41042985937909243]]\n",
      "[['bên', 0.05690482104322393], ['bối_cảnh', 0.41042985937909243], ['bội_chi', 0.7010020206334745], ['ca', 0.41042985937909243], ['chi', 0.41042985937909243]]\n",
      "[]\n",
      "[['biện_pháp', 0.5774933496463367], ['bán_lẻ', 0.04003382668720955], ['bên', 0.04003382668720955], ['bùi', 0.04003382668720955], ['bảo_vệ', 0.04003382668720955], ['bối_cảnh', 0.5774933496463367], ['bội_chi', 0.4931707522655669], ['chi', 0.28874667482316835]]\n",
      "[['biện_pháp', 0.5774933496463367], ['bán_lẻ', 0.04003382668720955], ['bên', 0.04003382668720955], ['bùi', 0.04003382668720955], ['bảo_vệ', 0.04003382668720955], ['bối_cảnh', 0.5774933496463367], ['bội_chi', 0.4931707522655669], ['chi', 0.28874667482316835]]\n",
      "[['biện_pháp', 0.5774933496463367], ['bán_lẻ', 0.04003382668720955], ['bên', 0.04003382668720955], ['bùi', 0.04003382668720955], ['bảo_vệ', 0.04003382668720955], ['bối_cảnh', 0.5774933496463367], ['bội_chi', 0.4931707522655669], ['chi', 0.28874667482316835]]\n",
      "[['biện_pháp', 0.5774933496463367], ['bán_lẻ', 0.04003382668720955], ['bên', 0.04003382668720955], ['bùi', 0.04003382668720955], ['bảo_vệ', 0.04003382668720955], ['bối_cảnh', 0.5774933496463367], ['bội_chi', 0.4931707522655669], ['chi', 0.28874667482316835]]\n",
      "[['bên', 0.05690482104322393], ['bối_cảnh', 0.41042985937909243], ['bội_chi', 0.7010020206334745], ['ca', 0.41042985937909243], ['chi', 0.41042985937909243]]\n",
      "[['biện_pháp', 0.46315395130916165], ['bán_lẻ', 0.06421485209331841], ['bên', 0.25685940837327365], ['bùi', 0.06421485209331841], ['bảo_vệ', 0.06421485209331841], ['bối_cảnh', 0.46315395130916165], ['bội_chi', 0.52736880340248], ['chi', 0.46315395130916165]]\n",
      "[['biện_pháp', 0.7958255626205757], ['bán_lẻ', 0.055169367174036775], ['bùng_phát', 0.4530821484843246], ['bối_cảnh', 0.39791278131028784]]\n",
      "[['biện_pháp', 0.5774933496463367], ['bán_lẻ', 0.04003382668720955], ['bên', 0.04003382668720955], ['bùi', 0.04003382668720955], ['bảo_vệ', 0.04003382668720955], ['bối_cảnh', 0.5774933496463367], ['bội_chi', 0.4931707522655669], ['chi', 0.28874667482316835]]\n",
      "[['bên', 1.0]]\n",
      "[['bảo_vệ', 0.0665269468032072], ['bối_cảnh', 0.9596601806592292], ['bội_chi', 0.2731785185664109]]\n",
      "[['biện_pháp', 1.0]]\n",
      "[['biện_pháp', 1.0]]\n",
      "[['bên', 0.05690482104322393], ['bối_cảnh', 0.41042985937909243], ['bội_chi', 0.7010020206334745], ['ca', 0.41042985937909243], ['chi', 0.41042985937909243]]\n",
      "[['bên', 0.05690482104322393], ['bối_cảnh', 0.41042985937909243], ['bội_chi', 0.7010020206334745], ['ca', 0.41042985937909243], ['chi', 0.41042985937909243]]\n",
      "[['bên', 0.05690482104322393], ['bối_cảnh', 0.41042985937909243], ['bội_chi', 0.7010020206334745], ['ca', 0.41042985937909243], ['chi', 0.41042985937909243]]\n",
      "[['bên', 0.05690482104322393], ['bối_cảnh', 0.41042985937909243], ['bội_chi', 0.7010020206334745], ['ca', 0.41042985937909243], ['chi', 0.41042985937909243]]\n",
      "[['biện_pháp', 0.5930409400213688], ['bán_lẻ', 0.041111639165671746], ['bên', 0.041111639165671746], ['bùi', 0.041111639165671746], ['bảo_vệ', 0.041111639165671746], ['bối_cảnh', 0.5930409400213688], ['bội_chi', 0.3376321091763561], ['ca', 0.2965204700106844], ['chi', 0.2965204700106844]]\n",
      "[['biện_pháp', 1.0]]\n",
      "[['biện_pháp', 0.4556889510263348], ['bán_lẻ', 0.03158992653307056], ['bên', 0.03158992653307056], ['bùi', 0.03158992653307056], ['bảo_vệ', 0.03158992653307056], ['bối_cảnh', 0.6835334265395021], ['bội_chi', 0.5188688040924759], ['chi', 0.2278444755131674]]\n",
      "[['biện_pháp', 0.5773502691896258], ['bối_cảnh', 0.5773502691896258], ['ca', 0.5773502691896258]]\n",
      "[['biện_pháp', 0.5773502691896258], ['bối_cảnh', 0.5773502691896258], ['ca', 0.5773502691896258]]\n",
      "[['biện_pháp', 0.5774933496463367], ['bán_lẻ', 0.04003382668720955], ['bên', 0.04003382668720955], ['bùi', 0.04003382668720955], ['bảo_vệ', 0.04003382668720955], ['bối_cảnh', 0.5774933496463367], ['bội_chi', 0.4931707522655669], ['chi', 0.28874667482316835]]\n",
      "[['biện_pháp', 0.5774933496463367], ['bán_lẻ', 0.04003382668720955], ['bên', 0.04003382668720955], ['bùi', 0.04003382668720955], ['bảo_vệ', 0.04003382668720955], ['bối_cảnh', 0.5774933496463367], ['bội_chi', 0.4931707522655669], ['chi', 0.28874667482316835]]\n",
      "[['biện_pháp', 0.24253562503633297], ['bối_cảnh', 0.9701425001453319]]\n",
      "[['biện_pháp', 0.24253562503633297], ['bối_cảnh', 0.9701425001453319]]\n",
      "[['bán_lẻ', 0.11877632646090464], ['bên', 0.11877632646090464], ['bùng_phát', 0.48772929560906997], ['bối_cảnh', 0.8566822647572353]]\n",
      "[['bán_lẻ', 0.11877632646090464], ['bên', 0.11877632646090464], ['bùng_phát', 0.48772929560906997], ['bối_cảnh', 0.8566822647572353]]\n",
      "[['bán_lẻ', 0.2672108367164116], ['ca', 0.9636380901258083]]\n",
      "[['biện_pháp', 0.5774933496463367], ['bán_lẻ', 0.04003382668720955], ['bên', 0.04003382668720955], ['bùi', 0.04003382668720955], ['bảo_vệ', 0.04003382668720955], ['bối_cảnh', 0.5774933496463367], ['bội_chi', 0.4931707522655669], ['chi', 0.28874667482316835]]\n",
      "[['biện_pháp', 0.5774933496463367], ['bán_lẻ', 0.04003382668720955], ['bên', 0.04003382668720955], ['bùi', 0.04003382668720955], ['bảo_vệ', 0.04003382668720955], ['bối_cảnh', 0.5774933496463367], ['bội_chi', 0.4931707522655669], ['chi', 0.28874667482316835]]\n",
      "[['biện_pháp', 0.5774933496463367], ['bán_lẻ', 0.04003382668720955], ['bên', 0.04003382668720955], ['bùi', 0.04003382668720955], ['bảo_vệ', 0.04003382668720955], ['bối_cảnh', 0.5774933496463367], ['bội_chi', 0.4931707522655669], ['chi', 0.28874667482316835]]\n",
      "[['biện_pháp', 0.6209680481055757], ['bán_lẻ', 0.04304764242112535], ['bên', 0.04304764242112535], ['bùi', 0.04304764242112535], ['bảo_vệ', 0.04304764242112535], ['bối_cảnh', 0.6209680481055757], ['bội_chi', 0.3535316664739132], ['chi', 0.31048402405278785]]\n",
      "[['biện_pháp', 0.5774933496463367], ['bán_lẻ', 0.04003382668720955], ['bên', 0.04003382668720955], ['bùi', 0.04003382668720955], ['bảo_vệ', 0.04003382668720955], ['bối_cảnh', 0.5774933496463367], ['bội_chi', 0.4931707522655669], ['chi', 0.28874667482316835]]\n",
      "[['biện_pháp', 0.5774933496463367], ['bán_lẻ', 0.04003382668720955], ['bên', 0.04003382668720955], ['bùi', 0.04003382668720955], ['bảo_vệ', 0.04003382668720955], ['bối_cảnh', 0.5774933496463367], ['bội_chi', 0.4931707522655669], ['chi', 0.28874667482316835]]\n",
      "[['biện_pháp', 0.5774933496463367], ['bán_lẻ', 0.04003382668720955], ['bên', 0.04003382668720955], ['bùi', 0.04003382668720955], ['bảo_vệ', 0.04003382668720955], ['bối_cảnh', 0.5774933496463367], ['bội_chi', 0.4931707522655669], ['chi', 0.28874667482316835]]\n",
      "[]\n",
      "[]\n",
      "[['biện_pháp', 0.24239861615312458], ['bên', 0.03360781277996204], ['bối_cảnh', 0.9695944646124983]]\n",
      "[['biện_pháp', 0.8528577064627998], ['bán_lẻ', 0.039415354457088735], ['bên', 0.039415354457088735], ['bùi', 0.039415354457088735], ['bảo_vệ', 0.039415354457088735], ['bối_cảnh', 0.28428590215426663], ['bội_chi', 0.32370125661135535], ['chi', 0.28428590215426663]]\n",
      "[['biện_pháp', 0.8528577064627998], ['bán_lẻ', 0.039415354457088735], ['bên', 0.039415354457088735], ['bùi', 0.039415354457088735], ['bảo_vệ', 0.039415354457088735], ['bối_cảnh', 0.28428590215426663], ['bội_chi', 0.32370125661135535], ['chi', 0.28428590215426663]]\n",
      "[['bên', 0.05690482104322393], ['bối_cảnh', 0.41042985937909243], ['bội_chi', 0.7010020206334745], ['ca', 0.41042985937909243], ['chi', 0.41042985937909243]]\n",
      "[['bên', 0.05690482104322393], ['bối_cảnh', 0.41042985937909243], ['bội_chi', 0.7010020206334745], ['ca', 0.41042985937909243], ['chi', 0.41042985937909243]]\n",
      "[['biện_pháp', 0.6209680481055757], ['bán_lẻ', 0.04304764242112535], ['bên', 0.04304764242112535], ['bùi', 0.04304764242112535], ['bảo_vệ', 0.04304764242112535], ['bối_cảnh', 0.6209680481055757], ['bội_chi', 0.3535316664739132], ['chi', 0.31048402405278785]]\n",
      "[['biện_pháp', 0.6209680481055757], ['bán_lẻ', 0.04304764242112535], ['bên', 0.04304764242112535], ['bùi', 0.04304764242112535], ['bảo_vệ', 0.04304764242112535], ['bối_cảnh', 0.6209680481055757], ['bội_chi', 0.3535316664739132], ['chi', 0.31048402405278785]]\n",
      "[['biện_pháp', 0.9551508812539594], ['bên', 0.1324286932955126], ['bảo_vệ', 0.2648573865910252]]\n",
      "[['bên', 0.05690482104322393], ['bối_cảnh', 0.41042985937909243], ['bội_chi', 0.7010020206334745], ['ca', 0.41042985937909243], ['chi', 0.41042985937909243]]\n",
      "[['bên', 0.05690482104322393], ['bối_cảnh', 0.41042985937909243], ['bội_chi', 0.7010020206334745], ['ca', 0.41042985937909243], ['chi', 0.41042985937909243]]\n",
      "[['bên', 0.05690482104322393], ['bối_cảnh', 0.41042985937909243], ['bội_chi', 0.7010020206334745], ['ca', 0.41042985937909243], ['chi', 0.41042985937909243]]\n",
      "[['bên', 0.05690482104322393], ['bối_cảnh', 0.41042985937909243], ['bội_chi', 0.7010020206334745], ['ca', 0.41042985937909243], ['chi', 0.41042985937909243]]\n",
      "[]\n",
      "[['biện_pháp', 0.6676007926708617], ['bán_lẻ', 0.04628038478087524], ['bên', 0.04628038478087524], ['bảo_vệ', 0.04628038478087524], ['bối_cảnh', 0.33380039633543085], ['bội_chi', 0.5701211716744591], ['chi', 0.33380039633543085]]\n",
      "[['biện_pháp', 0.315924261855812], ['bên', 0.0438019144399351], ['bối_cảnh', 0.9477727855674359]]\n",
      "[['biện_pháp', 0.8910081880822639], ['bán_lẻ', 0.061767754382652106], ['bên', 0.061767754382652106], ['bối_cảnh', 0.44550409404113195]]\n",
      "[['biện_pháp', 0.690704791276277], ['bên', 0.09576406697294032], ['bảo_vệ', 0.19152813394588064], ['ca', 0.690704791276277]]\n",
      "[['bên', 0.05690482104322393], ['bối_cảnh', 0.41042985937909243], ['bội_chi', 0.7010020206334745], ['ca', 0.41042985937909243], ['chi', 0.41042985937909243]]\n",
      "[['biện_pháp', 0.4556889510263348], ['bán_lẻ', 0.03158992653307056], ['bên', 0.03158992653307056], ['bùi', 0.03158992653307056], ['bảo_vệ', 0.03158992653307056], ['bối_cảnh', 0.6835334265395021], ['bội_chi', 0.5188688040924759], ['chi', 0.2278444755131674]]\n",
      "[['biện_pháp', 0.4556889510263348], ['bán_lẻ', 0.03158992653307056], ['bên', 0.03158992653307056], ['bùi', 0.03158992653307056], ['bảo_vệ', 0.03158992653307056], ['bối_cảnh', 0.6835334265395021], ['bội_chi', 0.5188688040924759], ['chi', 0.2278444755131674]]\n",
      "[['biện_pháp', 0.7037329116471254], ['bảo_vệ', 0.09757037526482303], ['bối_cảnh', 0.7037329116471254]]\n",
      "[]\n",
      "[['bên', 0.2672108367164116], ['bối_cảnh', 0.9636380901258083]]\n",
      "[]\n",
      "[['bán_lẻ', 0.1360561481391004], ['bên', 0.1360561481391004], ['ca', 0.9813141439453027]]\n",
      "[['biện_pháp', 0.4427963619825234], ['bên', 0.06139233577041658], ['bùng_phát', 0.126047174438235], ['bối_cảnh', 0.8855927239650468]]\n",
      "[['biện_pháp', 0.4427963619825234], ['bên', 0.06139233577041658], ['bùng_phát', 0.126047174438235], ['bối_cảnh', 0.8855927239650468]]\n",
      "[['biện_pháp', 0.4427963619825234], ['bên', 0.06139233577041658], ['bùng_phát', 0.126047174438235], ['bối_cảnh', 0.8855927239650468]]\n",
      "[['biện_pháp', 0.276393209475268], ['bên', 0.11496317163580351], ['bùng_phát', 0.4720714000308038], ['bối_cảnh', 0.829179628425804]]\n",
      "[['biện_pháp', 0.48433500303860383], ['bán_lẻ', 0.03357576945616965], ['bên', 0.03357576945616965], ['bùi', 0.03357576945616965], ['bảo_vệ', 0.0671515389123393], ['bối_cảnh', 0.7265025045579057], ['bội_chi', 0.41361490646320737], ['chi', 0.24216750151930191]]\n",
      "[['biện_pháp', 0.8910081880822639], ['bán_lẻ', 0.061767754382652106], ['bên', 0.061767754382652106], ['bối_cảnh', 0.44550409404113195]]\n",
      "[['bùng_phát', 1.0]]\n",
      "[['bán_lẻ', 1.0]]\n",
      "[['bán_lẻ', 0.03429568992244439], ['bối_cảnh', 0.9894399057321301], ['bội_chi', 0.14082783317773845]]\n",
      "[['bán_lẻ', 0.03429568992244439], ['bối_cảnh', 0.9894399057321301], ['bội_chi', 0.14082783317773845]]\n",
      "[['bán_lẻ', 0.03429568992244439], ['bối_cảnh', 0.9894399057321301], ['bội_chi', 0.14082783317773845]]\n",
      "[]\n",
      "[['biện_pháp', 0.9952286279396718], ['bên', 0.06899267399267255], ['bảo_vệ', 0.06899267399267255]]\n",
      "[['biện_pháp', 0.7037329116471254], ['bảo_vệ', 0.09757037526482303], ['bối_cảnh', 0.7037329116471254]]\n",
      "[['bên', 0.7071067811865476], ['bảo_vệ', 0.7071067811865476]]\n",
      "[['biện_pháp', 0.4472135954999579], ['bối_cảnh', 0.8944271909999159]]\n",
      "[['bán_lẻ', 1.0]]\n",
      "[['biện_pháp', 0.7071067811865475], ['chi', 0.7071067811865475]]\n",
      "[['bán_lẻ', 0.033588849081311135], ['bên', 0.033588849081311135], ['bối_cảnh', 0.24226183919771185], ['ca', 0.9690473567908474]]\n",
      "[['biện_pháp', 0.7365391669519701], ['bán_lẻ', 0.05105943016686636], ['bên', 0.05105943016686636], ['bùi', 0.05105943016686636], ['bảo_vệ', 0.05105943016686636], ['bối_cảnh', 0.36826958347598504], ['bội_chi', 0.4193290136428514], ['chi', 0.36826958347598504]]\n",
      "[['biện_pháp', 0.6668869807425646], ['bán_lẻ', 0.04623090088111742], ['bên', 0.04623090088111742], ['bùi', 0.04623090088111742], ['bảo_vệ', 0.04623090088111742], ['bối_cảnh', 0.3334434903712823], ['bội_chi', 0.5695115868785996], ['chi', 0.3334434903712823]]\n",
      "[['biện_pháp', 0.46315395130916165], ['bán_lẻ', 0.06421485209331841], ['bên', 0.25685940837327365], ['bùi', 0.06421485209331841], ['bảo_vệ', 0.06421485209331841], ['bối_cảnh', 0.46315395130916165], ['bội_chi', 0.52736880340248], ['chi', 0.46315395130916165]]\n",
      "[['biện_pháp', 0.46315395130916165], ['bán_lẻ', 0.06421485209331841], ['bên', 0.25685940837327365], ['bùi', 0.06421485209331841], ['bảo_vệ', 0.06421485209331841], ['bối_cảnh', 0.46315395130916165], ['bội_chi', 0.52736880340248], ['chi', 0.46315395130916165]]\n",
      "[['biện_pháp', 0.6650705042238237], ['bên', 0.06915746471498917], ['bối_cảnh', 0.6650705042238237], ['ca', 0.33253525211191187]]\n",
      "[['biện_pháp', 1.0]]\n",
      "[['biện_pháp', 1.0]]\n",
      "[['bảo_vệ', 0.06915746471498917], ['bối_cảnh', 0.9976057563357357]]\n",
      "[['bán_lẻ', 0.1373331919447085], ['bối_cảnh', 0.9905249085158221]]\n",
      "[['biện_pháp', 0.4472135954999579], ['bối_cảnh', 0.8944271909999159]]\n",
      "[['biện_pháp', 0.4472135954999579], ['bối_cảnh', 0.8944271909999159]]\n",
      "[]\n",
      "[['biện_pháp', 0.8535209665234308], ['bán_lẻ', 0.03944600743728566], ['bên', 0.03944600743728566], ['bảo_vệ', 0.03944600743728566], ['bối_cảnh', 0.2845069888411436], ['bội_chi', 0.3239529962784293], ['chi', 0.2845069888411436]]\n",
      "[['biện_pháp', 0.6987614515050291], ['bán_lẻ', 0.048440548903960455], ['bảo_vệ', 0.14532164671188139], ['bối_cảnh', 0.6987614515050291]]\n",
      "[['biện_pháp', 0.9298056172681511], ['bối_cảnh', 0.18596112345363025], ['bội_chi', 0.3176160806074783]]\n",
      "[]\n",
      "[]\n",
      "[]\n",
      "[['biện_pháp', 0.4802941759124971], ['bán_lẻ', 0.06659129082311507], ['bảo_vệ', 0.06659129082311507], ['bối_cảnh', 0.4802941759124971], ['bội_chi', 0.5468854667356122], ['chi', 0.4802941759124971]]\n",
      "[['biện_pháp', 0.4802941759124971], ['bán_lẻ', 0.06659129082311507], ['bảo_vệ', 0.06659129082311507], ['bối_cảnh', 0.4802941759124971], ['bội_chi', 0.5468854667356122], ['chi', 0.4802941759124971]]\n",
      "[['bùi', 0.0665269468032072], ['bối_cảnh', 0.9596601806592292], ['bội_chi', 0.2731785185664109]]\n",
      "[['biện_pháp', 0.7037329116471254], ['bên', 0.09757037526482303], ['bối_cảnh', 0.7037329116471254]]\n",
      "[]\n",
      "[['biện_pháp', 0.7037329116471254], ['bên', 0.09757037526482303], ['bối_cảnh', 0.7037329116471254]]\n",
      "[]\n",
      "[['biện_pháp', 0.7993855739056167], ['bán_lẻ', 0.027708079704806692], ['bên', 0.027708079704806692], ['bối_cảnh', 0.5995391804292125]]\n",
      "[['bùng_phát', 0.14091072675979202], ['bối_cảnh', 0.9900223063567948]]\n",
      "[['biện_pháp', 0.9262842313788102], ['bên', 0.05503989524701775], ['bùng_phát', 0.22600942577611108], ['bảo_vệ', 0.01834663174900592], ['bối_cảnh', 0.26465263753680296], ['ca', 0.13232631876840148]]\n",
      "[['biện_pháp', 0.6328181385588811], ['bên', 0.26321478887094063], ['bùng_phát', 0.36027820075793066], ['bối_cảnh', 0.6328181385588811]]\n",
      "[['biện_pháp', 0.408248290463863], ['bối_cảnh', 0.816496580927726], ['ca', 0.408248290463863]]\n",
      "[['biện_pháp', 0.4472135954999579], ['bối_cảnh', 0.8944271909999159]]\n",
      "[['biện_pháp', 0.7365391669519701], ['bán_lẻ', 0.05105943016686636], ['bên', 0.05105943016686636], ['bùi', 0.05105943016686636], ['bảo_vệ', 0.05105943016686636], ['bối_cảnh', 0.36826958347598504], ['bội_chi', 0.4193290136428514], ['chi', 0.36826958347598504]]\n",
      "[['bối_cảnh', 0.8218675574963437], ['bội_chi', 0.155969488880544], ['chi', 0.5479117049975625]]\n",
      "[['bùng_phát', 1.0]]\n",
      "[['bùng_phát', 1.0]]\n",
      "[['biện_pháp', 1.0]]\n",
      "[['biện_pháp', 1.0]]\n",
      "[['biện_pháp', 1.0]]\n",
      "[['biện_pháp', 0.4813626389730815], ['bảo_vệ', 0.06673942989697736], ['bối_cảnh', 0.4813626389730815], ['bội_chi', 0.5481020688700589], ['chi', 0.4813626389730815]]\n",
      "[['bối_cảnh', 0.9617909045877565], ['bội_chi', 0.27378505410680315]]\n",
      "[['bối_cảnh', 0.9617909045877565], ['bội_chi', 0.27378505410680315]]\n",
      "[['biện_pháp', 0.42952711242241814], ['bán_lẻ', 0.059552595667837355], ['bên', 0.11910519133567471], ['bùng_phát', 0.24453985404512774], ['bối_cảnh', 0.8590542248448363]]\n",
      "[['biện_pháp', 0.42952711242241814], ['bán_lẻ', 0.059552595667837355], ['bên', 0.11910519133567471], ['bùng_phát', 0.24453985404512774], ['bối_cảnh', 0.8590542248448363]]\n",
      "[['biện_pháp', 0.42952711242241814], ['bán_lẻ', 0.059552595667837355], ['bên', 0.11910519133567471], ['bùng_phát', 0.24453985404512774], ['bối_cảnh', 0.8590542248448363]]\n",
      "[['bùng_phát', 1.0]]\n",
      "[['bán_lẻ', 0.1373331919447085], ['bối_cảnh', 0.9905249085158221]]\n",
      "[['bảo_vệ', 1.0]]\n",
      "[['bảo_vệ', 1.0]]\n",
      "[['bán_lẻ', 0.1650175531999415], ['bên', 0.1650175531999415], ['bùi', 0.1650175531999415], ['bùng_phát', 0.6776088921375344], ['bội_chi', 0.6776088921375344]]\n",
      "[['bán_lẻ', 0.1650175531999415], ['bên', 0.1650175531999415], ['bùi', 0.1650175531999415], ['bùng_phát', 0.6776088921375344], ['bội_chi', 0.6776088921375344]]\n",
      "[['biện_pháp', 0.9905249085158221], ['bán_lẻ', 0.1373331919447085]]\n",
      "[['biện_pháp', 0.4802941759124971], ['bán_lẻ', 0.06659129082311507], ['bảo_vệ', 0.06659129082311507], ['bối_cảnh', 0.4802941759124971], ['bội_chi', 0.5468854667356122], ['chi', 0.4802941759124971]]\n",
      "[['biện_pháp', 0.690704791276277], ['bên', 0.09576406697294032], ['bảo_vệ', 0.19152813394588064], ['ca', 0.690704791276277]]\n",
      "[]\n",
      "[]\n",
      "[['bán_lẻ', 0.0757036061966099], ['bùi', 0.0757036061966099], ['bảo_vệ', 0.0757036061966099], ['bối_cảnh', 0.5460173650693633], ['bội_chi', 0.6217209712659731], ['chi', 0.5460173650693633]]\n",
      "[['bội_chi', 1.0]]\n",
      "[['bán_lẻ', 0.1373331919447085], ['bối_cảnh', 0.9905249085158221]]\n",
      "[['biện_pháp', 0.430290805813729], ['bên', 0.1193169587535238], ['bùng_phát', 0.24497464259524546], ['bối_cảnh', 0.860581611627458]]\n",
      "[['bùng_phát', 1.0]]\n",
      "[['biện_pháp', 0.5773502691896258], ['bối_cảnh', 0.5773502691896258], ['ca', 0.5773502691896258]]\n",
      "[['biện_pháp', 0.7037329116471254], ['bên', 0.09757037526482303], ['bối_cảnh', 0.7037329116471254]]\n",
      "[['biện_pháp', 0.7037329116471254], ['bên', 0.09757037526482303], ['bối_cảnh', 0.7037329116471254]]\n",
      "[['bán_lẻ', 0.1373331919447085], ['bối_cảnh', 0.9905249085158221]]\n",
      "[['bán_lẻ', 0.1373331919447085], ['bối_cảnh', 0.9905249085158221]]\n",
      "[['biện_pháp', 0.690704791276277], ['bên', 0.09576406697294032], ['bảo_vệ', 0.19152813394588064], ['ca', 0.690704791276277]]\n",
      "[['biện_pháp', 0.9952286279396718], ['bán_lẻ', 0.06899267399267255], ['bên', 0.06899267399267255]]\n",
      "[['biện_pháp', 0.9952286279396718], ['bán_lẻ', 0.06899267399267255], ['bên', 0.06899267399267255]]\n",
      "[['bùng_phát', 1.0]]\n",
      "[['biện_pháp', 0.8927127791606514], ['bên', 0.061885922503283314], ['ca', 0.4463563895803257]]\n",
      "[['biện_pháp', 0.8927127791606514], ['bên', 0.061885922503283314], ['ca', 0.4463563895803257]]\n",
      "[['bùng_phát', 1.0]]\n",
      "[['bùng_phát', 1.0]]\n",
      "[['bùng_phát', 1.0]]\n",
      "[['bùng_phát', 1.0]]\n",
      "[['bùng_phát', 1.0]]\n",
      "[['biện_pháp', 1.0]]\n",
      "[['bên', 1.0]]\n",
      "[['biện_pháp', 0.9617909045877565], ['bùng_phát', 0.27378505410680315]]\n",
      "[['biện_pháp', 0.9551508812539594], ['bán_lẻ', 0.1324286932955126], ['bên', 0.2648573865910252]]\n",
      "[['biện_pháp', 0.8296004691715386], ['bên', 0.07668101326253204], ['bối_cảnh', 0.5530669794476925]]\n",
      "[['biện_pháp', 0.8296004691715386], ['bên', 0.07668101326253204], ['bối_cảnh', 0.5530669794476925]]\n",
      "[['bên', 1.0]]\n",
      "[['bùng_phát', 0.26619803998089175], ['bối_cảnh', 0.9351381670850225], ['ca', 0.23378454177125563]]\n",
      "[['bùng_phát', 0.26619803998089175], ['bối_cảnh', 0.9351381670850225], ['ca', 0.23378454177125563]]\n",
      "[]\n",
      "[]\n",
      "[['biện_pháp', 0.4326065611515788], ['bán_lẻ', 0.059979551638121215], ['bùng_phát', 0.24629305639485], ['bối_cảnh', 0.8652131223031576]]\n",
      "[['biện_pháp', 0.4326065611515788], ['bán_lẻ', 0.059979551638121215], ['bùng_phát', 0.24629305639485], ['bối_cảnh', 0.8652131223031576]]\n",
      "[['bối_cảnh', 0.7970394451555677], ['bội_chi', 0.45377324026724086], ['chi', 0.39851972257778384]]\n",
      "[['bùng_phát', 1.0]]\n",
      "[['biện_pháp', 0.42952711242241814], ['bán_lẻ', 0.059552595667837355], ['bên', 0.11910519133567471], ['bùng_phát', 0.24453985404512774], ['bối_cảnh', 0.8590542248448363]]\n",
      "[['bùng_phát', 1.0]]\n",
      "[['bùng_phát', 1.0]]\n",
      "[['bùng_phát', 1.0]]\n",
      "[['bùng_phát', 1.0]]\n",
      "[['bên', 0.1373331919447085], ['bối_cảnh', 0.9905249085158221]]\n",
      "[['bên', 0.1373331919447085], ['bối_cảnh', 0.9905249085158221]]\n",
      "[['bán_lẻ', 0.0666541492671738], ['bên', 0.2666165970686952], ['bối_cảnh', 0.961495093358764]]\n",
      "[['bội_chi', 0.4947592105690923], ['chi', 0.8690301050924811]]\n",
      "[['bội_chi', 0.4947592105690923], ['chi', 0.8690301050924811]]\n",
      "[['bán_lẻ', 0.1324286932955126], ['bên', 0.2648573865910252], ['bối_cảnh', 0.9551508812539594]]\n",
      "[['bán_lẻ', 0.1324286932955126], ['bên', 0.2648573865910252], ['bối_cảnh', 0.9551508812539594]]\n",
      "[['bên', 0.055373663268478354], ['bối_cảnh', 0.9984657016724355]]\n",
      "[['bán_lẻ', 0.1373331919447085], ['bối_cảnh', 0.9905249085158221]]\n",
      "[['bên', 0.20361362256118185], ['bối_cảnh', 0.9790513228158739]]\n",
      "[['bên', 0.20361362256118185], ['bối_cảnh', 0.9790513228158739]]\n",
      "[]\n",
      "[['biện_pháp', 0.7699326241679367], ['bên', 0.06404925547068727], ['bối_cảnh', 0.6159460993343494], ['ca', 0.15398652483358735]]\n",
      "[['bên', 0.2672108367164116], ['bối_cảnh', 0.9636380901258083]]\n",
      "[['biện_pháp', 0.690704791276277], ['bên', 0.09576406697294032], ['bảo_vệ', 0.19152813394588064], ['ca', 0.690704791276277]]\n",
      "[['biện_pháp', 0.44297620576962776], ['bên', 0.061417270551078956], ['bảo_vệ', 0.12283454110215791], ['ca', 0.8859524115392555]]\n",
      "[['biện_pháp', 0.690704791276277], ['bên', 0.09576406697294032], ['bảo_vệ', 0.19152813394588064], ['ca', 0.690704791276277]]\n",
      "[['biện_pháp', 0.690704791276277], ['bên', 0.09576406697294032], ['bảo_vệ', 0.19152813394588064], ['ca', 0.690704791276277]]\n",
      "[['biện_pháp', 0.690704791276277], ['bên', 0.09576406697294032], ['bảo_vệ', 0.19152813394588064], ['ca', 0.690704791276277]]\n",
      "[['biện_pháp', 0.690704791276277], ['bên', 0.09576406697294032], ['bảo_vệ', 0.19152813394588064], ['ca', 0.690704791276277]]\n",
      "[['biện_pháp', 0.44297620576962776], ['bên', 0.061417270551078956], ['bảo_vệ', 0.12283454110215791], ['ca', 0.8859524115392555]]\n",
      "[['biện_pháp', 0.690704791276277], ['bên', 0.09576406697294032], ['bảo_vệ', 0.19152813394588064], ['ca', 0.690704791276277]]\n",
      "[['biện_pháp', 0.5027977742323639], ['bán_lẻ', 0.06971134460564903], ['bùi', 0.06971134460564903], ['bội_chi', 0.8587636782570195]]\n",
      "[['biện_pháp', 0.5027977742323639], ['bán_lẻ', 0.06971134460564903], ['bùi', 0.06971134460564903], ['bội_chi', 0.8587636782570195]]\n",
      "[['bên', 0.2648573865910252], ['bảo_vệ', 0.1324286932955126], ['chi', 0.9551508812539594]]\n",
      "[['bảo_vệ', 1.0]]\n",
      "[['bảo_vệ', 1.0]]\n",
      "[['biện_pháp', 0.140938269597905], ['bùi', 0.019540651895413683], ['bùng_phát', 0.08023946074665934], ['bối_cảnh', 0.986567887185335]]\n",
      "[['bên', 0.06915746471498917], ['bối_cảnh', 0.9976057563357357]]\n",
      "[['bùng_phát', 1.0]]\n",
      "[['biện_pháp', 0.9613888052877574], ['bên', 0.06664678101225588], ['bùng_phát', 0.20525294387105047], ['bảo_vệ', 0.01666169525306397], ['bối_cảnh', 0.12017360066096967], ['ca', 0.12017360066096967]]\n",
      "[['biện_pháp', 0.430290805813729], ['bên', 0.1193169587535238], ['bùng_phát', 0.24497464259524546], ['bối_cảnh', 0.860581611627458]]\n",
      "[['bán_lẻ', 0.0757036061966099], ['bùi', 0.0757036061966099], ['bảo_vệ', 0.0757036061966099], ['bối_cảnh', 0.5460173650693633], ['bội_chi', 0.6217209712659731], ['chi', 0.5460173650693633]]\n",
      "[['biện_pháp', 0.690704791276277], ['bên', 0.09576406697294032], ['bảo_vệ', 0.19152813394588064], ['ca', 0.690704791276277]]\n",
      "[['biện_pháp', 0.690704791276277], ['bên', 0.09576406697294032], ['bảo_vệ', 0.19152813394588064], ['ca', 0.690704791276277]]\n",
      "[['biện_pháp', 0.7071067811865475], ['bối_cảnh', 0.7071067811865475]]\n",
      "[['biện_pháp', 0.7071067811865475], ['bối_cảnh', 0.7071067811865475]]\n",
      "[['bùng_phát', 1.0]]\n",
      "[['biện_pháp', 0.7037329116471254], ['bên', 0.09757037526482303], ['bối_cảnh', 0.7037329116471254]]\n",
      "[['biện_pháp', 0.7037329116471254], ['bên', 0.09757037526482303], ['bối_cảnh', 0.7037329116471254]]\n",
      "[['bên', 0.09203892312166005], ['bối_cảnh', 0.9957554100433526]]\n",
      "[['bên', 0.09203892312166005], ['bối_cảnh', 0.9957554100433526]]\n",
      "[['biện_pháp', 0.1959712983483908], ['bên', 0.02717080984067287], ['bùi', 0.02717080984067287], ['bối_cảnh', 0.979856491741954]]\n",
      "[['bên', 0.058140637679481896], ['bùng_phát', 0.23874195394491815], ['bảo_vệ', 0.058140637679481896], ['bối_cảnh', 0.4193432702103544], ['bội_chi', 0.23874195394491815], ['chi', 0.8386865404207088]]\n",
      "[['bên', 0.2672108367164116], ['bối_cảnh', 0.9636380901258083]]\n",
      "[['bối_cảnh', 1.0]]\n",
      "[['biện_pháp', 0.8859524115392555], ['bán_lẻ', 0.12283454110215791], ['bên', 0.061417270551078956], ['ca', 0.44297620576962776]]\n",
      "[['bên', 1.0]]\n",
      "[['biện_pháp', 0.690704791276277], ['bên', 0.09576406697294032], ['bảo_vệ', 0.19152813394588064], ['ca', 0.690704791276277]]\n",
      "[['biện_pháp', 0.690704791276277], ['bên', 0.09576406697294032], ['bảo_vệ', 0.19152813394588064], ['ca', 0.690704791276277]]\n",
      "[['biện_pháp', 0.9512767345591959], ['bán_lẻ', 0.06594577746434671], ['bên', 0.13189155492869342], ['bùng_phát', 0.27079207237197234]]\n",
      "[['bên', 0.2366138890803243], ['bùng_phát', 0.9716037605393899]]\n",
      "[['bên', 0.2366138890803243], ['bùng_phát', 0.9716037605393899]]\n",
      "[['bên', 0.2366138890803243], ['bùng_phát', 0.9716037605393899]]\n",
      "[['biện_pháp', 0.16401597706583348], ['bên', 0.06822091236695402], ['bối_cảnh', 0.9840958623950008]]\n",
      "[['biện_pháp', 0.31562162989819276], ['bên', 0.04375995546205679], ['bùi', 0.04375995546205679], ['bối_cảnh', 0.9468648896945782]]\n",
      "[['biện_pháp', 0.31562162989819276], ['bên', 0.04375995546205679], ['bùi', 0.04375995546205679], ['bối_cảnh', 0.9468648896945782]]\n",
      "[['biện_pháp', 0.8690301050924811], ['bùng_phát', 0.4947592105690923]]\n",
      "[['biện_pháp', 0.8690301050924811], ['bùng_phát', 0.4947592105690923]]\n",
      "[['bùng_phát', 1.0]]\n",
      "[['bùng_phát', 1.0]]\n",
      "[['bùng_phát', 1.0]]\n",
      "[['biện_pháp', 0.5289503116075339], ['bùng_phát', 0.3011438120125525], ['bối_cảnh', 0.7934254674113008]]\n",
      "[['biện_pháp', 0.9647278571979034], ['bán_lẻ', 0.13375651116687765], ['bên', 0.13375651116687765], ['bùng_phát', 0.18308072806079687]]\n",
      "[['biện_pháp', 0.9989337655778535], ['bên', 0.04616635125770875]]\n",
      "[['biện_pháp', 0.3693324216604058], ['bùng_phát', 0.10513480275739559], ['bối_cảnh', 0.9233310541510146]]\n",
      "[['biện_pháp', 0.3693324216604058], ['bùng_phát', 0.10513480275739559], ['bối_cảnh', 0.9233310541510146]]\n",
      "[['bên', 0.08533337762983066], ['bùng_phát', 0.3504030592917791], ['bội_chi', 0.7008061185835582], ['chi', 0.6154727409537275]]\n",
      "[['bên', 1.0]]\n",
      "[['biện_pháp', 0.9604913770457385], ['bùng_phát', 0.13670756418012656], ['bảo_vệ', 0.03329228409881849], ['ca', 0.24012284426143463]]\n",
      "[['biện_pháp', 0.9604913770457385], ['bùng_phát', 0.13670756418012656], ['bảo_vệ', 0.03329228409881849], ['ca', 0.24012284426143463]]\n",
      "[['biện_pháp', 0.44297620576962776], ['bên', 0.061417270551078956], ['bảo_vệ', 0.12283454110215791], ['ca', 0.8859524115392555]]\n",
      "[['biện_pháp', 0.32715129322493497], ['bên', 0.04535850735418628], ['bối_cảnh', 0.6543025864498699], ['bội_chi', 0.1862549002895606], ['chi', 0.6543025864498699]]\n",
      "[['bùng_phát', 1.0]]\n",
      "[['biện_pháp', 0.7071067811865475], ['bối_cảnh', 0.7071067811865475]]\n",
      "[['biện_pháp', 0.6849017524402632], ['bùng_phát', 0.5199074974411407], ['bối_cảnh', 0.45660116829350883], ['ca', 0.22830058414675442]]\n",
      "[['biện_pháp', 0.6849017524402632], ['bùng_phát', 0.5199074974411407], ['bối_cảnh', 0.45660116829350883], ['ca', 0.22830058414675442]]\n",
      "[['biện_pháp', 0.9037447126521123], ['bên', 0.04176712940267786], ['bối_cảnh', 0.3012482375507041], ['ca', 0.3012482375507041]]\n",
      "[['biện_pháp', 0.9037447126521123], ['bên', 0.04176712940267786], ['bối_cảnh', 0.3012482375507041], ['ca', 0.3012482375507041]]\n",
      "[['biện_pháp', 0.4326065611515788], ['bán_lẻ', 0.059979551638121215], ['bùng_phát', 0.24629305639485], ['bối_cảnh', 0.8652131223031576]]\n",
      "[['biện_pháp', 0.9905249085158221], ['bên', 0.1373331919447085]]\n",
      "[]\n",
      "[['bảo_vệ', 0.06915746471498917], ['bối_cảnh', 0.9976057563357357]]\n",
      "[['biện_pháp', 0.8690301050924811], ['bùng_phát', 0.4947592105690923]]\n",
      "[['biện_pháp', 0.8667736564079551], ['bùng_phát', 0.2467372807187436], ['bối_cảnh', 0.43338682820397756]]\n",
      "[['biện_pháp', 0.8667736564079551], ['bùng_phát', 0.2467372807187436], ['bối_cảnh', 0.43338682820397756]]\n",
      "[['bảo_vệ', 0.06915746471498917], ['bối_cảnh', 0.9976057563357357]]\n",
      "[['bối_cảnh', 1.0]]\n",
      "[['biện_pháp', 0.9617909045877565], ['bùng_phát', 0.27378505410680315]]\n",
      "[['bán_lẻ', 0.7071067811865476], ['bên', 0.7071067811865476]]\n",
      "[['bối_cảnh', 1.0]]\n",
      "[['bán_lẻ', 0.11962313428951009], ['bùng_phát', 0.4912065288092223], ['bối_cảnh', 0.8627899233289344]]\n",
      "[['bán_lẻ', 0.11962313428951009], ['bùng_phát', 0.4912065288092223], ['bối_cảnh', 0.8627899233289344]]\n",
      "[['biện_pháp', 0.16181265874222678], ['bên', 0.06730446270783975], ['bảo_vệ', 0.022434820902613253], ['bối_cảnh', 0.9708759524533606], ['ca', 0.16181265874222678]]\n",
      "[]\n",
      "[['biện_pháp', 0.9976057563357357], ['bán_lẻ', 0.06915746471498917]]\n",
      "[['biện_pháp', 0.9976057563357357], ['bán_lẻ', 0.06915746471498917]]\n",
      "[['bên', 1.0]]\n",
      "[['biện_pháp', 0.7071067811865475], ['bối_cảnh', 0.7071067811865475]]\n",
      "[['biện_pháp', 0.7071067811865475], ['bối_cảnh', 0.7071067811865475]]\n",
      "[]\n",
      "[]\n",
      "[]\n",
      "[]\n",
      "[['bảo_vệ', 0.06915746471498917], ['bối_cảnh', 0.9976057563357357]]\n",
      "[['bảo_vệ', 0.06915746471498917], ['bối_cảnh', 0.9976057563357357]]\n",
      "[['bảo_vệ', 0.06915746471498917], ['bối_cảnh', 0.9976057563357357]]\n",
      "[['bảo_vệ', 0.06915746471498917], ['bối_cảnh', 0.9976057563357357]]\n",
      "[['bảo_vệ', 0.06915746471498917], ['bối_cảnh', 0.9976057563357357]]\n",
      "[]\n",
      "[]\n",
      "[['bên', 0.1373331919447085], ['bối_cảnh', 0.9905249085158221]]\n",
      "[['bên', 0.1373331919447085], ['bối_cảnh', 0.9905249085158221]]\n",
      "[['bên', 0.1373331919447085], ['bối_cảnh', 0.9905249085158221]]\n",
      "[['bên', 1.0]]\n",
      "[['bối_cảnh', 1.0]]\n",
      "[['bên', 0.7071067811865476], ['bảo_vệ', 0.7071067811865476]]\n",
      "[['biện_pháp', 0.5453357933976034], ['bên', 0.07560910840819776], ['bảo_vệ', 0.07560910840819776], ['bối_cảnh', 0.5453357933976034], ['bội_chi', 0.3104724509029006], ['chi', 0.5453357933976034]]\n",
      "[['biện_pháp', 0.5453357933976034], ['bên', 0.07560910840819776], ['bảo_vệ', 0.07560910840819776], ['bối_cảnh', 0.5453357933976034], ['bội_chi', 0.3104724509029006], ['chi', 0.5453357933976034]]\n",
      "[['biện_pháp', 0.44381404791414814], ['bên', 0.1230668695071552], ['bối_cảnh', 0.8876280958282963]]\n",
      "[]\n",
      "[['biện_pháp', 0.9613888052877574], ['bên', 0.06664678101225588], ['bùng_phát', 0.20525294387105047], ['bảo_vệ', 0.01666169525306397], ['bối_cảnh', 0.12017360066096967], ['ca', 0.12017360066096967]]\n",
      "[['bán_lẻ', 0.11962313428951009], ['bùng_phát', 0.4912065288092223], ['bối_cảnh', 0.8627899233289344]]\n",
      "[['biện_pháp', 0.3106462780290966], ['bên', 0.04307013842933335], ['bùi', 0.04307013842933335], ['bùng_phát', 0.17685820822921497], ['bối_cảnh', 0.9319388340872897]]\n",
      "[['biện_pháp', 0.3106462780290966], ['bên', 0.04307013842933335], ['bùi', 0.04307013842933335], ['bùng_phát', 0.17685820822921497], ['bối_cảnh', 0.9319388340872897]]\n",
      "[['biện_pháp', 0.3106462780290966], ['bên', 0.04307013842933335], ['bùi', 0.04307013842933335], ['bùng_phát', 0.17685820822921497], ['bối_cảnh', 0.9319388340872897]]\n",
      "[['biện_pháp', 0.3106462780290966], ['bên', 0.04307013842933335], ['bùi', 0.04307013842933335], ['bùng_phát', 0.17685820822921497], ['bối_cảnh', 0.9319388340872897]]\n",
      "[['biện_pháp', 0.3106462780290966], ['bên', 0.04307013842933335], ['bùi', 0.04307013842933335], ['bùng_phát', 0.17685820822921497], ['bối_cảnh', 0.9319388340872897]]\n",
      "[['bên', 0.2672108367164116], ['chi', 0.9636380901258083]]\n",
      "[['biện_pháp', 0.2402081753174248], ['bối_cảnh', 0.4804163506348496], ['bội_chi', 0.06837807257531306], ['chi', 0.8407286136109867]]\n",
      "[['biện_pháp', 0.4200764763649011], ['bùng_phát', 0.11957969269823321], ['bảo_vệ', 0.029121147214015895], ['bối_cảnh', 0.8401529527298022], ['bội_chi', 0.11957969269823321], ['ca', 0.21003823818245054], ['chi', 0.21003823818245054]]\n",
      "[['bên', 1.0]]\n",
      "[['biện_pháp', 0.5027977742323639], ['bán_lẻ', 0.06971134460564903], ['bùi', 0.06971134460564903], ['bội_chi', 0.8587636782570195]]\n",
      "[['biện_pháp', 0.5027977742323639], ['bán_lẻ', 0.06971134460564903], ['bùi', 0.06971134460564903], ['bội_chi', 0.8587636782570195]]\n",
      "[['biện_pháp', 1.0]]\n",
      "[['bối_cảnh', 0.22407131618476664], ['bội_chi', 0.3827071589020091], ['chi', 0.8962852647390666]]\n",
      "[['biện_pháp', 0.8667736564079551], ['bùng_phát', 0.2467372807187436], ['bối_cảnh', 0.43338682820397756]]\n",
      "[['bên', 1.0]]\n",
      "[['biện_pháp', 0.7071067811865475], ['bối_cảnh', 0.7071067811865475]]\n",
      "[['biện_pháp', 0.9695582725328438], ['bán_lẻ', 0.0896174888005226], ['bên', 0.1344262332007839], ['bùng_phát', 0.18399741762227131]]\n",
      "[['biện_pháp', 0.962324294990864], ['bên', 0.050033724283771605], ['bùng_phát', 0.20545266745267282], ['bảo_vệ', 0.016677908094590535], ['bối_cảnh', 0.120290536873858], ['ca', 0.120290536873858]]\n",
      "[['biện_pháp', 0.962324294990864], ['bên', 0.050033724283771605], ['bùng_phát', 0.20545266745267282], ['bảo_vệ', 0.016677908094590535], ['bối_cảnh', 0.120290536873858], ['ca', 0.120290536873858]]\n",
      "[['biện_pháp', 0.9504348990633729], ['bên', 0.07529990689170317], ['bùng_phát', 0.23190208631225434], ['bảo_vệ', 0.018824976722925792], ['bối_cảnh', 0.13577641415191044], ['ca', 0.13577641415191044]]\n",
      "[['biện_pháp', 0.7071067811865475], ['ca', 0.7071067811865475]]\n",
      "[['biện_pháp', 0.7071067811865475], ['ca', 0.7071067811865475]]\n",
      "[['biện_pháp', 0.4472135954999579], ['bối_cảnh', 0.8944271909999159]]\n",
      "[['biện_pháp', 0.3867176033296729], ['bán_lẻ', 0.053617190632842406], ['bùi', 0.053617190632842406], ['bùng_phát', 0.22016739698125767], ['bối_cảnh', 0.7734352066593458], ['bội_chi', 0.22016739698125767], ['ca', 0.3867176033296729]]\n",
      "[['bên', 0.1373331919447085], ['bối_cảnh', 0.9905249085158221]]\n",
      "[['biện_pháp', 0.8927127791606514], ['bên', 0.061885922503283314], ['chi', 0.4463563895803257]]\n",
      "[['biện_pháp', 0.9128709291752769], ['bối_cảnh', 0.18257418583505539], ['ca', 0.36514837167011077]]\n",
      "[['bên', 0.05399542668458615], ['bối_cảnh', 0.5841684845411097], ['bội_chi', 0.22172054152266302], ['chi', 0.7788913127214797]]\n",
      "[['bên', 0.1373331919447085], ['bối_cảnh', 0.9905249085158221]]\n",
      "[['bên', 0.1373331919447085], ['bối_cảnh', 0.9905249085158221]]\n",
      "[['biện_pháp', 0.8195063264493457], ['bên', 0.07574799897346429], ['bùng_phát', 0.15552138748492372], ['bối_cảnh', 0.5463375509662306]]\n",
      "[['biện_pháp', 0.8195063264493457], ['bên', 0.07574799897346429], ['bùng_phát', 0.15552138748492372], ['bối_cảnh', 0.5463375509662306]]\n",
      "[['biện_pháp', 0.8195063264493457], ['bên', 0.07574799897346429], ['bùng_phát', 0.15552138748492372], ['bối_cảnh', 0.5463375509662306]]\n",
      "[]\n",
      "[['biện_pháp', 0.9134235722084901], ['bán_lẻ', 0.015830416490597285], ['bên', 0.015830416490597285], ['bùng_phát', 0.3900250890499757], ['chi', 0.11417794652606127]]\n",
      "[['biện_pháp', 0.7510883106773274], ['bên', 0.02082721075479721], ['bùng_phát', 0.1710448728902627], ['bối_cảnh', 0.600870648541862], ['ca', 0.1502176621354655], ['chi', 0.1502176621354655]]\n",
      "[['biện_pháp', 0.7071067811865475], ['ca', 0.7071067811865475]]\n",
      "[['bán_lẻ', 0.11962313428951009], ['bùng_phát', 0.4912065288092223], ['bối_cảnh', 0.8627899233289344]]\n",
      "[['biện_pháp', 0.9551508812539594], ['bên', 0.1324286932955126], ['bảo_vệ', 0.2648573865910252]]\n",
      "[['biện_pháp', 0.9551508812539594], ['bên', 0.1324286932955126], ['bảo_vệ', 0.2648573865910252]]\n",
      "[['biện_pháp', 0.9551508812539594], ['bên', 0.1324286932955126], ['bảo_vệ', 0.2648573865910252]]\n",
      "[['biện_pháp', 0.7037329116471254], ['bên', 0.09757037526482303], ['bối_cảnh', 0.7037329116471254]]\n",
      "[['bên', 0.9701425001453319], ['bảo_vệ', 0.24253562503633297]]\n",
      "[]\n",
      "[['biện_pháp', 0.4436331821468145], ['bùng_phát', 0.1262853851063389], ['bối_cảnh', 0.887266364293629]]\n",
      "[['biện_pháp', 0.6381068222045443], ['bùng_phát', 0.6054819538905677], ['bối_cảnh', 0.42540454813636286], ['ca', 0.21270227406818143]]\n",
      "[['bối_cảnh', 1.0]]\n",
      "[['bối_cảnh', 1.0]]\n",
      "[['biện_pháp', 1.0]]\n",
      "[['biện_pháp', 1.0]]\n",
      "[['biện_pháp', 1.0]]\n",
      "[['biện_pháp', 0.7071067811865475], ['ca', 0.7071067811865475]]\n",
      "[['bối_cảnh', 1.0]]\n",
      "[['biện_pháp', 0.6666666666666667], ['bối_cảnh', 0.33333333333333337], ['ca', 0.6666666666666667]]\n",
      "[['biện_pháp', 0.6666666666666667], ['bối_cảnh', 0.33333333333333337], ['ca', 0.6666666666666667]]\n",
      "[['biện_pháp', 0.6666666666666667], ['bối_cảnh', 0.33333333333333337], ['ca', 0.6666666666666667]]\n",
      "[['biện_pháp', 0.8636851224503465], ['bán_lẻ', 0.01710675012258886], ['bùng_phát', 0.4214710171322008], ['bối_cảnh', 0.24676717784295615], ['chi', 0.12338358892147808]]\n",
      "[['biện_pháp', 0.9134235722084901], ['bán_lẻ', 0.015830416490597285], ['bên', 0.015830416490597285], ['bùng_phát', 0.3900250890499757], ['chi', 0.11417794652606127]]\n",
      "[['biện_pháp', 0.9134235722084901], ['bán_lẻ', 0.015830416490597285], ['bên', 0.015830416490597285], ['bùng_phát', 0.3900250890499757], ['chi', 0.11417794652606127]]\n",
      "[['biện_pháp', 0.9134235722084901], ['bán_lẻ', 0.015830416490597285], ['bên', 0.015830416490597285], ['bùng_phát', 0.3900250890499757], ['chi', 0.11417794652606127]]\n",
      "[['biện_pháp', 0.9134235722084901], ['bán_lẻ', 0.015830416490597285], ['bên', 0.015830416490597285], ['bùng_phát', 0.3900250890499757], ['chi', 0.11417794652606127]]\n",
      "[['biện_pháp', 0.9134235722084901], ['bán_lẻ', 0.015830416490597285], ['bên', 0.015830416490597285], ['bùng_phát', 0.3900250890499757], ['chi', 0.11417794652606127]]\n",
      "[['biện_pháp', 0.9551508812539594], ['bán_lẻ', 0.1324286932955126], ['bên', 0.2648573865910252]]\n",
      "[['bên', 1.0]]\n",
      "[['biện_pháp', 0.4463563895803257], ['bảo_vệ', 0.061885922503283314], ['chi', 0.8927127791606514]]\n",
      "[['bối_cảnh', 1.0]]\n",
      "[['biện_pháp', 0.9516159489361278], ['bên', 0.056545108262148536], ['bùng_phát', 0.23219025747453026], ['bảo_vệ', 0.018848369420716177], ['bối_cảnh', 0.13594513556230398], ['ca', 0.13594513556230398]]\n",
      "[['biện_pháp', 0.9516159489361278], ['bên', 0.056545108262148536], ['bùng_phát', 0.23219025747453026], ['bảo_vệ', 0.018848369420716177], ['bối_cảnh', 0.13594513556230398], ['ca', 0.13594513556230398]]\n",
      "[['biện_pháp', 0.9516159489361278], ['bên', 0.056545108262148536], ['bùng_phát', 0.23219025747453026], ['bảo_vệ', 0.018848369420716177], ['bối_cảnh', 0.13594513556230398], ['ca', 0.13594513556230398]]\n",
      "[['bên', 1.0]]\n",
      "[['bán_lẻ', 0.1360561481391004], ['bên', 0.1360561481391004], ['ca', 0.9813141439453027]]\n",
      "[['biện_pháp', 0.8636851224503465], ['bán_lẻ', 0.01710675012258886], ['bùng_phát', 0.4214710171322008], ['bối_cảnh', 0.24676717784295615], ['chi', 0.12338358892147808]]\n",
      "[['biện_pháp', 0.2402081753174248], ['bối_cảnh', 0.4804163506348496], ['bội_chi', 0.06837807257531306], ['chi', 0.8407286136109867]]\n",
      "[['bùng_phát', 1.0]]\n",
      "[]\n",
      "[['biện_pháp', 0.6505897083543937], ['bán_lẻ', 0.09020223573030792], ['bên', 0.09020223573030792], ['bùng_phát', 0.3703959720423508], ['bối_cảnh', 0.6505897083543937]]\n",
      "[['bên', 0.1373331919447085], ['chi', 0.9905249085158221]]\n",
      "[['bên', 0.1373331919447085], ['chi', 0.9905249085158221]]\n",
      "[['biện_pháp', 0.9512767345591959], ['bán_lẻ', 0.06594577746434671], ['bên', 0.13189155492869342], ['bùng_phát', 0.27079207237197234]]\n",
      "[['biện_pháp', 1.0]]\n",
      "[['biện_pháp', 1.0]]\n",
      "[['bên', 1.0]]\n",
      "[['biện_pháp', 0.9298056172681511], ['bối_cảnh', 0.18596112345363025], ['bội_chi', 0.3176160806074783]]\n",
      "[['bên', 0.7071067811865476], ['bảo_vệ', 0.7071067811865476]]\n",
      "[['biện_pháp', 0.9128709291752769], ['bối_cảnh', 0.18257418583505539], ['ca', 0.36514837167011077]]\n",
      "[['biện_pháp', 0.9128709291752769], ['bối_cảnh', 0.18257418583505539], ['ca', 0.36514837167011077]]\n",
      "[['biện_pháp', 0.9128709291752769], ['bối_cảnh', 0.18257418583505539], ['ca', 0.36514837167011077]]\n",
      "[['biện_pháp', 0.9128709291752769], ['bối_cảnh', 0.18257418583505539], ['ca', 0.36514837167011077]]\n",
      "[['biện_pháp', 0.8876280958282963], ['bên', 0.1230668695071552], ['bối_cảnh', 0.44381404791414814]]\n",
      "[['biện_pháp', 1.0]]\n",
      "[]\n",
      "[['biện_pháp', 0.7037329116471254], ['bên', 0.09757037526482303], ['bối_cảnh', 0.7037329116471254]]\n",
      "[['biện_pháp', 0.9128709291752769], ['bối_cảnh', 0.18257418583505539], ['ca', 0.36514837167011077]]\n",
      "[['bùng_phát', 1.0]]\n",
      "[['bên', 0.04799984402702751], ['bối_cảnh', 0.6924042242138694], ['bội_chi', 0.1971009780669811], ['chi', 0.6924042242138694]]\n",
      "[['bên', 1.0]]\n",
      "[['biện_pháp', 0.8296004691715386], ['bên', 0.07668101326253204], ['chi', 0.5530669794476925]]\n",
      "[['biện_pháp', 0.9583692592311805], ['bán_lẻ', 0.033218727843279026], ['bên', 0.06643745568655805], ['bùng_phát', 0.13640552132553707], ['bối_cảnh', 0.23959231480779514]]\n",
      "[['biện_pháp', 0.9583692592311805], ['bán_lẻ', 0.033218727843279026], ['bên', 0.06643745568655805], ['bùng_phát', 0.13640552132553707], ['bối_cảnh', 0.23959231480779514]]\n",
      "[]\n",
      "[['biện_pháp', 0.8925837579691281], ['bùng_phát', 0.338779238196513], ['bối_cảnh', 0.29752791932304273]]\n",
      "[['biện_pháp', 0.9297287669706776], ['bán_lẻ', 0.0143226662632417], ['bên', 0.0143226662632417], ['bùng_phát', 0.352877587779951], ['chi', 0.10330319633007529]]\n",
      "[['biện_pháp', 0.44297620576962776], ['bên', 0.061417270551078956], ['bảo_vệ', 0.12283454110215791], ['ca', 0.8859524115392555]]\n",
      "[['bên', 0.0682032799572988], ['bảo_vệ', 0.022734426652432933], ['bối_cảnh', 0.9838415125074996], ['ca', 0.16397358541791662]]\n",
      "[['bên', 0.0682032799572988], ['bảo_vệ', 0.022734426652432933], ['bối_cảnh', 0.9838415125074996], ['ca', 0.16397358541791662]]\n",
      "[['bối_cảnh', 1.0]]\n",
      "[]\n",
      "[['biện_pháp', 0.7037329116471254], ['bán_lẻ', 0.09757037526482303], ['bối_cảnh', 0.7037329116471254]]\n",
      "[]\n",
      "[['biện_pháp', 0.8391092767239597], ['bán_lẻ', 0.11633988643010115], ['bên', 0.2326797728602023], ['bùng_phát', 0.47772458157703046]]\n",
      "[['bên', 1.0]]\n",
      "[['bên', 1.0]]\n",
      "[['biện_pháp', 0.19455015813278312], ['bán_lẻ', 0.026973773178260378], ['bên', 0.053947546356520756], ['bùng_phát', 0.11076196565552175], ['bối_cảnh', 0.9727507906639156]]\n",
      "[['bên', 1.0]]\n",
      "[['bên', 1.0]]\n",
      "[['biện_pháp', 0.9596601806592292], ['bùi', 0.0665269468032072], ['bùng_phát', 0.2731785185664109]]\n",
      "[['bối_cảnh', 0.22407131618476664], ['bội_chi', 0.3827071589020091], ['chi', 0.8962852647390666]]\n",
      "[['biện_pháp', 0.9512767345591959], ['bán_lẻ', 0.06594577746434671], ['bên', 0.13189155492869342], ['bùng_phát', 0.27079207237197234]]\n",
      "[['biện_pháp', 0.7071067811865475], ['chi', 0.7071067811865475]]\n",
      "[['biện_pháp', 0.7071067811865475], ['chi', 0.7071067811865475]]\n",
      "[['biện_pháp', 0.8912471216408437], ['bán_lẻ', 0.017652662308378468], ['bùng_phát', 0.43492103905692564], ['chi', 0.12732101737726342]]\n",
      "[['biện_pháp', 0.8841099353625179], ['bán_lẻ', 0.01751129821738278], ['bùng_phát', 0.43143815266465607], ['bối_cảnh', 0.12630141933750258], ['chi', 0.12630141933750258]]\n",
      "[['bên', 0.058140637679481896], ['bùng_phát', 0.23874195394491815], ['bảo_vệ', 0.058140637679481896], ['bối_cảnh', 0.4193432702103544], ['bội_chi', 0.23874195394491815], ['chi', 0.8386865404207088]]\n",
      "[['bảo_vệ', 0.0665269468032072], ['bối_cảnh', 0.9596601806592292], ['bội_chi', 0.2731785185664109]]\n",
      "[['biện_pháp', 0.8636851224503465], ['bán_lẻ', 0.01710675012258886], ['bùng_phát', 0.4214710171322008], ['bối_cảnh', 0.24676717784295615], ['chi', 0.12338358892147808]]\n",
      "[['bùng_phát', 1.0]]\n",
      "[['biện_pháp', 0.43338682820397756], ['bùng_phát', 0.2467372807187436], ['bối_cảnh', 0.8667736564079551]]\n",
      "[['biện_pháp', 0.43338682820397756], ['bùng_phát', 0.2467372807187436], ['bối_cảnh', 0.8667736564079551]]\n",
      "[['bên', 0.061767754382652106], ['bảo_vệ', 0.061767754382652106], ['bối_cảnh', 0.8910081880822639], ['chi', 0.44550409404113195]]\n",
      "[['biện_pháp', 0.9970098776659403], ['bán_lẻ', 0.034558078177314155], ['bên', 0.06911615635462831]]\n",
      "[['biện_pháp', 0.9970098776659403], ['bán_lẻ', 0.034558078177314155], ['bên', 0.06911615635462831]]\n",
      "[['biện_pháp', 0.9970098776659403], ['bán_lẻ', 0.034558078177314155], ['bên', 0.06911615635462831]]\n",
      "[['bên', 0.06915746471498917], ['bối_cảnh', 0.9976057563357357]]\n",
      "[['bối_cảnh', 1.0]]\n",
      "[['bối_cảnh', 1.0]]\n",
      "[['bảo_vệ', 0.0665269468032072], ['bối_cảnh', 0.9596601806592292], ['bội_chi', 0.2731785185664109]]\n",
      "[]\n",
      "[['biện_pháp', 0.8690301050924811], ['bùng_phát', 0.4947592105690923]]\n",
      "[['biện_pháp', 0.2949206411008762], ['bùi', 0.12266948361788568], ['bối_cảnh', 0.2949206411008762], ['bội_chi', 0.16790523448675237], ['chi', 0.8847619233026285]]\n",
      "[['bối_cảnh', 1.0]]\n",
      "[['biện_pháp', 0.9905249085158221], ['bên', 0.1373331919447085]]\n",
      "[['biện_pháp', 0.9905249085158221], ['bên', 0.1373331919447085]]\n",
      "[]\n",
      "[]\n",
      "[]\n",
      "[['bên', 1.0]]\n",
      "[['bên', 0.2672108367164116], ['bối_cảnh', 0.9636380901258083]]\n",
      "[['biện_pháp', 0.9298056172681511], ['bối_cảnh', 0.18596112345363025], ['bội_chi', 0.3176160806074783]]\n",
      "[['biện_pháp', 0.9298056172681511], ['bối_cảnh', 0.18596112345363025], ['bội_chi', 0.3176160806074783]]\n",
      "[['bối_cảnh', 1.0]]\n",
      "[['bên', 1.0]]\n",
      "[['bên', 1.0]]\n",
      "[['bảo_vệ', 0.0665269468032072], ['bối_cảnh', 0.9596601806592292], ['bội_chi', 0.2731785185664109]]\n",
      "[['bảo_vệ', 0.0665269468032072], ['bối_cảnh', 0.9596601806592292], ['bội_chi', 0.2731785185664109]]\n",
      "[['bảo_vệ', 0.0665269468032072], ['bối_cảnh', 0.9596601806592292], ['bội_chi', 0.2731785185664109]]\n",
      "[['bảo_vệ', 0.0665269468032072], ['bối_cảnh', 0.9596601806592292], ['bội_chi', 0.2731785185664109]]\n",
      "[['bảo_vệ', 0.0665269468032072], ['bối_cảnh', 0.9596601806592292], ['bội_chi', 0.2731785185664109]]\n",
      "[['bên', 0.8944271909999159], ['bảo_vệ', 0.4472135954999579]]\n",
      "[['biện_pháp', 0.9128709291752769], ['bối_cảnh', 0.18257418583505539], ['ca', 0.36514837167011077]]\n",
      "[['biện_pháp', 0.7670523092843442], ['bùng_phát', 0.29113390723967675], ['bối_cảnh', 0.5113682061895628], ['ca', 0.2556841030947814]]\n",
      "[['bên', 0.8944271909999159], ['bảo_vệ', 0.4472135954999579]]\n",
      "[['bán_lẻ', 0.1373331919447085], ['bối_cảnh', 0.9905249085158221]]\n",
      "[['biện_pháp', 0.9813141439453027], ['bên', 0.1360561481391004], ['bảo_vệ', 0.1360561481391004]]\n",
      "[['bên', 1.0]]\n",
      "[['biện_pháp', 0.2961611766745562], ['bùi', 0.0821236485284567], ['bối_cảnh', 0.2961611766745562], ['bội_chi', 0.16861150046939227], ['chi', 0.8884835300236685]]\n",
      "[['biện_pháp', 0.2961611766745562], ['bùi', 0.0821236485284567], ['bối_cảnh', 0.2961611766745562], ['bội_chi', 0.16861150046939227], ['chi', 0.8884835300236685]]\n",
      "[['biện_pháp', 0.2961611766745562], ['bùi', 0.0821236485284567], ['bối_cảnh', 0.2961611766745562], ['bội_chi', 0.16861150046939227], ['chi', 0.8884835300236685]]\n",
      "[['biện_pháp', 0.9724915836749769], ['bán_lẻ', 0.13483292765001256], ['bên', 0.04494430921667086], ['bùng_phát', 0.1845540852208316]]\n",
      "[['biện_pháp', 0.4463563895803257], ['bảo_vệ', 0.061885922503283314], ['bối_cảnh', 0.8927127791606514]]\n",
      "[['biện_pháp', 0.4463563895803257], ['bảo_vệ', 0.061885922503283314], ['bối_cảnh', 0.8927127791606514]]\n",
      "[['biện_pháp', 0.8652131223031576], ['bán_lẻ', 0.059979551638121215], ['bùng_phát', 0.24629305639485], ['bối_cảnh', 0.4326065611515788]]\n",
      "[['bên', 0.9701425001453319], ['bảo_vệ', 0.24253562503633297]]\n",
      "[['bên', 0.9701425001453319], ['bảo_vệ', 0.24253562503633297]]\n",
      "[['bên', 0.20361362256118185], ['bối_cảnh', 0.9790513228158739]]\n",
      "[['bên', 0.20361362256118185], ['bối_cảnh', 0.9790513228158739]]\n",
      "[['bùng_phát', 0.4947592105690923], ['bối_cảnh', 0.8690301050924811]]\n",
      "[['biện_pháp', 0.7071067811865475], ['bối_cảnh', 0.7071067811865475]]\n",
      "[['bán_lẻ', 0.06899267399267255], ['bên', 0.06899267399267255], ['bối_cảnh', 0.9952286279396718]]\n",
      "[['bên', 0.09110983161471306], ['bối_cảnh', 0.6571358048780344], ['bội_chi', 0.7482456364927474]]\n",
      "[['bên', 0.09110983161471306], ['bối_cảnh', 0.6571358048780344], ['bội_chi', 0.7482456364927474]]\n",
      "[['bán_lẻ', 1.0]]\n",
      "[['biện_pháp', 0.8636851224503465], ['bán_lẻ', 0.01710675012258886], ['bùng_phát', 0.4214710171322008], ['bối_cảnh', 0.24676717784295615], ['chi', 0.12338358892147808]]\n",
      "[['bên', 1.0]]\n",
      "[['bối_cảnh', 1.0]]\n",
      "[['biện_pháp', 0.8927127791606514], ['bên', 0.061885922503283314], ['chi', 0.4463563895803257]]\n",
      "[['biện_pháp', 0.8927127791606514], ['bên', 0.061885922503283314], ['chi', 0.4463563895803257]]\n",
      "[]\n",
      "[['biện_pháp', 0.9905249085158221], ['bán_lẻ', 0.1373331919447085]]\n",
      "[['bùi', 0.061885922503283314], ['bối_cảnh', 0.8927127791606514], ['chi', 0.4463563895803257]]\n",
      "[['bên', 1.0]]\n",
      "[['bối_cảnh', 1.0]]\n",
      "[['bối_cảnh', 1.0]]\n",
      "[['biện_pháp', 0.8391092767239597], ['bán_lẻ', 0.11633988643010115], ['bên', 0.2326797728602023], ['bùng_phát', 0.47772458157703046]]\n",
      "[['bùng_phát', 1.0]]\n",
      "[['biện_pháp', 0.9824650589930359], ['bùng_phát', 0.18644679631951408]]\n",
      "[['biện_pháp', 0.6505897083543937], ['bán_lẻ', 0.09020223573030792], ['bên', 0.09020223573030792], ['bùng_phát', 0.3703959720423508], ['bối_cảnh', 0.6505897083543937]]\n",
      "[['biện_pháp', 0.29602056795497794], ['bên', 0.08208465860683246], ['bùi', 0.04104232930341623], ['bảo_vệ', 0.04104232930341623], ['bối_cảnh', 0.8880617038649337], ['bội_chi', 0.33706289725839417]]\n",
      "[['biện_pháp', 0.29602056795497794], ['bên', 0.08208465860683246], ['bùi', 0.04104232930341623], ['bảo_vệ', 0.04104232930341623], ['bối_cảnh', 0.8880617038649337], ['bội_chi', 0.33706289725839417]]\n",
      "[['biện_pháp', 0.5471229295860036], ['bên', 0.03792844463587038], ['bùng_phát', 0.15574495471443608], ['bảo_vệ', 0.03792844463587038], ['bối_cảnh', 0.5471229295860036], ['ca', 0.5471229295860036], ['chi', 0.2735614647930018]]\n",
      "[['biện_pháp', 0.5471229295860036], ['bên', 0.03792844463587038], ['bùng_phát', 0.15574495471443608], ['bảo_vệ', 0.03792844463587038], ['bối_cảnh', 0.5471229295860036], ['ca', 0.5471229295860036], ['chi', 0.2735614647930018]]\n",
      "[]\n",
      "[['biện_pháp', 0.19455015813278312], ['bán_lẻ', 0.026973773178260378], ['bên', 0.053947546356520756], ['bùng_phát', 0.11076196565552175], ['bối_cảnh', 0.9727507906639156]]\n",
      "[['biện_pháp', 0.19455015813278312], ['bán_lẻ', 0.026973773178260378], ['bên', 0.053947546356520756], ['bùng_phát', 0.11076196565552175], ['bối_cảnh', 0.9727507906639156]]\n",
      "[['biện_pháp', 0.2932097912742962], ['bùi', 0.16261049550172973], ['bối_cảnh', 0.2932097912742962], ['bội_chi', 0.16693120757486432], ['chi', 0.8796293738228885]]\n",
      "[]\n",
      "[['biện_pháp', 0.6971275655917712], ['bán_lẻ', 0.09665456461747605], ['bên', 0.09665456461747605], ['bùi', 0.09665456461747605], ['bối_cảnh', 0.6971275655917712]]\n",
      "[['bên', 1.0]]\n",
      "[['bên', 1.0]]\n",
      "[['bên', 1.0]]\n",
      "[['bối_cảnh', 1.0]]\n",
      "[['bối_cảnh', 1.0]]\n",
      "[['bên', 0.2672108367164116], ['bối_cảnh', 0.9636380901258083]]\n",
      "[['biện_pháp', 0.41109599610999037], ['bùng_phát', 0.7021397624027602], ['bối_cảnh', 0.41109599610999037], ['ca', 0.41109599610999037]]\n",
      "[]\n",
      "[['bảo_vệ', 0.1373331919447085], ['bối_cảnh', 0.9905249085158221]]\n",
      "[['bảo_vệ', 0.1373331919447085], ['bối_cảnh', 0.9905249085158221]]\n",
      "[['bảo_vệ', 0.1373331919447085], ['bối_cảnh', 0.9905249085158221]]\n",
      "[['biện_pháp', 0.1936462094302352], ['bên', 0.026848443507488953], ['bùng_phát', 0.11024732646886208], ['bội_chi', 0.11024732646886208], ['chi', 0.9682310471511759]]\n",
      "[['biện_pháp', 0.1936462094302352], ['bên', 0.026848443507488953], ['bùng_phát', 0.11024732646886208], ['bội_chi', 0.11024732646886208], ['chi', 0.9682310471511759]]\n",
      "[['bên', 1.0]]\n",
      "[['biện_pháp', 0.9905249085158221], ['bên', 0.1373331919447085]]\n",
      "[['bán_lẻ', 0.06915746471498917], ['bối_cảnh', 0.9976057563357357]]\n",
      "[['chi', 1.0]]\n",
      "[['chi', 1.0]]\n",
      "[['chi', 1.0]]\n",
      "[['bên', 1.0]]\n",
      "[['biện_pháp', 0.8975036564259657], ['bên', 0.12443608521032566], ['bối_cảnh', 0.2991678854753219], ['ca', 0.2991678854753219]]\n",
      "[['bên', 0.1373331919447085], ['bối_cảnh', 0.9905249085158221]]\n",
      "[['bên', 1.0]]\n",
      "[['bùng_phát', 0.4947592105690923], ['bối_cảnh', 0.8690301050924811]]\n",
      "[['bùng_phát', 0.4947592105690923], ['bối_cảnh', 0.8690301050924811]]\n",
      "[['biện_pháp', 0.9905249085158221], ['bên', 0.1373331919447085]]\n",
      "[['biện_pháp', 0.9905249085158221], ['bên', 0.1373331919447085]]\n",
      "[]\n",
      "[['biện_pháp', 0.21651802820318836], ['bùng_phát', 0.06163439452790067], ['bối_cảnh', 0.9743311269143475]]\n",
      "[['biện_pháp', 0.21651802820318836], ['bùng_phát', 0.06163439452790067], ['bối_cảnh', 0.9743311269143475]]\n",
      "[['biện_pháp', 0.6971275655917712], ['bán_lẻ', 0.09665456461747605], ['bên', 0.09665456461747605], ['bùi', 0.09665456461747605], ['bối_cảnh', 0.6971275655917712]]\n",
      "[['biện_pháp', 1.0]]\n",
      "[['bên', 0.1373331919447085], ['chi', 0.9905249085158221]]\n",
      "[['biện_pháp', 0.9813141439453027], ['bên', 0.1360561481391004], ['bảo_vệ', 0.1360561481391004]]\n",
      "[['biện_pháp', 0.9813141439453027], ['bên', 0.1360561481391004], ['bảo_vệ', 0.1360561481391004]]\n",
      "[]\n",
      "[['bùng_phát', 1.0]]\n",
      "[['biện_pháp', 0.3012482375507041], ['bán_lẻ', 0.04176712940267786], ['bối_cảnh', 0.3012482375507041], ['ca', 0.9037447126521123]]\n",
      "[['biện_pháp', 0.8944271909999159], ['bối_cảnh', 0.4472135954999579]]\n",
      "[['bên', 1.0]]\n",
      "[['bán_lẻ', 1.0]]\n",
      "[['bên', 1.0]]\n",
      "[['biện_pháp', 0.9905249085158221], ['bên', 0.1373331919447085]]\n",
      "[['biện_pháp', 0.19483388091555315], ['bên', 0.027013110457969603], ['bội_chi', 0.11092349568676138], ['chi', 0.9741694045777657]]\n",
      "[['biện_pháp', 0.19483388091555315], ['bên', 0.027013110457969603], ['bội_chi', 0.11092349568676138], ['chi', 0.9741694045777657]]\n",
      "[['bảo_vệ', 0.06915746471498917], ['bối_cảnh', 0.9976057563357357]]\n",
      "[['bảo_vệ', 0.06915746471498917], ['bối_cảnh', 0.9976057563357357]]\n",
      "[['biện_pháp', 0.19483388091555315], ['bên', 0.027013110457969603], ['bội_chi', 0.11092349568676138], ['chi', 0.9741694045777657]]\n",
      "[['biện_pháp', 0.9905249085158221], ['bán_lẻ', 0.1373331919447085]]\n",
      "[]\n",
      "[['bên', 0.027499212425448054], ['bùi', 0.05499842485089611], ['bùng_phát', 0.11291956828183766], ['bối_cảnh', 0.9916996206911364]]\n",
      "[]\n",
      "[]\n",
      "[['bên', 1.0]]\n",
      "[['bên', 0.7071067811865476], ['bảo_vệ', 0.7071067811865476]]\n",
      "[['bên', 1.0]]\n",
      "[['biện_pháp', 0.7037329116471254], ['bên', 0.09757037526482303], ['bối_cảnh', 0.7037329116471254]]\n",
      "[['bội_chi', 0.4947592105690923], ['chi', 0.8690301050924811]]\n",
      "[['bảo_vệ', 0.1373331919447085], ['bối_cảnh', 0.9905249085158221]]\n",
      "[['bối_cảnh', 0.7071067811865475], ['chi', 0.7071067811865475]]\n",
      "[['biện_pháp', 0.5700906069289138], ['bên', 0.15808257232936263], ['bối_cảnh', 0.5700906069289138], ['ca', 0.5700906069289138]]\n",
      "[['biện_pháp', 0.5700906069289138], ['bên', 0.15808257232936263], ['bối_cảnh', 0.5700906069289138], ['ca', 0.5700906069289138]]\n",
      "[['biện_pháp', 0.5700906069289138], ['bên', 0.15808257232936263], ['bối_cảnh', 0.5700906069289138], ['ca', 0.5700906069289138]]\n",
      "[['biện_pháp', 0.5700906069289138], ['bên', 0.15808257232936263], ['bối_cảnh', 0.5700906069289138], ['ca', 0.5700906069289138]]\n",
      "[['bùi', 0.1373331919447085], ['ca', 0.9905249085158221]]\n",
      "[['bùi', 0.1373331919447085], ['ca', 0.9905249085158221]]\n",
      "[]\n",
      "[['biện_pháp', 1.0]]\n",
      "[['biện_pháp', 0.7037329116471254], ['bên', 0.09757037526482303], ['bối_cảnh', 0.7037329116471254]]\n",
      "[['biện_pháp', 0.7037329116471254], ['bên', 0.09757037526482303], ['bối_cảnh', 0.7037329116471254]]\n",
      "[['biện_pháp', 0.2971649558451796], ['bối_cảnh', 0.2971649558451796], ['bội_chi', 0.16918297548174585], ['chi', 0.8914948675355387]]\n",
      "[['biện_pháp', 0.8652131223031576], ['bán_lẻ', 0.059979551638121215], ['bùng_phát', 0.24629305639485], ['bối_cảnh', 0.4326065611515788]]\n",
      "[['biện_pháp', 0.8925837579691281], ['bùng_phát', 0.338779238196513], ['bối_cảnh', 0.29752791932304273]]\n",
      "[['biện_pháp', 0.8925837579691281], ['bùng_phát', 0.338779238196513], ['bối_cảnh', 0.29752791932304273]]\n",
      "[['biện_pháp', 0.6603499390105482], ['bên', 0.13733319194470853], ['bối_cảnh', 0.6603499390105482], ['chi', 0.3301749695052741]]\n",
      "[['biện_pháp', 0.6603499390105482], ['bên', 0.13733319194470853], ['bối_cảnh', 0.6603499390105482], ['chi', 0.3301749695052741]]\n",
      "[['biện_pháp', 0.5312500703748066], ['bên', 0.11048425020640128], ['bối_cảnh', 0.7968751055622099], ['chi', 0.2656250351874033]]\n",
      "[['biện_pháp', 0.9768040834189889], ['bán_lẻ', 0.0677154211505688], ['bên', 0.20314626345170642]]\n",
      "[['biện_pháp', 0.7071067811865475], ['bối_cảnh', 0.7071067811865475]]\n",
      "[['biện_pháp', 0.7071067811865475], ['bối_cảnh', 0.7071067811865475]]\n",
      "[['biện_pháp', 0.7071067811865475], ['bối_cảnh', 0.7071067811865475]]\n",
      "[['biện_pháp', 0.7071067811865475], ['bối_cảnh', 0.7071067811865475]]\n",
      "[['biện_pháp', 0.7037329116471254], ['bên', 0.09757037526482303], ['bối_cảnh', 0.7037329116471254]]\n",
      "[['biện_pháp', 0.8975036564259657], ['bên', 0.12443608521032566], ['bối_cảnh', 0.2991678854753219], ['ca', 0.2991678854753219]]\n",
      "[['bên', 1.0]]\n",
      "[]\n",
      "[['biện_pháp', 0.9695944646124983], ['bán_lẻ', 0.03360781277996204], ['ca', 0.24239861615312458]]\n",
      "[['bán_lẻ', 0.7071067811865476], ['bên', 0.7071067811865476]]\n",
      "[['bên', 0.1373331919447085], ['bối_cảnh', 0.9905249085158221]]\n",
      "[['bên', 0.061767754382652106], ['bảo_vệ', 0.061767754382652106], ['bối_cảnh', 0.8910081880822639], ['chi', 0.44550409404113195]]\n",
      "[['bán_lẻ', 0.0666541492671738], ['bên', 0.2666165970686952], ['bối_cảnh', 0.961495093358764]]\n",
      "[['bán_lẻ', 0.0666541492671738], ['bên', 0.2666165970686952], ['bối_cảnh', 0.961495093358764]]\n",
      "[['bán_lẻ', 0.0666541492671738], ['bên', 0.2666165970686952], ['bối_cảnh', 0.961495093358764]]\n",
      "[['bên', 1.0]]\n",
      "[['biện_pháp', 0.7037329116471254], ['bên', 0.09757037526482303], ['bối_cảnh', 0.7037329116471254]]\n",
      "[['biện_pháp', 0.7037329116471254], ['bên', 0.09757037526482303], ['bối_cảnh', 0.7037329116471254]]\n",
      "[['biện_pháp', 0.8578683021472507], ['bùng_phát', 0.2442022672491036], ['bối_cảnh', 0.1429780503578751], ['ca', 0.42893415107362537]]\n",
      "[['biện_pháp', 0.7062587663677559], ['bảo_vệ', 0.048960288575452184], ['bối_cảnh', 0.7062587663677559]]\n",
      "[['biện_pháp', 0.7062587663677559], ['bảo_vệ', 0.048960288575452184], ['bối_cảnh', 0.7062587663677559]]\n",
      "[['bên', 0.09757037526482303], ['bối_cảnh', 0.7037329116471254], ['ca', 0.7037329116471254]]\n",
      "[['biện_pháp', 0.43338682820397756], ['bùng_phát', 0.2467372807187436], ['bối_cảnh', 0.8667736564079551]]\n",
      "[['bảo_vệ', 0.0665269468032072], ['bối_cảnh', 0.9596601806592292], ['bội_chi', 0.2731785185664109]]\n",
      "[['bên', 1.0]]\n",
      "[['bên', 1.0]]\n",
      "[['bên', 1.0]]\n",
      "[['bên', 1.0]]\n",
      "[['biện_pháp', 0.39851972257778384], ['bùng_phát', 0.45377324026724086], ['bối_cảnh', 0.7970394451555677]]\n",
      "[['biện_pháp', 0.39851972257778384], ['bùng_phát', 0.45377324026724086], ['bối_cảnh', 0.7970394451555677]]\n",
      "[['bên', 0.2672108367164116], ['bối_cảnh', 0.9636380901258083]]\n",
      "[]\n",
      "[['biện_pháp', 0.8386396091491297], ['bùng_phát', 0.31830479254451133], ['bối_cảnh', 0.13977326819152164], ['ca', 0.41931980457456486]]\n",
      "[['biện_pháp', 0.6603499390105482], ['bên', 0.13733319194470853], ['bối_cảnh', 0.6603499390105482], ['chi', 0.3301749695052741]]\n",
      "[['biện_pháp', 0.6603499390105482], ['bên', 0.13733319194470853], ['bối_cảnh', 0.6603499390105482], ['chi', 0.3301749695052741]]\n",
      "[['bên', 1.0]]\n",
      "[['bên', 1.0]]\n",
      "[]\n",
      "[]\n",
      "[['biện_pháp', 0.8627899233289344], ['bán_lẻ', 0.11962313428951009], ['bùng_phát', 0.4912065288092223]]\n",
      "[['biện_pháp', 0.34993392439766363], ['bên', 0.0485172481722622], ['bùng_phát', 0.0664085287616543], ['bối_cảnh', 0.933157131727103]]\n",
      "[['bên', 0.484995906596132], ['bối_cảnh', 0.8745164209921938]]\n",
      "[['bên', 0.484995906596132], ['bối_cảnh', 0.8745164209921938]]\n",
      "[['bên', 0.484995906596132], ['bối_cảnh', 0.8745164209921938]]\n",
      "[['biện_pháp', 0.7037329116471254], ['bên', 0.09757037526482303], ['bối_cảnh', 0.7037329116471254]]\n",
      "[['biện_pháp', 0.6635100421946649], ['bên', 0.02299839993890119], ['bối_cảnh', 0.6635100421946649], ['bội_chi', 0.0944379552437837], ['chi', 0.33175502109733246]]\n",
      "[['biện_pháp', 0.9976057563357357], ['bên', 0.06915746471498917]]\n",
      "[['biện_pháp', 0.9976057563357357], ['bên', 0.06915746471498917]]\n",
      "[]\n",
      "[['biện_pháp', 0.9976057563357357], ['bán_lẻ', 0.06915746471498917]]\n",
      "[['biện_pháp', 0.9976057563357357], ['bán_lẻ', 0.06915746471498917]]\n",
      "[['biện_pháp', 0.9976057563357357], ['bán_lẻ', 0.06915746471498917]]\n",
      "[['bên', 1.0]]\n",
      "[['bên', 0.04616635125770875], ['bối_cảnh', 0.9989337655778535]]\n",
      "[['bên', 0.06915746471498917], ['bối_cảnh', 0.9976057563357357]]\n",
      "[['biện_pháp', 0.9905249085158221], ['bán_lẻ', 0.1373331919447085]]\n",
      "[['biện_pháp', 0.9905249085158221], ['bán_lẻ', 0.1373331919447085]]\n",
      "[['biện_pháp', 0.4463563895803257], ['bán_lẻ', 0.061885922503283314], ['bối_cảnh', 0.8927127791606514]]\n",
      "[['biện_pháp', 0.9920747984293389], ['bên', 0.05501923174061325], ['bùng_phát', 0.1129622877780872]]\n",
      "[['bùi', 0.434160602533597], ['bội_chi', 0.44569665345859], ['chi', 0.7828531562837807]]\n",
      "[['biện_pháp', 0.9486832980505138], ['ca', 0.31622776601683794]]\n",
      "[['biện_pháp', 0.9486832980505138], ['ca', 0.31622776601683794]]\n",
      "[['biện_pháp', 0.9486832980505138], ['ca', 0.31622776601683794]]\n",
      "[['biện_pháp', 0.7071067811865475], ['bối_cảnh', 0.7071067811865475]]\n",
      "[['bên', 1.0]]\n",
      "[['bên', 1.0]]\n",
      "[['biện_pháp', 0.5289503116075339], ['bùng_phát', 0.3011438120125525], ['bối_cảnh', 0.7934254674113008]]\n",
      "[['biện_pháp', 0.5289503116075339], ['bùng_phát', 0.3011438120125525], ['bối_cảnh', 0.7934254674113008]]\n",
      "[['biện_pháp', 0.5289503116075339], ['bùng_phát', 0.3011438120125525], ['bối_cảnh', 0.7934254674113008]]\n",
      "[['biện_pháp', 0.5289503116075339], ['bùng_phát', 0.3011438120125525], ['bối_cảnh', 0.7934254674113008]]\n",
      "[['biện_pháp', 0.5289503116075339], ['bùng_phát', 0.3011438120125525], ['bối_cảnh', 0.7934254674113008]]\n",
      "[['bảo_vệ', 0.1373331919447085], ['bối_cảnh', 0.9905249085158221]]\n",
      "[['bùng_phát', 0.4947592105690923], ['ca', 0.8690301050924811]]\n",
      "[['bên', 0.061767754382652106], ['bảo_vệ', 0.061767754382652106], ['bối_cảnh', 0.8910081880822639], ['chi', 0.44550409404113195]]\n",
      "[['bối_cảnh', 1.0]]\n",
      "[['biện_pháp', 0.7071067811865475], ['chi', 0.7071067811865475]]\n",
      "[['bên', 0.06076977854462842], ['bội_chi', 0.9981518091030226]]\n",
      "[['bên', 0.061767754382652106], ['bảo_vệ', 0.061767754382652106], ['bối_cảnh', 0.8910081880822639], ['chi', 0.44550409404113195]]\n",
      "[]\n",
      "[]\n",
      "[['biện_pháp', 0.4472135954999579], ['ca', 0.8944271909999159]]\n",
      "[['bùng_phát', 0.18644679631951408], ['ca', 0.9824650589930359]]\n",
      "[['biện_pháp', 0.2884810079111264], ['bùi', 0.2399819567862721], ['bối_cảnh', 0.2884810079111264], ['bội_chi', 0.1642390003544192], ['chi', 0.8654430237333791]]\n",
      "[['bên', 1.0]]\n",
      "[['bên', 1.0]]\n",
      "[['biện_pháp', 0.7203685327843038], ['bên', 0.03329228409881849], ['bối_cảnh', 0.48024568852286925], ['bội_chi', 0.13670756418012656], ['chi', 0.48024568852286925]]\n",
      "[['bên', 1.0]]\n",
      "[['biện_pháp', 0.3106462780290966], ['bên', 0.04307013842933335], ['bùi', 0.04307013842933335], ['bùng_phát', 0.17685820822921497], ['bối_cảnh', 0.9319388340872897]]\n",
      "[['bên', 0.06899267399267255], ['bảo_vệ', 0.06899267399267255], ['bối_cảnh', 0.9952286279396718]]\n",
      "[['biện_pháp', 0.8944271909999159], ['bối_cảnh', 0.4472135954999579]]\n",
      "[['biện_pháp', 0.8296004691715386], ['bên', 0.07668101326253204], ['bối_cảnh', 0.5530669794476925]]\n",
      "[['bảo_vệ', 0.1373331919447085], ['bối_cảnh', 0.9905249085158221]]\n",
      "[['bảo_vệ', 0.1373331919447085], ['bối_cảnh', 0.9905249085158221]]\n",
      "[['bảo_vệ', 0.1373331919447085], ['bối_cảnh', 0.9905249085158221]]\n",
      "[['bán_lẻ', 0.0695425723707346], ['bùi', 0.0695425723707346], ['bảo_vệ', 0.0695425723707346], ['bội_chi', 0.8566845982154186], ['chi', 0.5015804931062112]]\n",
      "[['bên', 1.0]]\n",
      "[['bối_cảnh', 1.0]]\n",
      "[]\n",
      "[['bùng_phát', 0.27378505410680315], ['ca', 0.9617909045877565]]\n",
      "[['bên', 1.0]]\n",
      "[['biện_pháp', 0.23570226039551584], ['bối_cảnh', 0.23570226039551584], ['chi', 0.9428090415820634]]\n",
      "[['biện_pháp', 0.23570226039551584], ['bối_cảnh', 0.23570226039551584], ['chi', 0.9428090415820634]]\n",
      "[['biện_pháp', 0.9905249085158221], ['bên', 0.1373331919447085]]\n",
      "[['biện_pháp', 0.9905249085158221], ['bên', 0.1373331919447085]]\n",
      "[['bán_lẻ', 0.1360561481391004], ['bên', 0.1360561481391004], ['bối_cảnh', 0.9813141439453027]]\n",
      "[['bán_lẻ', 0.1360561481391004], ['bên', 0.1360561481391004], ['bối_cảnh', 0.9813141439453027]]\n",
      "[['biện_pháp', 0.315924261855812], ['bán_lẻ', 0.0438019144399351], ['bối_cảnh', 0.9477727855674359]]\n",
      "[['biện_pháp', 0.315924261855812], ['bán_lẻ', 0.0438019144399351], ['bối_cảnh', 0.9477727855674359]]\n",
      "[['bùng_phát', 1.0]]\n",
      "[['biện_pháp', 0.7037329116471254], ['bên', 0.09757037526482303], ['bối_cảnh', 0.7037329116471254]]\n",
      "[['biện_pháp', 0.5542905359203169], ['bán_lẻ', 0.038425327777339924], ['bối_cảnh', 0.8314358038804751]]\n",
      "[['biện_pháp', 1.0]]\n",
      "[['bên', 1.0]]\n",
      "[['bên', 1.0]]\n",
      "[['biện_pháp', 0.9905249085158221], ['bên', 0.1373331919447085]]\n",
      "[['bên', 1.0]]\n",
      "[['bùi', 0.434160602533597], ['bội_chi', 0.44569665345859], ['chi', 0.7828531562837807]]\n",
      "[['biện_pháp', 0.23570226039551584], ['bối_cảnh', 0.23570226039551584], ['chi', 0.9428090415820634]]\n",
      "[['biện_pháp', 0.23570226039551584], ['bối_cảnh', 0.23570226039551584], ['chi', 0.9428090415820634]]\n",
      "[['biện_pháp', 0.9284766908852593], ['bối_cảnh', 0.3713906763541038]]\n",
      "[['biện_pháp', 0.6666666666666667], ['bối_cảnh', 0.33333333333333337], ['ca', 0.6666666666666667]]\n",
      "[]\n",
      "[['biện_pháp', 0.9840958623950008], ['bên', 0.06822091236695402], ['bối_cảnh', 0.16401597706583348]]\n",
      "[['biện_pháp', 0.7071067811865475], ['bối_cảnh', 0.7071067811865475]]\n",
      "[['biện_pháp', 0.7071067811865475], ['bối_cảnh', 0.7071067811865475]]\n",
      "[['bán_lẻ', 0.04616635125770875], ['bối_cảnh', 0.9989337655778535]]\n",
      "[['biện_pháp', 0.44529178191665125], ['bên', 0.09260747695228289], ['bối_cảnh', 0.8905835638333025]]\n",
      "[['biện_pháp', 0.44529178191665125], ['bên', 0.09260747695228289], ['bối_cảnh', 0.8905835638333025]]\n",
      "[['bên', 1.0]]\n",
      "[['bên', 0.5697247204578416], ['bối_cảnh', 0.8218355935947496]]\n",
      "[['bán_lẻ', 0.1360561481391004], ['bên', 0.1360561481391004], ['bối_cảnh', 0.9813141439453027]]\n",
      "[['bán_lẻ', 0.1360561481391004], ['bên', 0.1360561481391004], ['bối_cảnh', 0.9813141439453027]]\n",
      "[['biện_pháp', 0.6349419058534967], ['bối_cảnh', 0.6349419058534967], ['bội_chi', 0.12049577042131747], ['chi', 0.4232946039023312]]\n",
      "[['biện_pháp', 0.6349419058534967], ['bối_cảnh', 0.6349419058534967], ['bội_chi', 0.12049577042131747], ['chi', 0.4232946039023312]]\n",
      "[['biện_pháp', 0.6349419058534967], ['bối_cảnh', 0.6349419058534967], ['bội_chi', 0.12049577042131747], ['chi', 0.4232946039023312]]\n",
      "[['biện_pháp', 0.6349419058534967], ['bối_cảnh', 0.6349419058534967], ['bội_chi', 0.12049577042131747], ['chi', 0.4232946039023312]]\n",
      "[['biện_pháp', 0.8927127791606514], ['bên', 0.061885922503283314], ['bối_cảnh', 0.4463563895803257]]\n",
      "[['bên', 0.04616635125770875], ['bối_cảnh', 0.9989337655778535]]\n",
      "[['bên', 0.04616635125770875], ['bối_cảnh', 0.9989337655778535]]\n",
      "[['biện_pháp', 0.9679559138337062], ['bên', 0.06710203558016668], ['bối_cảnh', 0.24198897845842654]]\n",
      "[['biện_pháp', 0.9679559138337062], ['bên', 0.06710203558016668], ['bối_cảnh', 0.24198897845842654]]\n",
      "[['bên', 1.0]]\n",
      "[['biện_pháp', 1.0]]\n",
      "[['bảo_vệ', 0.1373331919447085], ['bối_cảnh', 0.9905249085158221]]\n",
      "[['biện_pháp', 0.431830493345243], ['bên', 0.05987195225511396], ['bùi', 0.05987195225511396], ['bùng_phát', 0.24585122280017846], ['bối_cảnh', 0.863660986690486]]\n",
      "[['bối_cảnh', 1.0]]\n",
      "[['biện_pháp', 0.8975036564259657], ['bên', 0.12443608521032566], ['bối_cảnh', 0.2991678854753219], ['ca', 0.2991678854753219]]\n",
      "[['biện_pháp', 0.5530669794476925], ['bên', 0.07668101326253204], ['bối_cảnh', 0.8296004691715386]]\n",
      "[['biện_pháp', 0.5530669794476925], ['bên', 0.07668101326253204], ['bối_cảnh', 0.8296004691715386]]\n",
      "[['biện_pháp', 0.5530669794476925], ['bên', 0.07668101326253204], ['bối_cảnh', 0.8296004691715386]]\n",
      "[['biện_pháp', 0.5530669794476925], ['bên', 0.07668101326253204], ['bối_cảnh', 0.8296004691715386]]\n",
      "[['biện_pháp', 0.8578683021472507], ['bùng_phát', 0.2442022672491036], ['bối_cảnh', 0.1429780503578751], ['ca', 0.42893415107362537]]\n",
      "[['bùng_phát', 0.27378505410680315], ['ca', 0.9617909045877565]]\n",
      "[['bên', 0.9701425001453319], ['bảo_vệ', 0.24253562503633297]]\n",
      "[['bên', 0.9701425001453319], ['bảo_vệ', 0.24253562503633297]]\n",
      "[['bên', 1.0]]\n",
      "[['biện_pháp', 0.7004068797457226], ['bên', 0.09710923130609714], ['bảo_vệ', 0.09710923130609714], ['bối_cảnh', 0.7004068797457226]]\n",
      "[['biện_pháp', 0.9905249085158221], ['bên', 0.1373331919447085]]\n",
      "[['bên', 0.2672108367164116], ['bối_cảnh', 0.9636380901258083]]\n"
     ]
    }
   ],
   "source": [
    "for doc in tfidf[bow_corpus]:\n",
    "    print([[dictionary[id], freq] for id, freq in doc])"
   ]
  },
  {
   "cell_type": "code",
   "execution_count": 135,
   "id": "ada12a94-82d2-4973-8041-1e8583a55584",
   "metadata": {},
   "outputs": [
    {
     "data": {
      "text/plain": [
       "[['biện_pháp', 0.04106242801351425],\n",
       " ['bán_lẻ', 0.04909221261293299],\n",
       " ['bên', 0.02215344371710471],\n",
       " ['bùi', 0.07119210119141105],\n",
       " ['bùng_phát', 0.04461416963472707],\n",
       " ['bảo_vệ', 0.04996433444320727],\n",
       " ['bối_cảnh', 0.03466727090415407],\n",
       " ['bội_chi', 0.10064028151121808],\n",
       " ['ca', 0.06061702303492826],\n",
       " ['chi', 0.04909221261293299]]"
      ]
     },
     "execution_count": 135,
     "metadata": {},
     "output_type": "execute_result"
    }
   ],
   "source": [
    "dictionary = corpora.Dictionary()\n",
    "tokenized = [doc.split(' ') for doc in data['corpus']]\n",
    "bow_corpus = [dictionary.doc2bow(doc, allow_update=True) for doc in tokenized]\n",
    "\n",
    "model = models.TfidfModel(bow_corpus)\n",
    "[[dictionary[id], freq] for id, freq in model[bow_corpus[0]][:10]]"
   ]
  },
  {
   "cell_type": "code",
   "execution_count": 141,
   "id": "a5e4bac1-8eb5-4bb6-a5e3-a883ea86d13c",
   "metadata": {},
   "outputs": [
    {
     "data": {
      "text/plain": [
       "'biện_pháp'"
      ]
     },
     "execution_count": 141,
     "metadata": {},
     "output_type": "execute_result"
    }
   ],
   "source": [
    "dictionary[0]"
   ]
  },
  {
   "cell_type": "markdown",
   "id": "30bc2036-7dc6-4b33-baac-7c1ab14fe285",
   "metadata": {},
   "source": [
    "#### Mô hình Word2vec\n"
   ]
  },
  {
   "cell_type": "markdown",
   "id": "966f5ac5-3024-4991-8a7b-27ec8002ac29",
   "metadata": {},
   "source": [
    "*\"Word2Vec was developed at Google by Tomas Mikolov, et al. and uses Neural Networks to learn word embeddings. The beauty with word2vec is that the vectors are learned by understanding the context in which words appear. The result is vectors in which words with similar meanings end up with a similar numerical representation.\"*"
   ]
  },
  {
   "cell_type": "markdown",
   "id": "dbe00fd3-483f-4343-b331-8bdbde4d8d03",
   "metadata": {},
   "source": [
    "**One-hot-encoding**\n",
    "\n",
    "All word are treated equal\n",
    "\n",
    "![](https://i2.wp.com/insightbot.blob.core.windows.net/blogimagecontainer/b3c56245-db43-48ab-b652-9ba03f4d9900.jpg?ssl=1)\n",
    "\n",
    "**Word2Vec**\n",
    "\n",
    "Word with similar numeric value are similar in meaning\n",
    "\n",
    "![](https://i1.wp.com/insightbot.blob.core.windows.net/blogimagecontainer/8cbfc874-3ba3-46c8-ab68-2711812ecbf1.jpg?ssl=1)"
   ]
  },
  {
   "cell_type": "markdown",
   "id": "124e7484-2125-4bfa-8033-9f11341f6c93",
   "metadata": {},
   "source": [
    "Hai loại mô hình Word2Vec: **CBOW** (Continuous Bag-of-Word) và **Skip-Gram**\n",
    "\n",
    "Continuous Bag of Words (CBOW): *nhìn hình (ngữ cảnh) đoán chữ*\n",
    "\n",
    "Ngược lại, Skip-Gram: *nhìn chữ đoán hình (ngữ cảnh)*\n",
    "\n",
    "![](https://i0.wp.com/insightbot.blob.core.windows.net/blogimagecontainer/7938152f-71c8-4f28-9c25-06735e6e2b67.jpg?ssl=1)"
   ]
  },
  {
   "cell_type": "code",
   "execution_count": 160,
   "id": "1e4d21d0-2f49-4f45-a365-5f0c2718df94",
   "metadata": {},
   "outputs": [],
   "source": [
    "from gensim.models import Word2Vec"
   ]
  },
  {
   "cell_type": "code",
   "execution_count": 161,
   "id": "41c90846-6e81-448f-b604-c797cab58b7d",
   "metadata": {},
   "outputs": [],
   "source": [
    "word2vec = Word2Vec(doc_tokenized, min_count=5, sg=0) # 1 == skipgram\n"
   ]
  },
  {
   "cell_type": "code",
   "execution_count": 162,
   "id": "f2baa14f-3319-4d69-887d-76adc73fcbb5",
   "metadata": {},
   "outputs": [
    {
     "name": "stdout",
     "output_type": "stream",
     "text": [
      "[['thủ_tướng', 'khác', 'với', 'đa_số', 'các', 'nước', 'dư', 'địa_chính_sách', 'tài', 'khóa', 'tiền_tệ', 'của', 'việt', 'nam', 'còn', 'khá', 'lớn', 'tổ_quốc', 'với', 'bối_cảnh', 'hiện_nay', 'hội_đồng', 'tư_vấn', 'chính_sách', 'tài_chính', 'tiền_tệ', 'quốc_gia', 'thống_nhất', 'kịch_bản', 'tăng_trưởng', 'từ', 'kiểm_soát', 'lạm_phát', 'dưới', 'năm', 'và', 'đầu', 'tăng_trưởng', 'tín_dụng', 'trên', 'chủ_trương', 'tăng', 'thêm', 'bội_chi', 'ngân_sách', 'nợ', 'công', 'khoảng', 'gdp', 'sáng', 'ngày', 'hội_đồng', 'tư_vấn', 'chính_sách', 'tài_chính', 'tiền_tệ', 'quốc_gia', 'đã', 'họp', 'dưới', 'sự', 'chủ_trì', 'của', 'thủ_tướng', 'nguyễn', 'xuân', 'phúc', 'chủ_tịch', 'hội_đồng', 'dư', 'địa_chính_sách', 'tài', 'khóa', 'tiền_tệ', 'còn', 'lớn', 'thủ_tướng', 'nguyễn', 'xuân', 'phúc', 'cho', 'rằng', 'dịch_bệnh', 'covid', 'bùng_phát', 'diện', 'rộng', 'trên', 'toàn_cầu', 'diễn_biến', 'phức_tạp', 'chưa', 'dừng', 'lại', 'nhất_là', 'tại', 'các', 'đối_tác', 'lớn', 'của', 'nước', 'ta', 'kinh_tế', 'toàn_cầu', 'sụt_giảm', 'mạnh', 'nhiều', 'tổ_chức', 'quốc_tế', 'dự_báo', 'kinh_tế', 'thế_giới', 'tăng_trưởng', 'âm', 'trong', 'năm', 'nay', 'trong', 'bối_cảnh', 'đó', 'hầu_hết', 'các', 'nước', 'đều', 'nới', 'lỏng', 'chính_sách', 'tài_chính', 'tiền_tệ', 'với', 'mức_độ', 'chưa', 'từng', 'có', 'theo', 'thống_kê', 'mới', 'nhất', 'nếu', 'tháng', 'tổng_các', 'gói', 'kích_thích', 'tài', 'khóa', 'mới', 'là', 'tỷ', 'usd', 'thì', 'đến', 'nay', 'đã', 'tăng', 'lên', 'tỷ', 'usd', 'chưa', 'có', 'dấu_hiệu', 'dừng', 'lại', 'về', 'tình_hình', 'trong', 'nước', 'theo', 'thủ_tướng', 'chúng_ta', 'là', 'một', 'trong', 'những', 'nước', 'kiểm_soát', 'dịch_bệnh', 'sớm', 'nhất', 'gần', 'tháng', 'qua', 'không', 'có', 'ca', 'lây_nhiễm', 'mới', 'trong', 'cộng_đồng', 'và', 'đang', 'tích_cực', 'thực_hiện', 'mục_tiêu', 'kép', 'hiện_nay', 'các', 'cân_đối', 'lớn', 'của', 'nền', 'kinh_tế', 'đều', 'giữ', 'vững', 'các', 'lĩnh_vực', 'trọng_yếu', 'có', 'xu_hướng', 'đi', 'lên', 'mạnh_mẽ', 'tuy_nhiên', 'thủ_tướng', 'lưu_ý', 'cần', 'nhận_diện', 'rõ', 'rủi_ro', 'đưa', 'ra', 'các', 'biện_pháp', 'điều_hành', 'đồng_bộ', 'hiệu_quả', 'hơn', 'để', 'giữ', 'ổn_định', 'vĩ_mô', 'kiểm_soát', 'lạm_phát', 'dưới', 'khác', 'với', 'đa_số', 'các', 'nước', 'dư', 'địa_chính_sách', 'tài', 'khóa', 'tiền_tệ', 'của', 'chúng_ta', 'còn', 'khá', 'lớn', 'cho', 'kích_thích', 'tổng_cầu', 'thúc_đẩy', 'tăng_trưởng', 'cần', 'chính_sách', 'phục_hồi', 'phát_triển', 'kinh_tế', 'dài_hạn', 'cho', 'cả', 'năm', 'tại', 'cuộc', 'họp', 'các', 'thành_viên', 'hội_đồng', 'nhận_định', 'tình_hình_thế_giới', 'khu_vực', 'tiếp_tục', 'diễn_biến', 'phức_tạp', 'khó', 'lường', 'dịch_bệnh', 'chưa', 'kết_thúc', 'trong', 'năm', 'nay', 'mà', 'có_thể', 'kéo_dài', 'trong', 'thời_gian', 'tới', 'do', 'vậy', 'có', 'ý_kiến', 'cho', 'rằng', 'gói', 'chính_sách', 'phục_hồi', 'phát_triển', 'kinh_tế', 'phải', 'mang', 'tính', 'dài_hạn', 'cho', 'cả', 'năm', 'chứ', 'không', 'chỉ', 'trong', 'năm', 'nay', 'với', 'tinh_thần', 'tiến_công', 'kinh_tế', 'trong', 'khi', 'phòng_thủ', 'dịch_bệnh', 'chuyên_gia', 'bùi', 'đức', 'thụ', 'cho', 'rằng', 'cứu_trợ', 'doanh_nghiệp', 'là', 'việc', 'cần', 'làm', 'nhưng', 'gia_tăng', 'sức_sống', 'cho', 'doanh_nghiệp', 'không_thể', 'chỉ', 'làm', 'trong', 'năm', 'ngoài', 'cơ_chế', 'hỗ_trợ', 'khắc_phục', 'ảnh_hưởng', 'của', 'covid', 'cần', 'có', 'các', 'chính_sách', 'hỗ_trợ', 'đặc_biệt', 'phục_vụ', 'tái_cơ_cấu', 'doanh_nghiệp', 'mạnh', 'hơn', 'không', 'chỉ', 'tái_cơ_cấu', 'thị_trường', 'đầu_vào', 'đầu_tư', 'mà', 'cả', 'lao_động', 'tăng', 'sức', 'chống', 'chịu', 'của', 'nền', 'kinh_tế', 'thực_lực', 'doanh_nghiệp', 'của', 'chúng_ta', 'còn', 'yếu', 'đặc_biệt', 'đa_số', 'là', 'doanh_nghiệp', 'vừa', 'và', 'nhỏ', 'ts', 'trần', 'đình', 'thiên', 'nhận_định', 'do', 'đó', 'không', 'chỉ', 'cứu', 'cái', 'cũ', 'mà', 'còn', 'cần', 'tạo', 'cả', 'cái', 'mới', 'tức_là', 'bên', 'cạnh', 'hỗ_trợ', 'doanh_nghiệp', 'cần', 'thúc_đẩy', 'khởi_nghiệp', 'sáng_tạo', 'trong', 'tình_thế', 'khó_khăn', 'này', 'cần', 'tính', 'tới', 'các', 'biện_pháp', 'xử_lý', 'nợ', 'xấu', 'ts', 'trần', 'đình', 'thiên', 'đề_nghị', 'chính_phủ', 'nhà_nước', 'phải', 'là', 'người', 'mua', 'hàng', 'lớn', 'nhất', 'đối_với', 'các', 'sản_phẩm', 'made', 'in', 'việt', 'nam', 'một_số', 'thành_viên', 'kiến_nghị', 'so', 'với', 'các', 'nước', 'thì', 'gói', 'hỗ_trợ', 'tài', 'khóa', 'của', 'chúng_ta', 'là', 'ít_nhất', 'do', 'đó', 'cần', 'tập_trung', 'vào', 'gói', 'này', 'nhiều', 'hơn', 'cũng', 'như', 'tăng', 'quy_mô', 'các', 'gói', 'hỗ_trợ', 'nhất', 'là', 'cho', 'ngành_hàng', 'không_kích_cầu', 'nội_địa', 'cũng_nên', 'hướng', 'vào', 'kích_cầu', 'du_lịch', 'bán_lẻ', 'tín_dụng', 'tiêu_dùng', 'ngành', 'ngân_hàng', 'cần', 'tiếp_tục', 'hạ_lãi_suất', 'cho', 'vay', 'hội_đồng', 'tư_vấn', 'chính_sách', 'tài_chính', 'tiền_tệ', 'quốc_gia', 'đã', 'thống_nhất', 'kịch_bản', 'tăng_trưởng', 'từ', 'kiểm_soát', 'lạm_phát', 'dưới', 'năm', 'và', 'đầu', 'tăng_trưởng', 'tín_dụng', 'trên', 'chủ_trương', 'tăng', 'thêm', 'bội_chi', 'ngân_sách', 'nợ', 'công', 'khoảng', 'gdp', 'để', 'có', 'thêm', 'nguồn_lực', 'chúng_ta', 'chuẩn_bị', 'sẵn_sàng', 'để', 'có_thể', 'hỗ_trợ', 'doanh_nghiệp', 'kiên_quyết', 'bảo_vệ', 'hệ_thống', 'doanh_nghiệp', 'không', 'để', 'đứt_gãy', 'mất', 'năng_lực', 'sản_xuất', 'trong', 'những', 'ngành', 'lĩnh_vực', 'trọng_yếu', 'ngành', 'ngân_hàng', 'tiếp_tục', 'xem_xét', 'giảm', 'lãi_suất', 'chia_sẻ', 'khó_khăn', 'với', 'doanh_nghiệp', 'và', 'người', 'dân', 'tiếp_tục', 'tiết_kiệm', 'chi', 'thường_xuyên', 'cắt_giảm', 'các', 'khoản', 'chi_hội_nghị', 'hội_thảo', 'dành', 'nguồn_lực', 'cho', 'những', 'nhiệm_vụ', 'cấp_bách', 'chống', 'dịch', 'hỗ_trợ', 'kịp_thời', 'cho', 'người', 'dân', 'doanh_nghiệp', 'thủ_tướng', 'khác', 'với', 'đa_số', 'các', 'nước', 'dư', 'địa_chính_sách', 'tài', 'khóa', 'tiền_tệ', 'của', 'việt', 'nam', 'còn', 'khá', 'lớn', 'tổ_quốc', 'với', 'bối_cảnh', 'hiện_nay', 'hội_đồng', 'tư_vấn', 'chính_sách', 'tài_chính', 'tiền_tệ', 'quốc_gia', 'thống_nhất', 'kịch_bản', 'tăng_trưởng', 'từ', 'kiểm_soát', 'lạm_phát', 'dưới', 'năm', 'và', 'đầu', 'tăng_trưởng', 'tín_dụng', 'trên', 'chủ_trương', 'tăng', 'thêm', 'bội_chi', 'ngân_sách', 'nợ', 'công', 'khoảng', 'gdp', 'sáng', 'ngày', 'hội_đồng', 'tư_vấn', 'chính_sách', 'tài_chính', 'tiền_tệ', 'quốc_gia', 'đã', 'họp', 'dưới', 'sự', 'chủ_trì', 'của', 'thủ_tướng', 'nguyễn', 'xuân', 'phúc', 'chủ_tịch', 'hội_đồng', 'dư', 'địa_chính_sách', 'tài', 'khóa', 'tiền_tệ', 'còn', 'lớn', 'thủ_tướng', 'nguyễn', 'xuân', 'phúc', 'cho', 'rằng', 'dịch_bệnh', 'covid', 'bùng_phát', 'diện', 'rộng', 'trên', 'toàn_cầu', 'diễn_biến', 'phức_tạp', 'chưa', 'dừng', 'lại', 'nhất_là', 'tại', 'các', 'đối_tác', 'lớn', 'của', 'nước', 'ta', 'kinh_tế', 'toàn_cầu', 'sụt_giảm', 'mạnh', 'nhiều', 'tổ_chức', 'quốc_tế', 'dự_báo', 'kinh_tế', 'thế_giới', 'tăng_trưởng', 'âm', 'trong', 'năm', 'nay', 'trong', 'bối_cảnh', 'đó', 'hầu_hết', 'các', 'nước', 'đều', 'nới', 'lỏng', 'chính_sách', 'tài_chính', 'tiền_tệ', 'với', 'mức_độ', 'chưa', 'từng', 'có', 'theo', 'thống_kê', 'mới', 'nhất', 'nếu', 'tháng', 'tổng_các', 'gói', 'kích_thích', 'tài', 'khóa', 'mới', 'là', 'tỷ', 'usd', 'thì', 'đến', 'nay', 'đã', 'tăng', 'lên', 'tỷ', 'usd', 'chưa', 'có', 'dấu_hiệu', 'dừng', 'lại', 'về', 'tình_hình', 'trong', 'nước', 'theo', 'thủ_tướng', 'chúng_ta', 'là', 'một', 'trong', 'những', 'nước', 'kiểm_soát', 'dịch_bệnh', 'sớm', 'nhất', 'gần', 'tháng', 'qua', 'không', 'có', 'ca', 'lây_nhiễm', 'mới', 'trong', 'cộng_đồng', 'và', 'đang', 'tích_cực', 'thực_hiện', 'mục_tiêu', 'kép', 'hiện_nay', 'các', 'cân_đối', 'lớn', 'của', 'nền', 'kinh_tế', 'đều', 'giữ', 'vững', 'các', 'lĩnh_vực', 'trọng_yếu', 'có', 'xu_hướng', 'đi', 'lên', 'mạnh_mẽ', 'tuy_nhiên', 'thủ_tướng', 'lưu_ý', 'cần', 'nhận_diện', 'rõ', 'rủi_ro', 'đưa', 'ra', 'các', 'biện_pháp', 'điều_hành', 'đồng_bộ', 'hiệu_quả', 'hơn', 'để', 'giữ', 'ổn_định', 'vĩ_mô', 'kiểm_soát', 'lạm_phát', 'dưới', 'khác', 'với', 'đa_số', 'các', 'nước', 'dư', 'địa_chính_sách', 'tài', 'khóa', 'tiền_tệ', 'của', 'chúng_ta', 'còn', 'khá', 'lớn', 'cho', 'kích_thích', 'tổng_cầu', 'thúc_đẩy', 'tăng_trưởng', 'cần', 'chính_sách', 'phục_hồi', 'phát_triển', 'kinh_tế', 'dài_hạn', 'cho', 'cả', 'năm', 'tại', 'cuộc', 'họp', 'các', 'thành_viên', 'hội_đồng', 'nhận_định', 'tình_hình_thế_giới', 'khu_vực', 'tiếp_tục', 'diễn_biến', 'phức_tạp', 'khó', 'lường', 'dịch_bệnh', 'chưa', 'kết_thúc', 'trong', 'năm', 'nay', 'mà', 'có_thể', 'kéo_dài', 'trong', 'thời_gian', 'tới', 'do', 'vậy', 'có', 'ý_kiến', 'cho', 'rằng', 'gói', 'chính_sách', 'phục_hồi', 'phát_triển', 'kinh_tế', 'phải', 'mang', 'tính', 'dài_hạn', 'cho', 'cả', 'năm', 'chứ', 'không', 'chỉ', 'trong', 'năm', 'nay', 'với', 'tinh_thần', 'tiến_công', 'kinh_tế', 'trong', 'khi', 'phòng_thủ', 'dịch_bệnh', 'chuyên_gia', 'bùi', 'đức', 'thụ', 'cho', 'rằng', 'cứu_trợ', 'doanh_nghiệp', 'là', 'việc', 'cần', 'làm', 'nhưng', 'gia_tăng', 'sức_sống', 'cho', 'doanh_nghiệp', 'không_thể', 'chỉ', 'làm', 'trong', 'năm', 'ngoài', 'cơ_chế', 'hỗ_trợ', 'khắc_phục', 'ảnh_hưởng', 'của', 'covid', 'cần', 'có', 'các', 'chính_sách', 'hỗ_trợ', 'đặc_biệt', 'phục_vụ', 'tái_cơ_cấu', 'doanh_nghiệp', 'mạnh', 'hơn', 'không', 'chỉ', 'tái_cơ_cấu', 'thị_trường', 'đầu_vào', 'đầu_tư', 'mà', 'cả', 'lao_động', 'tăng', 'sức', 'chống', 'chịu', 'của', 'nền', 'kinh_tế', 'thực_lực', 'doanh_nghiệp', 'của', 'chúng_ta', 'còn', 'yếu', 'đặc_biệt', 'đa_số', 'là', 'doanh_nghiệp', 'vừa', 'và', 'nhỏ', 'ts', 'trần', 'đình', 'thiên', 'nhận_định', 'do', 'đó', 'không', 'chỉ', 'cứu', 'cái', 'cũ', 'mà', 'còn', 'cần', 'tạo', 'cả', 'cái', 'mới', 'tức_là', 'bên', 'cạnh', 'hỗ_trợ', 'doanh_nghiệp', 'cần', 'thúc_đẩy', 'khởi_nghiệp', 'sáng_tạo', 'trong', 'tình_thế', 'khó_khăn', 'này', 'cần', 'tính', 'tới', 'các', 'biện_pháp', 'xử_lý', 'nợ', 'xấu', 'ts', 'trần', 'đình', 'thiên', 'đề_nghị', 'chính_phủ', 'nhà_nước', 'phải', 'là', 'người', 'mua', 'hàng', 'lớn', 'nhất', 'đối_với', 'các', 'sản_phẩm', 'made', 'in', 'việt', 'nam', 'một_số', 'thành_viên', 'kiến_nghị', 'so', 'với', 'các', 'nước', 'thì', 'gói', 'hỗ_trợ', 'tài', 'khóa', 'của', 'chúng_ta', 'là', 'ít_nhất', 'do', 'đó', 'cần', 'tập_trung', 'vào', 'gói', 'này', 'nhiều', 'hơn', 'cũng', 'như', 'tăng', 'quy_mô', 'các', 'gói', 'hỗ_trợ', 'nhất', 'là', 'cho', 'ngành_hàng', 'không_kích_cầu', 'nội_địa', 'cũng_nên', 'hướng', 'vào', 'kích_cầu', 'du_lịch', 'bán_lẻ', 'tín_dụng', 'tiêu_dùng', 'ngành', 'ngân_hàng', 'cần', 'tiếp_tục', 'hạ_lãi_suất', 'cho', 'vay', 'hội_đồng', 'tư_vấn', 'chính_sách', 'tài_chính', 'tiền_tệ', 'quốc_gia', 'đã', 'thống_nhất', 'kịch_bản', 'tăng_trưởng', 'từ', 'kiểm_soát', 'lạm_phát', 'dưới', 'năm', 'và', 'đầu', 'tăng_trưởng', 'tín_dụng', 'trên', 'chủ_trương', 'tăng', 'thêm', 'bội_chi', 'ngân_sách', 'nợ', 'công', 'khoảng', 'gdp', 'để', 'có', 'thêm', 'nguồn_lực', 'chúng_ta', 'chuẩn_bị', 'sẵn_sàng', 'để', 'có_thể', 'hỗ_trợ', 'doanh_nghiệp', 'kiên_quyết', 'bảo_vệ', 'hệ_thống', 'doanh_nghiệp', 'không', 'để', 'đứt_gãy', 'mất', 'năng_lực', 'sản_xuất', 'trong', 'những', 'ngành', 'lĩnh_vực', 'trọng_yếu', 'ngành', 'ngân_hàng', 'tiếp_tục', 'xem_xét', 'giảm', 'lãi_suất', 'chia_sẻ', 'khó_khăn', 'với', 'doanh_nghiệp', 'và', 'người', 'dân', 'tiếp_tục', 'tiết_kiệm', 'chi', 'thường_xuyên', 'cắt_giảm', 'các', 'khoản', 'chi_hội_nghị', 'hội_thảo', 'dành', 'nguồn_lực', 'cho', 'những', 'nhiệm_vụ', 'cấp_bách', 'chống', 'dịch', 'hỗ_trợ', 'kịp_thời', 'cho', 'người', 'dân', 'doanh_nghiệp', 'thủ_tướng', 'khác', 'với', 'đa_số', 'các', 'nước', 'dư', 'địa_chính_sách', 'tài', 'khóa', 'tiền_tệ', 'của', 'việt', 'nam', 'còn', 'khá', 'lớn', 'tổ_quốc', 'với', 'bối_cảnh', 'hiện_nay', 'hội_đồng', 'tư_vấn', 'chính_sách', 'tài_chính', 'tiền_tệ', 'quốc_gia', 'thống_nhất', 'kịch_bản', 'tăng_trưởng', 'từ', 'kiểm_soát', 'lạm_phát', 'dưới', 'năm', 'và', 'đầu', 'tăng_trưởng', 'tín_dụng', 'trên', 'chủ_trương', 'tăng', 'thêm', 'bội_chi', 'ngân_sách', 'nợ', 'công', 'khoảng', 'gdp', 'sáng', 'ngày', 'hội_đồng', 'tư_vấn', 'chính_sách', 'tài_chính', 'tiền_tệ', 'quốc_gia', 'đã', 'họp', 'dưới', 'sự', 'chủ_trì', 'của', 'thủ_tướng', 'nguyễn', 'xuân', 'phúc', 'chủ_tịch', 'hội_đồng', 'dư', 'địa_chính_sách', 'tài', 'khóa', 'tiền_tệ', 'còn', 'lớn', 'thủ_tướng', 'nguyễn', 'xuân', 'phúc', 'cho', 'rằng', 'dịch_bệnh', 'covid', 'bùng_phát', 'diện', 'rộng', 'trên', 'toàn_cầu', 'diễn_biến', 'phức_tạp', 'chưa', 'dừng', 'lại', 'nhất_là', 'tại', 'các', 'đối_tác', 'lớn', 'của', 'nước', 'ta', 'kinh_tế', 'toàn_cầu', 'sụt_giảm', 'mạnh', 'nhiều', 'tổ_chức', 'quốc_tế', 'dự_báo', 'kinh_tế', 'thế_giới', 'tăng_trưởng', 'âm', 'trong', 'năm', 'nay', 'trong', 'bối_cảnh', 'đó', 'hầu_hết', 'các', 'nước', 'đều', 'nới', 'lỏng', 'chính_sách', 'tài_chính', 'tiền_tệ', 'với', 'mức_độ', 'chưa', 'từng', 'có', 'theo', 'thống_kê', 'mới', 'nhất', 'nếu', 'tháng', 'tổng_các', 'gói', 'kích_thích', 'tài', 'khóa', 'mới', 'là', 'tỷ', 'usd', 'thì', 'đến', 'nay', 'đã', 'tăng', 'lên', 'tỷ', 'usd', 'chưa', 'có', 'dấu_hiệu', 'dừng', 'lại', 'về', 'tình_hình', 'trong', 'nước', 'theo', 'thủ_tướng', 'chúng_ta', 'là', 'một', 'trong', 'những', 'nước', 'kiểm_soát', 'dịch_bệnh', 'sớm', 'nhất', 'gần', 'tháng', 'qua', 'không', 'có', 'ca', 'lây_nhiễm', 'mới', 'trong', 'cộng_đồng', 'và', 'đang', 'tích_cực', 'thực_hiện', 'mục_tiêu', 'kép', 'hiện_nay', 'các', 'cân_đối', 'lớn', 'của', 'nền', 'kinh_tế', 'đều', 'giữ', 'vững', 'các', 'lĩnh_vực', 'trọng_yếu', 'có', 'xu_hướng', 'đi', 'lên', 'mạnh_mẽ', 'tuy_nhiên', 'thủ_tướng', 'lưu_ý', 'cần', 'nhận_diện', 'rõ', 'rủi_ro', 'đưa', 'ra', 'các', 'biện_pháp', 'điều_hành', 'đồng_bộ', 'hiệu_quả', 'hơn', 'để', 'giữ', 'ổn_định', 'vĩ_mô', 'kiểm_soát', 'lạm_phát', 'dưới', 'khác', 'với', 'đa_số', 'các', 'nước', 'dư', 'địa_chính_sách', 'tài', 'khóa', 'tiền_tệ', 'của', 'chúng_ta', 'còn', 'khá', 'lớn', 'cho', 'kích_thích', 'tổng_cầu', 'thúc_đẩy', 'tăng_trưởng', 'cần', 'chính_sách', 'phục_hồi', 'phát_triển', 'kinh_tế', 'dài_hạn', 'cho', 'cả', 'năm', 'tại', 'cuộc', 'họp', 'các', 'thành_viên', 'hội_đồng', 'nhận_định', 'tình_hình_thế_giới', 'khu_vực', 'tiếp_tục', 'diễn_biến', 'phức_tạp', 'khó', 'lường', 'dịch_bệnh', 'chưa', 'kết_thúc', 'trong', 'năm', 'nay', 'mà', 'có_thể', 'kéo_dài', 'trong', 'thời_gian', 'tới', 'do', 'vậy', 'có', 'ý_kiến', 'cho', 'rằng', 'gói', 'chính_sách', 'phục_hồi', 'phát_triển', 'kinh_tế', 'phải', 'mang', 'tính', 'dài_hạn', 'cho', 'cả', 'năm', 'chứ', 'không', 'chỉ', 'trong', 'năm', 'nay', 'với', 'tinh_thần', 'tiến_công', 'kinh_tế', 'trong', 'khi', 'phòng_thủ', 'dịch_bệnh', 'chuyên_gia', 'bùi', 'đức', 'thụ', 'cho', 'rằng', 'cứu_trợ', 'doanh_nghiệp', 'là', 'việc', 'cần', 'làm', 'nhưng', 'gia_tăng', 'sức_sống', 'cho', 'doanh_nghiệp', 'không_thể', 'chỉ', 'làm', 'trong', 'năm', 'ngoài', 'cơ_chế', 'hỗ_trợ', 'khắc_phục', 'ảnh_hưởng', 'của', 'covid', 'cần', 'có', 'các', 'chính_sách', 'hỗ_trợ', 'đặc_biệt', 'phục_vụ', 'tái_cơ_cấu', 'doanh_nghiệp', 'mạnh', 'hơn', 'không', 'chỉ', 'tái_cơ_cấu', 'thị_trường', 'đầu_vào', 'đầu_tư', 'mà', 'cả', 'lao_động', 'tăng', 'sức', 'chống', 'chịu', 'của', 'nền', 'kinh_tế', 'thực_lực', 'doanh_nghiệp', 'của', 'chúng_ta', 'còn', 'yếu', 'đặc_biệt', 'đa_số', 'là', 'doanh_nghiệp', 'vừa', 'và', 'nhỏ', 'ts', 'trần', 'đình', 'thiên', 'nhận_định', 'do', 'đó', 'không', 'chỉ', 'cứu', 'cái', 'cũ', 'mà', 'còn', 'cần', 'tạo', 'cả', 'cái', 'mới', 'tức_là', 'bên', 'cạnh', 'hỗ_trợ', 'doanh_nghiệp', 'cần', 'thúc_đẩy', 'khởi_nghiệp', 'sáng_tạo', 'trong', 'tình_thế', 'khó_khăn', 'này', 'cần', 'tính', 'tới', 'các', 'biện_pháp', 'xử_lý', 'nợ', 'xấu', 'ts', 'trần', 'đình', 'thiên', 'đề_nghị', 'chính_phủ', 'nhà_nước', 'phải', 'là', 'người', 'mua', 'hàng', 'lớn', 'nhất', 'đối_với', 'các', 'sản_phẩm', 'made', 'in', 'việt', 'nam', 'một_số', 'thành_viên', 'kiến_nghị', 'so', 'với', 'các', 'nước', 'thì', 'gói', 'hỗ_trợ', 'tài', 'khóa', 'của', 'chúng_ta', 'là', 'ít_nhất', 'do', 'đó', 'cần', 'tập_trung', 'vào', 'gói', 'này', 'nhiều', 'hơn', 'cũng', 'như', 'tăng', 'quy_mô', 'các', 'gói', 'hỗ_trợ', 'nhất', 'là', 'cho', 'ngành_hàng', 'không_kích_cầu', 'nội_địa', 'cũng_nên', 'hướng', 'vào', 'kích_cầu', 'du_lịch', 'bán_lẻ', 'tín_dụng', 'tiêu_dùng', 'ngành', 'ngân_hàng', 'cần', 'tiếp_tục', 'hạ_lãi_suất', 'cho', 'vay', 'hội_đồng', 'tư_vấn', 'chính_sách', 'tài_chính', 'tiền_tệ', 'quốc_gia', 'đã', 'thống_nhất', 'kịch_bản', 'tăng_trưởng', 'từ', 'kiểm_soát', 'lạm_phát', 'dưới', 'năm', 'và', 'đầu', 'tăng_trưởng', 'tín_dụng', 'trên', 'chủ_trương', 'tăng', 'thêm', 'bội_chi', 'ngân_sách', 'nợ', 'công', 'khoảng', 'gdp', 'để', 'có', 'thêm', 'nguồn_lực', 'chúng_ta', 'chuẩn_bị', 'sẵn_sàng', 'để', 'có_thể', 'hỗ_trợ', 'doanh_nghiệp', 'kiên_quyết', 'bảo_vệ', 'hệ_thống', 'doanh_nghiệp', 'không', 'để', 'đứt_gãy', 'mất', 'năng_lực', 'sản_xuất', 'trong', 'những', 'ngành', 'lĩnh_vực', 'trọng_yếu', 'ngành', 'ngân_hàng', 'tiếp_tục', 'xem_xét', 'giảm', 'lãi_suất', 'chia_sẻ', 'khó_khăn', 'với', 'doanh_nghiệp', 'và', 'người', 'dân', 'tiếp_tục', 'tiết_kiệm', 'chi', 'thường_xuyên', 'cắt_giảm', 'các', 'khoản', 'chi_hội_nghị', 'hội_thảo', 'dành', 'nguồn_lực', 'cho', 'những', 'nhiệm_vụ', 'cấp_bách', 'chống', 'dịch', 'hỗ_trợ', 'kịp_thời', 'cho', 'người', 'dân', 'doanh_nghiệp']]\n"
     ]
    }
   ],
   "source": [
    "print(tokenized[:1][0:100])"
   ]
  },
  {
   "cell_type": "code",
   "execution_count": 163,
   "id": "e0289002-5b51-4884-8bb6-8cbaf18f8cce",
   "metadata": {},
   "outputs": [
    {
     "name": "stdout",
     "output_type": "stream",
     "text": [
      "các             0\n",
      "và              1\n",
      "trong           2\n",
      "kinh_tế         3\n",
      "của             4\n",
      "             ... \n",
      "hầm_lò       4923\n",
      "xây_lắp      4924\n",
      "oanh         4925\n",
      "thuế_gtgt    4926\n",
      "kiều         4927\n",
      "Length: 4928, dtype: int64\n"
     ]
    }
   ],
   "source": [
    "vocabulary = word2vec.wv.key_to_index\n",
    "print(pd.Series(vocabulary))"
   ]
  },
  {
   "cell_type": "code",
   "execution_count": 164,
   "id": "f4bdfb20-169b-46c0-833f-0c3e1859d1b8",
   "metadata": {},
   "outputs": [
    {
     "data": {
      "text/plain": [
       "array([ 0.1056779 ,  0.96111166, -1.5134145 , -3.6591966 , -0.35335118,\n",
       "       -0.9966848 ,  1.0421748 , -1.9764568 , -0.99540365, -0.5571462 ,\n",
       "        0.20940407, -3.1400628 ,  1.4582589 ,  2.0087898 ,  0.49563268,\n",
       "        4.8306904 , -2.3361435 , -1.4883819 ,  1.8761326 , -1.6002434 ,\n",
       "        3.1284525 , -0.04126497,  4.6415086 ,  1.2448485 , -1.1373996 ,\n",
       "       -0.3588067 ,  0.76248336,  0.8425107 , -0.59170955,  1.2248158 ,\n",
       "       -1.4703522 ,  1.0823207 , -0.84387624, -2.244738  ,  0.03836189,\n",
       "        0.91058254,  3.0416703 ,  0.810239  , -0.29310608, -0.8824717 ,\n",
       "        1.5900661 ,  1.3534688 , -0.88149685,  0.35429814,  3.7679217 ,\n",
       "        0.54623723,  2.5127099 , -0.10997482,  2.4468493 ,  1.9434353 ,\n",
       "        0.1279139 , -0.9398656 , -0.9564093 , -1.8791434 ,  1.0384532 ,\n",
       "       -3.2643123 , -0.69951165, -2.127757  , -1.7564287 ,  1.3335832 ,\n",
       "       -2.38338   , -2.300509  , -6.1074753 ,  5.949232  , -1.6614591 ,\n",
       "       -0.80479056, -2.0530062 ,  1.1675185 ,  0.4013578 ,  2.8288808 ,\n",
       "        1.7196649 , -0.41984716, -0.48849875,  3.14303   , -0.3348624 ,\n",
       "        0.9293289 , -0.95525503, -0.16064504,  1.2625301 ,  0.59208167,\n",
       "       -0.20812699, -0.01513165, -1.4024618 ,  2.489169  ,  0.5003542 ,\n",
       "        2.1737776 , -0.6610538 ,  2.009395  ,  1.4928862 ,  3.1859105 ,\n",
       "        3.7426324 ,  0.89104855,  1.9788581 , -2.0086386 , -1.9123805 ,\n",
       "        1.1373659 , -0.58934003,  5.386084  , -0.33206558,  1.7955588 ],\n",
       "      dtype=float32)"
      ]
     },
     "execution_count": 164,
     "metadata": {},
     "output_type": "execute_result"
    }
   ],
   "source": [
    "v1 = word2vec.wv['bùng_phát']\n",
    "v1"
   ]
  },
  {
   "cell_type": "code",
   "execution_count": 165,
   "id": "245edc78-bd0b-4642-b508-20c65552ea40",
   "metadata": {
    "tags": []
   },
   "outputs": [
    {
     "data": {
      "text/plain": [
       "[('lây_nhiễm', 0.5145163536071777),\n",
       " ('quay', 0.5083343386650085),\n",
       " ('ổ', 0.46805667877197266),\n",
       " ('hậu_quả', 0.4481882154941559),\n",
       " ('lây_lan', 0.44493284821510315),\n",
       " ('làn_sóng', 0.4349813163280487),\n",
       " ('coronavirus', 0.43231064081192017),\n",
       " ('tái_phát', 0.40988028049468994),\n",
       " ('điều_trị', 0.40858232975006104),\n",
       " ('thế_kỷ', 0.402732253074646)]"
      ]
     },
     "execution_count": 165,
     "metadata": {},
     "output_type": "execute_result"
    }
   ],
   "source": [
    "sim_words = word2vec.wv.most_similar('bùng_phát')\n",
    "sim_words"
   ]
  },
  {
   "cell_type": "markdown",
   "id": "03aea233-3d03-4566-8876-153325d71cd9",
   "metadata": {},
   "source": [
    "**Skip-gram**\n",
    "\n",
    "Window Size defines how many words before and after the target word will be used as context, typically a Window Size is 5. \n",
    "![](https://i2.wp.com/insightbot.blob.core.windows.net/blogimagecontainer/a8066c1d-c532-4549-bb24-19dfea5eb178_med.jpg?ssl=1)"
   ]
  },
  {
   "cell_type": "markdown",
   "id": "860004a0-d665-4d69-a4b6-41f7ef94ccea",
   "metadata": {},
   "source": [
    "Using a window size of 2 the input pairs for training on w(4) royal would be:\n",
    "![](https://israelg99.github.io/images/2017-03-23-Word2Vec-Explained/training_data.png)"
   ]
  },
  {
   "cell_type": "code",
   "execution_count": 166,
   "id": "f63ee0db-98c0-4baa-84b4-9a08b988bfa9",
   "metadata": {},
   "outputs": [],
   "source": [
    "word2vec = Word2Vec(doc_tokenized, min_count=5, sg=1) # 1 == skipgram"
   ]
  },
  {
   "cell_type": "code",
   "execution_count": null,
   "id": "d07e184d-7c60-4ed9-9f52-11fb709641d8",
   "metadata": {},
   "outputs": [],
   "source": [
    "vocabulary = word2vec.wv.key_to_index\n",
    "print(pd.Series(vocabulary))"
   ]
  },
  {
   "cell_type": "code",
   "execution_count": null,
   "id": "63630684-fb57-41cc-bf89-ccb47f16e5a2",
   "metadata": {},
   "outputs": [],
   "source": [
    "v1 = word2vec.wv['bùng_phát']\n",
    "v1"
   ]
  },
  {
   "cell_type": "code",
   "execution_count": 167,
   "id": "75f1823d-a501-4b76-87c3-45e174b30ebc",
   "metadata": {},
   "outputs": [
    {
     "data": {
      "text/plain": [
       "[('chiến_đấu', 0.5687301158905029),\n",
       " ('rình_rập', 0.5635271668434143),\n",
       " ('lơ_là', 0.5568132400512695),\n",
       " ('lơ_lửng', 0.5558775067329407),\n",
       " ('coronavirus', 0.555800199508667),\n",
       " ('điều_trị', 0.5505524277687073),\n",
       " ('vi', 0.5442474484443665),\n",
       " ('mục_tiêu_cực_kỳ', 0.5437147617340088),\n",
       " ('treo', 0.5300528407096863),\n",
       " ('lây_nhiễm', 0.5276100039482117)]"
      ]
     },
     "execution_count": 167,
     "metadata": {},
     "output_type": "execute_result"
    }
   ],
   "source": [
    "sim_words = word2vec.wv.most_similar('bùng_phát')\n",
    "sim_words"
   ]
  }
 ],
 "metadata": {
  "kernelspec": {
   "display_name": "Python 3",
   "language": "python",
   "name": "python3"
  },
  "language_info": {
   "codemirror_mode": {
    "name": "ipython",
    "version": 3
   },
   "file_extension": ".py",
   "mimetype": "text/x-python",
   "name": "python",
   "nbconvert_exporter": "python",
   "pygments_lexer": "ipython3",
   "version": "3.7.0"
  }
 },
 "nbformat": 4,
 "nbformat_minor": 5
}
