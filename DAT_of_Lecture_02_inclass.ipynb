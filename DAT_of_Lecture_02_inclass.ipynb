{
  "nbformat": 4,
  "nbformat_minor": 5,
  "metadata": {
    "kernelspec": {
      "display_name": "Python 3 (ipykernel)",
      "language": "python",
      "name": "python3"
    },
    "language_info": {
      "codemirror_mode": {
        "name": "ipython",
        "version": 3
      },
      "file_extension": ".py",
      "mimetype": "text/x-python",
      "name": "python",
      "nbconvert_exporter": "python",
      "pygments_lexer": "ipython3",
      "version": "3.8.10"
    },
    "colab": {
      "name": "\bDAT of Lecture_02_inclass.ipynb",
      "provenance": [],
      "include_colab_link": true
    }
  },
  "cells": [
    {
      "cell_type": "markdown",
      "metadata": {
        "id": "view-in-github",
        "colab_type": "text"
      },
      "source": [
        "<a href=\"https://colab.research.google.com/github/TRANTHANHDAT94/python_machine_learning/blob/main/%08DAT_of_Lecture_02_inclass.ipynb\" target=\"_parent\"><img src=\"https://colab.research.google.com/assets/colab-badge.svg\" alt=\"Open In Colab\"/></a>"
      ]
    },
    {
      "cell_type": "markdown",
      "metadata": {
        "id": "b1cfc1b3-3ed8-4254-96d5-9f36eb1ec5f4"
      },
      "source": [
        "# Lecture 02"
      ],
      "id": "b1cfc1b3-3ed8-4254-96d5-9f36eb1ec5f4"
    },
    {
      "cell_type": "markdown",
      "metadata": {
        "id": "d86ccf0a-1d47-430b-b7df-e565e1ef7418"
      },
      "source": [
        "## EDA Framework - Exploratory Data Analysis with Visualization"
      ],
      "id": "d86ccf0a-1d47-430b-b7df-e565e1ef7418"
    },
    {
      "cell_type": "code",
      "metadata": {
        "id": "9d9d118f-936a-4b27-818c-5fd7f887120e"
      },
      "source": [
        "import numpy as np\n",
        "import pandas as pd\n",
        "\n",
        "import matplotlib.pyplot as plt\n",
        "import seaborn as sns\n",
        "%matplotlib inline\n",
        "\n",
        "sns.set_style('whitegrid')\n",
        "sns.set_palette('tab10')"
      ],
      "id": "9d9d118f-936a-4b27-818c-5fd7f887120e",
      "execution_count": null,
      "outputs": []
    },
    {
      "cell_type": "code",
      "metadata": {
        "id": "9279f43f-1402-411f-9395-4a275ebe6605"
      },
      "source": [
        "titanic = sns.load_dataset('titanic') \n",
        "titanic.head()"
      ],
      "id": "9279f43f-1402-411f-9395-4a275ebe6605",
      "execution_count": null,
      "outputs": []
    },
    {
      "cell_type": "markdown",
      "metadata": {
        "id": "72793331-68a6-460f-8e16-cef142e495c4"
      },
      "source": [
        "#### Examine statistics of dataset"
      ],
      "id": "72793331-68a6-460f-8e16-cef142e495c4"
    },
    {
      "cell_type": "code",
      "metadata": {
        "id": "aa3ec99d-dabf-4e94-b3a2-de7508f749ec"
      },
      "source": [
        "titanic.info()"
      ],
      "id": "aa3ec99d-dabf-4e94-b3a2-de7508f749ec",
      "execution_count": null,
      "outputs": []
    },
    {
      "cell_type": "code",
      "metadata": {
        "id": "5ed05d9b-7723-4c0d-9af9-6a78dd2574ad"
      },
      "source": [
        "titanic.describe()"
      ],
      "id": "5ed05d9b-7723-4c0d-9af9-6a78dd2574ad",
      "execution_count": null,
      "outputs": []
    },
    {
      "cell_type": "markdown",
      "metadata": {
        "id": "b119644f-2ea2-4b72-b0f4-0430948eac30"
      },
      "source": [
        "### Histogram"
      ],
      "id": "b119644f-2ea2-4b72-b0f4-0430948eac30"
    },
    {
      "cell_type": "code",
      "metadata": {
        "id": "05f054fd-f3f1-40c7-a176-aee7278516c0"
      },
      "source": [
        "sns.histplot(data=titanic, x='fare', kde=True, stat='density')"
      ],
      "id": "05f054fd-f3f1-40c7-a176-aee7278516c0",
      "execution_count": null,
      "outputs": []
    },
    {
      "cell_type": "code",
      "metadata": {
        "id": "fbd4ae13-5a67-4c33-be7e-8145a1a08ddd"
      },
      "source": [
        "ax = sns.histplot(data=titanic, x='fare', kde=True, stat='density')\n",
        "ax.set_xlim(0, 100)"
      ],
      "id": "fbd4ae13-5a67-4c33-be7e-8145a1a08ddd",
      "execution_count": null,
      "outputs": []
    },
    {
      "cell_type": "code",
      "metadata": {
        "id": "9e8179bb-869c-4c85-9ffd-4d045139e08b"
      },
      "source": [
        "ax = sns.histplot(data=titanic, x='fare', kde=True, stat='density', hue='pclass')\n",
        "ax.set_xlim(0, 100)"
      ],
      "id": "9e8179bb-869c-4c85-9ffd-4d045139e08b",
      "execution_count": null,
      "outputs": []
    },
    {
      "cell_type": "markdown",
      "metadata": {
        "id": "7292d108-ec62-4ea4-927d-d29adabe73f1"
      },
      "source": [
        "### Barplot"
      ],
      "id": "7292d108-ec62-4ea4-927d-d29adabe73f1"
    },
    {
      "cell_type": "code",
      "metadata": {
        "id": "42fd7e25-58d1-414d-ac1f-4cddfa8070ec"
      },
      "source": [
        "sns.barplot(data=titanic, x='class', y='fare')"
      ],
      "id": "42fd7e25-58d1-414d-ac1f-4cddfa8070ec",
      "execution_count": null,
      "outputs": []
    },
    {
      "cell_type": "code",
      "metadata": {
        "id": "473d7d22-03c5-44fb-8c34-e4dbe2b1f7e9"
      },
      "source": [
        "sns.barplot(data=titanic, x='class', y='fare', hue='survived')"
      ],
      "id": "473d7d22-03c5-44fb-8c34-e4dbe2b1f7e9",
      "execution_count": null,
      "outputs": []
    },
    {
      "cell_type": "code",
      "metadata": {
        "id": "c409a4b7-99d3-4b8e-8034-965c2c29f00a"
      },
      "source": [
        "sns.barplot(data=titanic, x='class', y='fare', hue='survived', estimator=np.sum, ci=False)"
      ],
      "id": "c409a4b7-99d3-4b8e-8034-965c2c29f00a",
      "execution_count": null,
      "outputs": []
    },
    {
      "cell_type": "markdown",
      "metadata": {
        "id": "2cab1ae1-97cf-4626-8604-8598adc9767f"
      },
      "source": [
        "### Countplot"
      ],
      "id": "2cab1ae1-97cf-4626-8604-8598adc9767f"
    },
    {
      "cell_type": "code",
      "metadata": {
        "id": "e994d123-8964-461d-ab0e-4a269c0db1b4"
      },
      "source": [
        "titanic['embark_town'].value_counts()"
      ],
      "id": "e994d123-8964-461d-ab0e-4a269c0db1b4",
      "execution_count": null,
      "outputs": []
    },
    {
      "cell_type": "code",
      "metadata": {
        "id": "8f941dd8-713f-4604-a8c3-90895ef2d43d"
      },
      "source": [
        "titanic['embark_town'].value_counts(dropna=False)"
      ],
      "id": "8f941dd8-713f-4604-a8c3-90895ef2d43d",
      "execution_count": null,
      "outputs": []
    },
    {
      "cell_type": "code",
      "metadata": {
        "id": "ddf15c73-71ef-420d-991b-06afcf81d596"
      },
      "source": [
        "sns.countplot(data=titanic, x='embark_town')"
      ],
      "id": "ddf15c73-71ef-420d-991b-06afcf81d596",
      "execution_count": null,
      "outputs": []
    },
    {
      "cell_type": "code",
      "metadata": {
        "id": "6f8f937b-74ea-4acc-b5cc-97ebe9f3f03b"
      },
      "source": [
        "data = titanic['embark_town'].value_counts()\n",
        "data"
      ],
      "id": "6f8f937b-74ea-4acc-b5cc-97ebe9f3f03b",
      "execution_count": null,
      "outputs": []
    },
    {
      "cell_type": "code",
      "metadata": {
        "id": "730f0f3d-4d0e-448d-b8df-255351121ff1"
      },
      "source": [
        "data.plot.pie(autopct='%.2f%%')"
      ],
      "id": "730f0f3d-4d0e-448d-b8df-255351121ff1",
      "execution_count": null,
      "outputs": []
    },
    {
      "cell_type": "markdown",
      "metadata": {
        "id": "6a3a25b8-ca95-4d63-97e7-20bdf108a2ec"
      },
      "source": [
        "### Scatterplot"
      ],
      "id": "6a3a25b8-ca95-4d63-97e7-20bdf108a2ec"
    },
    {
      "cell_type": "code",
      "metadata": {
        "id": "ccde0bba-4d98-4904-b6fc-708fff44e394"
      },
      "source": [
        "sns.scatterplot(data=titanic, x='fare', y='age')"
      ],
      "id": "ccde0bba-4d98-4904-b6fc-708fff44e394",
      "execution_count": null,
      "outputs": []
    },
    {
      "cell_type": "code",
      "metadata": {
        "id": "a4805c95-58a8-47c6-96be-925f1ec90c5e"
      },
      "source": [
        "sns.scatterplot(data=titanic, x='fare', y='age', hue='survived')"
      ],
      "id": "a4805c95-58a8-47c6-96be-925f1ec90c5e",
      "execution_count": null,
      "outputs": []
    },
    {
      "cell_type": "markdown",
      "metadata": {
        "id": "cb9ded14-18e2-4c9e-951e-a4649623e0e7"
      },
      "source": [
        "### Jointplot"
      ],
      "id": "cb9ded14-18e2-4c9e-951e-a4649623e0e7"
    },
    {
      "cell_type": "code",
      "metadata": {
        "id": "8758966f-8371-4a7a-b7d9-62b1fd3128e6"
      },
      "source": [
        "sns.jointplot(data=titanic, x='fare', y='age')"
      ],
      "id": "8758966f-8371-4a7a-b7d9-62b1fd3128e6",
      "execution_count": null,
      "outputs": []
    },
    {
      "cell_type": "code",
      "metadata": {
        "id": "fadeecba-4d07-40de-a4f9-dedb8ec64035"
      },
      "source": [
        "sns.jointplot(data=titanic, x='fare', y='age', hue='survived')"
      ],
      "id": "fadeecba-4d07-40de-a4f9-dedb8ec64035",
      "execution_count": null,
      "outputs": []
    },
    {
      "cell_type": "markdown",
      "metadata": {
        "id": "41fb886a-31c7-450e-8d88-186aba8f3d57"
      },
      "source": [
        "### Boxplot & Violinplot"
      ],
      "id": "41fb886a-31c7-450e-8d88-186aba8f3d57"
    },
    {
      "cell_type": "code",
      "metadata": {
        "id": "83f07e1f-53b6-4450-ab2e-8fa969900f10"
      },
      "source": [
        "sns.boxplot(data=titanic, x='sibsp', y='age')"
      ],
      "id": "83f07e1f-53b6-4450-ab2e-8fa969900f10",
      "execution_count": null,
      "outputs": []
    },
    {
      "cell_type": "code",
      "metadata": {
        "id": "900f6f17-30df-4121-b737-ef16bcbfb469"
      },
      "source": [
        "sns.boxplot(data=titanic, x='sibsp', y='age', hue='survived')"
      ],
      "id": "900f6f17-30df-4121-b737-ef16bcbfb469",
      "execution_count": null,
      "outputs": []
    },
    {
      "cell_type": "code",
      "metadata": {
        "id": "517b72be-dc9e-413a-8151-56fe156260d2"
      },
      "source": [
        "sns.violinplot(data=titanic, x='sibsp', y='age')"
      ],
      "id": "517b72be-dc9e-413a-8151-56fe156260d2",
      "execution_count": null,
      "outputs": []
    },
    {
      "cell_type": "code",
      "metadata": {
        "id": "d21e799b-5736-4b44-8af4-3dc2171fbf01"
      },
      "source": [
        "sns.violinplot(data=titanic, x='sibsp', y='age', hue='survived')"
      ],
      "id": "d21e799b-5736-4b44-8af4-3dc2171fbf01",
      "execution_count": null,
      "outputs": []
    },
    {
      "cell_type": "markdown",
      "metadata": {
        "id": "713ec2de-af41-4b2e-93a7-b8a6363aa739"
      },
      "source": [
        "### Heatmap"
      ],
      "id": "713ec2de-af41-4b2e-93a7-b8a6363aa739"
    },
    {
      "cell_type": "code",
      "metadata": {
        "id": "d86b28ea-9cc7-4da1-9387-2521c0b26404"
      },
      "source": [
        "sns.heatmap(titanic.corr(), annot=True)"
      ],
      "id": "d86b28ea-9cc7-4da1-9387-2521c0b26404",
      "execution_count": null,
      "outputs": []
    },
    {
      "cell_type": "code",
      "metadata": {
        "id": "e45d4321-de4f-4e9c-80e3-06d8ab4445b9"
      },
      "source": [
        "mask = np.zeros_like(titanic.corr())\n",
        "mask[np.triu_indices_from(mask)] = True\n",
        "sns.heatmap(titanic.corr(), annot=True, mask=mask)"
      ],
      "id": "e45d4321-de4f-4e9c-80e3-06d8ab4445b9",
      "execution_count": null,
      "outputs": []
    },
    {
      "cell_type": "markdown",
      "metadata": {
        "id": "db8696df-355d-4106-880d-edff9b669dce"
      },
      "source": [
        "### FacetGrid"
      ],
      "id": "db8696df-355d-4106-880d-edff9b669dce"
    },
    {
      "cell_type": "code",
      "metadata": {
        "id": "72f15f3a-a10c-4da8-9840-f9f755bed22c"
      },
      "source": [
        "facet_grid = sns.FacetGrid(data=titanic, row='class', col='sex', hue='survived')\n",
        "facet_grid.map(sns.scatterplot, 'age', 'fare')"
      ],
      "id": "72f15f3a-a10c-4da8-9840-f9f755bed22c",
      "execution_count": null,
      "outputs": []
    },
    {
      "cell_type": "code",
      "metadata": {
        "id": "c642741f-f5ec-4c26-9f8c-a71bf356c420"
      },
      "source": [
        "facet_grid = sns.FacetGrid(data=titanic, row='class', col='sex', hue='survived')\n",
        "facet_grid.map(sns.regplot, 'age', 'fare')"
      ],
      "id": "c642741f-f5ec-4c26-9f8c-a71bf356c420",
      "execution_count": null,
      "outputs": []
    },
    {
      "cell_type": "code",
      "metadata": {
        "id": "37482d21-c63e-40d0-9833-92c32dc0968a"
      },
      "source": [
        ""
      ],
      "id": "37482d21-c63e-40d0-9833-92c32dc0968a",
      "execution_count": null,
      "outputs": []
    }
  ]
}