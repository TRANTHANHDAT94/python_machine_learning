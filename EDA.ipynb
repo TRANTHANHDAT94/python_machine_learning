{
 "cells": [
  {
   "cell_type": "markdown",
   "id": "640e487e-302a-4b02-ba0c-c872815830f7",
   "metadata": {},
   "source": [
    "# Summary/Review\n",
    "## Retrieving Data\n",
    "### You can retrieve data from multiple sources:\n",
    "\n",
    "SQL databases\n",
    "NoSQL databases\n",
    "APIs\n",
    "Cloud data sources\n",
    "The two most common formats for delimited data flat files are comma separated (csv) and tab separated (tsv). It is also possible to use special characters as separators.\n",
    "\n",
    "SQL represents a set of relational databases with fixed schemas.\n",
    "\n",
    "### Reading in Database Files\n",
    "The steps to read in a database file using the sqlite library are:\n",
    "\n",
    "create a path variable that references the path to your database\n",
    "create a connection variable that references the connection to your database\n",
    "create a query variable that contains the SQL query that reads in the data table from your database\n",
    "create an observations variable to assign the read_sql functions from pandas package\n",
    "create a tables variable to read in the data from the table sqlite_master\n",
    "JSON files are a standard way to store data across platforms. Their structure is similar to Python dictionaries.\n",
    "\n",
    "NoSQL databases are not relational and vary more in structure. Most NoSQL databases store data in JSON format.\n",
    "\n",
    "## Data Cleaning\n",
    "\n",
    "Data Cleaning is important because messy data will lead to unreliable outcomes.Some common issues that make data messy are: duplicate or unnecessary data, inconsistent data and typos, missing data, outliers, and data source issues.\n",
    "\n",
    "You can identify duplicate or unnecessary dataCommon policies to deal with missing data are:remove a row with missing columns, impute the missing data, and mask the data by creating a category for missing values.\n",
    "\n",
    "Common methods to find outliers are: through plots, statistics, or residuals.\n",
    "\n",
    "Common policies to deal with outliers are: remove outliers, impute them, use a variable transformation, or use a model that is resistant to outliers.\n",
    "\n",
    "## Exploratory Data Analysis\n",
    "EDA is an approach to analyzing data sets that summarizes their main characteristics, often using visual methods. It helps you determine if the data is usable as-is, or if it needs further data cleaning.\n",
    "\n",
    "EDA is also important in the process of identifying patterns, observing trends, and formulating hypothesis.\n",
    "\n",
    "Common summary statistics for EDA include finding summary statistics and producing visualizations.\n",
    "\n",
    "## Feature Engineering and Variable Transformation\n",
    "Transforming variables helps to meet the assumptions of statistical models. A concrete example is a linear regression, in which you may transform a predictor variable such that it has a linear relation with a target variable.\n",
    "\n",
    "Common variable transformations are: calculating log transformations and polynomial features, encoding a categorical variable, and scaling a variable. "
   ]
  },
  {
   "cell_type": "code",
   "execution_count": null,
   "id": "927ee3fa-4a6b-4ae4-b3e4-175fb312ef94",
   "metadata": {},
   "outputs": [],
   "source": []
  }
 ],
 "metadata": {
  "kernelspec": {
   "display_name": "Python 3",
   "language": "python",
   "name": "python3"
  },
  "language_info": {
   "codemirror_mode": {
    "name": "ipython",
    "version": 3
   },
   "file_extension": ".py",
   "mimetype": "text/x-python",
   "name": "python",
   "nbconvert_exporter": "python",
   "pygments_lexer": "ipython3",
   "version": "3.7.0"
  }
 },
 "nbformat": 4,
 "nbformat_minor": 5
}
