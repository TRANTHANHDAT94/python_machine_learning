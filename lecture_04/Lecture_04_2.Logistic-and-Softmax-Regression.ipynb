{
 "cells": [
  {
   "cell_type": "markdown",
   "metadata": {},
   "source": [
    "# Logistic Regression\n",
    "![](https://miro.medium.com/max/725/1*Ubge8qVlc4Xk58H1oMp4Zw.jpeg)"
   ]
  },
  {
   "cell_type": "markdown",
   "metadata": {},
   "source": [
    "Class 0 and 1: Yes or No  \n",
    "Linear -> Logistic"
   ]
  },
  {
   "cell_type": "markdown",
   "metadata": {
    "_uuid": "87787bfb28edd5d52a4447b43071ed43f489600d"
   },
   "source": [
    "**Table of Content**\n",
    "* Logistic Regression\n",
    "    * Simple illustration with two variables\n",
    "    * Training with all variables. ROC curve and AUC.\n",
    "* Softmax Regression\n",
    "    * Training with all variables. Confusion matrix."
   ]
  },
  {
   "cell_type": "code",
   "execution_count": 1,
   "metadata": {
    "_cell_guid": "b1076dfc-b9ad-4769-8c92-a6c4dae69d19",
    "_uuid": "8f2839f25d086af736a60e9eeb907d3b93b6e0e5"
   },
   "outputs": [
    {
     "name": "stdout",
     "output_type": "stream",
     "text": [
      "['winequality-red.csv']\n"
     ]
    }
   ],
   "source": [
    "import numpy as np # linear algebra\n",
    "import pandas as pd # data processing, CSV file I/O (e.g. pd.read_csv)\n",
    "import seaborn as sns\n",
    "import matplotlib.pyplot as plt\n",
    "from sklearn.linear_model import LogisticRegression\n",
    "from sklearn.preprocessing import StandardScaler\n",
    "from sklearn.metrics import roc_curve\n",
    "from sklearn.metrics import confusion_matrix\n",
    "\n",
    "import os\n",
    "print(os.listdir(\"input/Lecture_04_4/\"))"
   ]
  },
  {
   "cell_type": "code",
   "execution_count": 2,
   "metadata": {
    "_uuid": "d914dc45d2088a6f8f284ebca0a8f8d273afe253"
   },
   "outputs": [],
   "source": [
    "# set pyplot parameters to make things pretty\n",
    "plt.rc('axes', linewidth = 1.5, labelsize = 14)\n",
    "plt.rc('xtick', labelsize = 14)\n",
    "plt.rc('ytick', labelsize = 14)\n",
    "plt.rc('xtick.major', size = 3, width = 1.5)\n",
    "plt.rc('ytick.major', size = 3, width = 1.5)"
   ]
  },
  {
   "cell_type": "markdown",
   "metadata": {
    "_uuid": "ac31bed5b3c4ae5c7ccc44fbd1a89b67e871e2b7"
   },
   "source": [
    "# Logistic Regression\n",
    "Logistic regression is used to classify whether an input belong to a class (1) or no (0). <br/>\n",
    "Given an input sample  $\\vec{x}^{(i)}$, the predicted probability of this input belonging to the class is:\n",
    "<center>\n",
    "$\\hat{p}^{(i)}=\\sigma(\\vec{\\theta}^{T}\\cdot \\vec{x}^{(i)})=1/(1+e^{-\\vec{\\theta}^{T}\\cdot \\vec{x}^{(i)}})$\n",
    "</center>\n",
    "The $\\sigma (t)$ function is called a sigmoid function. Usually, logistic regression predicts $\\hat{y}=1$ if $\\hat{p} \\geq 0.5$, and $\\hat{y}=0$ if $\\hat{p} < 0.5$. The <b>decision boundary</b> is given by: $\\vec{\\theta}^{T}\\cdot \\vec{x}=0$. <br/>\n",
    "\n",
    "While training, the cost function is the <b>log loss</b>:\n",
    "<center>\n",
    "$J(\\theta)=-\\frac{1}{m}\\sum^{m}_{i=1}[y^{(i)}log(\\hat{p}^{(i)})+(1-y^{(i)})log(1-\\hat{p}^{(i)})]$\n",
    "</center>\n",
    "The partial derivatives of log loss is:\n",
    "<center>\n",
    "    $\\frac{\\partial J(\\theta)}{\\partial \\theta_j}=\\frac{1}{m}\\sum^{m}_{i=1}(\\hat{p}^{(i)}-y^{(i)})x_j^{(i)}$\n",
    "</center>\n",
    "\n",
    "If you are interested in deriving this yourself, the following trick will come in handy:\n",
    "<center>\n",
    "    $\\frac{d\\sigma(t)}{dt}=d(\\frac{1}{1+e^{-t}})/dt=-\\frac{1}{(1+e^{-t})^2}d(1+e^{-t})/dt=\\frac{e^{-t}}{(1+e^{-t})^2}=\\frac{1}{1+e^{-t}}\\frac{e^{-t}}{1+e^{-t}}=\\sigma(t)\\cdot (1-\\sigma(t))$\n",
    "</center>  \n",
    "\n",
    "![](https://lh5.googleusercontent.com/proxy/pD__H77fXi3C8cbKG9TigbES4h69XGl9RExCZqbMeJ8jV2dMLZsCO4Kf2nRTz46hlxMTD6xnJtl61QmXWCp6GmJPuseR5kxIiQEdfNNzF60mzOYHLTcM)"
   ]
  },
  {
   "cell_type": "markdown",
   "metadata": {},
   "source": [
    "![](https://www.researchgate.net/profile/Tali_Leibovich-Raveh/publication/325868989/figure/fig2/AS:639475206074368@1529474178211/A-Basic-sigmoid-function-with-two-parameters-c1-and-c2-as-commonly-used-for-subitizing.png)"
   ]
  },
  {
   "cell_type": "markdown",
   "metadata": {
    "_uuid": "47a19c01f16e02d22c76ea01efe1d7bbda7c09e9"
   },
   "source": [
    "We will illustrate how logistic regression works in the wine quality dataset first. <br/>\n",
    "Let's take a look at the dataset:"
   ]
  },
  {
   "cell_type": "code",
   "execution_count": 3,
   "metadata": {
    "_uuid": "6179e8a2cf25f37ee285a03fd1d57c815b7a6580"
   },
   "outputs": [
    {
     "data": {
      "text/html": [
       "<div>\n",
       "<style scoped>\n",
       "    .dataframe tbody tr th:only-of-type {\n",
       "        vertical-align: middle;\n",
       "    }\n",
       "\n",
       "    .dataframe tbody tr th {\n",
       "        vertical-align: top;\n",
       "    }\n",
       "\n",
       "    .dataframe thead th {\n",
       "        text-align: right;\n",
       "    }\n",
       "</style>\n",
       "<table border=\"1\" class=\"dataframe\">\n",
       "  <thead>\n",
       "    <tr style=\"text-align: right;\">\n",
       "      <th></th>\n",
       "      <th>fixed acidity</th>\n",
       "      <th>volatile acidity</th>\n",
       "      <th>citric acid</th>\n",
       "      <th>residual sugar</th>\n",
       "      <th>chlorides</th>\n",
       "      <th>free sulfur dioxide</th>\n",
       "      <th>total sulfur dioxide</th>\n",
       "      <th>density</th>\n",
       "      <th>pH</th>\n",
       "      <th>sulphates</th>\n",
       "      <th>alcohol</th>\n",
       "      <th>quality</th>\n",
       "    </tr>\n",
       "  </thead>\n",
       "  <tbody>\n",
       "    <tr>\n",
       "      <th>0</th>\n",
       "      <td>7.4</td>\n",
       "      <td>0.70</td>\n",
       "      <td>0.00</td>\n",
       "      <td>1.9</td>\n",
       "      <td>0.076</td>\n",
       "      <td>11.0</td>\n",
       "      <td>34.0</td>\n",
       "      <td>0.9978</td>\n",
       "      <td>3.51</td>\n",
       "      <td>0.56</td>\n",
       "      <td>9.4</td>\n",
       "      <td>5</td>\n",
       "    </tr>\n",
       "    <tr>\n",
       "      <th>1</th>\n",
       "      <td>7.8</td>\n",
       "      <td>0.88</td>\n",
       "      <td>0.00</td>\n",
       "      <td>2.6</td>\n",
       "      <td>0.098</td>\n",
       "      <td>25.0</td>\n",
       "      <td>67.0</td>\n",
       "      <td>0.9968</td>\n",
       "      <td>3.20</td>\n",
       "      <td>0.68</td>\n",
       "      <td>9.8</td>\n",
       "      <td>5</td>\n",
       "    </tr>\n",
       "    <tr>\n",
       "      <th>2</th>\n",
       "      <td>7.8</td>\n",
       "      <td>0.76</td>\n",
       "      <td>0.04</td>\n",
       "      <td>2.3</td>\n",
       "      <td>0.092</td>\n",
       "      <td>15.0</td>\n",
       "      <td>54.0</td>\n",
       "      <td>0.9970</td>\n",
       "      <td>3.26</td>\n",
       "      <td>0.65</td>\n",
       "      <td>9.8</td>\n",
       "      <td>5</td>\n",
       "    </tr>\n",
       "    <tr>\n",
       "      <th>3</th>\n",
       "      <td>11.2</td>\n",
       "      <td>0.28</td>\n",
       "      <td>0.56</td>\n",
       "      <td>1.9</td>\n",
       "      <td>0.075</td>\n",
       "      <td>17.0</td>\n",
       "      <td>60.0</td>\n",
       "      <td>0.9980</td>\n",
       "      <td>3.16</td>\n",
       "      <td>0.58</td>\n",
       "      <td>9.8</td>\n",
       "      <td>6</td>\n",
       "    </tr>\n",
       "    <tr>\n",
       "      <th>4</th>\n",
       "      <td>7.4</td>\n",
       "      <td>0.70</td>\n",
       "      <td>0.00</td>\n",
       "      <td>1.9</td>\n",
       "      <td>0.076</td>\n",
       "      <td>11.0</td>\n",
       "      <td>34.0</td>\n",
       "      <td>0.9978</td>\n",
       "      <td>3.51</td>\n",
       "      <td>0.56</td>\n",
       "      <td>9.4</td>\n",
       "      <td>5</td>\n",
       "    </tr>\n",
       "  </tbody>\n",
       "</table>\n",
       "</div>"
      ],
      "text/plain": [
       "   fixed acidity  volatile acidity  citric acid  residual sugar  chlorides  \\\n",
       "0            7.4              0.70         0.00             1.9      0.076   \n",
       "1            7.8              0.88         0.00             2.6      0.098   \n",
       "2            7.8              0.76         0.04             2.3      0.092   \n",
       "3           11.2              0.28         0.56             1.9      0.075   \n",
       "4            7.4              0.70         0.00             1.9      0.076   \n",
       "\n",
       "   free sulfur dioxide  total sulfur dioxide  density    pH  sulphates  \\\n",
       "0                 11.0                  34.0   0.9978  3.51       0.56   \n",
       "1                 25.0                  67.0   0.9968  3.20       0.68   \n",
       "2                 15.0                  54.0   0.9970  3.26       0.65   \n",
       "3                 17.0                  60.0   0.9980  3.16       0.58   \n",
       "4                 11.0                  34.0   0.9978  3.51       0.56   \n",
       "\n",
       "   alcohol  quality  \n",
       "0      9.4        5  \n",
       "1      9.8        5  \n",
       "2      9.8        5  \n",
       "3      9.8        6  \n",
       "4      9.4        5  "
      ]
     },
     "execution_count": 3,
     "metadata": {},
     "output_type": "execute_result"
    }
   ],
   "source": [
    "wineData = pd.read_csv('input/Lecture_04_4/winequality-red.csv')\n",
    "wineData.head()"
   ]
  },
  {
   "cell_type": "code",
   "execution_count": 4,
   "metadata": {
    "_uuid": "1c367c1a4b75a729fe555048448b0b1e94a54a34"
   },
   "outputs": [
    {
     "data": {
      "text/plain": [
       "array([5, 6, 7, 4, 8, 3])"
      ]
     },
     "execution_count": 4,
     "metadata": {},
     "output_type": "execute_result"
    }
   ],
   "source": [
    "wineData.quality.unique() # 3-8"
   ]
  },
  {
   "cell_type": "markdown",
   "metadata": {
    "_uuid": "bfb02ed87df0a003bfa70faf19f10c82eb76a692"
   },
   "source": [
    "Looks like wine quality in this dataset ranges from 3 to 8. Let's look at the distribution:"
   ]
  },
  {
   "cell_type": "code",
   "execution_count": 5,
   "metadata": {
    "_uuid": "0d0bef04a9f230442342285dc37550a4c96c2718"
   },
   "outputs": [
    {
     "data": {
      "image/png": "[encoded data removed]",
      "text/plain": [
       "<Figure size 432x288 with 1 Axes>"
      ]
     },
     "metadata": {
      "needs_background": "light"
     },
     "output_type": "display_data"
    }
   ],
   "source": [
    "plt.hist(wineData.quality.values,bins=[2.5, 3.5, 4.5, 5.5, 6.5, 7.5, 8.5],edgecolor = 'black')\n",
    "plt.xlabel('wine quality', fontsize = 18)\n",
    "plt.ylabel('# of occurrences', fontsize = 18)\n",
    "plt.show()"
   ]
  },
  {
   "cell_type": "markdown",
   "metadata": {},
   "source": [
    "### Target: quality\n",
    "Regression or Classification"
   ]
  },
  {
   "cell_type": "markdown",
   "metadata": {
    "_uuid": "829141d26a7d424eebff20c66da081eaf79dfdbb"
   },
   "source": [
    "We define wine as 'good'(1) if its quality is larger than or equal to 7, and 'not good'(0) otherwise.  "
   ]
  },
  {
   "cell_type": "code",
   "execution_count": 6,
   "metadata": {
    "_uuid": "a07f916c24f0675a940e6036d4184dd8fc868463"
   },
   "outputs": [
    {
     "data": {
      "text/html": [
       "<div>\n",
       "<style scoped>\n",
       "    .dataframe tbody tr th:only-of-type {\n",
       "        vertical-align: middle;\n",
       "    }\n",
       "\n",
       "    .dataframe tbody tr th {\n",
       "        vertical-align: top;\n",
       "    }\n",
       "\n",
       "    .dataframe thead th {\n",
       "        text-align: right;\n",
       "    }\n",
       "</style>\n",
       "<table border=\"1\" class=\"dataframe\">\n",
       "  <thead>\n",
       "    <tr style=\"text-align: right;\">\n",
       "      <th></th>\n",
       "      <th>fixed acidity</th>\n",
       "      <th>volatile acidity</th>\n",
       "      <th>citric acid</th>\n",
       "      <th>residual sugar</th>\n",
       "      <th>chlorides</th>\n",
       "      <th>free sulfur dioxide</th>\n",
       "      <th>total sulfur dioxide</th>\n",
       "      <th>density</th>\n",
       "      <th>pH</th>\n",
       "      <th>sulphates</th>\n",
       "      <th>alcohol</th>\n",
       "      <th>quality</th>\n",
       "      <th>category</th>\n",
       "    </tr>\n",
       "  </thead>\n",
       "  <tbody>\n",
       "    <tr>\n",
       "      <th>0</th>\n",
       "      <td>7.4</td>\n",
       "      <td>0.70</td>\n",
       "      <td>0.00</td>\n",
       "      <td>1.9</td>\n",
       "      <td>0.076</td>\n",
       "      <td>11.0</td>\n",
       "      <td>34.0</td>\n",
       "      <td>0.9978</td>\n",
       "      <td>3.51</td>\n",
       "      <td>0.56</td>\n",
       "      <td>9.4</td>\n",
       "      <td>5</td>\n",
       "      <td>False</td>\n",
       "    </tr>\n",
       "    <tr>\n",
       "      <th>1</th>\n",
       "      <td>7.8</td>\n",
       "      <td>0.88</td>\n",
       "      <td>0.00</td>\n",
       "      <td>2.6</td>\n",
       "      <td>0.098</td>\n",
       "      <td>25.0</td>\n",
       "      <td>67.0</td>\n",
       "      <td>0.9968</td>\n",
       "      <td>3.20</td>\n",
       "      <td>0.68</td>\n",
       "      <td>9.8</td>\n",
       "      <td>5</td>\n",
       "      <td>False</td>\n",
       "    </tr>\n",
       "    <tr>\n",
       "      <th>2</th>\n",
       "      <td>7.8</td>\n",
       "      <td>0.76</td>\n",
       "      <td>0.04</td>\n",
       "      <td>2.3</td>\n",
       "      <td>0.092</td>\n",
       "      <td>15.0</td>\n",
       "      <td>54.0</td>\n",
       "      <td>0.9970</td>\n",
       "      <td>3.26</td>\n",
       "      <td>0.65</td>\n",
       "      <td>9.8</td>\n",
       "      <td>5</td>\n",
       "      <td>False</td>\n",
       "    </tr>\n",
       "    <tr>\n",
       "      <th>3</th>\n",
       "      <td>11.2</td>\n",
       "      <td>0.28</td>\n",
       "      <td>0.56</td>\n",
       "      <td>1.9</td>\n",
       "      <td>0.075</td>\n",
       "      <td>17.0</td>\n",
       "      <td>60.0</td>\n",
       "      <td>0.9980</td>\n",
       "      <td>3.16</td>\n",
       "      <td>0.58</td>\n",
       "      <td>9.8</td>\n",
       "      <td>6</td>\n",
       "      <td>False</td>\n",
       "    </tr>\n",
       "    <tr>\n",
       "      <th>4</th>\n",
       "      <td>7.4</td>\n",
       "      <td>0.70</td>\n",
       "      <td>0.00</td>\n",
       "      <td>1.9</td>\n",
       "      <td>0.076</td>\n",
       "      <td>11.0</td>\n",
       "      <td>34.0</td>\n",
       "      <td>0.9978</td>\n",
       "      <td>3.51</td>\n",
       "      <td>0.56</td>\n",
       "      <td>9.4</td>\n",
       "      <td>5</td>\n",
       "      <td>False</td>\n",
       "    </tr>\n",
       "  </tbody>\n",
       "</table>\n",
       "</div>"
      ],
      "text/plain": [
       "   fixed acidity  volatile acidity  citric acid  residual sugar  chlorides  \\\n",
       "0            7.4              0.70         0.00             1.9      0.076   \n",
       "1            7.8              0.88         0.00             2.6      0.098   \n",
       "2            7.8              0.76         0.04             2.3      0.092   \n",
       "3           11.2              0.28         0.56             1.9      0.075   \n",
       "4            7.4              0.70         0.00             1.9      0.076   \n",
       "\n",
       "   free sulfur dioxide  total sulfur dioxide  density    pH  sulphates  \\\n",
       "0                 11.0                  34.0   0.9978  3.51       0.56   \n",
       "1                 25.0                  67.0   0.9968  3.20       0.68   \n",
       "2                 15.0                  54.0   0.9970  3.26       0.65   \n",
       "3                 17.0                  60.0   0.9980  3.16       0.58   \n",
       "4                 11.0                  34.0   0.9978  3.51       0.56   \n",
       "\n",
       "   alcohol  quality  category  \n",
       "0      9.4        5     False  \n",
       "1      9.8        5     False  \n",
       "2      9.8        5     False  \n",
       "3      9.8        6     False  \n",
       "4      9.4        5     False  "
      ]
     },
     "execution_count": 6,
     "metadata": {},
     "output_type": "execute_result"
    }
   ],
   "source": [
    "wineData['category'] = wineData['quality'] >= 7\n",
    "wineData.head()"
   ]
  },
  {
   "cell_type": "markdown",
   "metadata": {
    "_uuid": "5ac64d1af6ddd6f9a4e6a8a32a6974d48e9f0316"
   },
   "source": [
    "Our goal is to run logistic regression to predict which category the wine falls in. <br/>"
   ]
  },
  {
   "cell_type": "code",
   "execution_count": 7,
   "metadata": {
    "_uuid": "94bfceba981af635a4d9b800acb5c38f0a6bce88"
   },
   "outputs": [],
   "source": [
    "from sklearn.linear_model import LogisticRegression"
   ]
  },
  {
   "cell_type": "markdown",
   "metadata": {
    "_uuid": "de56fe00b63924ef31f250b39e1d0354385b5a61"
   },
   "source": [
    "## Simple illustration with two variables\n",
    "Let's start with using only two variables, for the sake of visualization. The prediction outcome is expected to be poor, since these two variables are probablity insufficient to decide wine quality."
   ]
  },
  {
   "cell_type": "code",
   "execution_count": 8,
   "metadata": {
    "_uuid": "272925e5b14aac677ae151884a7ffdd7201d60ea"
   },
   "outputs": [
    {
     "data": {
      "text/html": [
       "<div>\n",
       "<style scoped>\n",
       "    .dataframe tbody tr th:only-of-type {\n",
       "        vertical-align: middle;\n",
       "    }\n",
       "\n",
       "    .dataframe tbody tr th {\n",
       "        vertical-align: top;\n",
       "    }\n",
       "\n",
       "    .dataframe thead th {\n",
       "        text-align: right;\n",
       "    }\n",
       "</style>\n",
       "<table border=\"1\" class=\"dataframe\">\n",
       "  <thead>\n",
       "    <tr style=\"text-align: right;\">\n",
       "      <th></th>\n",
       "      <th>fixed acidity(stan)</th>\n",
       "      <th>volatile acidity(stan)</th>\n",
       "      <th>category</th>\n",
       "    </tr>\n",
       "  </thead>\n",
       "  <tbody>\n",
       "    <tr>\n",
       "      <th>0</th>\n",
       "      <td>-0.528360</td>\n",
       "      <td>0.961877</td>\n",
       "      <td>0</td>\n",
       "    </tr>\n",
       "    <tr>\n",
       "      <th>1</th>\n",
       "      <td>-0.298547</td>\n",
       "      <td>1.967442</td>\n",
       "      <td>0</td>\n",
       "    </tr>\n",
       "    <tr>\n",
       "      <th>2</th>\n",
       "      <td>-0.298547</td>\n",
       "      <td>1.297065</td>\n",
       "      <td>0</td>\n",
       "    </tr>\n",
       "    <tr>\n",
       "      <th>3</th>\n",
       "      <td>1.654856</td>\n",
       "      <td>-1.384443</td>\n",
       "      <td>0</td>\n",
       "    </tr>\n",
       "    <tr>\n",
       "      <th>4</th>\n",
       "      <td>-0.528360</td>\n",
       "      <td>0.961877</td>\n",
       "      <td>0</td>\n",
       "    </tr>\n",
       "  </tbody>\n",
       "</table>\n",
       "</div>"
      ],
      "text/plain": [
       "   fixed acidity(stan)  volatile acidity(stan)  category\n",
       "0            -0.528360                0.961877         0\n",
       "1            -0.298547                1.967442         0\n",
       "2            -0.298547                1.297065         0\n",
       "3             1.654856               -1.384443         0\n",
       "4            -0.528360                0.961877         0"
      ]
     },
     "execution_count": 8,
     "metadata": {},
     "output_type": "execute_result"
    }
   ],
   "source": [
    "X = wineData[['fixed acidity','volatile acidity']].values\n",
    "y = wineData['category'].values.astype(np.int) # move True False -> 0 and 1\n",
    "\n",
    "scaler = StandardScaler() # std scaler\n",
    "Xstan = scaler.fit_transform(X)\n",
    "\n",
    "# save the standardized data for plotting\n",
    "dataStan=pd.DataFrame()\n",
    "dataStan['fixed acidity(stan)']=Xstan[:,0] # acidity\n",
    "dataStan['volatile acidity(stan)']=Xstan[:,1]\n",
    "dataStan['category']=y\n",
    "dataStan.head()"
   ]
  },
  {
   "cell_type": "markdown",
   "metadata": {
    "_uuid": "aae1e3d41a5eaf2e3881d470e45f32b670e14ece"
   },
   "source": [
    "We chose to standardize the input, since **SciKit-learn**'s LogisticRegression comes with a default L2 regularization."
   ]
  },
  {
   "cell_type": "code",
   "execution_count": 9,
   "metadata": {
    "_uuid": "3752a84158d746422f0052d2af3589852b73cd7d"
   },
   "outputs": [
    {
     "data": {
      "text/plain": [
       "(array([[ 0.11930949, -1.00023308]]), array([-2.18534787]))"
      ]
     },
     "execution_count": 9,
     "metadata": {},
     "output_type": "execute_result"
    }
   ],
   "source": [
    "logReg = LogisticRegression()\n",
    "logReg.fit(Xstan,y)\n",
    "logReg.coef_, logReg.intercept_"
   ]
  },
  {
   "cell_type": "markdown",
   "metadata": {
    "_uuid": "166de9db4a4ed14c64eddb375323735a4b714176"
   },
   "source": [
    "This means $\\theta_0=-2.17$, $\\theta_1=0.12$, and $\\theta_2=-0.99$.  \n",
    "To predict probablity $\\hat{p}$, we have: $\\hat{p}=\\sigma(\\theta_0 + \\theta_1 x_1 + \\theta_2 x_2)$. <br/>\n",
    "The following function will output the probability of class 0 (1-$\\hat{p}$) and class 1 ($\\hat{p}$):"
   ]
  },
  {
   "cell_type": "markdown",
   "metadata": {},
   "source": [
    "$\\theta_0=-2.17$, $\\theta_1=0.12$, and $\\theta_2=-0.99$.  "
   ]
  },
  {
   "cell_type": "code",
   "execution_count": 10,
   "metadata": {
    "_uuid": "35faf7b3cf0d62c400bccefb7e1f75bce9ed8288"
   },
   "outputs": [
    {
     "data": {
      "text/plain": [
       "array([[0.96122702, 0.03877298],\n",
       "       [0.98506306, 0.01493694],\n",
       "       [0.97120498, 0.02879502],\n",
       "       ...,\n",
       "       [0.90240267, 0.09759733],\n",
       "       [0.95284354, 0.04715646],\n",
       "       [0.75532532, 0.24467468]])"
      ]
     },
     "execution_count": 10,
     "metadata": {},
     "output_type": "execute_result"
    }
   ],
   "source": [
    "logReg.predict_proba(Xstan)"
   ]
  },
  {
   "cell_type": "code",
   "execution_count": 11,
   "metadata": {},
   "outputs": [
    {
     "data": {
      "text/plain": [
       "0    1594\n",
       "1       5\n",
       "dtype: int64"
      ]
     },
     "execution_count": 11,
     "metadata": {},
     "output_type": "execute_result"
    }
   ],
   "source": [
    "pd.Series(logReg.predict(Xstan)).value_counts()"
   ]
  },
  {
   "cell_type": "code",
   "execution_count": 12,
   "metadata": {},
   "outputs": [
    {
     "data": {
      "text/plain": [
       "0    1594\n",
       "1       5\n",
       "dtype: int64"
      ]
     },
     "execution_count": 12,
     "metadata": {},
     "output_type": "execute_result"
    }
   ],
   "source": [
    "y_pred = logReg.predict(Xstan)\n",
    "pd.Series(logReg.predict(Xstan)).value_counts()"
   ]
  },
  {
   "cell_type": "code",
   "execution_count": 13,
   "metadata": {},
   "outputs": [
    {
     "data": {
      "text/plain": [
       "array([[0.96122702, 0.03877298],\n",
       "       [0.98506306, 0.01493694],\n",
       "       [0.97120498, 0.02879502],\n",
       "       ...,\n",
       "       [0.90240267, 0.09759733],\n",
       "       [0.95284354, 0.04715646],\n",
       "       [0.75532532, 0.24467468]])"
      ]
     },
     "execution_count": 13,
     "metadata": {},
     "output_type": "execute_result"
    }
   ],
   "source": [
    "y_proba = logReg.predict_proba(Xstan)\n",
    "y_proba "
   ]
  },
  {
   "cell_type": "code",
   "execution_count": 14,
   "metadata": {},
   "outputs": [
    {
     "data": {
      "text/plain": [
       "array([False, False, False, ..., False, False, False])"
      ]
     },
     "execution_count": 14,
     "metadata": {},
     "output_type": "execute_result"
    }
   ],
   "source": [
    "y_prob_pred = y_proba[:,1] >= 0.5\n",
    "y_prob_pred"
   ]
  },
  {
   "cell_type": "code",
   "execution_count": 15,
   "metadata": {},
   "outputs": [
    {
     "data": {
      "text/plain": [
       "False    1594\n",
       "True        5\n",
       "dtype: int64"
      ]
     },
     "execution_count": 15,
     "metadata": {},
     "output_type": "execute_result"
    }
   ],
   "source": [
    "pd.Series(y_prob_pred).value_counts()"
   ]
  },
  {
   "cell_type": "markdown",
   "metadata": {
    "_uuid": "5b7569082dd7b314a8ee1503002bb196005ece9c"
   },
   "source": [
    "The LogisticRegression method automaticlly chooses the class label that has the largest probability as the predicted label. In this simple 2-class prediction, logistic regression predicts $\\hat{y}=1$ if $\\hat{p} \\geq 0.5$, and $\\hat{y}=0$ if $\\hat{p} < 0.5$.  You can output the predicted labels as follows:"
   ]
  },
  {
   "cell_type": "markdown",
   "metadata": {},
   "source": [
    "### comparision"
   ]
  },
  {
   "cell_type": "code",
   "execution_count": 16,
   "metadata": {
    "_uuid": "4a1b566b3c615ecab1404a24347a07ef5bc8af5f"
   },
   "outputs": [
    {
     "data": {
      "text/html": [
       "<div>\n",
       "<style scoped>\n",
       "    .dataframe tbody tr th:only-of-type {\n",
       "        vertical-align: middle;\n",
       "    }\n",
       "\n",
       "    .dataframe tbody tr th {\n",
       "        vertical-align: top;\n",
       "    }\n",
       "\n",
       "    .dataframe thead th {\n",
       "        text-align: right;\n",
       "    }\n",
       "</style>\n",
       "<table border=\"1\" class=\"dataframe\">\n",
       "  <thead>\n",
       "    <tr style=\"text-align: right;\">\n",
       "      <th></th>\n",
       "      <th>fixed acidity(stan)</th>\n",
       "      <th>volatile acidity(stan)</th>\n",
       "      <th>category</th>\n",
       "      <th>predict</th>\n",
       "    </tr>\n",
       "  </thead>\n",
       "  <tbody>\n",
       "    <tr>\n",
       "      <th>0</th>\n",
       "      <td>-0.528360</td>\n",
       "      <td>0.961877</td>\n",
       "      <td>0</td>\n",
       "      <td>0</td>\n",
       "    </tr>\n",
       "    <tr>\n",
       "      <th>1</th>\n",
       "      <td>-0.298547</td>\n",
       "      <td>1.967442</td>\n",
       "      <td>0</td>\n",
       "      <td>0</td>\n",
       "    </tr>\n",
       "    <tr>\n",
       "      <th>2</th>\n",
       "      <td>-0.298547</td>\n",
       "      <td>1.297065</td>\n",
       "      <td>0</td>\n",
       "      <td>0</td>\n",
       "    </tr>\n",
       "    <tr>\n",
       "      <th>3</th>\n",
       "      <td>1.654856</td>\n",
       "      <td>-1.384443</td>\n",
       "      <td>0</td>\n",
       "      <td>0</td>\n",
       "    </tr>\n",
       "    <tr>\n",
       "      <th>4</th>\n",
       "      <td>-0.528360</td>\n",
       "      <td>0.961877</td>\n",
       "      <td>0</td>\n",
       "      <td>0</td>\n",
       "    </tr>\n",
       "  </tbody>\n",
       "</table>\n",
       "</div>"
      ],
      "text/plain": [
       "   fixed acidity(stan)  volatile acidity(stan)  category  predict\n",
       "0            -0.528360                0.961877         0        0\n",
       "1            -0.298547                1.967442         0        0\n",
       "2            -0.298547                1.297065         0        0\n",
       "3             1.654856               -1.384443         0        0\n",
       "4            -0.528360                0.961877         0        0"
      ]
     },
     "execution_count": 16,
     "metadata": {},
     "output_type": "execute_result"
    }
   ],
   "source": [
    "yhat = logReg.predict(Xstan)\n",
    "dataStan['predict']=yhat\n",
    "dataStan.head()"
   ]
  },
  {
   "cell_type": "markdown",
   "metadata": {
    "_uuid": "65c9b095f174ba7f321d5c8dccdce5fa26ff92eb"
   },
   "source": [
    "Let's plot the descision boundary $\\theta^{T}\\cdot x=0$ of this predictor:"
   ]
  },
  {
   "cell_type": "code",
   "execution_count": 17,
   "metadata": {
    "_uuid": "e7aa64078081f4e7216f64f1945f7004e5eb8ed0"
   },
   "outputs": [
    {
     "data": {
      "image/png": "[encoded data removed]",
      "text/plain": [
       "<Figure size 360x360 with 1 Axes>"
      ]
     },
     "metadata": {
      "needs_background": "light"
     },
     "output_type": "display_data"
    }
   ],
   "source": [
    "sns.lmplot(x='fixed acidity(stan)',y='volatile acidity(stan)',hue='category',\n",
    "           data=dataStan, fit_reg=False, legend=False)\n",
    "x1stan = np.linspace(-2,5,num=50)\n",
    "theta1 = logReg.coef_[0][0]\n",
    "theta2 = logReg.coef_[0][1]\n",
    "theta0 = logReg.intercept_[0]\n",
    "x2stan = -(theta1*x1stan + theta0)/theta2\n",
    "plt.plot(x1stan,x2stan,marker='',linestyle='--', color='r',lw=2, label='decision boundary')\n",
    "plt.legend()\n",
    "plt.show()"
   ]
  },
  {
   "cell_type": "markdown",
   "metadata": {
    "_uuid": "7447b618bd4e17ee1d03dcd2d13936fed6093a3d"
   },
   "source": [
    "** This is, as expected, a pretty poor fit, since we only chose two variables to train the model**. But this simple illustration should give you a clear idea of what logistic regression does and how decision boundary is decided. Now we will move on to training with all variables. "
   ]
  },
  {
   "cell_type": "markdown",
   "metadata": {
    "_uuid": "24d3b17fc1ccdb2956452ed7321ca0af3c9689e4"
   },
   "source": [
    "##  Training with all variables. ROC curve and AUC.\n",
    "Now let's get serious and use logistic regression on all variables and see how the model performs."
   ]
  },
  {
   "cell_type": "code",
   "execution_count": 18,
   "metadata": {
    "_uuid": "e0fe6aa2d62dce76c7859c51ac26a73ab71b3392"
   },
   "outputs": [
    {
     "data": {
      "text/html": [
       "<div>\n",
       "<style scoped>\n",
       "    .dataframe tbody tr th:only-of-type {\n",
       "        vertical-align: middle;\n",
       "    }\n",
       "\n",
       "    .dataframe tbody tr th {\n",
       "        vertical-align: top;\n",
       "    }\n",
       "\n",
       "    .dataframe thead th {\n",
       "        text-align: right;\n",
       "    }\n",
       "</style>\n",
       "<table border=\"1\" class=\"dataframe\">\n",
       "  <thead>\n",
       "    <tr style=\"text-align: right;\">\n",
       "      <th></th>\n",
       "      <th>fixed acidity</th>\n",
       "      <th>volatile acidity</th>\n",
       "      <th>citric acid</th>\n",
       "      <th>residual sugar</th>\n",
       "      <th>chlorides</th>\n",
       "      <th>free sulfur dioxide</th>\n",
       "      <th>total sulfur dioxide</th>\n",
       "      <th>density</th>\n",
       "      <th>pH</th>\n",
       "      <th>sulphates</th>\n",
       "      <th>alcohol</th>\n",
       "      <th>quality</th>\n",
       "      <th>category</th>\n",
       "    </tr>\n",
       "  </thead>\n",
       "  <tbody>\n",
       "    <tr>\n",
       "      <th>0</th>\n",
       "      <td>7.4</td>\n",
       "      <td>0.70</td>\n",
       "      <td>0.00</td>\n",
       "      <td>1.9</td>\n",
       "      <td>0.076</td>\n",
       "      <td>11.0</td>\n",
       "      <td>34.0</td>\n",
       "      <td>0.9978</td>\n",
       "      <td>3.51</td>\n",
       "      <td>0.56</td>\n",
       "      <td>9.4</td>\n",
       "      <td>5</td>\n",
       "      <td>False</td>\n",
       "    </tr>\n",
       "    <tr>\n",
       "      <th>1</th>\n",
       "      <td>7.8</td>\n",
       "      <td>0.88</td>\n",
       "      <td>0.00</td>\n",
       "      <td>2.6</td>\n",
       "      <td>0.098</td>\n",
       "      <td>25.0</td>\n",
       "      <td>67.0</td>\n",
       "      <td>0.9968</td>\n",
       "      <td>3.20</td>\n",
       "      <td>0.68</td>\n",
       "      <td>9.8</td>\n",
       "      <td>5</td>\n",
       "      <td>False</td>\n",
       "    </tr>\n",
       "    <tr>\n",
       "      <th>2</th>\n",
       "      <td>7.8</td>\n",
       "      <td>0.76</td>\n",
       "      <td>0.04</td>\n",
       "      <td>2.3</td>\n",
       "      <td>0.092</td>\n",
       "      <td>15.0</td>\n",
       "      <td>54.0</td>\n",
       "      <td>0.9970</td>\n",
       "      <td>3.26</td>\n",
       "      <td>0.65</td>\n",
       "      <td>9.8</td>\n",
       "      <td>5</td>\n",
       "      <td>False</td>\n",
       "    </tr>\n",
       "    <tr>\n",
       "      <th>3</th>\n",
       "      <td>11.2</td>\n",
       "      <td>0.28</td>\n",
       "      <td>0.56</td>\n",
       "      <td>1.9</td>\n",
       "      <td>0.075</td>\n",
       "      <td>17.0</td>\n",
       "      <td>60.0</td>\n",
       "      <td>0.9980</td>\n",
       "      <td>3.16</td>\n",
       "      <td>0.58</td>\n",
       "      <td>9.8</td>\n",
       "      <td>6</td>\n",
       "      <td>False</td>\n",
       "    </tr>\n",
       "    <tr>\n",
       "      <th>4</th>\n",
       "      <td>7.4</td>\n",
       "      <td>0.70</td>\n",
       "      <td>0.00</td>\n",
       "      <td>1.9</td>\n",
       "      <td>0.076</td>\n",
       "      <td>11.0</td>\n",
       "      <td>34.0</td>\n",
       "      <td>0.9978</td>\n",
       "      <td>3.51</td>\n",
       "      <td>0.56</td>\n",
       "      <td>9.4</td>\n",
       "      <td>5</td>\n",
       "      <td>False</td>\n",
       "    </tr>\n",
       "  </tbody>\n",
       "</table>\n",
       "</div>"
      ],
      "text/plain": [
       "   fixed acidity  volatile acidity  citric acid  residual sugar  chlorides  \\\n",
       "0            7.4              0.70         0.00             1.9      0.076   \n",
       "1            7.8              0.88         0.00             2.6      0.098   \n",
       "2            7.8              0.76         0.04             2.3      0.092   \n",
       "3           11.2              0.28         0.56             1.9      0.075   \n",
       "4            7.4              0.70         0.00             1.9      0.076   \n",
       "\n",
       "   free sulfur dioxide  total sulfur dioxide  density    pH  sulphates  \\\n",
       "0                 11.0                  34.0   0.9978  3.51       0.56   \n",
       "1                 25.0                  67.0   0.9968  3.20       0.68   \n",
       "2                 15.0                  54.0   0.9970  3.26       0.65   \n",
       "3                 17.0                  60.0   0.9980  3.16       0.58   \n",
       "4                 11.0                  34.0   0.9978  3.51       0.56   \n",
       "\n",
       "   alcohol  quality  category  \n",
       "0      9.4        5     False  \n",
       "1      9.8        5     False  \n",
       "2      9.8        5     False  \n",
       "3      9.8        6     False  \n",
       "4      9.4        5     False  "
      ]
     },
     "execution_count": 18,
     "metadata": {},
     "output_type": "execute_result"
    }
   ],
   "source": [
    "wineData.head()"
   ]
  },
  {
   "cell_type": "code",
   "execution_count": 42,
   "metadata": {
    "_uuid": "3e7adf60bcfa18f96c993233b2da8844de3e56a9"
   },
   "outputs": [],
   "source": [
    "X = wineData[wineData.columns[0:11]].values    #features\n",
    "y = wineData['category'].values.astype(np.int) #target\n",
    "\n",
    "scaler = StandardScaler()     #scalling databse feature\n",
    "Xstan = scaler.fit_transform(X)"
   ]
  },
  {
   "cell_type": "code",
   "execution_count": 43,
   "metadata": {
    "_uuid": "2302a516456cac1554e41d562826162b4ddfc7d0"
   },
   "outputs": [
    {
     "data": {
      "text/html": [
       "<div>\n",
       "<style scoped>\n",
       "    .dataframe tbody tr th:only-of-type {\n",
       "        vertical-align: middle;\n",
       "    }\n",
       "\n",
       "    .dataframe tbody tr th {\n",
       "        vertical-align: top;\n",
       "    }\n",
       "\n",
       "    .dataframe thead th {\n",
       "        text-align: right;\n",
       "    }\n",
       "</style>\n",
       "<table border=\"1\" class=\"dataframe\">\n",
       "  <thead>\n",
       "    <tr style=\"text-align: right;\">\n",
       "      <th></th>\n",
       "      <th>fixed acidity</th>\n",
       "      <th>volatile acidity</th>\n",
       "      <th>citric acid</th>\n",
       "      <th>residual sugar</th>\n",
       "      <th>chlorides</th>\n",
       "      <th>free sulfur dioxide</th>\n",
       "      <th>total sulfur dioxide</th>\n",
       "      <th>density</th>\n",
       "      <th>pH</th>\n",
       "      <th>sulphates</th>\n",
       "      <th>alcohol</th>\n",
       "      <th>category</th>\n",
       "    </tr>\n",
       "  </thead>\n",
       "  <tbody>\n",
       "    <tr>\n",
       "      <th>0</th>\n",
       "      <td>-0.528360</td>\n",
       "      <td>0.961877</td>\n",
       "      <td>-1.391472</td>\n",
       "      <td>-0.453218</td>\n",
       "      <td>-0.243707</td>\n",
       "      <td>-0.466193</td>\n",
       "      <td>-0.379133</td>\n",
       "      <td>0.558274</td>\n",
       "      <td>1.288643</td>\n",
       "      <td>-0.579207</td>\n",
       "      <td>-0.960246</td>\n",
       "      <td>0</td>\n",
       "    </tr>\n",
       "    <tr>\n",
       "      <th>1</th>\n",
       "      <td>-0.298547</td>\n",
       "      <td>1.967442</td>\n",
       "      <td>-1.391472</td>\n",
       "      <td>0.043416</td>\n",
       "      <td>0.223875</td>\n",
       "      <td>0.872638</td>\n",
       "      <td>0.624363</td>\n",
       "      <td>0.028261</td>\n",
       "      <td>-0.719933</td>\n",
       "      <td>0.128950</td>\n",
       "      <td>-0.584777</td>\n",
       "      <td>0</td>\n",
       "    </tr>\n",
       "    <tr>\n",
       "      <th>2</th>\n",
       "      <td>-0.298547</td>\n",
       "      <td>1.297065</td>\n",
       "      <td>-1.186070</td>\n",
       "      <td>-0.169427</td>\n",
       "      <td>0.096353</td>\n",
       "      <td>-0.083669</td>\n",
       "      <td>0.229047</td>\n",
       "      <td>0.134264</td>\n",
       "      <td>-0.331177</td>\n",
       "      <td>-0.048089</td>\n",
       "      <td>-0.584777</td>\n",
       "      <td>0</td>\n",
       "    </tr>\n",
       "    <tr>\n",
       "      <th>3</th>\n",
       "      <td>1.654856</td>\n",
       "      <td>-1.384443</td>\n",
       "      <td>1.484154</td>\n",
       "      <td>-0.453218</td>\n",
       "      <td>-0.264960</td>\n",
       "      <td>0.107592</td>\n",
       "      <td>0.411500</td>\n",
       "      <td>0.664277</td>\n",
       "      <td>-0.979104</td>\n",
       "      <td>-0.461180</td>\n",
       "      <td>-0.584777</td>\n",
       "      <td>1</td>\n",
       "    </tr>\n",
       "    <tr>\n",
       "      <th>4</th>\n",
       "      <td>-0.528360</td>\n",
       "      <td>0.961877</td>\n",
       "      <td>-1.391472</td>\n",
       "      <td>-0.453218</td>\n",
       "      <td>-0.243707</td>\n",
       "      <td>-0.466193</td>\n",
       "      <td>-0.379133</td>\n",
       "      <td>0.558274</td>\n",
       "      <td>1.288643</td>\n",
       "      <td>-0.579207</td>\n",
       "      <td>-0.960246</td>\n",
       "      <td>0</td>\n",
       "    </tr>\n",
       "  </tbody>\n",
       "</table>\n",
       "</div>"
      ],
      "text/plain": [
       "   fixed acidity  volatile acidity  citric acid  residual sugar  chlorides  \\\n",
       "0      -0.528360          0.961877    -1.391472       -0.453218  -0.243707   \n",
       "1      -0.298547          1.967442    -1.391472        0.043416   0.223875   \n",
       "2      -0.298547          1.297065    -1.186070       -0.169427   0.096353   \n",
       "3       1.654856         -1.384443     1.484154       -0.453218  -0.264960   \n",
       "4      -0.528360          0.961877    -1.391472       -0.453218  -0.243707   \n",
       "\n",
       "   free sulfur dioxide  total sulfur dioxide   density        pH  sulphates  \\\n",
       "0            -0.466193             -0.379133  0.558274  1.288643  -0.579207   \n",
       "1             0.872638              0.624363  0.028261 -0.719933   0.128950   \n",
       "2            -0.083669              0.229047  0.134264 -0.331177  -0.048089   \n",
       "3             0.107592              0.411500  0.664277 -0.979104  -0.461180   \n",
       "4            -0.466193             -0.379133  0.558274  1.288643  -0.579207   \n",
       "\n",
       "    alcohol  category  \n",
       "0 -0.960246         0  \n",
       "1 -0.584777         0  \n",
       "2 -0.584777         0  \n",
       "3 -0.584777         1  \n",
       "4 -0.960246         0  "
      ]
     },
     "execution_count": 43,
     "metadata": {},
     "output_type": "execute_result"
    }
   ],
   "source": [
    "# save the standardized data for plotting\n",
    "dataStan=pd.DataFrame(data = Xstan, columns = wineData.columns[0:11])\n",
    "dataStan['category']=y\n",
    "dataStan.head()"
   ]
  },
  {
   "cell_type": "code",
   "execution_count": 44,
   "metadata": {
    "_uuid": "0c49e16885f08b58ae9ebea7b9432e668c21d7dd"
   },
   "outputs": [
    {
     "data": {
      "text/plain": [
       "(array([ 0.66442317,  0.71874285, -1.38316602]),\n",
       " array([[-0.24606429,  0.4610216 ,  0.11687615, -0.12348027,  0.21393184,\n",
       "         -0.16523298,  0.44829069,  0.16662453,  0.02688159, -0.43410725,\n",
       "         -0.74334566],\n",
       "        [-0.08634793, -0.08304973, -0.15554726, -0.10287465,  0.07335224,\n",
       "          0.07372289, -0.05581244,  0.16024679, -0.03830873, -0.03472058,\n",
       "          0.09238194],\n",
       "        [ 0.33241222, -0.37797187,  0.03867111,  0.22635492, -0.28728409,\n",
       "          0.09151009, -0.39247825, -0.32687133,  0.01142714,  0.46882783,\n",
       "          0.65096371]]))"
      ]
     },
     "execution_count": 44,
     "metadata": {},
     "output_type": "execute_result"
    }
   ],
   "source": [
    "# fit model\n",
    "logReg = LogisticRegression()\n",
    "logReg.fit(Xstan,y)\n",
    "logReg.intercept_, logReg.coef_"
   ]
  },
  {
   "cell_type": "markdown",
   "metadata": {
    "_uuid": "689dc55833ecd4dbca149b258927d635a9e5b54c"
   },
   "source": [
    "How well does the prediction work on the training set? We will calculate several measures here:\n",
    "* **P - # of condition positives of prediction 1**\n",
    "* **N - # of condition negatives of prediction 0**\n",
    "* **TP - # of true positives (thực tế) nó là 1 thật** \n",
    "* **TN - # of true negatives (thực tế) nó là 0 thật**\n",
    "* **FP - # of false positives (thực tế) nó là 0 nhưng mình đoán là 1**\n",
    "* **FN - # of false negatives (thực tế) nó là 1 nhưng mình đoán là 0**\n",
    "\n",
    "**Precision**: TP/(TP + FP), among all the predicted positives, how many are actually positive? <br/>\n",
    "**True Positve Rate (TPR)/sensitivity**: TP/P, among all the condition positives, how many are predicted positive? <br/>\n",
    "**Accuracy**: (TP + TN)/(P + N), among all samples, how many were correctly predicted? <br/>\n",
    "**False Potivie Rate (FPR)**: FP/N, among all the condition negatives, how many were incorrectly predicted as positive? <br/>\n",
    "\n",
    "For more details, see https://en.wikipedia.org/wiki/Confusion_matrix\n",
    "\n",
    "![](https://2.bp.blogspot.com/-EvSXDotTOwc/XMfeOGZ-CVI/AAAAAAAAEiE/oePFfvhfOQM11dgRn9FkPxlegCXbgOF4QCLcBGAs/s1600/confusionMatrxiUpdated.jpg)\n",
    "# "
   ]
  },
  {
   "cell_type": "markdown",
   "metadata": {},
   "source": [
    "||Prediction||\n",
    "|-|-|-|\n",
    "|Real\\Prediction|1|0|\n",
    "|1|TP|EN|\n",
    "|0|FP|TN|\n"
   ]
  },
  {
   "cell_type": "markdown",
   "metadata": {},
   "source": [
    "Confusion matrix ma trận nhầm lẫn"
   ]
  },
  {
   "cell_type": "code",
   "execution_count": 52,
   "metadata": {
    "_uuid": "e4b4444982f0263c2bd7177f2f19dcd49714da4e"
   },
   "outputs": [
    {
     "data": {
      "text/html": [
       "<div>\n",
       "<style scoped>\n",
       "    .dataframe tbody tr th:only-of-type {\n",
       "        vertical-align: middle;\n",
       "    }\n",
       "\n",
       "    .dataframe tbody tr th {\n",
       "        vertical-align: top;\n",
       "    }\n",
       "\n",
       "    .dataframe thead th {\n",
       "        text-align: right;\n",
       "    }\n",
       "</style>\n",
       "<table border=\"1\" class=\"dataframe\">\n",
       "  <thead>\n",
       "    <tr style=\"text-align: right;\">\n",
       "      <th></th>\n",
       "      <th>fixed acidity</th>\n",
       "      <th>volatile acidity</th>\n",
       "      <th>citric acid</th>\n",
       "      <th>residual sugar</th>\n",
       "      <th>chlorides</th>\n",
       "      <th>free sulfur dioxide</th>\n",
       "      <th>total sulfur dioxide</th>\n",
       "      <th>density</th>\n",
       "      <th>pH</th>\n",
       "      <th>sulphates</th>\n",
       "      <th>alcohol</th>\n",
       "      <th>category</th>\n",
       "      <th>predict</th>\n",
       "    </tr>\n",
       "  </thead>\n",
       "  <tbody>\n",
       "    <tr>\n",
       "      <th>0</th>\n",
       "      <td>-0.528360</td>\n",
       "      <td>0.961877</td>\n",
       "      <td>-1.391472</td>\n",
       "      <td>-0.453218</td>\n",
       "      <td>-0.243707</td>\n",
       "      <td>-0.466193</td>\n",
       "      <td>-0.379133</td>\n",
       "      <td>0.558274</td>\n",
       "      <td>1.288643</td>\n",
       "      <td>-0.579207</td>\n",
       "      <td>-0.960246</td>\n",
       "      <td>0</td>\n",
       "      <td>0</td>\n",
       "    </tr>\n",
       "    <tr>\n",
       "      <th>1</th>\n",
       "      <td>-0.298547</td>\n",
       "      <td>1.967442</td>\n",
       "      <td>-1.391472</td>\n",
       "      <td>0.043416</td>\n",
       "      <td>0.223875</td>\n",
       "      <td>0.872638</td>\n",
       "      <td>0.624363</td>\n",
       "      <td>0.028261</td>\n",
       "      <td>-0.719933</td>\n",
       "      <td>0.128950</td>\n",
       "      <td>-0.584777</td>\n",
       "      <td>0</td>\n",
       "      <td>0</td>\n",
       "    </tr>\n",
       "    <tr>\n",
       "      <th>2</th>\n",
       "      <td>-0.298547</td>\n",
       "      <td>1.297065</td>\n",
       "      <td>-1.186070</td>\n",
       "      <td>-0.169427</td>\n",
       "      <td>0.096353</td>\n",
       "      <td>-0.083669</td>\n",
       "      <td>0.229047</td>\n",
       "      <td>0.134264</td>\n",
       "      <td>-0.331177</td>\n",
       "      <td>-0.048089</td>\n",
       "      <td>-0.584777</td>\n",
       "      <td>0</td>\n",
       "      <td>0</td>\n",
       "    </tr>\n",
       "    <tr>\n",
       "      <th>3</th>\n",
       "      <td>1.654856</td>\n",
       "      <td>-1.384443</td>\n",
       "      <td>1.484154</td>\n",
       "      <td>-0.453218</td>\n",
       "      <td>-0.264960</td>\n",
       "      <td>0.107592</td>\n",
       "      <td>0.411500</td>\n",
       "      <td>0.664277</td>\n",
       "      <td>-0.979104</td>\n",
       "      <td>-0.461180</td>\n",
       "      <td>-0.584777</td>\n",
       "      <td>1</td>\n",
       "      <td>0</td>\n",
       "    </tr>\n",
       "    <tr>\n",
       "      <th>4</th>\n",
       "      <td>-0.528360</td>\n",
       "      <td>0.961877</td>\n",
       "      <td>-1.391472</td>\n",
       "      <td>-0.453218</td>\n",
       "      <td>-0.243707</td>\n",
       "      <td>-0.466193</td>\n",
       "      <td>-0.379133</td>\n",
       "      <td>0.558274</td>\n",
       "      <td>1.288643</td>\n",
       "      <td>-0.579207</td>\n",
       "      <td>-0.960246</td>\n",
       "      <td>0</td>\n",
       "      <td>0</td>\n",
       "    </tr>\n",
       "  </tbody>\n",
       "</table>\n",
       "</div>"
      ],
      "text/plain": [
       "   fixed acidity  volatile acidity  citric acid  residual sugar  chlorides  \\\n",
       "0      -0.528360          0.961877    -1.391472       -0.453218  -0.243707   \n",
       "1      -0.298547          1.967442    -1.391472        0.043416   0.223875   \n",
       "2      -0.298547          1.297065    -1.186070       -0.169427   0.096353   \n",
       "3       1.654856         -1.384443     1.484154       -0.453218  -0.264960   \n",
       "4      -0.528360          0.961877    -1.391472       -0.453218  -0.243707   \n",
       "\n",
       "   free sulfur dioxide  total sulfur dioxide   density        pH  sulphates  \\\n",
       "0            -0.466193             -0.379133  0.558274  1.288643  -0.579207   \n",
       "1             0.872638              0.624363  0.028261 -0.719933   0.128950   \n",
       "2            -0.083669              0.229047  0.134264 -0.331177  -0.048089   \n",
       "3             0.107592              0.411500  0.664277 -0.979104  -0.461180   \n",
       "4            -0.466193             -0.379133  0.558274  1.288643  -0.579207   \n",
       "\n",
       "    alcohol  category  predict  \n",
       "0 -0.960246         0        0  \n",
       "1 -0.584777         0        0  \n",
       "2 -0.584777         0        0  \n",
       "3 -0.584777         1        0  \n",
       "4 -0.960246         0        0  "
      ]
     },
     "execution_count": 52,
     "metadata": {},
     "output_type": "execute_result"
    }
   ],
   "source": [
    "yhat = logReg.predict(Xstan)\n",
    "dataStan['predict'] = yhat\n",
    "dataStan.head()"
   ]
  },
  {
   "cell_type": "code",
   "execution_count": 53,
   "metadata": {},
   "outputs": [
    {
     "data": {
      "text/plain": [
       "True     1022\n",
       "False     577\n",
       "dtype: int64"
      ]
     },
     "execution_count": 53,
     "metadata": {},
     "output_type": "execute_result"
    }
   ],
   "source": [
    "acc = dataStan['category'] == dataStan['predict']\n",
    "acc.value_counts()"
   ]
  },
  {
   "cell_type": "code",
   "execution_count": 55,
   "metadata": {},
   "outputs": [
    {
     "data": {
      "text/plain": [
       "0.6391494684177611"
      ]
     },
     "execution_count": 55,
     "metadata": {},
     "output_type": "execute_result"
    }
   ],
   "source": [
    "acc.value_counts().max()/len(acc)"
   ]
  },
  {
   "cell_type": "code",
   "execution_count": 56,
   "metadata": {
    "_uuid": "40dc0e057d5f2ad76c38972bc31fc3e1098a554d"
   },
   "outputs": [],
   "source": [
    "TP = np.sum([(c==1 and p==1) for c,p in zip(dataStan['category'].values,dataStan['predict'].values)])\n",
    "TN = np.sum([(c==0 and p==0) for c,p in zip(dataStan['category'].values,dataStan['predict'].values)])\n",
    "FP = np.sum([(c==0 and p==1) for c,p in zip(dataStan['category'].values,dataStan['predict'].values)])\n",
    "FN = np.sum([(c==1 and p==0) for c,p in zip(dataStan['category'].values,dataStan['predict'].values)])\n",
    "P = np.sum(dataStan['category'].values)\n",
    "N = len(dataStan['category'].values) - P"
   ]
  },
  {
   "cell_type": "code",
   "execution_count": 57,
   "metadata": {
    "_uuid": "ca67877c88da7ee1904df7badb50fddf53192e69"
   },
   "outputs": [
    {
     "name": "stdout",
     "output_type": "stream",
     "text": [
      "Precision is  0.6994219653179191\n",
      "True positive rate is  0.33861940298507465\n",
      "Accuracy is  0.5897435897435898\n",
      "False positive rate is  0.29601518026565465\n"
     ]
    }
   ],
   "source": [
    "print('Precision is ',TP/(TP + FP))\n",
    "print('True positive rate is ',TP/P)\n",
    "print('Accuracy is ', (TP+TN)/(P+N))\n",
    "print('False positive rate is ', FP/N)"
   ]
  },
  {
   "cell_type": "markdown",
   "metadata": {
    "_uuid": "056a01722e2457b214c133c41bd2c485abef2b48"
   },
   "source": [
    "* First of all, accuracy is 88.4%, meaning 88.4% of the samples are correctly predicted. \n",
    "* False positve rate is 3.1%, meaning most of the condition negatives were correctly predicted. \n",
    "* True positive rate is only 34.6%, meaning large proportion of condition positives were misclassified. \n",
    "* This did not affect accuracy too much due to the fact that the total number of condition positives (P) is relatively small (217 out of 1599 samples). \n",
    "* Precision is 63.6%, meaning among all the predicted positives (118), only 63.6% of them are actually positives.\n",
    "* Now, all of above are based on a threshold of 0.5, meaning the predictor predicts 1 if $\\hat{p} \\geq 0.5$. But this threshold can be changed and all of the above measures will change accordingly. We can print out the predicted probability of class one as follows:"
   ]
  },
  {
   "cell_type": "markdown",
   "metadata": {},
   "source": [
    "TP: True Positive: đoán đúng là 1 và KQ là 1\n",
    "TN: True Negative: Đoán đúng là 0 và kết quả là 0\n",
    "FP: đoán là 1 nhưng kết quả là 0\n",
    "FN: đoán là 0 nhưng kết quả là 1\n"
   ]
  },
  {
   "cell_type": "code",
   "execution_count": 60,
   "metadata": {
    "_uuid": "69068fd73fdede5e69e24e6afd49f41ac6a8e451"
   },
   "outputs": [
    {
     "name": "stdout",
     "output_type": "stream",
     "text": [
      "[0.23192073 0.22799114 0.26363647 ... 0.67135847 0.47325316 0.55550829]\n"
     ]
    }
   ],
   "source": [
    "phat = logReg.predict_proba(Xstan)[:,1]\n",
    "print(phat)"
   ]
  },
  {
   "cell_type": "markdown",
   "metadata": {
    "_uuid": "97df0f0c930dd2948973ea51510554a8c35b7ef4"
   },
   "source": [
    "# Receiver Operating Characteristic (ROC) Curve\n",
    "![](https://chrisalbon.com/images/machine_learning_flashcards/Receiver_Operating_Characteristic_print.png)\n",
    "We can vary the decision threshold between [0, 1], and calculate the true positive rate and false positive rate for each threshold. A plot of such (TPR, FPR) pairs is called an **receiver operating characteristic(ROC) curve**. Let's plot this curve for our current predictor:"
   ]
  },
  {
   "cell_type": "code",
   "execution_count": 61,
   "metadata": {
    "_uuid": "ba46ac5c8906f199d11f82507827b1a66e9b7e8c"
   },
   "outputs": [],
   "source": [
    "from sklearn.metrics import roc_curve"
   ]
  },
  {
   "cell_type": "code",
   "execution_count": 62,
   "metadata": {
    "_uuid": "fa8f390b0c033061aafbe81a9d525e9b47db183a"
   },
   "outputs": [
    {
     "ename": "ValueError",
     "evalue": "multiclass format is not supported",
     "output_type": "error",
     "traceback": [
      "\u001b[0;31m---------------------------------------------------------------------------\u001b[0m",
      "\u001b[0;31mValueError\u001b[0m                                Traceback (most recent call last)",
      "\u001b[0;32m<ipython-input-62-42fe7a77f29c>\u001b[0m in \u001b[0;36m<module>\u001b[0;34m\u001b[0m\n\u001b[0;32m----> 1\u001b[0;31m \u001b[0mfpr\u001b[0m\u001b[0;34m,\u001b[0m \u001b[0mtpr\u001b[0m\u001b[0;34m,\u001b[0m \u001b[0mthresholds\u001b[0m \u001b[0;34m=\u001b[0m \u001b[0mroc_curve\u001b[0m\u001b[0;34m(\u001b[0m\u001b[0mdataStan\u001b[0m\u001b[0;34m[\u001b[0m\u001b[0;34m'category'\u001b[0m\u001b[0;34m]\u001b[0m\u001b[0;34m.\u001b[0m\u001b[0mvalues\u001b[0m\u001b[0;34m,\u001b[0m \u001b[0mphat\u001b[0m\u001b[0;34m)\u001b[0m\u001b[0;34m\u001b[0m\u001b[0;34m\u001b[0m\u001b[0m\n\u001b[0m\u001b[1;32m      2\u001b[0m \u001b[0mplt\u001b[0m\u001b[0;34m.\u001b[0m\u001b[0mplot\u001b[0m\u001b[0;34m(\u001b[0m\u001b[0mfpr\u001b[0m\u001b[0;34m,\u001b[0m \u001b[0mtpr\u001b[0m\u001b[0;34m)\u001b[0m\u001b[0;34m\u001b[0m\u001b[0;34m\u001b[0m\u001b[0m\n\u001b[1;32m      3\u001b[0m \u001b[0mplt\u001b[0m\u001b[0;34m.\u001b[0m\u001b[0mplot\u001b[0m\u001b[0;34m(\u001b[0m\u001b[0mFP\u001b[0m\u001b[0;34m/\u001b[0m\u001b[0mN\u001b[0m\u001b[0;34m,\u001b[0m \u001b[0mTP\u001b[0m\u001b[0;34m/\u001b[0m\u001b[0mP\u001b[0m\u001b[0;34m,\u001b[0m \u001b[0mmarker\u001b[0m\u001b[0;34m=\u001b[0m\u001b[0;34m'o'\u001b[0m\u001b[0;34m,\u001b[0m \u001b[0mms\u001b[0m \u001b[0;34m=\u001b[0m \u001b[0;36m8\u001b[0m\u001b[0;34m,\u001b[0m \u001b[0mcolor\u001b[0m \u001b[0;34m=\u001b[0m \u001b[0;34m'red'\u001b[0m\u001b[0;34m,\u001b[0m \u001b[0mlabel\u001b[0m \u001b[0;34m=\u001b[0m \u001b[0;34m'thresh. = 0.5'\u001b[0m\u001b[0;34m)\u001b[0m\u001b[0;34m\u001b[0m\u001b[0;34m\u001b[0m\u001b[0m\n\u001b[1;32m      4\u001b[0m \u001b[0mx\u001b[0m \u001b[0;34m=\u001b[0m \u001b[0mnp\u001b[0m\u001b[0;34m.\u001b[0m\u001b[0mlinspace\u001b[0m\u001b[0;34m(\u001b[0m\u001b[0;36m0\u001b[0m\u001b[0;34m,\u001b[0m\u001b[0;36m1\u001b[0m\u001b[0;34m,\u001b[0m\u001b[0mnum\u001b[0m\u001b[0;34m=\u001b[0m\u001b[0;36m50\u001b[0m\u001b[0;34m)\u001b[0m\u001b[0;34m\u001b[0m\u001b[0;34m\u001b[0m\u001b[0m\n\u001b[1;32m      5\u001b[0m \u001b[0mplt\u001b[0m\u001b[0;34m.\u001b[0m\u001b[0mplot\u001b[0m\u001b[0;34m(\u001b[0m\u001b[0mx\u001b[0m\u001b[0;34m,\u001b[0m\u001b[0mx\u001b[0m\u001b[0;34m,\u001b[0m\u001b[0mcolor\u001b[0m\u001b[0;34m=\u001b[0m\u001b[0;34m'lightgrey'\u001b[0m\u001b[0;34m,\u001b[0m\u001b[0mlinestyle\u001b[0m\u001b[0;34m=\u001b[0m\u001b[0;34m'--'\u001b[0m\u001b[0;34m,\u001b[0m\u001b[0mmarker\u001b[0m\u001b[0;34m=\u001b[0m\u001b[0;34m''\u001b[0m\u001b[0;34m,\u001b[0m\u001b[0mlw\u001b[0m\u001b[0;34m=\u001b[0m\u001b[0;36m2\u001b[0m\u001b[0;34m,\u001b[0m\u001b[0mlabel\u001b[0m\u001b[0;34m=\u001b[0m\u001b[0;34m'random guess'\u001b[0m\u001b[0;34m)\u001b[0m\u001b[0;34m\u001b[0m\u001b[0;34m\u001b[0m\u001b[0m\n",
      "\u001b[0;32m/opt/anaconda3/lib/python3.8/site-packages/sklearn/metrics/_ranking.py\u001b[0m in \u001b[0;36mroc_curve\u001b[0;34m(y_true, y_score, pos_label, sample_weight, drop_intermediate)\u001b[0m\n\u001b[1;32m    748\u001b[0m \u001b[0;34m\u001b[0m\u001b[0m\n\u001b[1;32m    749\u001b[0m     \"\"\"\n\u001b[0;32m--> 750\u001b[0;31m     fps, tps, thresholds = _binary_clf_curve(\n\u001b[0m\u001b[1;32m    751\u001b[0m         y_true, y_score, pos_label=pos_label, sample_weight=sample_weight)\n\u001b[1;32m    752\u001b[0m \u001b[0;34m\u001b[0m\u001b[0m\n",
      "\u001b[0;32m/opt/anaconda3/lib/python3.8/site-packages/sklearn/metrics/_ranking.py\u001b[0m in \u001b[0;36m_binary_clf_curve\u001b[0;34m(y_true, y_score, pos_label, sample_weight)\u001b[0m\n\u001b[1;32m    514\u001b[0m     if not (y_type == \"binary\" or\n\u001b[1;32m    515\u001b[0m             (y_type == \"multiclass\" and pos_label is not None)):\n\u001b[0;32m--> 516\u001b[0;31m         \u001b[0;32mraise\u001b[0m \u001b[0mValueError\u001b[0m\u001b[0;34m(\u001b[0m\u001b[0;34m\"{0} format is not supported\"\u001b[0m\u001b[0;34m.\u001b[0m\u001b[0mformat\u001b[0m\u001b[0;34m(\u001b[0m\u001b[0my_type\u001b[0m\u001b[0;34m)\u001b[0m\u001b[0;34m)\u001b[0m\u001b[0;34m\u001b[0m\u001b[0;34m\u001b[0m\u001b[0m\n\u001b[0m\u001b[1;32m    517\u001b[0m \u001b[0;34m\u001b[0m\u001b[0m\n\u001b[1;32m    518\u001b[0m     \u001b[0mcheck_consistent_length\u001b[0m\u001b[0;34m(\u001b[0m\u001b[0my_true\u001b[0m\u001b[0;34m,\u001b[0m \u001b[0my_score\u001b[0m\u001b[0;34m,\u001b[0m \u001b[0msample_weight\u001b[0m\u001b[0;34m)\u001b[0m\u001b[0;34m\u001b[0m\u001b[0;34m\u001b[0m\u001b[0m\n",
      "\u001b[0;31mValueError\u001b[0m: multiclass format is not supported"
     ]
    }
   ],
   "source": [
    "fpr, tpr, thresholds = roc_curve(dataStan['category'].values, phat)\n",
    "plt.plot(fpr, tpr)\n",
    "plt.plot(FP/N, TP/P, marker='o', ms = 8, color = 'red', label = 'thresh. = 0.5')\n",
    "x = np.linspace(0,1,num=50)\n",
    "plt.plot(x,x,color='lightgrey',linestyle='--',marker='',lw=2,label='random guess')\n",
    "plt.legend(fontsize = 14)\n",
    "plt.xlabel('False positive rate', fontsize = 18)\n",
    "plt.ylabel('True positive rate', fontsize = 18)\n",
    "plt.xlim(0,1)\n",
    "plt.ylim(0,1)\n",
    "plt.show()"
   ]
  },
  {
   "cell_type": "markdown",
   "metadata": {
    "_uuid": "5173d6c0ddd3f703c360d284d1c3af3bc1a5a762"
   },
   "source": [
    "Some intuitive understanding of the curve:\n",
    "* When threshold = 0, all samples are predicted to be positive -> FPR = TPR = 1.\n",
    "* When threshold = 1, all samples are predicted to be negative -> FPR = TPR = 0.\n",
    "* Random guess gives the diagonal curve. Models with ROC curve should be above the random guess to be considered good.\n",
    "* The ideal case would be the top left corner, where FPR = 0, TPR = 1. Therefore the closer the ROC curve to the top left corner, the better.\n",
    "\n",
    "![](https://images.squarespace-cdn.com/content/v1/55dbfccee4b08731143170b6/1539363519175-TKJ6SFKJAD3QTPIQ1COQ/ke17ZwdGBToddI8pDm48kCnSkN-eXZSR5YvvB_R36KhZw-zPPgdn4jUwVcJE1ZvWQUxwkmyExglNqGp0IvTJZUJFbgE-7XRK3dMEBRBhUpyvTRJqce8tcz4gYQhIzwn4wxbYWGTPJQiVcKj2YF2g9RpcCrSKkdUlrE-CdXP11Ig/Area_Under_The_Curve_web.png)\n",
    "\n",
    "Area under the curve (AUC) is a measure of how good the model is. The closer AUC to 1, the better. The AUC for this model is:"
   ]
  },
  {
   "cell_type": "code",
   "execution_count": 63,
   "metadata": {
    "_uuid": "6cf61415916a01e68052fe28f107907c0b46df93"
   },
   "outputs": [],
   "source": [
    "from sklearn.metrics import auc"
   ]
  },
  {
   "cell_type": "code",
   "execution_count": 64,
   "metadata": {
    "_uuid": "dd28fc1419e9b858b7aa18c3a9b62e167047ba99",
    "scrolled": true
   },
   "outputs": [
    {
     "name": "stdout",
     "output_type": "stream",
     "text": [
      "AUC is:  0.8822784050364463\n"
     ]
    }
   ],
   "source": [
    "print('AUC is: ', auc(fpr,tpr))"
   ]
  },
  {
   "cell_type": "markdown",
   "metadata": {},
   "source": [
    "## Cummulative Gain Curve\n",
    "![](https://miro.medium.com/max/1176/1*0we_fejdz1xb0DapowkPdQ.png)"
   ]
  },
  {
   "cell_type": "markdown",
   "metadata": {},
   "source": [
    "# Softmax Regression\n",
    "![](https://machinelearningcoban.com/assets/13_softmax/softmax_nn.png)"
   ]
  },
  {
   "cell_type": "markdown",
   "metadata": {
    "_uuid": "7466d7284984d6bcda0f0160f2ef1d86cbd1dbfe"
   },
   "source": [
    "# Softmax Regression\n",
    "Softmax regression is used when there are more than two classes (0 and 1) to classify. For each class k, there is a vector of parameters $\\vec{\\theta}_k$. The softmax score for a sample $\\vec{x}$ is $s_k(\\vec{x})=\\vec{\\theta}_k^T \\cdot \\vec{x}$. The probability of sample $\\vec{x}$ being in class k is:  <br/>\n",
    "<center>\n",
    "$\\hat{p}_k=\\sigma(\\vec{s}(\\vec{x}))_k=\\frac{exp(s_k(\\vec{x}))}{\\sum_{j=1}^K exp(s_j(\\vec{x}))}$\n",
    "</center>\n",
    "Where $K$ is the total number of possible classes. The $\\sigma (\\vec{s})$ function is called a softmax function. Softmax regression takes the class that has the highest probability $\\hat{p}$ as the predicted class. <br/>\n",
    "While training, the cost function is the **cross entropy**:\n",
    "<center>\n",
    "$J(\\mathbf{\\Theta})=-\\frac{1}{m}\\sum^{m}_{i=1}\\sum^{K}_{k=1}y_k^{(i)}log(\\hat{p}_k^{(i)})$\n",
    "</center>\n",
    "Where $y_k^{(i)}=1$ if sample i belongs to class k, and $y_k^{(i)}=0$ otherwise. Cross entrop becomes equivalent to log loss when K=2. The gradient vector of cross entropy for class k is:\n",
    "<center>\n",
    "    $ \\nabla_{\\vec{\\theta}_k}J(\\mathbf{\\Theta})=\\frac{1}{m}\\sum^{m}_{i=1}(\\hat{p_k}^{(i)}-y_k^{(i)})\\vec{x}^{(i)}$\n",
    "</center>\n",
    "Note that unlike previous cases, $\\vec{\\theta}_k$ is a vector, and $\\mathbf{\\Theta}$ is a matrix. If you are interested in deriving this, first derive $\\partial \\hat{p}_k/\\partial \\vec{\\theta_k}$, then derive $\\partial \\hat{p}_l/\\partial \\vec{\\theta_k}, l\\neq k$. You will also need the trick $\\sum_{j=1}^{K}y_j^{(i)}=1$, since each sample is only asssigned one class. Knowing the derivation is helpful, but definitely not neccessary for this tutorial. If you are looking to getting better at derivations, learning [chain rule](https://en.wikipedia.org/wiki/Chain_rule) is definitely a good start."
   ]
  },
  {
   "cell_type": "markdown",
   "metadata": {
    "_uuid": "a74a888072e1b3c1c982a07b578a950732e4e3cf"
   },
   "source": [
    "Let's create a multi-class data by defining quality < 6 as 'poor' (0), quality = 6 as 'good' (1), and quality > 6 as 'great' (1): "
   ]
  },
  {
   "cell_type": "code",
   "execution_count": 31,
   "metadata": {
    "_uuid": "427d6762f0fa88ad325235cc06ed0a9d13374e52"
   },
   "outputs": [
    {
     "data": {
      "text/html": [
       "<div>\n",
       "<style scoped>\n",
       "    .dataframe tbody tr th:only-of-type {\n",
       "        vertical-align: middle;\n",
       "    }\n",
       "\n",
       "    .dataframe tbody tr th {\n",
       "        vertical-align: top;\n",
       "    }\n",
       "\n",
       "    .dataframe thead th {\n",
       "        text-align: right;\n",
       "    }\n",
       "</style>\n",
       "<table border=\"1\" class=\"dataframe\">\n",
       "  <thead>\n",
       "    <tr style=\"text-align: right;\">\n",
       "      <th></th>\n",
       "      <th>fixed acidity</th>\n",
       "      <th>volatile acidity</th>\n",
       "      <th>citric acid</th>\n",
       "      <th>residual sugar</th>\n",
       "      <th>chlorides</th>\n",
       "      <th>free sulfur dioxide</th>\n",
       "      <th>total sulfur dioxide</th>\n",
       "      <th>density</th>\n",
       "      <th>pH</th>\n",
       "      <th>sulphates</th>\n",
       "      <th>alcohol</th>\n",
       "      <th>quality</th>\n",
       "      <th>category</th>\n",
       "    </tr>\n",
       "  </thead>\n",
       "  <tbody>\n",
       "    <tr>\n",
       "      <th>0</th>\n",
       "      <td>7.4</td>\n",
       "      <td>0.70</td>\n",
       "      <td>0.00</td>\n",
       "      <td>1.9</td>\n",
       "      <td>0.076</td>\n",
       "      <td>11.0</td>\n",
       "      <td>34.0</td>\n",
       "      <td>0.9978</td>\n",
       "      <td>3.51</td>\n",
       "      <td>0.56</td>\n",
       "      <td>9.4</td>\n",
       "      <td>5</td>\n",
       "      <td>0</td>\n",
       "    </tr>\n",
       "    <tr>\n",
       "      <th>1</th>\n",
       "      <td>7.8</td>\n",
       "      <td>0.88</td>\n",
       "      <td>0.00</td>\n",
       "      <td>2.6</td>\n",
       "      <td>0.098</td>\n",
       "      <td>25.0</td>\n",
       "      <td>67.0</td>\n",
       "      <td>0.9968</td>\n",
       "      <td>3.20</td>\n",
       "      <td>0.68</td>\n",
       "      <td>9.8</td>\n",
       "      <td>5</td>\n",
       "      <td>0</td>\n",
       "    </tr>\n",
       "    <tr>\n",
       "      <th>2</th>\n",
       "      <td>7.8</td>\n",
       "      <td>0.76</td>\n",
       "      <td>0.04</td>\n",
       "      <td>2.3</td>\n",
       "      <td>0.092</td>\n",
       "      <td>15.0</td>\n",
       "      <td>54.0</td>\n",
       "      <td>0.9970</td>\n",
       "      <td>3.26</td>\n",
       "      <td>0.65</td>\n",
       "      <td>9.8</td>\n",
       "      <td>5</td>\n",
       "      <td>0</td>\n",
       "    </tr>\n",
       "    <tr>\n",
       "      <th>3</th>\n",
       "      <td>11.2</td>\n",
       "      <td>0.28</td>\n",
       "      <td>0.56</td>\n",
       "      <td>1.9</td>\n",
       "      <td>0.075</td>\n",
       "      <td>17.0</td>\n",
       "      <td>60.0</td>\n",
       "      <td>0.9980</td>\n",
       "      <td>3.16</td>\n",
       "      <td>0.58</td>\n",
       "      <td>9.8</td>\n",
       "      <td>6</td>\n",
       "      <td>1</td>\n",
       "    </tr>\n",
       "    <tr>\n",
       "      <th>4</th>\n",
       "      <td>7.4</td>\n",
       "      <td>0.70</td>\n",
       "      <td>0.00</td>\n",
       "      <td>1.9</td>\n",
       "      <td>0.076</td>\n",
       "      <td>11.0</td>\n",
       "      <td>34.0</td>\n",
       "      <td>0.9978</td>\n",
       "      <td>3.51</td>\n",
       "      <td>0.56</td>\n",
       "      <td>9.4</td>\n",
       "      <td>5</td>\n",
       "      <td>0</td>\n",
       "    </tr>\n",
       "  </tbody>\n",
       "</table>\n",
       "</div>"
      ],
      "text/plain": [
       "   fixed acidity  volatile acidity  citric acid  residual sugar  chlorides  \\\n",
       "0            7.4              0.70         0.00             1.9      0.076   \n",
       "1            7.8              0.88         0.00             2.6      0.098   \n",
       "2            7.8              0.76         0.04             2.3      0.092   \n",
       "3           11.2              0.28         0.56             1.9      0.075   \n",
       "4            7.4              0.70         0.00             1.9      0.076   \n",
       "\n",
       "   free sulfur dioxide  total sulfur dioxide  density    pH  sulphates  \\\n",
       "0                 11.0                  34.0   0.9978  3.51       0.56   \n",
       "1                 25.0                  67.0   0.9968  3.20       0.68   \n",
       "2                 15.0                  54.0   0.9970  3.26       0.65   \n",
       "3                 17.0                  60.0   0.9980  3.16       0.58   \n",
       "4                 11.0                  34.0   0.9978  3.51       0.56   \n",
       "\n",
       "   alcohol  quality  category  \n",
       "0      9.4        5         0  \n",
       "1      9.8        5         0  \n",
       "2      9.8        5         0  \n",
       "3      9.8        6         1  \n",
       "4      9.4        5         0  "
      ]
     },
     "execution_count": 31,
     "metadata": {},
     "output_type": "execute_result"
    }
   ],
   "source": [
    "c = []\n",
    "for q in wineData['quality'].values:\n",
    "    if q < 6:\n",
    "        c.append(0)\n",
    "    elif q > 6:\n",
    "        c.append(2)\n",
    "    else:\n",
    "        c.append(1)\n",
    "\n",
    "wineData['category'] = c\n",
    "wineData.head()"
   ]
  },
  {
   "cell_type": "markdown",
   "metadata": {
    "_uuid": "e1e12d116558776afc7db7e248349cbffebfae2e"
   },
   "source": [
    "## Training with all variables. Confustion matrix."
   ]
  },
  {
   "cell_type": "code",
   "execution_count": 32,
   "metadata": {
    "_uuid": "59ff63c0a3413e7303dfab0b457e6fe2dae23bea"
   },
   "outputs": [],
   "source": [
    "X = wineData[wineData.columns[0:11]].values\n",
    "y = wineData['category'].values\n",
    "\n",
    "scaler = StandardScaler()\n",
    "Xstan = scaler.fit_transform(X)"
   ]
  },
  {
   "cell_type": "code",
   "execution_count": 33,
   "metadata": {
    "_uuid": "fa17cedf0b884926a0c67d7bd99ef639cf20c088"
   },
   "outputs": [
    {
     "data": {
      "text/html": [
       "<div>\n",
       "<style scoped>\n",
       "    .dataframe tbody tr th:only-of-type {\n",
       "        vertical-align: middle;\n",
       "    }\n",
       "\n",
       "    .dataframe tbody tr th {\n",
       "        vertical-align: top;\n",
       "    }\n",
       "\n",
       "    .dataframe thead th {\n",
       "        text-align: right;\n",
       "    }\n",
       "</style>\n",
       "<table border=\"1\" class=\"dataframe\">\n",
       "  <thead>\n",
       "    <tr style=\"text-align: right;\">\n",
       "      <th></th>\n",
       "      <th>fixed acidity</th>\n",
       "      <th>volatile acidity</th>\n",
       "      <th>citric acid</th>\n",
       "      <th>residual sugar</th>\n",
       "      <th>chlorides</th>\n",
       "      <th>free sulfur dioxide</th>\n",
       "      <th>total sulfur dioxide</th>\n",
       "      <th>density</th>\n",
       "      <th>pH</th>\n",
       "      <th>sulphates</th>\n",
       "      <th>alcohol</th>\n",
       "      <th>category</th>\n",
       "    </tr>\n",
       "  </thead>\n",
       "  <tbody>\n",
       "    <tr>\n",
       "      <th>0</th>\n",
       "      <td>-0.528360</td>\n",
       "      <td>0.961877</td>\n",
       "      <td>-1.391472</td>\n",
       "      <td>-0.453218</td>\n",
       "      <td>-0.243707</td>\n",
       "      <td>-0.466193</td>\n",
       "      <td>-0.379133</td>\n",
       "      <td>0.558274</td>\n",
       "      <td>1.288643</td>\n",
       "      <td>-0.579207</td>\n",
       "      <td>-0.960246</td>\n",
       "      <td>0</td>\n",
       "    </tr>\n",
       "    <tr>\n",
       "      <th>1</th>\n",
       "      <td>-0.298547</td>\n",
       "      <td>1.967442</td>\n",
       "      <td>-1.391472</td>\n",
       "      <td>0.043416</td>\n",
       "      <td>0.223875</td>\n",
       "      <td>0.872638</td>\n",
       "      <td>0.624363</td>\n",
       "      <td>0.028261</td>\n",
       "      <td>-0.719933</td>\n",
       "      <td>0.128950</td>\n",
       "      <td>-0.584777</td>\n",
       "      <td>0</td>\n",
       "    </tr>\n",
       "    <tr>\n",
       "      <th>2</th>\n",
       "      <td>-0.298547</td>\n",
       "      <td>1.297065</td>\n",
       "      <td>-1.186070</td>\n",
       "      <td>-0.169427</td>\n",
       "      <td>0.096353</td>\n",
       "      <td>-0.083669</td>\n",
       "      <td>0.229047</td>\n",
       "      <td>0.134264</td>\n",
       "      <td>-0.331177</td>\n",
       "      <td>-0.048089</td>\n",
       "      <td>-0.584777</td>\n",
       "      <td>0</td>\n",
       "    </tr>\n",
       "    <tr>\n",
       "      <th>3</th>\n",
       "      <td>1.654856</td>\n",
       "      <td>-1.384443</td>\n",
       "      <td>1.484154</td>\n",
       "      <td>-0.453218</td>\n",
       "      <td>-0.264960</td>\n",
       "      <td>0.107592</td>\n",
       "      <td>0.411500</td>\n",
       "      <td>0.664277</td>\n",
       "      <td>-0.979104</td>\n",
       "      <td>-0.461180</td>\n",
       "      <td>-0.584777</td>\n",
       "      <td>1</td>\n",
       "    </tr>\n",
       "    <tr>\n",
       "      <th>4</th>\n",
       "      <td>-0.528360</td>\n",
       "      <td>0.961877</td>\n",
       "      <td>-1.391472</td>\n",
       "      <td>-0.453218</td>\n",
       "      <td>-0.243707</td>\n",
       "      <td>-0.466193</td>\n",
       "      <td>-0.379133</td>\n",
       "      <td>0.558274</td>\n",
       "      <td>1.288643</td>\n",
       "      <td>-0.579207</td>\n",
       "      <td>-0.960246</td>\n",
       "      <td>0</td>\n",
       "    </tr>\n",
       "  </tbody>\n",
       "</table>\n",
       "</div>"
      ],
      "text/plain": [
       "   fixed acidity  volatile acidity  citric acid  residual sugar  chlorides  \\\n",
       "0      -0.528360          0.961877    -1.391472       -0.453218  -0.243707   \n",
       "1      -0.298547          1.967442    -1.391472        0.043416   0.223875   \n",
       "2      -0.298547          1.297065    -1.186070       -0.169427   0.096353   \n",
       "3       1.654856         -1.384443     1.484154       -0.453218  -0.264960   \n",
       "4      -0.528360          0.961877    -1.391472       -0.453218  -0.243707   \n",
       "\n",
       "   free sulfur dioxide  total sulfur dioxide   density        pH  sulphates  \\\n",
       "0            -0.466193             -0.379133  0.558274  1.288643  -0.579207   \n",
       "1             0.872638              0.624363  0.028261 -0.719933   0.128950   \n",
       "2            -0.083669              0.229047  0.134264 -0.331177  -0.048089   \n",
       "3             0.107592              0.411500  0.664277 -0.979104  -0.461180   \n",
       "4            -0.466193             -0.379133  0.558274  1.288643  -0.579207   \n",
       "\n",
       "    alcohol  category  \n",
       "0 -0.960246         0  \n",
       "1 -0.584777         0  \n",
       "2 -0.584777         0  \n",
       "3 -0.584777         1  \n",
       "4 -0.960246         0  "
      ]
     },
     "execution_count": 33,
     "metadata": {},
     "output_type": "execute_result"
    }
   ],
   "source": [
    "dataStan=pd.DataFrame(data = Xstan, columns = wineData.columns[0:11])\n",
    "dataStan['category']=y\n",
    "dataStan.head()"
   ]
  },
  {
   "cell_type": "markdown",
   "metadata": {
    "_uuid": "d8661b1191c5b3cba82ab7f045cd603d5fa17f9f"
   },
   "source": [
    "We will again use LogisticRegression from **scikit-learn**, but we need to set the multi_class parameter to \"multinomial\" in order for the function to carry out softmax regression.  We will also need a solver that supports softmax regression, such as solver='lbfgs'."
   ]
  },
  {
   "cell_type": "code",
   "execution_count": 34,
   "metadata": {
    "_uuid": "0cb1b580959447ee6f265e4aaf843c92215eb3c4"
   },
   "outputs": [
    {
     "data": {
      "text/plain": [
       "LogisticRegression(C=1.0, class_weight=None, dual=False, fit_intercept=True,\n",
       "                   intercept_scaling=1, l1_ratio=None, max_iter=100,\n",
       "                   multi_class='multinomial', n_jobs=None, penalty='l2',\n",
       "                   random_state=None, solver='lbfgs', tol=0.0001, verbose=0,\n",
       "                   warm_start=False)"
      ]
     },
     "execution_count": 34,
     "metadata": {},
     "output_type": "execute_result"
    }
   ],
   "source": [
    "softReg = LogisticRegression(multi_class = 'multinomial', solver = 'lbfgs')\n",
    "softReg.fit(Xstan,y)"
   ]
  },
  {
   "cell_type": "code",
   "execution_count": 35,
   "metadata": {
    "_uuid": "8af79926e5f48057f17d7a1621f277368ff3bdfa"
   },
   "outputs": [
    {
     "data": {
      "text/plain": [
       "(array([ 0.66442317,  0.71874285, -1.38316602]),\n",
       " array([[-0.24606429,  0.4610216 ,  0.11687615, -0.12348027,  0.21393184,\n",
       "         -0.16523298,  0.44829069,  0.16662453,  0.02688159, -0.43410725,\n",
       "         -0.74334566],\n",
       "        [-0.08634793, -0.08304973, -0.15554726, -0.10287465,  0.07335224,\n",
       "          0.07372289, -0.05581244,  0.16024679, -0.03830873, -0.03472058,\n",
       "          0.09238194],\n",
       "        [ 0.33241222, -0.37797187,  0.03867111,  0.22635492, -0.28728409,\n",
       "          0.09151009, -0.39247825, -0.32687133,  0.01142714,  0.46882783,\n",
       "          0.65096371]]))"
      ]
     },
     "execution_count": 35,
     "metadata": {},
     "output_type": "execute_result"
    }
   ],
   "source": [
    "softReg.intercept_,softReg.coef_"
   ]
  },
  {
   "cell_type": "markdown",
   "metadata": {
    "_uuid": "1d16f49876fe688eba5979334c1daba49dfece44"
   },
   "source": [
    "As you can see, since we have 3 classes now, The parameters ($\\Theta$) now contain three vectors of coefficients and three intercepts, one for each class."
   ]
  },
  {
   "cell_type": "code",
   "execution_count": 36,
   "metadata": {
    "_uuid": "5ca5fb16f5ba43e9b040e47337154405a7198836"
   },
   "outputs": [
    {
     "data": {
      "text/html": [
       "<div>\n",
       "<style scoped>\n",
       "    .dataframe tbody tr th:only-of-type {\n",
       "        vertical-align: middle;\n",
       "    }\n",
       "\n",
       "    .dataframe tbody tr th {\n",
       "        vertical-align: top;\n",
       "    }\n",
       "\n",
       "    .dataframe thead th {\n",
       "        text-align: right;\n",
       "    }\n",
       "</style>\n",
       "<table border=\"1\" class=\"dataframe\">\n",
       "  <thead>\n",
       "    <tr style=\"text-align: right;\">\n",
       "      <th></th>\n",
       "      <th>fixed acidity</th>\n",
       "      <th>volatile acidity</th>\n",
       "      <th>citric acid</th>\n",
       "      <th>residual sugar</th>\n",
       "      <th>chlorides</th>\n",
       "      <th>free sulfur dioxide</th>\n",
       "      <th>total sulfur dioxide</th>\n",
       "      <th>density</th>\n",
       "      <th>pH</th>\n",
       "      <th>sulphates</th>\n",
       "      <th>alcohol</th>\n",
       "      <th>category</th>\n",
       "      <th>predict</th>\n",
       "    </tr>\n",
       "  </thead>\n",
       "  <tbody>\n",
       "    <tr>\n",
       "      <th>0</th>\n",
       "      <td>-0.528360</td>\n",
       "      <td>0.961877</td>\n",
       "      <td>-1.391472</td>\n",
       "      <td>-0.453218</td>\n",
       "      <td>-0.243707</td>\n",
       "      <td>-0.466193</td>\n",
       "      <td>-0.379133</td>\n",
       "      <td>0.558274</td>\n",
       "      <td>1.288643</td>\n",
       "      <td>-0.579207</td>\n",
       "      <td>-0.960246</td>\n",
       "      <td>0</td>\n",
       "      <td>0</td>\n",
       "    </tr>\n",
       "    <tr>\n",
       "      <th>1</th>\n",
       "      <td>-0.298547</td>\n",
       "      <td>1.967442</td>\n",
       "      <td>-1.391472</td>\n",
       "      <td>0.043416</td>\n",
       "      <td>0.223875</td>\n",
       "      <td>0.872638</td>\n",
       "      <td>0.624363</td>\n",
       "      <td>0.028261</td>\n",
       "      <td>-0.719933</td>\n",
       "      <td>0.128950</td>\n",
       "      <td>-0.584777</td>\n",
       "      <td>0</td>\n",
       "      <td>0</td>\n",
       "    </tr>\n",
       "    <tr>\n",
       "      <th>2</th>\n",
       "      <td>-0.298547</td>\n",
       "      <td>1.297065</td>\n",
       "      <td>-1.186070</td>\n",
       "      <td>-0.169427</td>\n",
       "      <td>0.096353</td>\n",
       "      <td>-0.083669</td>\n",
       "      <td>0.229047</td>\n",
       "      <td>0.134264</td>\n",
       "      <td>-0.331177</td>\n",
       "      <td>-0.048089</td>\n",
       "      <td>-0.584777</td>\n",
       "      <td>0</td>\n",
       "      <td>0</td>\n",
       "    </tr>\n",
       "    <tr>\n",
       "      <th>3</th>\n",
       "      <td>1.654856</td>\n",
       "      <td>-1.384443</td>\n",
       "      <td>1.484154</td>\n",
       "      <td>-0.453218</td>\n",
       "      <td>-0.264960</td>\n",
       "      <td>0.107592</td>\n",
       "      <td>0.411500</td>\n",
       "      <td>0.664277</td>\n",
       "      <td>-0.979104</td>\n",
       "      <td>-0.461180</td>\n",
       "      <td>-0.584777</td>\n",
       "      <td>1</td>\n",
       "      <td>0</td>\n",
       "    </tr>\n",
       "    <tr>\n",
       "      <th>4</th>\n",
       "      <td>-0.528360</td>\n",
       "      <td>0.961877</td>\n",
       "      <td>-1.391472</td>\n",
       "      <td>-0.453218</td>\n",
       "      <td>-0.243707</td>\n",
       "      <td>-0.466193</td>\n",
       "      <td>-0.379133</td>\n",
       "      <td>0.558274</td>\n",
       "      <td>1.288643</td>\n",
       "      <td>-0.579207</td>\n",
       "      <td>-0.960246</td>\n",
       "      <td>0</td>\n",
       "      <td>0</td>\n",
       "    </tr>\n",
       "  </tbody>\n",
       "</table>\n",
       "</div>"
      ],
      "text/plain": [
       "   fixed acidity  volatile acidity  citric acid  residual sugar  chlorides  \\\n",
       "0      -0.528360          0.961877    -1.391472       -0.453218  -0.243707   \n",
       "1      -0.298547          1.967442    -1.391472        0.043416   0.223875   \n",
       "2      -0.298547          1.297065    -1.186070       -0.169427   0.096353   \n",
       "3       1.654856         -1.384443     1.484154       -0.453218  -0.264960   \n",
       "4      -0.528360          0.961877    -1.391472       -0.453218  -0.243707   \n",
       "\n",
       "   free sulfur dioxide  total sulfur dioxide   density        pH  sulphates  \\\n",
       "0            -0.466193             -0.379133  0.558274  1.288643  -0.579207   \n",
       "1             0.872638              0.624363  0.028261 -0.719933   0.128950   \n",
       "2            -0.083669              0.229047  0.134264 -0.331177  -0.048089   \n",
       "3             0.107592              0.411500  0.664277 -0.979104  -0.461180   \n",
       "4            -0.466193             -0.379133  0.558274  1.288643  -0.579207   \n",
       "\n",
       "    alcohol  category  predict  \n",
       "0 -0.960246         0        0  \n",
       "1 -0.584777         0        0  \n",
       "2 -0.584777         0        0  \n",
       "3 -0.584777         1        0  \n",
       "4 -0.960246         0        0  "
      ]
     },
     "execution_count": 36,
     "metadata": {},
     "output_type": "execute_result"
    }
   ],
   "source": [
    "yhat = softReg.predict(Xstan)\n",
    "dataStan['predict'] = yhat\n",
    "dataStan.head()"
   ]
  },
  {
   "cell_type": "markdown",
   "metadata": {
    "_uuid": "0358b29b0218dc0181ff8d8bb72066b9d7bc99c4"
   },
   "source": [
    "## Confusion Matrix\n",
    "![](https://miro.medium.com/max/1614/1*m_6tNlvUtYjpb4QBOZ0-rA.png)\n",
    "To evaluate the performance of the model, we can first plot the **confusion matrix**. **By definition a confusion matrix $C$ is such that $C_{ij}$ is equal to the number of observations known to be in group $i$ but predicted to be in group $j$ (a direct quote from the [offcial documentation](http://scikit-learn.org/stable/modules/generated/sklearn.metrics.confusion_matrix.html))**.  The ordering of the columns/rows is according to the sorted class labels. In our case, row/column 0 correpsonds to class 0, row/column 1 corresponds to class 1 and row/column 2 corresponds to class 2."
   ]
  },
  {
   "cell_type": "code",
   "execution_count": 37,
   "metadata": {
    "_uuid": "b8298aec9ef03b3e30a1d4702fc111850cf6af9e"
   },
   "outputs": [],
   "source": [
    "from sklearn.metrics import confusion_matrix"
   ]
  },
  {
   "cell_type": "code",
   "execution_count": 38,
   "metadata": {
    "_uuid": "dd23699a074b132bc59875153352920d9d44c81a"
   },
   "outputs": [
    {
     "data": {
      "text/html": [
       "<div>\n",
       "<style scoped>\n",
       "    .dataframe tbody tr th:only-of-type {\n",
       "        vertical-align: middle;\n",
       "    }\n",
       "\n",
       "    .dataframe tbody tr th {\n",
       "        vertical-align: top;\n",
       "    }\n",
       "\n",
       "    .dataframe thead th {\n",
       "        text-align: right;\n",
       "    }\n",
       "</style>\n",
       "<table border=\"1\" class=\"dataframe\">\n",
       "  <thead>\n",
       "    <tr style=\"text-align: right;\">\n",
       "      <th></th>\n",
       "      <th>poor(0), predicted</th>\n",
       "      <th>good(1), predicted</th>\n",
       "      <th>great(2), predicted</th>\n",
       "      <th>sum</th>\n",
       "    </tr>\n",
       "  </thead>\n",
       "  <tbody>\n",
       "    <tr>\n",
       "      <th>poor(0), true</th>\n",
       "      <td>580</td>\n",
       "      <td>156</td>\n",
       "      <td>8</td>\n",
       "      <td>744</td>\n",
       "    </tr>\n",
       "    <tr>\n",
       "      <th>good(1), true</th>\n",
       "      <td>226</td>\n",
       "      <td>363</td>\n",
       "      <td>49</td>\n",
       "      <td>638</td>\n",
       "    </tr>\n",
       "    <tr>\n",
       "      <th>great(2), true</th>\n",
       "      <td>14</td>\n",
       "      <td>124</td>\n",
       "      <td>79</td>\n",
       "      <td>217</td>\n",
       "    </tr>\n",
       "    <tr>\n",
       "      <th>sum</th>\n",
       "      <td>820</td>\n",
       "      <td>643</td>\n",
       "      <td>136</td>\n",
       "      <td>1599</td>\n",
       "    </tr>\n",
       "  </tbody>\n",
       "</table>\n",
       "</div>"
      ],
      "text/plain": [
       "                poor(0), predicted  good(1), predicted  great(2), predicted  \\\n",
       "poor(0), true                  580                 156                    8   \n",
       "good(1), true                  226                 363                   49   \n",
       "great(2), true                  14                 124                   79   \n",
       "sum                            820                 643                  136   \n",
       "\n",
       "                 sum  \n",
       "poor(0), true    744  \n",
       "good(1), true    638  \n",
       "great(2), true   217  \n",
       "sum             1599  "
      ]
     },
     "execution_count": 38,
     "metadata": {},
     "output_type": "execute_result"
    }
   ],
   "source": [
    "C = confusion_matrix(dataStan['category'].values,yhat)\n",
    "confusionMatrix = pd.DataFrame(data = C, index=['poor(0), true','good(1), true','great(2), true'], \n",
    "                               columns = ['poor(0), predicted','good(1), predicted','great(2), predicted'])\n",
    "confusionMatrix.loc['sum'] = confusionMatrix.sum()\n",
    "confusionMatrix['sum'] = confusionMatrix.sum(axis=1)\n",
    "confusionMatrix"
   ]
  },
  {
   "cell_type": "markdown",
   "metadata": {
    "_uuid": "2ccd6c72a4c30bd44b915687676abcf959485fc7"
   },
   "source": [
    "* There are many information that you can read from the confusion matrix. \n",
    "* Depending on what question you are trying to answer, you may focus on different parts of the matrix. \n",
    "* For example, if I mostly care about whether poor quality wine can be correctly identified, I will see that among all poor quality wine (744), 80.0% (580) of them were correctly predicted. \n",
    "* **Or, let's say I plan to use this machine learning model to automatically price the wine. Wine predicted to have poor quality is cheap, and wine predicted to have great quality is expensive.** Then one of my biggest concerns is that the poor quality wine are being misclassified as great and thus priced expensive, which may lead to customer complaints. We can see from the confusion matrix that this misclassification is unlikely to happen, since only 8 out of 744 (1.1%) poor quality wine was predicted to be of great quality.  \n",
    "\n",
    "You can also visualize the above matrix as follows:"
   ]
  },
  {
   "cell_type": "code",
   "execution_count": 39,
   "metadata": {
    "_uuid": "b3252633aa82265e62b2a6b00209e3c288480a0d"
   },
   "outputs": [
    {
     "data": {
      "image/png": "[encoded data removed]",
      "text/plain": [
       "<Figure size 288x288 with 1 Axes>"
      ]
     },
     "metadata": {
      "needs_background": "light"
     },
     "output_type": "display_data"
    }
   ],
   "source": [
    "confMx = confusionMatrix.values[0:3,0:3]\n",
    "plt.matshow(confMx, cmap=plt.cm.gray)\n",
    "plt.show()"
   ]
  },
  {
   "cell_type": "markdown",
   "metadata": {
    "_uuid": "b7516e48a4e33069edb6ed8ee602fe0eb0204e19"
   },
   "source": [
    "An ideal confusion matrix should have a bright diagonal line, since the diagonals count the number of samples that were classified correctly. Although be aware that the colors correspond to the absolute number of instances, instead of a percentage. Therefore a unit can be darker just because there are less samples for that class. To understand what kind of errors the predictor make, we will divide the values in the confusion matrix by the total number of samples in each class:"
   ]
  },
  {
   "cell_type": "code",
   "execution_count": 40,
   "metadata": {
    "_uuid": "4a16e25fafd1183f30f2852f742feb40a735fb33"
   },
   "outputs": [],
   "source": [
    "rowSums = confMx.sum(axis=1, keepdims=True) # contains number of samples for each true class\n",
    "confMxNorm = confMx/rowSums"
   ]
  },
  {
   "cell_type": "markdown",
   "metadata": {
    "_uuid": "a9e03fb6f5ccc11ba1c6e5f311c286ef92e20270"
   },
   "source": [
    "Since we only care about errors, let's fill the diagnoal elements with zero, then visualize the matrix:"
   ]
  },
  {
   "cell_type": "code",
   "execution_count": 41,
   "metadata": {
    "_uuid": "f8f26d11e766702301e335b05df615e5d66f8dfc"
   },
   "outputs": [
    {
     "data": {
      "image/png": "[encoded data removed]",
      "text/plain": [
       "<Figure size 288x288 with 1 Axes>"
      ]
     },
     "metadata": {
      "needs_background": "light"
     },
     "output_type": "display_data"
    }
   ],
   "source": [
    "np.fill_diagonal(confMxNorm, 0)\n",
    "plt.matshow(confMxNorm, cmap=plt.cm.gray)\n",
    "plt.show()"
   ]
  },
  {
   "cell_type": "markdown",
   "metadata": {
    "_uuid": "7cff281c25b00e4bafba87f26252565c18049a97"
   },
   "source": [
    "We can see a bright square at $C^{norm}_{21}$ (0 indexing). This means class 2 is heavily misclassified as class 1. In fact, out of 217 samples of true class 2, 124 samples were predicted to be class 1. This provides information on how you should further improve the model."
   ]
  },
  {
   "cell_type": "markdown",
   "metadata": {
    "_uuid": "1801844633c93361b9ea9e4dbc4b65f18ef71e8c"
   },
   "source": [
    "ROC curves are typically used for binary classification, but can be extended to multiclass classification. Some of the techniques include **one-versus-all binarization, micro-averaging, and macro-averaging**. Depending on what question you are asking, different methods should be chosen. A quick tutorial from scikit-learn with python source code is provided here: http://scikit-learn.org/stable/auto_examples/model_selection/plot_roc.html."
   ]
  },
  {
   "cell_type": "markdown",
   "metadata": {
    "_uuid": "c2ceb20965043c00c42b61321a0bd33d6778e7b0"
   },
   "source": [
    "A side note: here we ran logistic regression and softmax regression on the whole given dataset. In real application, you are usually given a train dataset and a test dataset, and the latter is usually not part of your model training. You can further divide the train dataset into train and validation set, where you train the model on the train set and observe its performance on validation set. The goal is to select the model that performs best on the validation set, and use it on the final test set."
   ]
  }
 ],
 "metadata": {
  "kernelspec": {
   "display_name": "Python 3",
   "language": "python",
   "name": "python3"
  },
  "language_info": {
   "codemirror_mode": {
    "name": "ipython",
    "version": 3
   },
   "file_extension": ".py",
   "mimetype": "text/x-python",
   "name": "python",
   "nbconvert_exporter": "python",
   "pygments_lexer": "ipython3",
   "version": "3.7.0"
  }
 },
 "nbformat": 4,
 "nbformat_minor": 4
}
