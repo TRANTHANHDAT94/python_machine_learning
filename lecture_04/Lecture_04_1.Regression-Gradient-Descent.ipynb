{
 "cells": [
  {
   "cell_type": "markdown",
   "metadata": {},
   "source": [
    "# Linear Regression - Gradient Descent\n",
    "![](https://miro.medium.com/max/1793/1*Yz6_Znyv_8yw9uJu87PAjg.png)"
   ]
  },
  {
   "cell_type": "markdown",
   "metadata": {},
   "source": [
    "- ### X- Feature(observation)\n",
    "- ### Y- Target"
   ]
  },
  {
   "cell_type": "markdown",
   "metadata": {},
   "source": [
    "### Algorithm\n",
    "\n",
    "- SUM(yi - ypre)^2 ->min (optimization is our target to find the best way)\n",
    "- ax2+bx+c = 0\n",
    "- x = -b/a (intergrantion of max/min point)"
   ]
  },
  {
   "cell_type": "markdown",
   "metadata": {},
   "source": [
    "**ypre = alpha1 x X1+ .....**"
   ]
  },
  {
   "cell_type": "markdown",
   "metadata": {},
   "source": [
    "### Maintain:\n",
    "\n",
    "- Modeling and Analytical Techniques "
   ]
  },
  {
   "cell_type": "markdown",
   "metadata": {
    "_uuid": "a9c92d759e178b5bad512c7089cc8f635ebd8b1b"
   },
   "source": [
    "#### Table of Content:\n",
    "- Linear Regression<br/>\n",
    "    - Normal equation \n",
    "    - Using Scikit-Learn\n",
    "    - Gradient descent\n",
    "        - batch gradient descent\n",
    "        - stochastic gradient descent\n",
    "        - mini-batch gradient descent\n",
    "- Polynomial Regression"
   ]
  },
  {
   "cell_type": "code",
   "execution_count": 1,
   "metadata": {},
   "outputs": [
    {
     "name": "stdout",
     "output_type": "stream",
     "text": [
      "Requirement already satisfied: statsmodels in /opt/anaconda3/lib/python3.8/site-packages (0.12.2)\n",
      "Requirement already satisfied: pandas>=0.21 in /opt/anaconda3/lib/python3.8/site-packages (from statsmodels) (1.3.1)\n",
      "Requirement already satisfied: patsy>=0.5 in /opt/anaconda3/lib/python3.8/site-packages (from statsmodels) (0.5.1)\n",
      "Requirement already satisfied: numpy>=1.15 in /opt/anaconda3/lib/python3.8/site-packages (from statsmodels) (1.19.5)\n",
      "Requirement already satisfied: scipy>=1.1 in /opt/anaconda3/lib/python3.8/site-packages (from statsmodels) (1.4.1)\n",
      "Requirement already satisfied: pytz>=2017.3 in /opt/anaconda3/lib/python3.8/site-packages (from pandas>=0.21->statsmodels) (2019.3)\n",
      "Requirement already satisfied: python-dateutil>=2.7.3 in /opt/anaconda3/lib/python3.8/site-packages (from pandas>=0.21->statsmodels) (2.8.1)\n",
      "Requirement already satisfied: six in /opt/anaconda3/lib/python3.8/site-packages (from patsy>=0.5->statsmodels) (1.15.0)\n"
     ]
    }
   ],
   "source": [
    "!pip install statsmodels"
   ]
  },
  {
   "cell_type": "code",
   "execution_count": 2,
   "metadata": {
    "_cell_guid": "b1076dfc-b9ad-4769-8c92-a6c4dae69d19",
    "_uuid": "8f2839f25d086af736a60e9eeb907d3b93b6e0e5",
    "tags": []
   },
   "outputs": [
    {
     "name": "stdout",
     "output_type": "stream",
     "text": [
      "['linear.csv', 'advanced.csv']\n"
     ]
    }
   ],
   "source": [
    "# import packages\n",
    "import numpy as np \n",
    "import pandas as pd \n",
    "import matplotlib.pyplot as plt\n",
    "from sklearn.linear_model import LinearRegression\n",
    "import statsmodels.api as sm\n",
    "import copy\n",
    "import warnings\n",
    "warnings.filterwarnings(\"ignore\")\n",
    "# show files\n",
    "import os\n",
    "print(os.listdir(\"input/Lecture_04_2\"))"
   ]
  },
  {
   "cell_type": "code",
   "execution_count": 3,
   "metadata": {
    "_uuid": "df8cc7b8386186d5b2f1f9952bfed36dc1fa1cea"
   },
   "outputs": [],
   "source": [
    "# set pyplot parameters to make things pretty\n",
    "plt.rc('axes', linewidth = 1.5)\n",
    "plt.rc('xtick', labelsize = 14)\n",
    "plt.rc('ytick', labelsize = 14)\n",
    "plt.rc('xtick.major', size = 3, width = 1.5)\n",
    "plt.rc('ytick.major', size = 3, width = 1.5)"
   ]
  },
  {
   "cell_type": "markdown",
   "metadata": {
    "_uuid": "fa48be14cca8662e7a2d21f1c7bcd95fb14979a4"
   },
   "source": [
    "# Linear Regression\n",
    "We will use a simple linearized data to illustrate linear regression. Let's read the data first:"
   ]
  },
  {
   "cell_type": "code",
   "execution_count": 4,
   "metadata": {
    "_cell_guid": "79c7e3d0-c299-4dcb-8224-4455121ee9b0",
    "_uuid": "d629ff2d2480ee46fbb7e2d37f6b5fab8052498a"
   },
   "outputs": [
    {
     "data": {
      "text/html": [
       "<div>\n",
       "<style scoped>\n",
       "    .dataframe tbody tr th:only-of-type {\n",
       "        vertical-align: middle;\n",
       "    }\n",
       "\n",
       "    .dataframe tbody tr th {\n",
       "        vertical-align: top;\n",
       "    }\n",
       "\n",
       "    .dataframe thead th {\n",
       "        text-align: right;\n",
       "    }\n",
       "</style>\n",
       "<table border=\"1\" class=\"dataframe\">\n",
       "  <thead>\n",
       "    <tr style=\"text-align: right;\">\n",
       "      <th></th>\n",
       "      <th>x</th>\n",
       "      <th>y</th>\n",
       "    </tr>\n",
       "  </thead>\n",
       "  <tbody>\n",
       "    <tr>\n",
       "      <th>0</th>\n",
       "      <td>77</td>\n",
       "      <td>79.775152</td>\n",
       "    </tr>\n",
       "    <tr>\n",
       "      <th>1</th>\n",
       "      <td>21</td>\n",
       "      <td>23.177279</td>\n",
       "    </tr>\n",
       "    <tr>\n",
       "      <th>2</th>\n",
       "      <td>22</td>\n",
       "      <td>25.609262</td>\n",
       "    </tr>\n",
       "    <tr>\n",
       "      <th>3</th>\n",
       "      <td>20</td>\n",
       "      <td>17.857388</td>\n",
       "    </tr>\n",
       "    <tr>\n",
       "      <th>4</th>\n",
       "      <td>36</td>\n",
       "      <td>41.849864</td>\n",
       "    </tr>\n",
       "  </tbody>\n",
       "</table>\n",
       "</div>"
      ],
      "text/plain": [
       "    x          y\n",
       "0  77  79.775152\n",
       "1  21  23.177279\n",
       "2  22  25.609262\n",
       "3  20  17.857388\n",
       "4  36  41.849864"
      ]
     },
     "execution_count": 4,
     "metadata": {},
     "output_type": "execute_result"
    }
   ],
   "source": [
    "# read data\n",
    "linearData = pd.read_csv('input/Lecture_04_2/linear.csv')\n",
    "linearData.head()"
   ]
  },
  {
   "cell_type": "markdown",
   "metadata": {
    "_uuid": "ca53bc061617f13e6ee56b7155ba43494c0a1182"
   },
   "source": [
    "## Normal equation\n",
    "Given an input sample $\\vec{x}=[x_1, x_2,...,x_n]$, linear regression predicts a $y$ value using the following equation:\n",
    "\n",
    "<center>\n",
    "    $\\hat{y}=\\theta_0+\\theta_1 x_1 + \\theta_2 x_2 +...+\\theta_n x_n$\n",
    "</center>\n",
    "\n",
    "Given $m$ training samples $\\vec{x}^{(1)}, \\vec{x}^{(2)},...,\\vec{x}^{(m)}$, linear regression finds $\\vec{\\theta}$ that minimizes the Mean Square Error (MSE) between $\\hat{y}$ and $y$:\n",
    "\n",
    "<center>\n",
    "    $MSE(\\vec{\\theta})=\\frac{1}{m}\\sum_{i=1}^{m} (\\hat{y}^{(i)}-y)^2=\\frac{1}{m}\\sum_{i=1}^{m} (\\vec{\\theta}\\cdot\\vec{x}^{(i)}-y)^2$\n",
    "</center>\n",
    "\n",
    "where $y$ is the true value and $\\hat{y}$ is the predicted value. The solution of this minimization problem is given by: $\\partial MSE/\\partial \\vec{\\theta}=0$, which gives us:\n",
    "\n",
    "<center>\n",
    "    $\\hat{\\vec{\\theta}} = (\\mathbf{X}^T\\cdot \\mathbf{X})^{-1}\\cdot \\mathbf{X}^T\\cdot \\vec{y}$\n",
    "</center>\n",
    "\n",
    "where $\\mathbf{X}$ is the input data matrix of size $m \\times (n+1)$. Each row of $\\mathbf{X}$ corresponds to a sample, each columns corresponds to a feature. There are $(n+1)$ columns since there is a column of 1s added to the $n$ features, corresponding to $\\theta_0$. The $\\vec{y}$ is a vector of true target values of size $m \\times 1$, and $\\hat{\\vec{\\theta}}$ is a vector of size $(n+1) \\times 1$.\n",
    "\n",
    "**The above equation is called the normal equation. The $\\hat{\\vec{\\theta}}$ is the set of parameters that minimizes the cost function of linear regression $MSE(\\vec{\\theta})$.**\n",
    "\n",
    "Next we will fit the data we read using the normal equation. Let's first plot the data to see what it looks like:"
   ]
  },
  {
   "cell_type": "markdown",
   "metadata": {},
   "source": [
    "### MSE\" MEan Square Error \n",
    "-> Trung bình cộng của tất cả sai số \n",
    "- **We can use it to comprare the request whihc have lost of observation or alittle observation**"
   ]
  },
  {
   "cell_type": "code",
   "execution_count": 5,
   "metadata": {
    "_uuid": "99fd148a0f3da2eddc8e519f884568aca90329c0"
   },
   "outputs": [
    {
     "data": {
      "image/png": "[encoded data removed]",
      "text/plain": [
       "<Figure size 432x288 with 1 Axes>"
      ]
     },
     "metadata": {
      "needs_background": "light"
     },
     "output_type": "display_data"
    }
   ],
   "source": [
    "# Let's first plot (x,y) and see what it looks like\n",
    "plt.plot('x','y',data = linearData, marker = 'o', linestyle = '', label = 'data')\n",
    "plt.xlabel('x',fontsize = 18)\n",
    "plt.ylabel('y', fontsize = 18)\n",
    "plt.legend(fontsize = 14, loc = 'best')\n",
    "plt.show()"
   ]
  },
  {
   "cell_type": "markdown",
   "metadata": {
    "_uuid": "d9011b1f305cd272e84b8c2cf4fa7cec488326cf"
   },
   "source": [
    "Then, use normal equation to solve for the optimizied set of parameters, $\\hat{\\vec{\\theta}}$ (thetaHat):"
   ]
  },
  {
   "cell_type": "code",
   "execution_count": 6,
   "metadata": {
    "_uuid": "cf9b1195b2c6bee976a382faf5caf9f516e9cff1"
   },
   "outputs": [],
   "source": [
    "x = linearData['x'].tolist()\n",
    "y = linearData['y'].tolist()\n",
    "\n",
    "# Don't forget - adding ones to the x matrix\n",
    "xb = np.c_[np.ones((len(x),1)),x]\n",
    "# calculate linear regression parameters theta using the normal equation\n",
    "thetaHat = np.linalg.inv(xb.T.dot(xb)).dot(xb.T).dot(y)"
   ]
  },
  {
   "cell_type": "code",
   "execution_count": 7,
   "metadata": {
    "_uuid": "9c8997ae85d7fcf00cd94c8c2d913831bcc4c37a"
   },
   "outputs": [
    {
     "name": "stdout",
     "output_type": "stream",
     "text": [
      "[-0.46181077  1.01433536]\n"
     ]
    }
   ],
   "source": [
    "print(thetaHat)\n",
    "# thetaHat[0] is intercept, thetaHat[1] is slope. This is determined by the column order of matrix xb."
   ]
  },
  {
   "cell_type": "markdown",
   "metadata": {
    "_uuid": "c185ef153ce913ae10e5416da4d2fc1e026bb94d"
   },
   "source": [
    "Now that we have $\\hat{\\vec{\\theta}}$, let's plot the fit:"
   ]
  },
  {
   "cell_type": "code",
   "execution_count": 8,
   "metadata": {
    "_uuid": "f373b42d705aa3ce0648acee06f54777dbbee980"
   },
   "outputs": [
    {
     "data": {
      "image/png": "[encoded data removed]",
      "text/plain": [
       "<Figure size 432x288 with 1 Axes>"
      ]
     },
     "metadata": {
      "needs_background": "light"
     },
     "output_type": "display_data"
    }
   ],
   "source": [
    "# plot the fit and the data\n",
    "xFit = np.linspace(0,100,num = 200)\n",
    "xFitb = np.c_[np.ones((len(xFit),1)), xFit]\n",
    "yFit = xFitb.dot(thetaHat)\n",
    "\n",
    "plt.plot('x','y',data = linearData, marker = 'o', linestyle = '', label = 'data')\n",
    "plt.plot(xFit, yFit, color = 'r', lw = 3, linestyle = '--', label = 'Linear fit')\n",
    "plt.xlabel('x',fontsize = 18)\n",
    "plt.ylabel('y', fontsize = 18)\n",
    "plt.legend(fontsize = 14)\n",
    "plt.show()"
   ]
  },
  {
   "cell_type": "markdown",
   "metadata": {
    "_uuid": "1176c58ed639b96d74b7ede84c40b1750d81c807"
   },
   "source": [
    "## Using Scikit-Learn\n",
    "There are many existing packages that can conduct linear regression for you. Here we will introduce **Scikit-Learn's** LinearRegression():"
   ]
  },
  {
   "cell_type": "code",
   "execution_count": 9,
   "metadata": {
    "_uuid": "a096313612826269f5684a3d473305f5156627ab"
   },
   "outputs": [
    {
     "data": {
      "text/plain": [
       "(-0.4618107736611847, array([1.01433536]))"
      ]
     },
     "execution_count": 9,
     "metadata": {},
     "output_type": "execute_result"
    }
   ],
   "source": [
    "#import the model which we will use \n",
    "from sklearn.linear_model import LinearRegression\n",
    "# create the model\n",
    "lin_reg = LinearRegression()\n",
    "# format x so that LinearRegression recognize it.\n",
    "x = np.array(x).reshape(-1,1)\n",
    "# fit the model\n",
    "lin_reg.fit(x,y)\n",
    "lin_reg.intercept_, lin_reg.coef_\n",
    "# intercept is value of y when x = 0. \n",
    "# coef is value of angle linear"
   ]
  },
  {
   "cell_type": "markdown",
   "metadata": {
    "_uuid": "22c1c12740e61f0a16d24449e26f384e3a6ea438"
   },
   "source": [
    "The \"lin_reg = LinearRegression()\" created a linear regressor named lin_reg. The \"lin_reg.fit(x,y)\" fit the regressor to the training data and obtain the best paramters intercept - ($\\theta_0$) and slope ($\\theta_1$). **This is a common pattern of Scikit-Learn's regressors and classifiers, as you will see throughout the whole tutorial series.**\n",
    "\n",
    "As you can see, this method gives the same result as the normal equation.  \n",
    "\n",
    "What if we want some statistics on how significant the fit is? In this case we can use the package **statsmodels** (already imported at the beginning of this notebook):"
   ]
  },
  {
   "cell_type": "code",
   "execution_count": 10,
   "metadata": {
    "_uuid": "553b8edc6769339a3c4a15fdeda204e515f2bd07"
   },
   "outputs": [
    {
     "name": "stdout",
     "output_type": "stream",
     "text": [
      "                            OLS Regression Results                            \n",
      "==============================================================================\n",
      "Dep. Variable:                      y   R-squared:                       0.989\n",
      "Model:                            OLS   Adj. R-squared:                  0.989\n",
      "Method:                 Least Squares   F-statistic:                 2.709e+04\n",
      "Date:                Thu, 05 Aug 2021   Prob (F-statistic):          1.33e-294\n",
      "Time:                        19:38:29   Log-Likelihood:                -757.98\n",
      "No. Observations:                 300   AIC:                             1520.\n",
      "Df Residuals:                     298   BIC:                             1527.\n",
      "Df Model:                           1                                         \n",
      "Covariance Type:            nonrobust                                         \n",
      "==============================================================================\n",
      "                 coef    std err          t      P>|t|      [0.025      0.975]\n",
      "------------------------------------------------------------------------------\n",
      "const         -0.4618      0.360     -1.284      0.200      -1.169       0.246\n",
      "x1             1.0143      0.006    164.598      0.000       1.002       1.026\n",
      "==============================================================================\n",
      "Omnibus:                        1.034   Durbin-Watson:                   2.006\n",
      "Prob(Omnibus):                  0.596   Jarque-Bera (JB):                0.825\n",
      "Skew:                           0.117   Prob(JB):                        0.662\n",
      "Kurtosis:                       3.104   Cond. No.                         120.\n",
      "==============================================================================\n",
      "\n",
      "Notes:\n",
      "[1] Standard Errors assume that the covariance matrix of the errors is correctly specified.\n"
     ]
    }
   ],
   "source": [
    "xb = sm.add_constant(x) # again, add a column of ones to x\n",
    "model = sm.OLS(y,xb) # OLS = Ordinary Least Squares\n",
    "results = model.fit()\n",
    "print(results.summary())"
   ]
  },
  {
   "cell_type": "markdown",
   "metadata": {
    "_uuid": "a7a7081d2bcacc4c42de0a57d0fa1653e3d75c7e"
   },
   "source": [
    "There are several key statistics in the above chart:  \n",
    "* R-squared: SSR/SST = 1 - SSE/SST, proportion of variance explained. Can increase just because more predictors are added.\n",
    "* Adj. R-squared: R-squared but counts for the number of predictors. Only increases if model is improved.\n",
    "* AIC: Akaike information criterion. Learn more at https://en.wikipedia.org/wiki/Akaike_information_criterion\n",
    "* BIC: Bayesian information criterion. Learn more at https://en.wikipedia.org/wiki/Bayesian_information_criterion  \n",
    "\n",
    "Here R-squared = Adj. R-squared = 0.989. Therefore we can conclude that the fit is good."
   ]
  },
  {
   "cell_type": "markdown",
   "metadata": {
    "_uuid": "87f23f57f446fbdd211495a43370e34f0c803af2"
   },
   "source": [
    "\n",
    "# GRADIENT DESCENT METHODOLOGY\n",
    "\n",
    "## Gradient Descent:\n",
    "Another way to do linear regression is to use Gradient Descent (GD). GD is most useful when the cost function (here it is the MSE) does not have a clean and nice analytical solution. But it can also accelerate the training when you have a lot of input features or a large training set. \n",
    "\n",
    "**The basic idea of gradient descent is that the cost function decreases most steeply along the the opposite direction of its gradient**. In our case, the cost function is $MSE(\\vec{\\theta})$. The gradient of $MSE(\\vec{\\theta})$ over $\\vec{\\theta}$ is:\n",
    "<center>\n",
    "    $\\nabla_{\\vec{\\theta}}MSE(\\vec{\\theta}) = \\frac{2}{m} \\mathbf{X}^T \\cdot (\\mathbf{X}\\cdot \\vec{\\theta}-\\vec{y})$\n",
    "</center>\n",
    "Again, $m$ is the number of samples in the training set. $\\mathbf{X}$ is the input data matrix of size $m \\times (n+1)$, $\\vec{\\theta}$ is the parameter vector of size $(n+1) \\times 1$, and $\\vec{y}$ is the vector of true target values of size $m \\times 1$. **The pseudo algorithm for gradient descent is**:\n",
    "* Initialize parameter vector $\\vec{\\theta}$\n",
    "* Choose learning rate $\\mu$\n",
    "* For each step, update the parameter vector using $\\vec{\\theta} = \\vec{\\theta} - \\mu \\times \\nabla_{\\vec{\\theta}}MSE(\\vec{\\theta})$. Then update $MSE(\\vec{\\theta})$ using the updated $\\vec{\\theta}$.\n",
    "* Iterate until certain number of steps has passed, or when the decrease of $MSE(\\vec{\\theta})$ is smaller than a tolerance.\n",
    "\n",
    "In this section, we will show how to do linear regression with gradient descent. Two tips to keep in mind:\n",
    "* Make sure all features have similar scale, otherwise the training might take a long time.\n",
    "* A convex cost function is easy to optimize, but most of the time GD leads to local minima."
   ]
  },
  {
   "cell_type": "markdown",
   "metadata": {
    "_uuid": "a44c428606b49aa9be428aa3588c1d8c72f243d7"
   },
   "source": [
    "### Batch gradient descent:\n",
    "Batch gradient descent calculates the gradient using all $m$ training samples:\n",
    "![](https://static.wixstatic.com/media/b8a9a2_f283fc9f4db24befb9c7a9161705c75c~mv2.jpg)"
   ]
  },
  {
   "cell_type": "markdown",
   "metadata": {},
   "source": [
    "![](https://miro.medium.com/max/4152/1*jxbSOnhAF2huiwSKXTAuLw.png)"
   ]
  },
  {
   "cell_type": "markdown",
   "metadata": {},
   "source": []
  },
  {
   "cell_type": "code",
   "execution_count": 11,
   "metadata": {
    "_uuid": "6ada05f88e6536a1bb6a2be659863a8baecd9703"
   },
   "outputs": [],
   "source": [
    "learningRate = 0.0002\n",
    "numIterations = 100000\n",
    "y = np.array(y).reshape(-1,1)\n",
    "m = len(y) # number of samples\n",
    "\n",
    "# random initialization with standard normal distribution\n",
    "theta = np.random.randn(2,1)\n",
    "\n",
    "# start gradient descent\n",
    "for i in range(numIterations):\n",
    "    gradient = 2/m * xb.T.dot(xb.dot(theta) - y) # dimension: (2,1)\n",
    "    theta = theta - learningRate * gradient"
   ]
  },
  {
   "cell_type": "code",
   "execution_count": 12,
   "metadata": {
    "_uuid": "58983877f4ab15aebd0bca1904b8ad0bb273dc72"
   },
   "outputs": [
    {
     "data": {
      "text/plain": [
       "array([[-0.46170196],\n",
       "       [ 1.01433373]])"
      ]
     },
     "execution_count": 12,
     "metadata": {},
     "output_type": "execute_result"
    }
   ],
   "source": [
    "theta"
   ]
  },
  {
   "cell_type": "markdown",
   "metadata": {},
   "source": [
    "![](https://humanunsupervised.github.io/humanunsupervised.com/topics/images/lesson1/26.png)"
   ]
  },
  {
   "cell_type": "markdown",
   "metadata": {
    "_uuid": "fe0f764fec0b6e87ce7d451c2f2d667bf2910620"
   },
   "source": [
    "Finding the right learning rate is a little tricky here. If you increase the learning rate, you can see theta blowing up and miss the minimum. <br/>\n",
    "We can also plot the cost function to examine the effects of learning rate:"
   ]
  },
  {
   "cell_type": "code",
   "execution_count": 13,
   "metadata": {
    "_uuid": "a06e3e6ee81879604f7abf3041e20ea03e0a8bba"
   },
   "outputs": [],
   "source": [
    "# define the function to calculate MSE\n",
    "# can also use sklearn.metrics.mean_squared_error\n",
    "def MSE(xb,y,theta):\n",
    "    return np.sum(np.square(xb.dot(theta)-y))/len(y)"
   ]
  },
  {
   "cell_type": "code",
   "execution_count": 14,
   "metadata": {
    "_uuid": "ff6f3e17425fa0693b793660fc2b9df51498645e"
   },
   "outputs": [],
   "source": [
    "learningRate = 0.0002\n",
    "numIterations = 100000\n",
    "y = np.array(y).reshape(-1,1)\n",
    "m = len(y) # number of samples\n",
    "\n",
    "# random initialization with standard normal distribution\n",
    "theta = np.random.randn(2,1)\n",
    "\n",
    "cost = []\n",
    "# start gradient descent\n",
    "for i in range(numIterations):\n",
    "    gradient = 2/m * xb.T.dot(xb.dot(theta) - y) # dimension: (2,1)\n",
    "    theta = theta - learningRate * gradient\n",
    "    cost.append(MSE(xb,y,theta))"
   ]
  },
  {
   "cell_type": "code",
   "execution_count": 15,
   "metadata": {
    "_uuid": "e5a262c3f22f873c9e16a727f8e367ab81743f64"
   },
   "outputs": [
    {
     "data": {
      "text/plain": [
       "Text(0, 0.5, 'MSE')"
      ]
     },
     "execution_count": 15,
     "metadata": {},
     "output_type": "execute_result"
    },
    {
     "data": {
      "image/png": "[encoded data removed]",
      "text/plain": [
       "<Figure size 720x288 with 2 Axes>"
      ]
     },
     "metadata": {
      "needs_background": "light"
     },
     "output_type": "display_data"
    }
   ],
   "source": [
    "fig,ax = plt.subplots(nrows = 1, ncols = 2, figsize = (10,4))\n",
    "ax[0].plot(range(0,100),cost[0:100])\n",
    "ax[1].plot(range(10000,20001), cost[10000:20001])\n",
    "plt.subplots_adjust(wspace=0.5)\n",
    "ax[0].set_xlabel('# of iterations', fontsize = 14)\n",
    "ax[1].set_xlabel('# of iterations', fontsize = 14)\n",
    "ax[0].set_ylabel('MSE', fontsize = 14)\n",
    "ax[1].set_ylabel('MSE', fontsize = 14)"
   ]
  },
  {
   "cell_type": "markdown",
   "metadata": {
    "_uuid": "8d2a474cc870bcb35998becc6f0f8d77d0030efb"
   },
   "source": [
    "As you can see, with learning rate at 0.0002, the MSE steadily decreases with the number of iterations. Now let's try to increase the learning rate a little bit:"
   ]
  },
  {
   "cell_type": "code",
   "execution_count": 16,
   "metadata": {
    "_uuid": "11b823c84335b0178bc2fb5a8f9c4770843a04ca"
   },
   "outputs": [
    {
     "data": {
      "text/plain": [
       "Text(0, 0.5, 'MSE')"
      ]
     },
     "execution_count": 16,
     "metadata": {},
     "output_type": "execute_result"
    },
    {
     "data": {
      "image/png": "[encoded data removed]",
      "text/plain": [
       "<Figure size 360x288 with 1 Axes>"
      ]
     },
     "metadata": {
      "needs_background": "light"
     },
     "output_type": "display_data"
    }
   ],
   "source": [
    "learningRate = 0.0003\n",
    "numIterations = 100\n",
    "y = np.array(y).reshape(-1,1)\n",
    "m = len(y) # number of samples\n",
    "\n",
    "# random initialization with standard normal distribution\n",
    "theta = np.random.randn(2,1)\n",
    "\n",
    "cost = []\n",
    "# start gradient descent\n",
    "for i in range(numIterations):\n",
    "    gradient = 2/m * xb.T.dot(xb.dot(theta) - y) # dimension: (2,1)\n",
    "    theta = theta - learningRate * gradient\n",
    "    cost.append(MSE(xb,y,theta))\n",
    "\n",
    "fig,ax = plt.subplots(nrows = 1, ncols = 1, figsize = (5,4))\n",
    "ax.plot(range(0,100), cost[0:100])\n",
    "ax.set_xlabel('# of iterations', fontsize = 14)\n",
    "ax.set_ylabel('MSE', fontsize = 14)"
   ]
  },
  {
   "cell_type": "markdown",
   "metadata": {
    "_uuid": "b6173a19d2f14c253fb58cb309316c4e2c189c35"
   },
   "source": [
    "With learning rate at 0.0003, the MSE shoots up with number of iterations.  \n",
    "This is partly due to using $\\mathbf{X}$ matrix without standardizing, which leads to very different scales in the gradient vector.  \n",
    "We can examine this by looking at the gradient for the first iteration:"
   ]
  },
  {
   "cell_type": "code",
   "execution_count": 17,
   "metadata": {
    "_uuid": "6a8bb37e88e4efcb44218715dde7ff6c9bec7e31"
   },
   "outputs": [
    {
     "name": "stdout",
     "output_type": "stream",
     "text": [
      "[[  19.49414082]\n",
      " [1287.26697902]]\n"
     ]
    }
   ],
   "source": [
    "theta = np.random.randn(2,1)\n",
    "gradient = 2/m * xb.T.dot(xb.dot(theta) - y)\n",
    "print(gradient)"
   ]
  },
  {
   "cell_type": "markdown",
   "metadata": {
    "_uuid": "9aa985fcf36a11084e5330cfa26482c4c6057226"
   },
   "source": [
    "You can see that since we did not standardize the $\\mathbf{X}$ matrix, gradient in the second direction is much larger than that in the first direction. If the learning rate is not small enough, $\\vec{\\theta}$ will take a big step in the second direction, potentially leading to cost function increasing instead of decreasing.  \n",
    "**In practice, if you wish to use gradient descent on regression analysis, it is important to normalzie the input features.**  \n",
    "When predicting, you will need to scale the input x first **using the same shift and scaling as the training set**, then make a prediction.  \n",
    "![](https://images.slideplayer.com/38/10783489/slides/slide_36.jpg)"
   ]
  },
  {
   "cell_type": "markdown",
   "metadata": {},
   "source": [
    "## VERY IMPOTANT"
   ]
  },
  {
   "cell_type": "markdown",
   "metadata": {},
   "source": [
    "![](https://miro.medium.com/max/1384/0*aR0ivCUZJjM9DFDw.png)"
   ]
  },
  {
   "cell_type": "markdown",
   "metadata": {},
   "source": [
    "![](https://chrisalbon.com/images/machine_learning_flashcards/Standardization_print.png)"
   ]
  },
  {
   "cell_type": "markdown",
   "metadata": {},
   "source": [
    "### **Learning rate which we have to have the Feature Scaling**\n",
    "- **std scaler: zscore**\n",
    "- **minax scaler**\n",
    "- **Robust scaler**\n"
   ]
  },
  {
   "cell_type": "markdown",
   "metadata": {},
   "source": [
    "![](https://miro.medium.com/max/3604/1*QjZVCDwW1TMFTWF3rubemQ@2x.png)"
   ]
  },
  {
   "cell_type": "markdown",
   "metadata": {},
   "source": [
    "![](https://image.slidesharecdn.com/mldatasetpreparation-170913190354/95/machine-learning-dataset-preparation-15-638.jpg?cb=1505329512)"
   ]
  },
  {
   "cell_type": "markdown",
   "metadata": {
    "_uuid": "121a30a21e414db092658e51064e18cd10886a3f"
   },
   "source": [
    "Now, let's try to standardize the input features and run GD again."
   ]
  },
  {
   "cell_type": "code",
   "execution_count": 18,
   "metadata": {
    "_uuid": "b8e1aaf7b87e9aba15933ffee15316c02c8e68e2"
   },
   "outputs": [
    {
     "name": "stdout",
     "output_type": "stream",
     "text": [
      "[[ 1.          0.91589319]\n",
      " [ 1.         -1.05200623]\n",
      " [ 1.         -1.01686517]\n",
      " [ 1.         -1.08714729]\n",
      " [ 1.         -0.52489032]]\n",
      "50.93666666666667\n",
      "28.456738901161685\n"
     ]
    }
   ],
   "source": [
    "xbStandard = copy.deepcopy(xb) # we don't want to mess with xb! xbStandard = xb will lead to xb being normalized, too.\n",
    "# save the shift and scaling\n",
    "mu = np.mean(xbStandard[:,1]) \n",
    "sigma = np.std(xbStandard[:,1])\n",
    "# standardization\n",
    "xbStandard[:,1]=(xbStandard[:,1]-mu)/sigma\n",
    "print(xbStandard[0:5])\n",
    "print(mu)\n",
    "print(sigma)"
   ]
  },
  {
   "cell_type": "code",
   "execution_count": 19,
   "metadata": {
    "_uuid": "7a9a4e32f1495ebfb562fbb5eb78b7a53b92da3c"
   },
   "outputs": [
    {
     "data": {
      "image/png": "[encoded data removed]",
      "text/plain": [
       "<Figure size 360x288 with 1 Axes>"
      ]
     },
     "metadata": {
      "needs_background": "light"
     },
     "output_type": "display_data"
    }
   ],
   "source": [
    "learningRate = 0.1\n",
    "numIterations = 1000\n",
    "\n",
    "m = len(y) # number of samples\n",
    "\n",
    "# random initialization with standard normal distribution\n",
    "theta = np.random.randn(2,1)\n",
    "\n",
    "cost = []\n",
    "# start gradient descent\n",
    "for i in range(numIterations):\n",
    "    gradient = 2/m * xbStandard.T.dot(xbStandard.dot(theta) - y) # dimension: (2,1)\n",
    "    theta = theta - learningRate * gradient\n",
    "    cost.append(MSE(xbStandard,y,theta))\n",
    "\n",
    "fig,ax = plt.subplots(nrows = 1, ncols = 1, figsize = (5,4))\n",
    "plt.plot(cost)\n",
    "ax.set_xlabel('# of iterations', fontsize = 14)\n",
    "ax.set_ylabel('MSE', fontsize = 14)\n",
    "plt.show()"
   ]
  },
  {
   "cell_type": "code",
   "execution_count": 20,
   "metadata": {
    "_uuid": "556c9671cca806a3342b2b31c0f0de4bb12a84a0"
   },
   "outputs": [
    {
     "name": "stdout",
     "output_type": "stream",
     "text": [
      "[[51.2050511 ]\n",
      " [28.86467636]]\n"
     ]
    }
   ],
   "source": [
    "print(theta)\n",
    "#Compare to [-0.46181077  1.01433536] \n",
    "# and keep in mind that our feature has been standardized \n",
    "# with mean 50.93666666666667 and std 28.456738901161685"
   ]
  },
  {
   "cell_type": "code",
   "execution_count": 21,
   "metadata": {
    "_uuid": "4999536927918926be3e3d2754127fdd4d050baf"
   },
   "outputs": [
    {
     "data": {
      "image/png": "[encoded data removed]",
      "text/plain": [
       "<Figure size 432x288 with 1 Axes>"
      ]
     },
     "metadata": {
      "needs_background": "light"
     },
     "output_type": "display_data"
    }
   ],
   "source": [
    "xFit = np.linspace(0,100,num = 200)\n",
    "xFitStandard = (xFit - mu)/sigma # use the previously saved mean and standard deviation\n",
    "xFitStandardb = np.c_[np.ones((len(xFitStandard),1)), xFitStandard]\n",
    "yFit = xFitStandardb.dot(theta)\n",
    "\n",
    "plt.plot('x','y',data = linearData, marker = 'o', linestyle = '', label = 'data')\n",
    "plt.plot(xFit, yFit, color = 'r', lw = 3, linestyle = '--', label = 'Linear fit')\n",
    "plt.xlabel('x',fontsize = 18)\n",
    "plt.ylabel('y', fontsize = 18)\n",
    "plt.legend(fontsize = 14)\n",
    "plt.show()"
   ]
  },
  {
   "cell_type": "markdown",
   "metadata": {
    "_uuid": "c097cb9b0f05da736618943ab475dcc81479058e"
   },
   "source": [
    "With much larger learning rate and much fewer iterations, we have achieved satisfying linear fit of the data!  \n",
    "The following examples will go back to using the original data, but in practice input features should be standardized for all GD problems."
   ]
  },
  {
   "cell_type": "markdown",
   "metadata": {},
   "source": [
    "## Stochastic Gradient Descent\n",
    "![](https://qph.fs.quoracdn.net/main-qimg-1f328d91d2fe7cee9719ce1870ed54dd.webp)"
   ]
  },
  {
   "cell_type": "markdown",
   "metadata": {},
   "source": [
    "![](https://helloacm.com/wp-content/uploads/2017/05/stochastic-gradient-descent.jpg)"
   ]
  },
  {
   "cell_type": "markdown",
   "metadata": {
    "_uuid": "2e7fbb0d309655d2c28acc1da46f4995d5033743"
   },
   "source": [
    "### Stochastic Gradient Descent\n",
    "Stochastic Gradient Descent (SGD) use one sample at a time to calculate gradient. Instead of trying to decrease $MSE(\\vec{\\theta})$ of all samples ($\\frac{1}{m}\\sum_{i=1}^{m} (\\hat{y}^{(i)}-y)^2$) at each step, SGD tries to decrease $MSE(\\vec{\\theta})$ of one randomly selected sample ($(\\hat{y}^{(i)}-y)^2$, $i$ is randomly selected) at each step. The gradient term at each step becomes:\n",
    "<center>\n",
    "    $2\\times \\vec{x}^{(i)T} \\cdot (\\vec{x}^{(i)}\\cdot \\vec{\\theta}-y^{(i)})$\n",
    "</center>\n",
    "\n",
    "**There are several terminologies and concepts that I will be using in the following code:**\n",
    "* Simulated annealing: gradually decrease learning rate. A common technique in SGD to help it reach the minima toward the end of the learning period.\n",
    "* Learning Schedule: the function that determines how learning rate changes with iterations.\n",
    "* Epochs: the number of rounds of $m$ iterations to run (see code below)."
   ]
  },
  {
   "cell_type": "code",
   "execution_count": 22,
   "metadata": {
    "_uuid": "ff14d18ec302f622547a23bdbccab12fba93732c"
   },
   "outputs": [
    {
     "data": {
      "image/png": "[encoded data removed]",
      "text/plain": [
       "<Figure size 576x288 with 1 Axes>"
      ]
     },
     "metadata": {
      "needs_background": "light"
     },
     "output_type": "display_data"
    }
   ],
   "source": [
    "numEpochs = 1000\n",
    "\n",
    "# a simple learning schedule\n",
    "def learningSchedule(step):\n",
    "    return 5/(50000 + step)\n",
    "\n",
    "# visualize the learning schedule\n",
    "s = np.linspace(0,15000, num = 15001)\n",
    "l = learningSchedule(s)\n",
    "m = len(y) # sample size \n",
    "\n",
    "fig, ax = plt.subplots(figsize = (8,4))\n",
    "plt.plot(s,l, lw = 2)\n",
    "#plt.xlim(0,15000)\n",
    "plt.xlabel('step', fontsize = 18)\n",
    "plt.ylabel('learning rate', fontsize = 18)\n",
    "plt.show()"
   ]
  },
  {
   "cell_type": "code",
   "execution_count": 23,
   "metadata": {
    "_uuid": "687dd9bd713e8e7d9e79b5b3138c40e0d8c7b0c4"
   },
   "outputs": [],
   "source": [
    "theta = np.random.randn(2,1)\n",
    "\n",
    "cost = []\n",
    "for epoch in range(numEpochs):\n",
    "    for i in range(m):\n",
    "        idx = np.random.randint(m) # 0,1,...,m-1\n",
    "        xbi = xb[idx:idx+1]\n",
    "        yi = y[idx:idx+1]\n",
    "        gradient = 2*xbi.T.dot(xbi.dot(theta)-yi) # sample size is one\n",
    "        learningRate = learningSchedule(epoch*m + i) # step = epoch*m + i\n",
    "        theta = theta - learningRate * gradient\n",
    "        cost.append(MSE(xb,y,theta))"
   ]
  },
  {
   "cell_type": "code",
   "execution_count": 24,
   "metadata": {
    "_uuid": "6e1107c6b71306476715d27f8e6b48c45431ab44"
   },
   "outputs": [
    {
     "name": "stdout",
     "output_type": "stream",
     "text": [
      "[[-0.47369281]\n",
      " [ 1.02816961]]\n"
     ]
    }
   ],
   "source": [
    "print(theta)"
   ]
  },
  {
   "cell_type": "markdown",
   "metadata": {
    "_uuid": "4cfbd128895b0a072c3c4fa5ae238c3ad1502a38"
   },
   "source": [
    "Not bad. But note that with SGD, due to the random nature of the algorithm, $\\vec{\\theta}$ will be hopping around the optimized value. Simulated annealing (mentioned above) can help with this issue.  \n",
    "We can plot the cost function (MSE) to see what it looks like:"
   ]
  },
  {
   "cell_type": "code",
   "execution_count": 25,
   "metadata": {
    "_uuid": "7ddb4ff5704fd889f3c5063e01b3a8174985538a"
   },
   "outputs": [
    {
     "data": {
      "image/png": "[encoded data removed]",
      "text/plain": [
       "<Figure size 576x288 with 1 Axes>"
      ]
     },
     "metadata": {
      "needs_background": "light"
     },
     "output_type": "display_data"
    }
   ],
   "source": [
    "fig, ax = plt.subplots(figsize = (8,4))\n",
    "plt.plot(cost)\n",
    "#plt.xlim(0,20000)\n",
    "plt.ylabel('cost', fontsize = 18)\n",
    "plt.xlabel('step', fontsize = 18)\n",
    "plt.show()"
   ]
  },
  {
   "cell_type": "markdown",
   "metadata": {
    "_uuid": "77e5516751e4aa5fda993cbd748757dc032dbc8a"
   },
   "source": [
    "You can see that MSE has some fluctuations, but in general it is decreasing.  \n",
    "Again, if the learning rate starts off too high, the cost function will overshoot:"
   ]
  },
  {
   "cell_type": "code",
   "execution_count": 26,
   "metadata": {
    "_uuid": "aa5610dfe081935dab4b805f33de4323ba2768b9"
   },
   "outputs": [],
   "source": [
    "numEpochs = 100\n",
    "\n",
    "# a simple learning schedule\n",
    "def learningSchedule(step):\n",
    "    return 5/(10000 + step)\n",
    "\n",
    "theta = np.random.randn(2,1)\n",
    "\n",
    "cost = []\n",
    "for epoch in range(numEpochs):\n",
    "    for i in range(m):\n",
    "        idx = np.random.randint(m) # 0,1,...,m-1\n",
    "        xbi = xb[idx:idx+1]\n",
    "        yi = y[idx:idx+1]\n",
    "        gradient = 2*xbi.T.dot(xbi.dot(theta)-yi) # sample size is one\n",
    "        learningRate = learningSchedule(epoch*m + i) # step = epoch*m + i\n",
    "        theta = theta - learningRate * gradient\n",
    "        cost.append(MSE(xb,y,theta))"
   ]
  },
  {
   "cell_type": "code",
   "execution_count": 27,
   "metadata": {
    "_uuid": "d0d3fd1314f65b553861e065da5b232e99b6621b"
   },
   "outputs": [
    {
     "data": {
      "image/png": "[encoded data removed]",
      "text/plain": [
       "<Figure size 432x288 with 1 Axes>"
      ]
     },
     "metadata": {
      "needs_background": "light"
     },
     "output_type": "display_data"
    }
   ],
   "source": [
    "plt.plot(cost)\n",
    "plt.show()"
   ]
  },
  {
   "cell_type": "markdown",
   "metadata": {
    "_uuid": "5bbf6443ebebaf65f1c0ee3b8da0893785be4a5a"
   },
   "source": [
    "You can also run SGD using **Scikit-Learn**'s SGDRegressor():"
   ]
  },
  {
   "cell_type": "code",
   "execution_count": 28,
   "metadata": {
    "_uuid": "101db136097869d75aaa6b688d84486ed04df5ef"
   },
   "outputs": [],
   "source": [
    "from sklearn.linear_model import SGDRegressor"
   ]
  },
  {
   "cell_type": "code",
   "execution_count": 29,
   "metadata": {
    "_uuid": "522f36d1356a6d984c507434fd0da919bfb2eadd"
   },
   "outputs": [
    {
     "data": {
      "text/plain": [
       "SGDRegressor(alpha=0.0001, average=False, early_stopping=False, epsilon=0.1,\n",
       "             eta0=0.0005, fit_intercept=True, l1_ratio=0.15,\n",
       "             learning_rate='invscaling', loss='squared_loss', max_iter=10000,\n",
       "             n_iter_no_change=5, penalty=None, power_t=0.25, random_state=None,\n",
       "             shuffle=True, tol=0.001, validation_fraction=0.1, verbose=0,\n",
       "             warm_start=False)"
      ]
     },
     "execution_count": 29,
     "metadata": {},
     "output_type": "execute_result"
    }
   ],
   "source": [
    "# max_iter is the total number of epochs, eta0 is the starting learning rate\n",
    "# penalty = None, meaning there is no regularization.\n",
    "model = SGDRegressor(eta0 = 0.0005, penalty = None, max_iter = 10000)\n",
    "model.fit(x,y.ravel())"
   ]
  },
  {
   "cell_type": "code",
   "execution_count": 30,
   "metadata": {
    "_uuid": "6c160b9883ec88600f5c7559c118af9dd7c44bc5"
   },
   "outputs": [
    {
     "data": {
      "text/plain": [
       "(array([-0.06095313]), array([0.98821459]))"
      ]
     },
     "execution_count": 30,
     "metadata": {},
     "output_type": "execute_result"
    }
   ],
   "source": [
    "model.intercept_, model.coef_"
   ]
  },
  {
   "cell_type": "markdown",
   "metadata": {
    "_uuid": "a2de1f4618dfb1cc357be7de74727dc3f8a853c9"
   },
   "source": [
    "### Mini-batch Gradient Descent\n",
    "Mini-batch gradient descent is somewhere between batch gradient descent and stochastic gradient descent.  \n",
    "For each iteration, you caluclate gradient based on a random selected sub-sample of the training set, not all of them (batch GD), nor only one of them (stochastic GD).\n",
    "![](https://i2.wp.com/nttuan8.com/wp-content/uploads/2019/04/toward_minimum.png?resize=522%2C258&ssl=1)\n",
    "![](https://www.i2tutorials.com/wp-content/uploads/2019/09/Neural-network-18-i2tutorials.png)"
   ]
  },
  {
   "cell_type": "code",
   "execution_count": 31,
   "metadata": {
    "_uuid": "380d5bca822918ea26a668aee4b6027b067667ca"
   },
   "outputs": [],
   "source": [
    "from sklearn.utils import shuffle"
   ]
  },
  {
   "cell_type": "code",
   "execution_count": 32,
   "metadata": {
    "_uuid": "edfd6ea737f694d98b30c659e4c0544a01f17da2"
   },
   "outputs": [],
   "source": [
    "batchsize = 30 # size of each of the mini batch\n",
    "theta = np.random.randn(2,1)\n",
    "\n",
    "numEpochs = 5000\n",
    "learningRate = 0.0002\n",
    "\n",
    "for epoch in range(numEpochs):\n",
    "    xbShuffled, yShuffled = shuffle(xb, y) # shuffle your dataset at the beginning of each epoch.\n",
    "    for i in range(0, xbShuffled.shape[0], batchsize):\n",
    "        xbi = xbShuffled[i:i+batchsize]\n",
    "        yi = yShuffled[i:i+batchsize]\n",
    "        gradient = 2/batchsize*xbi.T.dot(xbi.dot(theta)-yi)\n",
    "        theta = theta - learningRate*gradient\n",
    "        "
   ]
  },
  {
   "cell_type": "code",
   "execution_count": 33,
   "metadata": {
    "_uuid": "c2a4ab666cf46242a40c6e366c66889aefbd0b75",
    "scrolled": true
   },
   "outputs": [
    {
     "name": "stdout",
     "output_type": "stream",
     "text": [
      "[[-0.44878353]\n",
      " [ 1.00974731]]\n"
     ]
    }
   ],
   "source": [
    "print(theta)"
   ]
  },
  {
   "cell_type": "markdown",
   "metadata": {
    "_uuid": "618777939562fbdf9862969902cb7d7f827cd457"
   },
   "source": [
    "# Polynomial Regression\n",
    "![](https://miro.medium.com/max/857/1*WspeVEbpVEL08AUT-ponEw.png)\n",
    "![](https://static.javatpoint.com/tutorial/machine-learning/images/machine-learning-polynomial-regression.png)\n",
    "The above simple linear regression model can be easily extended to a polynomial regression model. To illustrate polynomial regression, we will use another dataset:"
   ]
  },
  {
   "cell_type": "code",
   "execution_count": 34,
   "metadata": {
    "_uuid": "b6a7d998d1c2b5162d894076d624f786787e0948"
   },
   "outputs": [
    {
     "data": {
      "text/html": [
       "<div>\n",
       "<style scoped>\n",
       "    .dataframe tbody tr th:only-of-type {\n",
       "        vertical-align: middle;\n",
       "    }\n",
       "\n",
       "    .dataframe tbody tr th {\n",
       "        vertical-align: top;\n",
       "    }\n",
       "\n",
       "    .dataframe thead th {\n",
       "        text-align: right;\n",
       "    }\n",
       "</style>\n",
       "<table border=\"1\" class=\"dataframe\">\n",
       "  <thead>\n",
       "    <tr style=\"text-align: right;\">\n",
       "      <th></th>\n",
       "      <th>fixed acidity</th>\n",
       "      <th>volatile acidity</th>\n",
       "      <th>citric acid</th>\n",
       "      <th>residual sugar</th>\n",
       "      <th>chlorides</th>\n",
       "      <th>free sulfur dioxide</th>\n",
       "      <th>total sulfur dioxide</th>\n",
       "      <th>density</th>\n",
       "      <th>pH</th>\n",
       "      <th>sulphates</th>\n",
       "      <th>alcohol</th>\n",
       "      <th>quality</th>\n",
       "    </tr>\n",
       "  </thead>\n",
       "  <tbody>\n",
       "    <tr>\n",
       "      <th>0</th>\n",
       "      <td>7.4</td>\n",
       "      <td>0.70</td>\n",
       "      <td>0.00</td>\n",
       "      <td>1.9</td>\n",
       "      <td>0.076</td>\n",
       "      <td>11.0</td>\n",
       "      <td>34.0</td>\n",
       "      <td>0.9978</td>\n",
       "      <td>3.51</td>\n",
       "      <td>0.56</td>\n",
       "      <td>9.4</td>\n",
       "      <td>5</td>\n",
       "    </tr>\n",
       "    <tr>\n",
       "      <th>1</th>\n",
       "      <td>7.8</td>\n",
       "      <td>0.88</td>\n",
       "      <td>0.00</td>\n",
       "      <td>2.6</td>\n",
       "      <td>0.098</td>\n",
       "      <td>25.0</td>\n",
       "      <td>67.0</td>\n",
       "      <td>0.9968</td>\n",
       "      <td>3.20</td>\n",
       "      <td>0.68</td>\n",
       "      <td>9.8</td>\n",
       "      <td>5</td>\n",
       "    </tr>\n",
       "    <tr>\n",
       "      <th>2</th>\n",
       "      <td>7.8</td>\n",
       "      <td>0.76</td>\n",
       "      <td>0.04</td>\n",
       "      <td>2.3</td>\n",
       "      <td>0.092</td>\n",
       "      <td>15.0</td>\n",
       "      <td>54.0</td>\n",
       "      <td>0.9970</td>\n",
       "      <td>3.26</td>\n",
       "      <td>0.65</td>\n",
       "      <td>9.8</td>\n",
       "      <td>5</td>\n",
       "    </tr>\n",
       "    <tr>\n",
       "      <th>3</th>\n",
       "      <td>11.2</td>\n",
       "      <td>0.28</td>\n",
       "      <td>0.56</td>\n",
       "      <td>1.9</td>\n",
       "      <td>0.075</td>\n",
       "      <td>17.0</td>\n",
       "      <td>60.0</td>\n",
       "      <td>0.9980</td>\n",
       "      <td>3.16</td>\n",
       "      <td>0.58</td>\n",
       "      <td>9.8</td>\n",
       "      <td>6</td>\n",
       "    </tr>\n",
       "    <tr>\n",
       "      <th>4</th>\n",
       "      <td>7.4</td>\n",
       "      <td>0.70</td>\n",
       "      <td>0.00</td>\n",
       "      <td>1.9</td>\n",
       "      <td>0.076</td>\n",
       "      <td>11.0</td>\n",
       "      <td>34.0</td>\n",
       "      <td>0.9978</td>\n",
       "      <td>3.51</td>\n",
       "      <td>0.56</td>\n",
       "      <td>9.4</td>\n",
       "      <td>5</td>\n",
       "    </tr>\n",
       "  </tbody>\n",
       "</table>\n",
       "</div>"
      ],
      "text/plain": [
       "   fixed acidity  volatile acidity  citric acid  residual sugar  chlorides  \\\n",
       "0            7.4              0.70         0.00             1.9      0.076   \n",
       "1            7.8              0.88         0.00             2.6      0.098   \n",
       "2            7.8              0.76         0.04             2.3      0.092   \n",
       "3           11.2              0.28         0.56             1.9      0.075   \n",
       "4            7.4              0.70         0.00             1.9      0.076   \n",
       "\n",
       "   free sulfur dioxide  total sulfur dioxide  density    pH  sulphates  \\\n",
       "0                 11.0                  34.0   0.9978  3.51       0.56   \n",
       "1                 25.0                  67.0   0.9968  3.20       0.68   \n",
       "2                 15.0                  54.0   0.9970  3.26       0.65   \n",
       "3                 17.0                  60.0   0.9980  3.16       0.58   \n",
       "4                 11.0                  34.0   0.9978  3.51       0.56   \n",
       "\n",
       "   alcohol  quality  \n",
       "0      9.4        5  \n",
       "1      9.8        5  \n",
       "2      9.8        5  \n",
       "3      9.8        6  \n",
       "4      9.4        5  "
      ]
     },
     "execution_count": 34,
     "metadata": {},
     "output_type": "execute_result"
    }
   ],
   "source": [
    "# read data\n",
    "advancedData = pd.read_csv('input/Lecture_04_2/advanced.csv')\n",
    "advancedData.head()"
   ]
  },
  {
   "cell_type": "code",
   "execution_count": 35,
   "metadata": {
    "_uuid": "595f28ee5381849eb6b4403908b32d802c3ba111"
   },
   "outputs": [
    {
     "data": {
      "image/png": "[encoded data removed]",
      "text/plain": [
       "<Figure size 432x288 with 1 Axes>"
      ]
     },
     "metadata": {
      "needs_background": "light"
     },
     "output_type": "display_data"
    }
   ],
   "source": [
    "plt.plot('fixed acidity','pH', data = advancedData, marker = 'o', linestyle = '') # fixed acidity, pH\n",
    "plt.xlabel('fixed acidity', fontsize = 18)\n",
    "plt.ylabel('pH', fontsize = 18)\n",
    "plt.show()"
   ]
  },
  {
   "cell_type": "markdown",
   "metadata": {
    "_uuid": "37dbd4b1baa3796b10022b4e286d4662b5024d8e"
   },
   "source": [
    "Looks like a good enough dataset to try polynomial regression on.  \n",
    "But first, let's see how linear fit performs on this data."
   ]
  },
  {
   "cell_type": "code",
   "execution_count": 36,
   "metadata": {
    "_uuid": "7d24a342d17f981f69de9a8976afa1202b78a856"
   },
   "outputs": [
    {
     "data": {
      "text/plain": [
       "LinearRegression(copy_X=True, fit_intercept=True, n_jobs=None, normalize=False)"
      ]
     },
     "execution_count": 36,
     "metadata": {},
     "output_type": "execute_result"
    }
   ],
   "source": [
    "reg = LinearRegression()\n",
    "x = advancedData['fixed acidity'].to_numpy().reshape(-1,1)\n",
    "y = advancedData['pH'].to_numpy().reshape(-1,1)\n",
    "reg.fit(x,y)"
   ]
  },
  {
   "cell_type": "code",
   "execution_count": 37,
   "metadata": {
    "_uuid": "d1cc437820b93dc9f6b7b37b9c69ec64344146cb"
   },
   "outputs": [
    {
     "data": {
      "image/png": "[encoded data removed]",
      "text/plain": [
       "<Figure size 432x288 with 1 Axes>"
      ]
     },
     "metadata": {
      "needs_background": "light"
     },
     "output_type": "display_data"
    }
   ],
   "source": [
    "xFit = np.linspace(4,16,num=100).reshape(-1,1)\n",
    "yFit = reg.predict(xFit)\n",
    "plt.plot('fixed acidity','pH', data = advancedData, marker = 'o', linestyle = '') \n",
    "plt.plot(xFit,yFit, color = 'r',lw=3)\n",
    "plt.xlabel('fixed acidity', fontsize = 18)\n",
    "plt.ylabel('pH', fontsize = 18)\n",
    "plt.show()"
   ]
  },
  {
   "cell_type": "code",
   "execution_count": 38,
   "metadata": {
    "_uuid": "845606677b5c22341f7ff9c9ac3260d102494076"
   },
   "outputs": [
    {
     "name": "stdout",
     "output_type": "stream",
     "text": [
      "0.01270908783524886\n"
     ]
    }
   ],
   "source": [
    "# compute MSE\n",
    "xb = np.c_[np.ones((len(x),1)),x]\n",
    "theta = np.array([reg.intercept_[0],reg.coef_[0][0]]).reshape(-1,1)\n",
    "\n",
    "linMSE = MSE(xb,y,theta)\n",
    "print(linMSE)"
   ]
  },
  {
   "cell_type": "markdown",
   "metadata": {
    "_uuid": "ff14e74b22510a804585e06725b5de383008bb0f"
   },
   "source": [
    "Now, let's try a second degree polynomial fit. To transform data to include polynomial features, we will use Scikit-Learn's PolynomialFeatures():"
   ]
  },
  {
   "cell_type": "code",
   "execution_count": 39,
   "metadata": {
    "_uuid": "516e424179b6330fb7689258328ff7a17429123b"
   },
   "outputs": [],
   "source": [
    "from sklearn.preprocessing import PolynomialFeatures"
   ]
  },
  {
   "cell_type": "code",
   "execution_count": 40,
   "metadata": {
    "_uuid": "bd2d92581cfafea76ce5b94f4ef04c0accf2d2d6"
   },
   "outputs": [
    {
     "name": "stdout",
     "output_type": "stream",
     "text": [
      "[[  7.4   54.76]\n",
      " [  7.8   60.84]\n",
      " [  7.8   60.84]\n",
      " [ 11.2  125.44]\n",
      " [  7.4   54.76]]\n"
     ]
    }
   ],
   "source": [
    "poly = PolynomialFeatures(degree=2, include_bias = False)\n",
    "xPoly = poly.fit_transform(x)\n",
    "print(xPoly[0:5])"
   ]
  },
  {
   "cell_type": "markdown",
   "metadata": {
    "_uuid": "2b6c37b145769ad059ec34532efba42848f63045"
   },
   "source": [
    "The \"fit_transform\" function just transforms the orginal data $x$ to include second-order features. As you can see, xPoly's first column contains the original data, and xPoly's second column contains the second-order features.\n",
    "\n",
    "We then conduct polynomial fit: $y = a + b x + c x^2$"
   ]
  },
  {
   "cell_type": "code",
   "execution_count": 41,
   "metadata": {
    "_uuid": "86775d5ec447efac316046a653a33e3ff24af78f"
   },
   "outputs": [
    {
     "name": "stdout",
     "output_type": "stream",
     "text": [
      "[4.34821937] [[-0.18225037  0.00663222]]\n"
     ]
    }
   ],
   "source": [
    "reg = LinearRegression()\n",
    "reg.fit(xPoly,y)\n",
    "print(reg.intercept_, reg.coef_)"
   ]
  },
  {
   "cell_type": "code",
   "execution_count": 42,
   "metadata": {
    "_uuid": "182507f7d3eb13dc666063dcbbdc1a996c45274e"
   },
   "outputs": [],
   "source": [
    "xFit=np.linspace(4,16,num=100).reshape(-1,1)\n",
    "xFit=poly.fit_transform(xFit)\n",
    "#print(xFit[0:5])\n",
    "yFit = reg.predict(xFit)"
   ]
  },
  {
   "cell_type": "code",
   "execution_count": 43,
   "metadata": {
    "_uuid": "4eaafa6789b4dc062eb43bf5aa5c066a1950d498"
   },
   "outputs": [
    {
     "data": {
      "image/png": "[encoded data removed]",
      "text/plain": [
       "<Figure size 432x288 with 1 Axes>"
      ]
     },
     "metadata": {
      "needs_background": "light"
     },
     "output_type": "display_data"
    }
   ],
   "source": [
    "plt.plot('fixed acidity','pH', data = advancedData, marker = 'o', linestyle = '') \n",
    "plt.plot(xFit[:,0],yFit, color = 'r',lw=3)\n",
    "plt.xlabel('fixed acidity', fontsize = 18)\n",
    "plt.ylabel('pH', fontsize = 18)\n",
    "plt.show()"
   ]
  },
  {
   "cell_type": "code",
   "execution_count": 44,
   "metadata": {
    "_uuid": "3ba91302b3e640fe8dba58ade3815ee5c8c89006"
   },
   "outputs": [
    {
     "name": "stdout",
     "output_type": "stream",
     "text": [
      "0.011836731145634345\n"
     ]
    }
   ],
   "source": [
    "# compute MSE\n",
    "xb = np.c_[np.ones((len(x),1)),xPoly]\n",
    "theta = np.array([reg.intercept_[0],reg.coef_[0][0],reg.coef_[0][1]]).reshape(-1,1)\n",
    "\n",
    "polyMSE = MSE(xb,y,theta)\n",
    "print(polyMSE)"
   ]
  },
  {
   "cell_type": "markdown",
   "metadata": {
    "_uuid": "a2c41d2f661a748ad71f197b22fd2e82a7620b84"
   },
   "source": [
    "The MSE is smaller than the first-degree linear regression by ~0.001 (~8.5%), a small improvement. <br/>\n",
    "What if we do polynomial degree = 20?"
   ]
  },
  {
   "cell_type": "code",
   "execution_count": 45,
   "metadata": {
    "_uuid": "d889e1d8db7865108a97c6380c66caf58350a635"
   },
   "outputs": [],
   "source": [
    "poly = PolynomialFeatures(degree=20, include_bias = False)\n",
    "xPoly = poly.fit_transform(x)\n",
    "#print(xPoly[0:1])\n",
    "\n",
    "reg = LinearRegression()\n",
    "reg.fit(xPoly,y)\n",
    "\n",
    "xFit = np.linspace(4,16,num=100).reshape(-1,1)\n",
    "xFit = poly.fit_transform(xFit)\n",
    "yFit = reg.predict(xFit)"
   ]
  },
  {
   "cell_type": "code",
   "execution_count": 47,
   "metadata": {
    "_uuid": "a0503498e3b81940b85bbb3606e86e607b47beee"
   },
   "outputs": [
    {
     "data": {
      "image/png": "[encoded data removed]",
      "text/plain": [
       "<Figure size 432x288 with 1 Axes>"
      ]
     },
     "metadata": {
      "needs_background": "light"
     },
     "output_type": "display_data"
    }
   ],
   "source": [
    "plt.plot('fixed acidity','pH', data = advancedData, marker = 'o', linestyle = '') \n",
    "plt.plot(xFit[:,0],yFit, color = 'r',lw=3)\n",
    "plt.xlabel('fixed acidity', fontsize = 18)\n",
    "plt.ylabel('pH', fontsize = 18)\n",
    "plt.show()"
   ]
  },
  {
   "cell_type": "markdown",
   "metadata": {
    "_uuid": "034039838526194578a33d2099cd1f3b5e418563"
   },
   "source": [
    "This 20-degree polynomial model is overfitting, as you can see it trying to wiggle through as many data points as possible.  \n",
    "A good way to reduce overfitting is regularization, which will be introduced in next section."
   ]
  }
 ],
 "metadata": {
  "kernelspec": {
   "display_name": "Python 3",
   "language": "python",
   "name": "python3"
  },
  "language_info": {
   "codemirror_mode": {
    "name": "ipython",
    "version": 3
   },
   "file_extension": ".py",
   "mimetype": "text/x-python",
   "name": "python",
   "nbconvert_exporter": "python",
   "pygments_lexer": "ipython3",
   "version": "3.8.8"
  }
 },
 "nbformat": 4,
 "nbformat_minor": 4
}
